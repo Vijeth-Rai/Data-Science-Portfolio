{
 "cells": [
  {
   "cell_type": "code",
   "execution_count": 12,
   "id": "aa18c1f5",
   "metadata": {},
   "outputs": [
    {
     "name": "stdout",
     "output_type": "stream",
     "text": [
      " * Serving Flask app '__main__'\n",
      " * Debug mode: off\n"
     ]
    },
    {
     "name": "stderr",
     "output_type": "stream",
     "text": [
      "WARNING: This is a development server. Do not use it in a production deployment. Use a production WSGI server instead.\n",
      " * Running on http://127.0.0.1:5000\n",
      "Press CTRL+C to quit\n",
      "127.0.0.1 - - [10/Oct/2023 15:25:55] \"GET / HTTP/1.1\" 200 -\n",
      "127.0.0.1 - - [10/Oct/2023 15:26:05] \"POST /predict HTTP/1.1\" 200 -\n",
      "127.0.0.1 - - [10/Oct/2023 15:26:12] \"POST /predict HTTP/1.1\" 200 -\n",
      "127.0.0.1 - - [10/Oct/2023 15:26:21] \"POST /predict HTTP/1.1\" 200 -\n",
      "127.0.0.1 - - [10/Oct/2023 15:26:31] \"POST /predict HTTP/1.1\" 200 -\n",
      "127.0.0.1 - - [10/Oct/2023 15:26:38] \"POST /predict HTTP/1.1\" 200 -\n"
     ]
    }
   ],
   "source": [
    "import numpy\n",
    "from flask import Flask, request, render_template\n",
    "import pickle\n",
    "import pandas as pd\n",
    "\n",
    "app = Flask(__name__)\n",
    "\n",
    "model = pickle.load(open('models/best_random_forest_model.pkl', 'rb'))\n",
    "\n",
    "@app.route('/')\n",
    "def home():\n",
    "    return render_template('index.html')\n",
    "\n",
    "@app.route('/predict', methods=['POST'])\n",
    "def predict():\n",
    "    # Create a DataFrame with one row to represent the input data\n",
    "    df = pd.DataFrame({\n",
    "        'sourceid': [int(request.form['sourceid'])],\n",
    "        'destinationid': [int(request.form['destinationid'])],\n",
    "        'amountofmoney': [float(request.form['amountofmoney'])],\n",
    "        'typeofaction_cash-in': [1 if request.form['typeofaction'] == \"cash-in\" else 0]\n",
    "    })\n",
    "    \n",
    "    prediction = model.predict(df)\n",
    "    prediction_text = \"Not Fraud\" if prediction[0] == 0 else \"Fraud\"\n",
    "    \n",
    "    if prediction_text == \"Fraud\":\n",
    "        if df.iloc[-1][\"amountofmoney\"] > 4500000:\n",
    "            prediction_text = 'Type 2 Fraud'\n",
    "        elif df.iloc[-1]['typeofaction_cash-in'] == 1:\n",
    "            prediction_text = 'Type 1 Fraud'\n",
    "        elif df.iloc[-1]['typeofaction_cash-in'] == 0:\n",
    "            prediction_text = 'Type 3 Fraud'\n",
    "\n",
    "    return render_template('index.html', prediction_text=f'{prediction_text}')\n",
    "\n",
    "if __name__ == \"__main__\":\n",
    "    app.run()\n"
   ]
  },
  {
   "cell_type": "code",
   "execution_count": null,
   "id": "0cee977d",
   "metadata": {},
   "outputs": [],
   "source": []
  }
 ],
 "metadata": {
  "kernelspec": {
   "display_name": "Python 3 (ipykernel)",
   "language": "python",
   "name": "python3"
  },
  "language_info": {
   "codemirror_mode": {
    "name": "ipython",
    "version": 3
   },
   "file_extension": ".py",
   "mimetype": "text/x-python",
   "name": "python",
   "nbconvert_exporter": "python",
   "pygments_lexer": "ipython3",
   "version": "3.11.4"
  }
 },
 "nbformat": 4,
 "nbformat_minor": 5
}
