{
 "cells": [
  {
   "cell_type": "markdown",
   "metadata": {
    "colab_type": "text",
    "id": "5el_8SqFqVAT"
   },
   "source": [
    "\n",
    "Amazon review classification with BERT.[Download data from [this](https://www.kaggle.com/snap/amazon-fine-food-reviews/data) link]\n",
    "<pre> \n",
    "It contains 5 parts as below.  Detailed instrctions are given in the each cell. \n",
    "    1. Preprocessing \n",
    "    2. Creating a BERT model from the Tensorflow HUB.\n",
    "    3. Tokenization\n",
    "    4. getting the pretrained embedding Vector for a given review from the BERT.\n",
    "    5. Using the embedding data apply NN and classify the reviews.\n",
    "    6. Creating a Data pipeline for BERT Model. \n",
    "\n",
    "\n",
    "</pre>"
   ]
  },
  {
   "cell_type": "code",
   "execution_count": 4,
   "metadata": {
    "colab": {
     "base_uri": "https://localhost:8080/",
     "height": 135
    },
    "colab_type": "code",
    "id": "STwgTY9NhljF",
    "outputId": "9fb85570-e25d-4420-b211-ff329f403887"
   },
   "outputs": [
    {
     "name": "stdout",
     "output_type": "stream",
     "text": [
      "--2020-07-03 08:35:16--  https://doc-10-c4-docs.googleusercontent.com/docs/securesc/cpqrl8u0bfmm43paalnv6tsqiqd8at9v/4r06n4a4r3jkkck9jlv4i2e4p3u73837/1593761325000/18338633539012077285/03674084270746528232/1GsD8JlAc_0yJ-1151LNr6rLw83RRUPgt?e=download&authuser=0&nonce=a109cvoqa2km2&user=03674084270746528232&hash=9suidg7pr95uv0sg2r6fk2n8csfap1cr\n",
      "Resolving doc-10-c4-docs.googleusercontent.com (doc-10-c4-docs.googleusercontent.com)... 74.125.133.132, 2a00:1450:400c:c07::84\n",
      "Connecting to doc-10-c4-docs.googleusercontent.com (doc-10-c4-docs.googleusercontent.com)|74.125.133.132|:443... connected.\n",
      "HTTP request sent, awaiting response... 403 Forbidden\n",
      "2020-07-03 08:35:16 ERROR 403: Forbidden.\n",
      "\n"
     ]
    }
   ],
   "source": [
    "!wget --header=\"Host: doc-10-c4-docs.googleusercontent.com\" --header=\"User-Agent: Mozilla/5.0 (Windows NT 10.0; Win64; x64) AppleWebKit/537.36 (KHTML, like Gecko) Chrome/83.0.0.0 Safari/537.36\" --header=\"Accept: text/html,application/xhtml+xml,application/xml;q=0.9,image/webp,image/apng,*/*;q=0.8,application/signed-exchange;v=b3;q=0.9\" --header=\"Accept-Language: en-US,en;q=0.9\" --header=\"Referer: https://drive.google.com/drive/folders/1cSxMlj_KyUEK_3ZU609oFCTkYIMLwk6s\" --header=\"Cookie: AUTH_qt52u2gu6qban90vehnie4dc20mth5n4_nonce=a109cvoqa2km2\" --header=\"Connection: keep-alive\" \"https://doc-10-c4-docs.googleusercontent.com/docs/securesc/cpqrl8u0bfmm43paalnv6tsqiqd8at9v/4r06n4a4r3jkkck9jlv4i2e4p3u73837/1593761325000/18338633539012077285/03674084270746528232/1GsD8JlAc_0yJ-1151LNr6rLw83RRUPgt?e=download&authuser=0&nonce=a109cvoqa2km2&user=03674084270746528232&hash=9suidg7pr95uv0sg2r6fk2n8csfap1cr\" -c -O 'Reviews.csv'"
   ]
  },
  {
   "cell_type": "code",
   "execution_count": 1,
   "metadata": {
    "colab": {},
    "colab_type": "code",
    "id": "wOtG4cf0qVAZ"
   },
   "outputs": [],
   "source": [
    "#all imports\n",
    "import numpy as np\n",
    "import pandas as pd\n",
    "import tensorflow as tf\n",
    "import tensorflow_hub as hub\n",
    "from tensorflow.keras.models import Model\n",
    "from tqdm import tqdm"
   ]
  },
  {
   "cell_type": "code",
   "execution_count": 2,
   "metadata": {
    "colab": {
     "base_uri": "https://localhost:8080/",
     "height": 35
    },
    "colab_type": "code",
    "id": "OcmiHdAJqVAi",
    "outputId": "416d8169-b59d-4efc-a64f-a05da3d3e214"
   },
   "outputs": [
    {
     "data": {
      "application/vnd.google.colaboratory.intrinsic": {
       "type": "string"
      },
      "text/plain": [
       "'/device:GPU:0'"
      ]
     },
     "execution_count": 2,
     "metadata": {
      "tags": []
     },
     "output_type": "execute_result"
    }
   ],
   "source": [
    "tf.test.gpu_device_name()"
   ]
  },
  {
   "cell_type": "markdown",
   "metadata": {
    "colab_type": "text",
    "id": "ZTWRqbrBqVAu"
   },
   "source": [
    "<pre><font size=6>Part-1: Preprocessing</font></pre>"
   ]
  },
  {
   "cell_type": "code",
   "execution_count": 5,
   "metadata": {
    "colab": {
     "base_uri": "https://localhost:8080/",
     "height": 293
    },
    "colab_type": "code",
    "id": "B3csZKDrqVAv",
    "outputId": "9e00ad8c-e967-43d9-88ec-1f33f94c1cf2"
   },
   "outputs": [
    {
     "name": "stdout",
     "output_type": "stream",
     "text": [
      "<class 'pandas.core.frame.DataFrame'>\n",
      "RangeIndex: 568454 entries, 0 to 568453\n",
      "Data columns (total 10 columns):\n",
      " #   Column                  Non-Null Count   Dtype \n",
      "---  ------                  --------------   ----- \n",
      " 0   Id                      568454 non-null  int64 \n",
      " 1   ProductId               568454 non-null  object\n",
      " 2   UserId                  568454 non-null  object\n",
      " 3   ProfileName             568438 non-null  object\n",
      " 4   HelpfulnessNumerator    568454 non-null  int64 \n",
      " 5   HelpfulnessDenominator  568454 non-null  int64 \n",
      " 6   Score                   568454 non-null  int64 \n",
      " 7   Time                    568454 non-null  int64 \n",
      " 8   Summary                 568427 non-null  object\n",
      " 9   Text                    568454 non-null  object\n",
      "dtypes: int64(5), object(5)\n",
      "memory usage: 43.4+ MB\n"
     ]
    }
   ],
   "source": [
    "#Read the dataset - Amazon fine food reviews\n",
    "reviews = pd.read_csv('Reviews.csv')\n",
    "#check the info of the dataset\n",
    "reviews.info()"
   ]
  },
  {
   "cell_type": "code",
   "execution_count": 6,
   "metadata": {
    "colab": {},
    "colab_type": "code",
    "id": "xokNn7qZqVAz"
   },
   "outputs": [],
   "source": [
    "#get only 2 columns - Text, Score\n",
    "#drop the NAN values"
   ]
  },
  {
   "cell_type": "code",
   "execution_count": 7,
   "metadata": {
    "colab": {},
    "colab_type": "code",
    "id": "uqaC2P14iZVL"
   },
   "outputs": [],
   "source": [
    "data = pd.DataFrame()\n",
    "data['Text'] = reviews['Text']\n",
    "data['Score'] = reviews['Score']"
   ]
  },
  {
   "cell_type": "code",
   "execution_count": 8,
   "metadata": {
    "colab": {
     "base_uri": "https://localhost:8080/",
     "height": 66
    },
    "colab_type": "code",
    "id": "4sXYF59qinsC",
    "outputId": "c9469aab-0499-4350-917c-adbbd9730e35"
   },
   "outputs": [
    {
     "data": {
      "text/plain": [
       "Text     False\n",
       "Score    False\n",
       "dtype: bool"
      ]
     },
     "execution_count": 8,
     "metadata": {
      "tags": []
     },
     "output_type": "execute_result"
    }
   ],
   "source": [
    "data.isnull().any()"
   ]
  },
  {
   "cell_type": "code",
   "execution_count": 9,
   "metadata": {
    "colab": {},
    "colab_type": "code",
    "id": "5GZt7pVkqVA4"
   },
   "outputs": [],
   "source": [
    "#if score> 3, set score = 1\n",
    "#if score<=2, set score = 0\n",
    "#if score == 3, remove the rows. "
   ]
  },
  {
   "cell_type": "code",
   "execution_count": 10,
   "metadata": {
    "colab": {},
    "colab_type": "code",
    "id": "jNaxd1GolGKW"
   },
   "outputs": [],
   "source": [
    "data.loc[data['Score']<3, 'Score'] = 0\n",
    "data.loc[data['Score']>3, 'Score'] = 1"
   ]
  },
  {
   "cell_type": "code",
   "execution_count": 11,
   "metadata": {
    "colab": {},
    "colab_type": "code",
    "id": "bw9QG5WjnqgW"
   },
   "outputs": [],
   "source": [
    "data = data.drop(data[data.Score ==3].index)"
   ]
  },
  {
   "cell_type": "code",
   "execution_count": 12,
   "metadata": {
    "colab": {},
    "colab_type": "code",
    "id": "WKIueYt_pdxr"
   },
   "outputs": [],
   "source": [
    "reviews = data"
   ]
  },
  {
   "cell_type": "code",
   "execution_count": 14,
   "metadata": {
    "colab": {},
    "colab_type": "code",
    "id": "xYZ-UB9UqVA-"
   },
   "outputs": [],
   "source": [
    "def get_wordlen(x):\n",
    "    return len(x.split())\n",
    "reviews['len'] = reviews.Text.apply(get_wordlen)\n",
    "reviews = reviews[reviews.len<50]\n",
    "reviews = reviews.sample(n=100000, random_state=30)"
   ]
  },
  {
   "cell_type": "code",
   "execution_count": 15,
   "metadata": {
    "colab": {},
    "colab_type": "code",
    "id": "CvldQriGqVBB"
   },
   "outputs": [],
   "source": [
    "#remove HTML from the Text column and save in the Text column only\n",
    "#code from https://stackoverflow.com/a/45999467/11913076\n",
    "\n",
    "reviews.Text = reviews.Text.str.replace('<[^<]+?>', '')"
   ]
  },
  {
   "cell_type": "code",
   "execution_count": 16,
   "metadata": {
    "colab": {
     "base_uri": "https://localhost:8080/",
     "height": 191
    },
    "colab_type": "code",
    "id": "AhfN1s2mqVBD",
    "outputId": "29679465-3826-4832-8b77-c7dd9a8a3b6d"
   },
   "outputs": [
    {
     "data": {
      "text/html": [
       "<div>\n",
       "<style scoped>\n",
       "    .dataframe tbody tr th:only-of-type {\n",
       "        vertical-align: middle;\n",
       "    }\n",
       "\n",
       "    .dataframe tbody tr th {\n",
       "        vertical-align: top;\n",
       "    }\n",
       "\n",
       "    .dataframe thead th {\n",
       "        text-align: right;\n",
       "    }\n",
       "</style>\n",
       "<table border=\"1\" class=\"dataframe\">\n",
       "  <thead>\n",
       "    <tr style=\"text-align: right;\">\n",
       "      <th></th>\n",
       "      <th>Text</th>\n",
       "      <th>Score</th>\n",
       "      <th>len</th>\n",
       "    </tr>\n",
       "  </thead>\n",
       "  <tbody>\n",
       "    <tr>\n",
       "      <th>64117</th>\n",
       "      <td>The tea was of great quality and it tasted lik...</td>\n",
       "      <td>1</td>\n",
       "      <td>30</td>\n",
       "    </tr>\n",
       "    <tr>\n",
       "      <th>418112</th>\n",
       "      <td>My cat loves this.  The pellets are nice and s...</td>\n",
       "      <td>1</td>\n",
       "      <td>31</td>\n",
       "    </tr>\n",
       "    <tr>\n",
       "      <th>357829</th>\n",
       "      <td>Great product. Does not completely get rid of ...</td>\n",
       "      <td>1</td>\n",
       "      <td>41</td>\n",
       "    </tr>\n",
       "    <tr>\n",
       "      <th>175872</th>\n",
       "      <td>This gum is my favorite!  I would advise every...</td>\n",
       "      <td>1</td>\n",
       "      <td>27</td>\n",
       "    </tr>\n",
       "    <tr>\n",
       "      <th>178716</th>\n",
       "      <td>I also found out about this product because of...</td>\n",
       "      <td>1</td>\n",
       "      <td>22</td>\n",
       "    </tr>\n",
       "  </tbody>\n",
       "</table>\n",
       "</div>"
      ],
      "text/plain": [
       "                                                     Text  Score  len\n",
       "64117   The tea was of great quality and it tasted lik...      1   30\n",
       "418112  My cat loves this.  The pellets are nice and s...      1   31\n",
       "357829  Great product. Does not completely get rid of ...      1   41\n",
       "175872  This gum is my favorite!  I would advise every...      1   27\n",
       "178716  I also found out about this product because of...      1   22"
      ]
     },
     "execution_count": 16,
     "metadata": {
      "tags": []
     },
     "output_type": "execute_result"
    }
   ],
   "source": [
    "#print head 5\n",
    "\n",
    "reviews.head(5)"
   ]
  },
  {
   "cell_type": "code",
   "execution_count": 17,
   "metadata": {
    "colab": {},
    "colab_type": "code",
    "id": "NsYDd3okqVBF"
   },
   "outputs": [],
   "source": [
    "#split the data into train and test data(20%) with Stratify sampling, random state 33, \n",
    "\n",
    "from sklearn.model_selection import train_test_split\n",
    "\n",
    "data = pd.DataFrame()\n",
    "data['Score'] = reviews['Score']\n",
    "reviews = reviews.drop(['Score'], axis=1)\n",
    "\n",
    "X_train, X_test, y_train, y_test = train_test_split(reviews, data, test_size=0.2, random_state=33, stratify=data)"
   ]
  },
  {
   "cell_type": "code",
   "execution_count": 18,
   "metadata": {
    "colab": {
     "base_uri": "https://localhost:8080/",
     "height": 545
    },
    "colab_type": "code",
    "id": "-Q6OAcrOqVBI",
    "outputId": "38e00ebe-99d5-40c0-fae9-5ff4e9846b8f"
   },
   "outputs": [
    {
     "data": {
      "image/png": "[encoded data removed]",
      "text/plain": [
       "<Figure size 432x288 with 1 Axes>"
      ]
     },
     "metadata": {
      "needs_background": "light",
      "tags": []
     },
     "output_type": "display_data"
    },
    {
     "data": {
      "image/png": "[encoded data removed]",
      "text/plain": [
       "<Figure size 432x288 with 1 Axes>"
      ]
     },
     "metadata": {
      "needs_background": "light",
      "tags": []
     },
     "output_type": "display_data"
    }
   ],
   "source": [
    "#plot bar graphs of y_train and y_test\n",
    "import matplotlib.pyplot as plt\n",
    "plt.hist(y_train.values)\n",
    "plt.title('Train')\n",
    "plt.show()\n",
    "plt.hist(y_test.values)\n",
    "plt.title('Test')\n",
    "plt.show()\n"
   ]
  },
  {
   "cell_type": "code",
   "execution_count": 19,
   "metadata": {
    "colab": {},
    "colab_type": "code",
    "id": "Up-z5boWqVBK"
   },
   "outputs": [],
   "source": [
    "#saving to disk. if we need, we can load preprocessed data directly. \n",
    "reviews.to_csv('preprocessed.csv', index=False)"
   ]
  },
  {
   "cell_type": "markdown",
   "metadata": {
    "colab_type": "text",
    "id": "bBtqNGN9qVBM"
   },
   "source": [
    "<pre><font size=6>Part-2: Creating BERT Model</font> \n",
    "\n",
    "If you want to know more about BERT, You can watch live sessions on Transformers and BERt. \n",
    "we will strongly recommend you to read <a href=\"https://jalammar.github.io/illustrated-transformer/\">Transformers</a>, <a href=\"https://arxiv.org/abs/1810.04805\">BERT Paper</a> and, <a href=\"https://jalammar.github.io/a-visual-guide-to-using-bert-for-the-first-time/\">This blog</a>.\n",
    "\n",
    "\n",
    "For this I amd using <a href=\"https://tfhub.dev/tensorflow/bert_en_uncased_L-12_H-768_A-12/1\">BERT uncased Base model</a>. \n",
    "It uses L=12 hidden layers (i.e., Transformer blocks), a hidden size of H=768, and A=12 attention heads. </pre>"
   ]
  },
  {
   "cell_type": "code",
   "execution_count": 20,
   "metadata": {
    "colab": {
     "base_uri": "https://localhost:8080/",
     "height": 33
    },
    "colab_type": "code",
    "id": "iZh2kbq03yEv",
    "outputId": "4573779c-677f-4388-f0d8-83527039a157"
   },
   "outputs": [
    {
     "name": "stderr",
     "output_type": "stream",
     "text": [
      "100%|██████████| 80000/80000 [00:01<00:00, 65559.15it/s]\n"
     ]
    }
   ],
   "source": [
    "for i in tqdm(range(len(X_train['Text']))):\n",
    "  if i == 0:\n",
    "    maxlen = len(X_train['Text'].iloc[i])\n",
    "  elif len(X_train['Text'].iloc[i])>maxlen:\n",
    "    maxlen = len(X_train['Text'].iloc[i])"
   ]
  },
  {
   "cell_type": "code",
   "execution_count": 21,
   "metadata": {
    "colab": {
     "base_uri": "https://localhost:8080/",
     "height": 33
    },
    "colab_type": "code",
    "id": "hCnKRvan4ab2",
    "outputId": "6300b7b5-e765-4c27-b9c1-512a7c4220bc"
   },
   "outputs": [
    {
     "data": {
      "text/plain": [
       "410"
      ]
     },
     "execution_count": 21,
     "metadata": {
      "tags": []
     },
     "output_type": "execute_result"
    }
   ],
   "source": [
    "maxlen"
   ]
  },
  {
   "cell_type": "code",
   "execution_count": 22,
   "metadata": {
    "colab": {},
    "colab_type": "code",
    "id": "i8xd2HejqVBN"
   },
   "outputs": [],
   "source": [
    "## Loading the Pretrained Model from tensorflow HUB\n",
    "tf.keras.backend.clear_session()\n",
    "\n",
    "# maximum length of a seq in the data we have \n",
    "max_seq_length = 410\n",
    "\n",
    "#BERT takes 3 inputs\n",
    "\n",
    "#this is input words. Sequence of words represented as integers\n",
    "input_word_ids = tf.keras.layers.Input(shape=(max_seq_length,), dtype=tf.int32, name=\"input_word_ids\")\n",
    "\n",
    "#mask vector if you are padding anything\n",
    "input_mask = tf.keras.layers.Input(shape=(max_seq_length,), dtype=tf.int32, name=\"input_mask\")\n",
    "\n",
    "#segment vectors. If you are giving only one sentence for the classification, total seg vector is 0. \n",
    "#If you are giving two sentenced with [sep] token separated, first seq segment vectors are zeros and \n",
    "#second seq segment vector are 1's\n",
    "segment_ids = tf.keras.layers.Input(shape=(max_seq_length,), dtype=tf.int32, name=\"segment_ids\")\n",
    "\n",
    "#bert layer \n",
    "bert_layer = hub.KerasLayer(\"https://tfhub.dev/tensorflow/bert_en_uncased_L-12_H-768_A-12/2\", trainable=False)    #updated pretrained model was available for bert so I used that\n",
    "pooled_output, sequence_output = bert_layer([input_word_ids, input_mask, segment_ids])\n",
    "\n",
    "#Bert model\n",
    "#We are using only pooled output not sequence out. \n",
    "#please read https://www.kaggle.com/questions-and-answers/86510\n",
    "bert_model = Model(inputs=[input_word_ids, input_mask, segment_ids], outputs=pooled_output)\n"
   ]
  },
  {
   "cell_type": "code",
   "execution_count": 23,
   "metadata": {
    "colab": {
     "base_uri": "https://localhost:8080/",
     "height": 310
    },
    "colab_type": "code",
    "id": "lQJsjg6fqVBQ",
    "outputId": "6fe90964-9c4d-46e4-e860-3c44c9f03765"
   },
   "outputs": [
    {
     "name": "stdout",
     "output_type": "stream",
     "text": [
      "Model: \"model\"\n",
      "__________________________________________________________________________________________________\n",
      "Layer (type)                    Output Shape         Param #     Connected to                     \n",
      "==================================================================================================\n",
      "input_word_ids (InputLayer)     [(None, 410)]        0                                            \n",
      "__________________________________________________________________________________________________\n",
      "input_mask (InputLayer)         [(None, 410)]        0                                            \n",
      "__________________________________________________________________________________________________\n",
      "segment_ids (InputLayer)        [(None, 410)]        0                                            \n",
      "__________________________________________________________________________________________________\n",
      "keras_layer (KerasLayer)        [(None, 768), (None, 109482241   input_word_ids[0][0]             \n",
      "                                                                 input_mask[0][0]                 \n",
      "                                                                 segment_ids[0][0]                \n",
      "==================================================================================================\n",
      "Total params: 109,482,241\n",
      "Trainable params: 0\n",
      "Non-trainable params: 109,482,241\n",
      "__________________________________________________________________________________________________\n"
     ]
    }
   ],
   "source": [
    "bert_model.summary()"
   ]
  },
  {
   "cell_type": "code",
   "execution_count": 24,
   "metadata": {
    "colab": {
     "base_uri": "https://localhost:8080/",
     "height": 33
    },
    "colab_type": "code",
    "id": "w3z0OMA5qVBS",
    "outputId": "f6cac0d5-ec3c-4910-a3d5-dc549272a613"
   },
   "outputs": [
    {
     "data": {
      "text/plain": [
       "<tf.Tensor 'keras_layer/Identity:0' shape=(None, 768) dtype=float32>"
      ]
     },
     "execution_count": 24,
     "metadata": {
      "tags": []
     },
     "output_type": "execute_result"
    }
   ],
   "source": [
    "bert_model.output"
   ]
  },
  {
   "cell_type": "markdown",
   "metadata": {
    "colab_type": "text",
    "id": "Ewv4hFCsqVBU"
   },
   "source": [
    "<pre><font size=6>Part-3: Tokenization</font></pre>"
   ]
  },
  {
   "cell_type": "code",
   "execution_count": 25,
   "metadata": {
    "colab": {},
    "colab_type": "code",
    "id": "tX3VEFjiqVBU"
   },
   "outputs": [],
   "source": [
    "#getting Vocab file\n",
    "vocab_file = bert_layer.resolved_object.vocab_file.asset_path.numpy()\n",
    "do_lower_case = bert_layer.resolved_object.do_lower_case.numpy()"
   ]
  },
  {
   "cell_type": "code",
   "execution_count": 26,
   "metadata": {
    "colab": {
     "base_uri": "https://localhost:8080/",
     "height": 375
    },
    "colab_type": "code",
    "id": "0ry9ZINrp_4x",
    "outputId": "34e38993-0155-47c9-d3c8-ad02c34fb5a1"
   },
   "outputs": [
    {
     "name": "stdout",
     "output_type": "stream",
     "text": [
      "Collecting bert-for-tf2\n",
      "\u001b[?25l  Downloading https://files.pythonhosted.org/packages/35/5c/6439134ecd17b33fe0396fb0b7d6ce3c5a120c42a4516ba0e9a2d6e43b25/bert-for-tf2-0.14.4.tar.gz (40kB)\n",
      "\r",
      "\u001b[K     |████████                        | 10kB 16.4MB/s eta 0:00:01\r",
      "\u001b[K     |████████████████▏               | 20kB 4.9MB/s eta 0:00:01\r",
      "\u001b[K     |████████████████████████▎       | 30kB 6.1MB/s eta 0:00:01\r",
      "\u001b[K     |████████████████████████████████| 40kB 2.9MB/s \n",
      "\u001b[?25hCollecting py-params>=0.9.6\n",
      "  Downloading https://files.pythonhosted.org/packages/a4/bf/c1c70d5315a8677310ea10a41cfc41c5970d9b37c31f9c90d4ab98021fd1/py-params-0.9.7.tar.gz\n",
      "Collecting params-flow>=0.8.0\n",
      "  Downloading https://files.pythonhosted.org/packages/a9/95/ff49f5ebd501f142a6f0aaf42bcfd1c192dc54909d1d9eb84ab031d46056/params-flow-0.8.2.tar.gz\n",
      "Requirement already satisfied: numpy in /usr/local/lib/python3.6/dist-packages (from params-flow>=0.8.0->bert-for-tf2) (1.18.5)\n",
      "Requirement already satisfied: tqdm in /usr/local/lib/python3.6/dist-packages (from params-flow>=0.8.0->bert-for-tf2) (4.41.1)\n",
      "Building wheels for collected packages: bert-for-tf2, py-params, params-flow\n",
      "  Building wheel for bert-for-tf2 (setup.py) ... \u001b[?25l\u001b[?25hdone\n",
      "  Created wheel for bert-for-tf2: filename=bert_for_tf2-0.14.4-cp36-none-any.whl size=30114 sha256=c57dd5c4251c522eb627a4eac5c30589266ae1a1ac1f864221b84050604b1147\n",
      "  Stored in directory: /root/.cache/pip/wheels/cf/3f/4d/79d7735015a5f523648df90d871ce8e89a7df8185f7703eeab\n",
      "  Building wheel for py-params (setup.py) ... \u001b[?25l\u001b[?25hdone\n",
      "  Created wheel for py-params: filename=py_params-0.9.7-cp36-none-any.whl size=7302 sha256=5543fe06cc727803d9ee51f593a74b1f3aba83b4d8ddd7373b2d5ec41b7ba199\n",
      "  Stored in directory: /root/.cache/pip/wheels/67/f5/19/b461849a50aefdf4bab47c4756596e82ee2118b8278e5a1980\n",
      "  Building wheel for params-flow (setup.py) ... \u001b[?25l\u001b[?25hdone\n",
      "  Created wheel for params-flow: filename=params_flow-0.8.2-cp36-none-any.whl size=19473 sha256=071570f8924f59e8a1147b0133e68c0c022ac29b418764ecfee65e48d5891f26\n",
      "  Stored in directory: /root/.cache/pip/wheels/08/c8/7f/81c86b9ff2b86e2c477e3914175be03e679e596067dc630c06\n",
      "Successfully built bert-for-tf2 py-params params-flow\n",
      "Installing collected packages: py-params, params-flow, bert-for-tf2\n",
      "Successfully installed bert-for-tf2-0.14.4 params-flow-0.8.2 py-params-0.9.7\n"
     ]
    }
   ],
   "source": [
    "!pip install bert-for-tf2"
   ]
  },
  {
   "cell_type": "code",
   "execution_count": 27,
   "metadata": {
    "colab": {},
    "colab_type": "code",
    "id": "Y_iPwa99qVBW"
   },
   "outputs": [],
   "source": [
    "#import tokenization - We have given tokenization.py file\n",
    "from bert import bert_tokenization"
   ]
  },
  {
   "cell_type": "code",
   "execution_count": 28,
   "metadata": {
    "colab": {},
    "colab_type": "code",
    "id": "guJMLJ8bqVBY"
   },
   "outputs": [],
   "source": [
    "# Create tokenizer \" Instantiate FullTokenizer\" \n",
    "# name must be \"tokenizer\"\n",
    "\n",
    "tokenizer = bert_tokenization.FullTokenizer(bert_layer.resolved_object.vocab_file.asset_path.numpy(),bert_layer.resolved_object.do_lower_case.numpy())\n"
   ]
  },
  {
   "cell_type": "code",
   "execution_count": 30,
   "metadata": {
    "colab": {
     "base_uri": "https://localhost:8080/",
     "height": 82
    },
    "colab_type": "code",
    "id": "9crhPylQqVBg",
    "outputId": "30c4db9e-b8d5-4ec5-ad7c-bb61f6654e30"
   },
   "outputs": [
    {
     "name": "stderr",
     "output_type": "stream",
     "text": [
      "100%|██████████| 80000/80000 [00:00<00:00, 1291722.60it/s]\n",
      "100%|██████████| 20000/20000 [00:00<00:00, 1460437.68it/s]\n",
      "100%|██████████| 80000/80000 [00:45<00:00, 1753.50it/s]\n",
      "100%|██████████| 20000/20000 [00:11<00:00, 1778.44it/s]\n"
     ]
    }
   ],
   "source": [
    "# Create train and test tokens (X_train_tokens, X_test_tokens) from (X_train, X_test) using Tokenizer and \n",
    "\n",
    "sentences_train = [sentence for sentence in tqdm(X_train['Text'])]\n",
    "sentences_test = [sentence for sentence in tqdm(X_test['Text'])]\n",
    "\n",
    "X_train_tokens = [tokenizer.tokenize(sentence) for sentence in tqdm(sentences_train)]\n",
    "X_test_tokens = [tokenizer.tokenize(sentence) for sentence in tqdm(sentences_test)]"
   ]
  },
  {
   "cell_type": "code",
   "execution_count": 31,
   "metadata": {
    "colab": {
     "base_uri": "https://localhost:8080/",
     "height": 50
    },
    "colab_type": "code",
    "id": "d_iI6EVmFrI7",
    "outputId": "9cdba178-30be-4e80-81a2-a54eb2023ae9"
   },
   "outputs": [
    {
     "name": "stderr",
     "output_type": "stream",
     "text": [
      "100%|██████████| 80000/80000 [00:00<00:00, 1049271.14it/s]\n",
      "100%|██████████| 20000/20000 [00:00<00:00, 988499.92it/s]\n"
     ]
    }
   ],
   "source": [
    "# add '[CLS]' at start of the Tokens and '[SEP]' at the end of the tokens. \n",
    "\n",
    "for i in tqdm(range(len(X_train_tokens))):\n",
    "    X_train_tokens[i].insert(0,\"[CLS]\")\n",
    "    X_train_tokens[i].append(\"[SEP]\")\n",
    "\n",
    "for i in tqdm(range(len(X_test_tokens))):\n",
    "    X_test_tokens[i].insert(0,\"[CLS]\")\n",
    "    X_test_tokens[i].append(\"[SEP]\")"
   ]
  },
  {
   "cell_type": "code",
   "execution_count": 32,
   "metadata": {
    "colab": {
     "base_uri": "https://localhost:8080/",
     "height": 50
    },
    "colab_type": "code",
    "id": "rpHRiD9UqhFi",
    "outputId": "8a4e574e-5b61-49f6-8925-4fd56af3351e"
   },
   "outputs": [
    {
     "name": "stderr",
     "output_type": "stream",
     "text": [
      "100%|██████████| 80000/80000 [00:01<00:00, 73907.17it/s]\n",
      "100%|██████████| 20000/20000 [00:00<00:00, 102369.76it/s]\n"
     ]
    }
   ],
   "source": [
    "X_train_tokens_ = []\n",
    "X_test_tokens_ = []\n",
    "\n",
    "for i in tqdm(X_train_tokens):\n",
    "    X_train_tokens_.append(tokenizer.convert_tokens_to_ids(i))\n",
    "for i in tqdm(X_test_tokens):\n",
    "    X_test_tokens_.append(tokenizer.convert_tokens_to_ids(i))"
   ]
  },
  {
   "cell_type": "code",
   "execution_count": 33,
   "metadata": {
    "colab": {},
    "colab_type": "code",
    "id": "0I0KoMCVs5IR"
   },
   "outputs": [],
   "source": [
    "X_train_tokens = X_train_tokens_\n",
    "X_test_tokens = X_test_tokens_"
   ]
  },
  {
   "cell_type": "code",
   "execution_count": 34,
   "metadata": {
    "colab": {
     "base_uri": "https://localhost:8080/",
     "height": 50
    },
    "colab_type": "code",
    "id": "0rGFqO-UORNs",
    "outputId": "1287e078-2a57-4948-a780-06a718814430"
   },
   "outputs": [
    {
     "name": "stderr",
     "output_type": "stream",
     "text": [
      "100%|██████████| 80000/80000 [00:00<00:00, 1620822.62it/s]\n"
     ]
    },
    {
     "data": {
      "text/plain": [
       "189"
      ]
     },
     "execution_count": 34,
     "metadata": {
      "tags": []
     },
     "output_type": "execute_result"
    }
   ],
   "source": [
    "for i in tqdm(range(len(X_train_tokens))):\n",
    "    if i == 0:\n",
    "        maxlen = len(X_train_tokens[i])\n",
    "    else:\n",
    "        if maxlen<len(X_train_tokens[i]):\n",
    "            maxlen = len(X_train_tokens[i])\n",
    "\n",
    "maxlen"
   ]
  },
  {
   "cell_type": "code",
   "execution_count": 35,
   "metadata": {
    "colab": {
     "base_uri": "https://localhost:8080/",
     "height": 50
    },
    "colab_type": "code",
    "id": "WZ1ydxyQHSfo",
    "outputId": "cdb4d51c-6de4-4497-daa0-8f36d193d45a"
   },
   "outputs": [
    {
     "name": "stderr",
     "output_type": "stream",
     "text": [
      "100%|██████████| 80000/80000 [00:07<00:00, 10976.67it/s]\n",
      "100%|██████████| 20000/20000 [00:01<00:00, 10784.85it/s]\n"
     ]
    }
   ],
   "source": [
    "# maximum number of tokens is 410(We already given this to BERT layer above) so shape is (None, 410)\n",
    "\n",
    "# if it is less than 410, add '[PAD]' token else truncate the tokens length.(similar to padding)\n",
    "\n",
    "for i in tqdm(range(len(X_train_tokens))):\n",
    "    while len(X_train_tokens[i])<410:\n",
    "        X_train_tokens[i].append(\"[PAD]\")\n",
    "\n",
    "for i in tqdm(range(len(X_test_tokens))):\n",
    "    while len(X_test_tokens[i])<410:\n",
    "        X_test_tokens[i].append(\"[PAD]\")"
   ]
  },
  {
   "cell_type": "code",
   "execution_count": 36,
   "metadata": {
    "colab": {
     "base_uri": "https://localhost:8080/",
     "height": 50
    },
    "colab_type": "code",
    "id": "stjHTnX2OTIL",
    "outputId": "025705ba-f6b3-43dd-dd0f-dac4ec79ca25"
   },
   "outputs": [
    {
     "name": "stderr",
     "output_type": "stream",
     "text": [
      "100%|██████████| 80000/80000 [00:05<00:00, 14094.01it/s]\n",
      "100%|██████████| 20000/20000 [00:01<00:00, 15639.35it/s]\n"
     ]
    }
   ],
   "source": [
    "# Based on padding, create the mask for Train and Test ( 1 for real token, 0 for '[PAD]'), \n",
    "\n",
    "X_train_mask = []\n",
    "X_test_mask = []\n",
    "\n",
    "for i in tqdm(X_train_tokens):\n",
    "    X_train_mask_temp = []\n",
    "    for j in i:\n",
    "        if j!=\"[PAD]\":\n",
    "           X_train_mask_temp.append(1)\n",
    "        else:\n",
    "           X_train_mask_temp.append(0)\n",
    "    X_train_mask.append(X_train_mask_temp)\n",
    "\n",
    "for i in tqdm(X_test_tokens):\n",
    "    X_test_mask_temp  = []\n",
    "    for j in i:\n",
    "        if j!=\"[PAD]\":\n",
    "            X_test_mask_temp.append(1)\n",
    "        else:\n",
    "            X_test_mask_temp.append(0)\n",
    "    X_test_mask.append(X_test_mask_temp)"
   ]
  },
  {
   "cell_type": "code",
   "execution_count": 37,
   "metadata": {
    "colab": {
     "base_uri": "https://localhost:8080/",
     "height": 50
    },
    "colab_type": "code",
    "id": "kOagdshSytZv",
    "outputId": "16c7cb1a-a36d-4a8e-9122-df1bd4bb0480"
   },
   "outputs": [
    {
     "name": "stderr",
     "output_type": "stream",
     "text": [
      "100%|██████████| 80000/80000 [00:03<00:00, 21960.35it/s]\n",
      "100%|██████████| 20000/20000 [00:00<00:00, 22071.67it/s]\n"
     ]
    }
   ],
   "source": [
    "# it will also same shape as input tokens (None, 410) save those in X_train_mask, X_test_mask\n",
    "\n",
    "# Create a segment input for train and test. We are using only one sentence so all zeros. This shape will also (None, 410)\n",
    "X_train_segment = []\n",
    "X_test_segment = []\n",
    "\n",
    "for i in tqdm(X_train_tokens):\n",
    "    X_train_seg_temp = []\n",
    "    for j in i:\n",
    "        X_train_seg_temp.append(0)\n",
    "    X_train_segment.append(X_train_seg_temp)\n",
    "\n",
    "for i in tqdm(X_test_tokens):\n",
    "    X_test_seg_temp = []\n",
    "    for j in i:\n",
    "        X_test_seg_temp.append(0)\n",
    "    X_test_segment.append(X_test_seg_temp)"
   ]
  },
  {
   "cell_type": "code",
   "execution_count": 38,
   "metadata": {
    "colab": {
     "base_uri": "https://localhost:8080/",
     "height": 50
    },
    "colab_type": "code",
    "id": "XeNk2vzhvRcd",
    "outputId": "681e1459-2493-4803-fe70-83d0c66ab0e9"
   },
   "outputs": [
    {
     "name": "stderr",
     "output_type": "stream",
     "text": [
      "100%|██████████| 80000/80000 [00:06<00:00, 13014.68it/s]\n",
      "100%|██████████| 20000/20000 [00:01<00:00, 11320.48it/s]\n"
     ]
    }
   ],
   "source": [
    "for i in tqdm(range(len(X_train_tokens))):\n",
    "    for j in range(len(X_train_tokens[i])):\n",
    "        if X_train_tokens[i][j]==\"[PAD]\":\n",
    "           X_train_tokens[i][j] = 0\n",
    "\n",
    "for i in tqdm(range(len(X_test_tokens))):\n",
    "    for j in range(len(X_test_tokens[i])):\n",
    "        if X_test_tokens[i][j]==\"[PAD]\":\n",
    "           X_test_tokens[i][j] = 0"
   ]
  },
  {
   "cell_type": "code",
   "execution_count": 39,
   "metadata": {
    "colab": {},
    "colab_type": "code",
    "id": "v5t9yRQ5JOBH"
   },
   "outputs": [],
   "source": [
    "# type of all the above arrays should be numpy arrays\n",
    "X_train_tokens = np.asarray(X_train_tokens)\n",
    "X_test_tokens = np.asarray(X_test_tokens)\n",
    "\n",
    "X_train_mask = np.asarray(X_train_mask)\n",
    "X_test_mask = np.asarray(X_test_mask)\n",
    "\n",
    "X_train_segment = np.asarray(X_train_segment)\n",
    "X_test_segment = np.asarray(X_test_segment)"
   ]
  },
  {
   "cell_type": "code",
   "execution_count": 41,
   "metadata": {
    "colab": {},
    "colab_type": "code",
    "id": "dxhggBxwqVBj"
   },
   "outputs": [],
   "source": [
    "import pickle"
   ]
  },
  {
   "cell_type": "code",
   "execution_count": 42,
   "metadata": {
    "colab": {},
    "colab_type": "code",
    "id": "xF0idMRDqVBm"
   },
   "outputs": [],
   "source": [
    "##save all your results to disk so that, no need to run all again. \n",
    "pickle.dump((X_train, X_train_tokens, X_train_mask, X_train_segment, y_train),open('train_data.pkl','wb'))\n",
    "pickle.dump((X_test, X_test_tokens, X_test_mask, X_test_segment, y_test),open('test_data.pkl','wb'))"
   ]
  },
  {
   "cell_type": "code",
   "execution_count": 43,
   "metadata": {
    "colab": {},
    "colab_type": "code",
    "id": "Leu1URGzqVBo"
   },
   "outputs": [],
   "source": [
    "#you can load from disk\n",
    "X_train, X_train_tokens, X_train_mask, X_train_segment, y_train = pickle.load(open(\"train_data.pkl\", 'rb')) \n",
    "X_test, X_test_tokens, X_test_mask, X_test_segment, y_test = pickle.load(open(\"test_data.pkl\", 'rb')) "
   ]
  },
  {
   "cell_type": "markdown",
   "metadata": {
    "colab_type": "text",
    "id": "SEj-Eua5qVBx"
   },
   "source": [
    "<pre><font size=6>Part-4: Getting Embeddings from BERT Model</font>\n",
    "We already created the BERT model in the part-2 and input data in the part-3. \n",
    "We will utlize those two and will get the embeddings for each sentence in the \n",
    "Train and test data.</pre>"
   ]
  },
  {
   "cell_type": "code",
   "execution_count": 46,
   "metadata": {
    "colab": {
     "base_uri": "https://localhost:8080/",
     "height": 66
    },
    "colab_type": "code",
    "id": "QwOVgQFDqVBy",
    "outputId": "d2962dd8-738c-456a-bf8b-ac788a452bcb"
   },
   "outputs": [
    {
     "data": {
      "text/plain": [
       "[<tf.Tensor 'input_word_ids:0' shape=(None, 410) dtype=int32>,\n",
       " <tf.Tensor 'input_mask:0' shape=(None, 410) dtype=int32>,\n",
       " <tf.Tensor 'segment_ids:0' shape=(None, 410) dtype=int32>]"
      ]
     },
     "execution_count": 46,
     "metadata": {
      "tags": []
     },
     "output_type": "execute_result"
    }
   ],
   "source": [
    "bert_model.input"
   ]
  },
  {
   "cell_type": "code",
   "execution_count": 47,
   "metadata": {
    "colab": {
     "base_uri": "https://localhost:8080/",
     "height": 33
    },
    "colab_type": "code",
    "id": "ZcpkQq1OqVB0",
    "outputId": "e0ce9df2-a93a-4633-84f1-9f7c0a5d132d"
   },
   "outputs": [
    {
     "data": {
      "text/plain": [
       "<tf.Tensor 'keras_layer/Identity:0' shape=(None, 768) dtype=float32>"
      ]
     },
     "execution_count": 47,
     "metadata": {
      "tags": []
     },
     "output_type": "execute_result"
    }
   ],
   "source": [
    "bert_model.output"
   ]
  },
  {
   "cell_type": "code",
   "execution_count": 48,
   "metadata": {
    "colab": {
     "base_uri": "https://localhost:8080/",
     "height": 33
    },
    "colab_type": "code",
    "id": "IxdIlOIBlm7j",
    "outputId": "03dc8768-9577-411c-d9fa-1ecf73832533"
   },
   "outputs": [
    {
     "name": "stdout",
     "output_type": "stream",
     "text": [
      "5554.036447\n"
     ]
    }
   ],
   "source": [
    "# get the train output, BERT model will give one output so save in\n",
    "# X_train_pooled_output\n",
    "\n",
    "import time\n",
    "t0= time.clock()\n",
    "\n",
    "X_train_pooled_output=bert_model.predict([X_train_tokens,X_train_mask,X_train_segment])\n",
    "\n",
    "t1 = time.clock() - t0\n",
    "print(t1)"
   ]
  },
  {
   "cell_type": "code",
   "execution_count": 49,
   "metadata": {
    "colab": {
     "base_uri": "https://localhost:8080/",
     "height": 33
    },
    "colab_type": "code",
    "id": "yZT11BCol4gL",
    "outputId": "b2042d38-7ac4-4d5e-ed10-90a26179ef5e"
   },
   "outputs": [
    {
     "name": "stdout",
     "output_type": "stream",
     "text": [
      "1380.9508959999994\n"
     ]
    }
   ],
   "source": [
    "# get the test output, BERT model will give one output so save in\n",
    "# X_test_pooled_output\n",
    "\n",
    "import time\n",
    "t0= time.clock()\n",
    "\n",
    "X_test_pooled_output=bert_model.predict([X_test_tokens,X_test_mask,X_test_segment])\n",
    "\n",
    "t1 = time.clock() - t0\n",
    "print(t1)"
   ]
  },
  {
   "cell_type": "code",
   "execution_count": 51,
   "metadata": {
    "colab": {
     "base_uri": "https://localhost:8080/",
     "height": 33
    },
    "colab_type": "code",
    "id": "cpysAb1xFG_F",
    "outputId": "2aba446c-a869-4c26-b362-4b3e3df98b5c"
   },
   "outputs": [
    {
     "name": "stdout",
     "output_type": "stream",
     "text": [
      "Drive already mounted at /content/drive; to attempt to forcibly remount, call drive.mount(\"/content/drive\", force_remount=True).\n"
     ]
    }
   ],
   "source": [
    "from google.colab import drive\n",
    "drive.mount('/content/drive')"
   ]
  },
  {
   "cell_type": "code",
   "execution_count": 100,
   "metadata": {
    "colab": {},
    "colab_type": "code",
    "id": "DL6JVojfqVB8"
   },
   "outputs": [],
   "source": [
    "##save all your results to disk so that, no need to run all again. \n",
    "pickle.dump((X_train_pooled_output, X_test_pooled_output, y_train, y_test),open('drive/My Drive/Saved Pickles/BERT/final_output.pkl','wb'))"
   ]
  },
  {
   "cell_type": "code",
   "execution_count": 101,
   "metadata": {
    "colab": {},
    "colab_type": "code",
    "id": "oSQcBdROqVB9"
   },
   "outputs": [],
   "source": [
    "import pickle\n",
    "X_train_pooled_output, X_test_pooled_output, y_train, y_test= pickle.load(open('drive/My Drive/Saved Pickles/BERT/final_output.pkl', 'rb'))"
   ]
  },
  {
   "cell_type": "code",
   "execution_count": 114,
   "metadata": {
    "colab": {},
    "colab_type": "code",
    "id": "DVjb4U9aaCTI"
   },
   "outputs": [],
   "source": [
    "y_train = y_train.ravel()\n",
    "y_test = y_test.ravel()"
   ]
  },
  {
   "cell_type": "code",
   "execution_count": 103,
   "metadata": {
    "colab": {},
    "colab_type": "code",
    "id": "I1NtUUeCsVC4"
   },
   "outputs": [],
   "source": [
    "X_train = X_train_pooled_output\n",
    "X_test = X_test_pooled_output"
   ]
  },
  {
   "cell_type": "markdown",
   "metadata": {
    "colab_type": "text",
    "id": "oYwS1QbAqVCD"
   },
   "source": [
    "<pre><font size=6>Part-5: Training a NN with 768 features</font>"
   ]
  },
  {
   "cell_type": "code",
   "execution_count": 167,
   "metadata": {
    "colab": {},
    "colab_type": "code",
    "id": "wa2irjT6cf-j"
   },
   "outputs": [],
   "source": [
    "y_train_ = tf.keras.utils.to_categorical(y_train,2)\n",
    "y_test_ = tf.keras.utils.to_categorical(y_test,2)"
   ]
  },
  {
   "cell_type": "code",
   "execution_count": 168,
   "metadata": {
    "colab": {},
    "colab_type": "code",
    "id": "od8PQlYRqVCE"
   },
   "outputs": [],
   "source": [
    "##imports\n",
    "from tensorflow.keras.layers import Input, Dense, Activation, Dropout\n",
    "from tensorflow.keras.models import Model\n",
    "from tensorflow.keras import regularizers\n",
    "from tensorflow.keras.layers import Dense,Input,Conv2D,MaxPool2D,Activation,Dropout,Flatten, concatenate"
   ]
  },
  {
   "cell_type": "code",
   "execution_count": 378,
   "metadata": {
    "colab": {},
    "colab_type": "code",
    "id": "DSnmX3WnqVCG"
   },
   "outputs": [],
   "source": [
    "##create an NN and \n",
    "tf.keras.backend.clear_session()\n",
    "input_Layera = Input(shape=(768),name='Input_Layera')\n",
    "Dense_layera = Dense(units=50,activation='relu',kernel_regularizer=regularizers.l2(0.01), bias_regularizer=regularizers.l2(0.1),name = 'Dense_layera')(input_Layera)\n",
    "Dropout_layera = Dropout(rate=0.1, name='Dropout_layera')(Dense_layera)\n",
    "\n",
    "Dense_layerb = Dense(units=50,activation='relu',kernel_regularizer=regularizers.l2(0.01), bias_regularizer=regularizers.l2(0.1),name = 'Dense_layerb')(Dropout_layera)\n",
    "Dropout_layerb = Dropout(rate=0.1, name='Dropout_layerb')(Dense_layerb)\n",
    "\n",
    "Dense_layerc = Dense(units=50,activation='relu',kernel_regularizer=regularizers.l2(0.01), bias_regularizer=regularizers.l2(0.1),name = 'Dense_layerc')(Dropout_layerb)\n",
    "Dropout_layerc = Dropout(rate=0.1, name='Dropout_layerc')(Dense_layerc)\n",
    "\n",
    "Dense_layer1 = Dense(units=50,activation='relu',kernel_regularizer=regularizers.l2(0.01), bias_regularizer=regularizers.l2(0.1),name = 'Dense_layer1')(Dropout_layerc)\n",
    "Dropout_layer1 = Dropout(rate=0.1, name='Dropout_layer1')(Dense_layer1)\n",
    "\n",
    "Dense_layer2 = Dense(units=60,activation='relu',kernel_regularizer=regularizers.l2(0.01), bias_regularizer=regularizers.l2(0.1),name = 'Dense_layer2')(Dropout_layer1)\n",
    "Dropout_layer2 = Dropout(rate=0.1, name='Dropout_layer2')(Dense_layer2)\n",
    "\n",
    "Dense_layer3 = Dense(units=30,activation='relu',kernel_regularizer=regularizers.l2(0.01), bias_regularizer=regularizers.l2(0.1),name = 'Dense_layer3')(Dropout_layer2)\n",
    "\n",
    "Out = Dense(units=2,activation='softmax',kernel_initializer=tf.keras.initializers.glorot_normal(seed=3),name='Output')(Dense_layer3)\n",
    "\n",
    "model = Model(inputs=input_Layera,outputs=Out)"
   ]
  },
  {
   "cell_type": "code",
   "execution_count": 379,
   "metadata": {
    "colab": {
     "base_uri": "https://localhost:8080/",
     "height": 1000
    },
    "colab_type": "code",
    "id": "3519ixnJqr7J",
    "outputId": "238d18c9-c2ab-419a-d08a-0197006c7a56"
   },
   "outputs": [
    {
     "data": {
      "image/png": "[encoded data removed]",
      "text/plain": [
       "<IPython.core.display.Image object>"
      ]
     },
     "execution_count": 379,
     "metadata": {
      "tags": []
     },
     "output_type": "execute_result"
    }
   ],
   "source": [
    "tf.keras.utils.plot_model(\n",
    "    model, to_file='model.png', show_shapes=False, show_layer_names=True,\n",
    "    rankdir='TB', expand_nested=False, dpi=96\n",
    ")"
   ]
  },
  {
   "cell_type": "code",
   "execution_count": 380,
   "metadata": {
    "colab": {
     "base_uri": "https://localhost:8080/",
     "height": 50
    },
    "colab_type": "code",
    "id": "2ZGCtIFNyE5N",
    "outputId": "86a68ab8-e61c-44de-91c6-c49020dce95b"
   },
   "outputs": [
    {
     "name": "stdout",
     "output_type": "stream",
     "text": [
      "Total: 80000\n",
      "    Positive: 69603 (87.00% of total)\n"
     ]
    }
   ],
   "source": [
    "neg, pos = np.bincount(y_train)\n",
    "total = neg + pos\n",
    "print('Total: {}\\n    Positive: {} ({:.2f}% of total)'.format(\n",
    "    total, pos, 100 * pos / total))"
   ]
  },
  {
   "cell_type": "code",
   "execution_count": 381,
   "metadata": {
    "colab": {
     "base_uri": "https://localhost:8080/",
     "height": 50
    },
    "colab_type": "code",
    "id": "yUdKWCt7yFq6",
    "outputId": "b6fdae49-e59a-42d0-ee26-50b2375cbac7"
   },
   "outputs": [
    {
     "name": "stdout",
     "output_type": "stream",
     "text": [
      "Weight for class 0: 3.85\n",
      "Weight for class 1: 0.57\n"
     ]
    }
   ],
   "source": [
    "weight_for_0 = (1 / neg)*(total)/2.0 \n",
    "weight_for_1 = (1 / pos)*(total)/2.0\n",
    "\n",
    "class_weight = {0: weight_for_0, 1: weight_for_1}\n",
    "\n",
    "print('Weight for class 0: {:.2f}'.format(weight_for_0))\n",
    "print('Weight for class 1: {:.2f}'.format(weight_for_1))"
   ]
  },
  {
   "cell_type": "code",
   "execution_count": 382,
   "metadata": {
    "colab": {},
    "colab_type": "code",
    "id": "n2OUXMSngC9W"
   },
   "outputs": [],
   "source": [
    "# code from https://stackoverflow.com/a/49830391/11913076\n",
    "\n",
    "from sklearn.metrics import roc_auc_score\n",
    "import tensorflow as tf\n",
    "def auc( y_true, y_pred ) :\n",
    "    score = tf.compat.v1.py_func( roc_auc_score, (y_true,y_pred), tf.double)\n",
    "    return score"
   ]
  },
  {
   "cell_type": "code",
   "execution_count": 383,
   "metadata": {
    "colab": {},
    "colab_type": "code",
    "id": "iiBeOnna9yDH"
   },
   "outputs": [],
   "source": [
    "model.compile(optimizer=tf.keras.optimizers.Adagrad(0.01),\n",
    "              loss=tf.keras.losses.BinaryCrossentropy(),\n",
    "              metrics=auc)"
   ]
  },
  {
   "cell_type": "code",
   "execution_count": 384,
   "metadata": {
    "colab": {
     "base_uri": "https://localhost:8080/",
     "height": 1000
    },
    "colab_type": "code",
    "id": "r6xNO4EDq5Ch",
    "outputId": "f39a0fb7-8fe8-44e0-b19c-a1f3717f2082"
   },
   "outputs": [
    {
     "name": "stdout",
     "output_type": "stream",
     "text": [
      "Epoch 1/50\n",
      "800/800 [==============================] - 7s 8ms/step - loss: 2.8346 - auc: 0.6378 - val_loss: 1.9219 - val_auc: 0.8224\n",
      "Epoch 2/50\n",
      "800/800 [==============================] - 6s 8ms/step - loss: 1.4530 - auc: 0.7975 - val_loss: 1.3928 - val_auc: 0.8788\n",
      "Epoch 3/50\n",
      "800/800 [==============================] - 6s 8ms/step - loss: 0.8970 - auc: 0.8824 - val_loss: 0.6909 - val_auc: 0.9208\n",
      "Epoch 4/50\n",
      "800/800 [==============================] - 6s 8ms/step - loss: 0.6701 - auc: 0.9110 - val_loss: 0.6463 - val_auc: 0.9340\n",
      "Epoch 5/50\n",
      "800/800 [==============================] - 6s 8ms/step - loss: 0.5797 - auc: 0.9238 - val_loss: 0.7299 - val_auc: 0.9362\n",
      "Epoch 6/50\n",
      "800/800 [==============================] - 6s 8ms/step - loss: 0.5295 - auc: 0.9296 - val_loss: 0.4016 - val_auc: 0.9419\n",
      "Epoch 7/50\n",
      "800/800 [==============================] - 6s 8ms/step - loss: 0.5033 - auc: 0.9338 - val_loss: 0.5622 - val_auc: 0.9438\n",
      "Epoch 8/50\n",
      "800/800 [==============================] - 6s 8ms/step - loss: 0.4942 - auc: 0.9356 - val_loss: 0.4093 - val_auc: 0.9459\n",
      "Epoch 9/50\n",
      "800/800 [==============================] - 6s 8ms/step - loss: 0.4792 - auc: 0.9376 - val_loss: 0.3722 - val_auc: 0.9466\n",
      "Epoch 10/50\n",
      "800/800 [==============================] - 7s 8ms/step - loss: 0.4730 - auc: 0.9396 - val_loss: 0.4141 - val_auc: 0.9481\n",
      "Epoch 11/50\n",
      "800/800 [==============================] - 6s 8ms/step - loss: 0.4663 - auc: 0.9402 - val_loss: 0.4044 - val_auc: 0.9480\n",
      "Epoch 12/50\n",
      "800/800 [==============================] - 6s 8ms/step - loss: 0.4592 - auc: 0.9417 - val_loss: 0.5031 - val_auc: 0.9490\n",
      "Epoch 13/50\n",
      "800/800 [==============================] - 7s 8ms/step - loss: 0.4550 - auc: 0.9422 - val_loss: 0.3737 - val_auc: 0.9497\n",
      "Epoch 14/50\n",
      "800/800 [==============================] - 7s 8ms/step - loss: 0.4515 - auc: 0.9436 - val_loss: 0.5378 - val_auc: 0.9506\n",
      "Epoch 15/50\n",
      "800/800 [==============================] - 6s 8ms/step - loss: 0.4509 - auc: 0.9434 - val_loss: 0.4305 - val_auc: 0.9508\n",
      "Epoch 16/50\n",
      "800/800 [==============================] - 7s 8ms/step - loss: 0.4439 - auc: 0.9442 - val_loss: 0.6729 - val_auc: 0.9492\n",
      "Epoch 17/50\n",
      "800/800 [==============================] - 6s 8ms/step - loss: 0.4397 - auc: 0.9461 - val_loss: 0.3718 - val_auc: 0.9515\n",
      "Epoch 18/50\n",
      "800/800 [==============================] - 6s 8ms/step - loss: 0.4381 - auc: 0.9458 - val_loss: 0.4726 - val_auc: 0.9512\n",
      "Epoch 19/50\n",
      "800/800 [==============================] - 6s 8ms/step - loss: 0.4373 - auc: 0.9469 - val_loss: 0.4611 - val_auc: 0.9516\n",
      "Epoch 20/50\n",
      "800/800 [==============================] - 6s 8ms/step - loss: 0.4301 - auc: 0.9474 - val_loss: 0.3688 - val_auc: 0.9518\n",
      "Epoch 21/50\n",
      "800/800 [==============================] - 7s 8ms/step - loss: 0.4294 - auc: 0.9472 - val_loss: 0.4123 - val_auc: 0.9522\n",
      "Epoch 22/50\n",
      "800/800 [==============================] - 7s 8ms/step - loss: 0.4325 - auc: 0.9466 - val_loss: 0.3430 - val_auc: 0.9522\n",
      "Epoch 23/50\n",
      "800/800 [==============================] - 7s 9ms/step - loss: 0.4272 - auc: 0.9469 - val_loss: 0.3420 - val_auc: 0.9523\n",
      "Epoch 24/50\n",
      "800/800 [==============================] - 6s 8ms/step - loss: 0.4251 - auc: 0.9475 - val_loss: 0.4833 - val_auc: 0.9533\n",
      "Epoch 25/50\n",
      "800/800 [==============================] - 6s 8ms/step - loss: 0.4223 - auc: 0.9482 - val_loss: 0.3501 - val_auc: 0.9531\n",
      "Epoch 26/50\n",
      "800/800 [==============================] - 6s 8ms/step - loss: 0.4210 - auc: 0.9490 - val_loss: 0.3460 - val_auc: 0.9529\n",
      "Epoch 27/50\n",
      "800/800 [==============================] - 6s 8ms/step - loss: 0.4206 - auc: 0.9489 - val_loss: 0.3192 - val_auc: 0.9521\n",
      "Epoch 28/50\n",
      "800/800 [==============================] - 6s 8ms/step - loss: 0.4191 - auc: 0.9491 - val_loss: 0.3743 - val_auc: 0.9539\n",
      "Epoch 29/50\n",
      "800/800 [==============================] - 6s 8ms/step - loss: 0.4189 - auc: 0.9490 - val_loss: 0.4094 - val_auc: 0.9535\n",
      "Epoch 30/50\n",
      "800/800 [==============================] - 6s 8ms/step - loss: 0.4120 - auc: 0.9509 - val_loss: 0.4435 - val_auc: 0.9540\n",
      "Epoch 31/50\n",
      "800/800 [==============================] - 6s 8ms/step - loss: 0.4154 - auc: 0.9499 - val_loss: 0.4705 - val_auc: 0.9544\n",
      "Epoch 32/50\n",
      "800/800 [==============================] - 6s 8ms/step - loss: 0.4114 - auc: 0.9506 - val_loss: 0.3676 - val_auc: 0.9543\n",
      "Epoch 33/50\n",
      "800/800 [==============================] - 6s 8ms/step - loss: 0.4108 - auc: 0.9503 - val_loss: 0.3382 - val_auc: 0.9546\n",
      "Epoch 34/50\n",
      "800/800 [==============================] - 6s 8ms/step - loss: 0.4094 - auc: 0.9507 - val_loss: 0.3497 - val_auc: 0.9544\n",
      "Epoch 35/50\n",
      "800/800 [==============================] - 6s 8ms/step - loss: 0.4061 - auc: 0.9511 - val_loss: 0.4014 - val_auc: 0.9549\n",
      "Epoch 36/50\n",
      "800/800 [==============================] - 6s 8ms/step - loss: 0.4077 - auc: 0.9506 - val_loss: 0.5042 - val_auc: 0.9542\n",
      "Epoch 37/50\n",
      "800/800 [==============================] - 6s 8ms/step - loss: 0.4074 - auc: 0.9517 - val_loss: 0.3519 - val_auc: 0.9554\n",
      "Epoch 38/50\n",
      "800/800 [==============================] - 6s 8ms/step - loss: 0.4047 - auc: 0.9520 - val_loss: 0.4761 - val_auc: 0.9557\n",
      "Epoch 39/50\n",
      "800/800 [==============================] - 7s 9ms/step - loss: 0.4052 - auc: 0.9520 - val_loss: 0.4313 - val_auc: 0.9553\n",
      "Epoch 40/50\n",
      "800/800 [==============================] - 6s 8ms/step - loss: 0.4029 - auc: 0.9521 - val_loss: 0.4744 - val_auc: 0.9556\n",
      "Epoch 41/50\n",
      "800/800 [==============================] - 6s 8ms/step - loss: 0.4016 - auc: 0.9525 - val_loss: 0.4764 - val_auc: 0.9550\n",
      "Epoch 42/50\n",
      "800/800 [==============================] - 6s 8ms/step - loss: 0.4014 - auc: 0.9519 - val_loss: 0.3891 - val_auc: 0.9561\n",
      "Epoch 43/50\n",
      "800/800 [==============================] - 6s 8ms/step - loss: 0.3967 - auc: 0.9538 - val_loss: 0.3419 - val_auc: 0.9559\n",
      "Epoch 44/50\n",
      "800/800 [==============================] - 6s 8ms/step - loss: 0.4003 - auc: 0.9533 - val_loss: 0.3913 - val_auc: 0.9556\n",
      "Epoch 45/50\n",
      "800/800 [==============================] - 6s 8ms/step - loss: 0.3980 - auc: 0.9535 - val_loss: 0.3363 - val_auc: 0.9559\n",
      "Epoch 46/50\n",
      "800/800 [==============================] - 6s 8ms/step - loss: 0.3962 - auc: 0.9529 - val_loss: 0.4612 - val_auc: 0.9556\n",
      "Epoch 47/50\n",
      "800/800 [==============================] - 6s 8ms/step - loss: 0.3988 - auc: 0.9530 - val_loss: 0.3748 - val_auc: 0.9562\n",
      "Epoch 48/50\n",
      "800/800 [==============================] - 6s 8ms/step - loss: 0.3943 - auc: 0.9539 - val_loss: 0.3907 - val_auc: 0.9559\n",
      "Epoch 49/50\n",
      "800/800 [==============================] - 7s 8ms/step - loss: 0.3945 - auc: 0.9533 - val_loss: 0.3275 - val_auc: 0.9565\n",
      "Epoch 50/50\n",
      "800/800 [==============================] - 6s 8ms/step - loss: 0.3915 - auc: 0.9539 - val_loss: 0.4032 - val_auc: 0.9567\n"
     ]
    },
    {
     "data": {
      "text/plain": [
       "<tensorflow.python.keras.callbacks.History at 0x7f01c8366828>"
      ]
     },
     "execution_count": 384,
     "metadata": {
      "tags": []
     },
     "output_type": "execute_result"
    }
   ],
   "source": [
    "model.fit(X_train,y_train_,batch_size=100, epochs=50, \n",
    "          validation_data=(X_test, y_test_), class_weight=class_weight)"
   ]
  },
  {
   "cell_type": "markdown",
   "metadata": {
    "colab_type": "text",
    "id": "fjEGp-Qw6qsg"
   },
   "source": [
    "# Model summary:\n",
    "    \n",
    "                |   Max AUC    |    Min Loss    |\n",
    "        Train   |    0.9539    |     0.3915     |\n",
    "        Test    |    0.9567    |     0.3275     |"
   ]
  },
  {
   "cell_type": "code",
   "execution_count": 289,
   "metadata": {
    "colab": {
     "base_uri": "https://localhost:8080/",
     "height": 216
    },
    "colab_type": "code",
    "id": "lgq5wCZHoZJJ",
    "outputId": "9f76bc90-538a-47bc-c0e7-2bbc6b4d885c"
   },
   "outputs": [
    {
     "name": "stdout",
     "output_type": "stream",
     "text": [
      "--2020-07-03 12:37:32--  https://doc-10-14-docs.googleusercontent.com/docs/securesc/cpqrl8u0bfmm43paalnv6tsqiqd8at9v/11f2qfhk3i6tlcurp13lqktu7nl4fnu4/1593779700000/00484516897554883881/03674084270746528232/1QwjqTsqTX2vdy7fTmeXjxP3dq8IAVLpo?e=download&authuser=0&nonce=qj208lpsu2rc4&user=03674084270746528232&hash=adunag0erqtmdt4duio64mde9ipehpug\n",
      "Resolving doc-10-14-docs.googleusercontent.com (doc-10-14-docs.googleusercontent.com)... 74.125.133.132, 2a00:1450:400c:c07::84\n",
      "Connecting to doc-10-14-docs.googleusercontent.com (doc-10-14-docs.googleusercontent.com)|74.125.133.132|:443... connected.\n",
      "HTTP request sent, awaiting response... 200 OK\n",
      "Length: 62100 (61K) [text/csv]\n",
      "Saving to: ‘test.csv’\n",
      "\n",
      "\r",
      "test.csv              0%[                    ]       0  --.-KB/s               \r",
      "test.csv            100%[===================>]  60.64K  --.-KB/s    in 0.001s  \n",
      "\n",
      "2020-07-03 12:37:32 (60.6 MB/s) - ‘test.csv’ saved [62100/62100]\n",
      "\n"
     ]
    }
   ],
   "source": [
    "!wget --header=\"Host: doc-10-14-docs.googleusercontent.com\" --header=\"User-Agent: Mozilla/5.0 (Windows NT 10.0; Win64; x64) AppleWebKit/537.36 (KHTML, like Gecko) Chrome/83.0.0.0 Safari/537.36\" --header=\"Accept: text/html,application/xhtml+xml,application/xml;q=0.9,image/webp,image/apng,*/*;q=0.8,application/signed-exchange;v=b3;q=0.9\" --header=\"Accept-Language: en-US,en;q=0.9\" --header=\"Referer: https://drive.google.com/\" --header=\"Cookie: AUTH_qt52u2gu6qban90vehnie4dc20mth5n4_nonce=qj208lpsu2rc4\" --header=\"Connection: keep-alive\" \"https://doc-10-14-docs.googleusercontent.com/docs/securesc/cpqrl8u0bfmm43paalnv6tsqiqd8at9v/11f2qfhk3i6tlcurp13lqktu7nl4fnu4/1593779700000/00484516897554883881/03674084270746528232/1QwjqTsqTX2vdy7fTmeXjxP3dq8IAVLpo?e=download&authuser=0&nonce=qj208lpsu2rc4&user=03674084270746528232&hash=adunag0erqtmdt4duio64mde9ipehpug\" -c -O 'test.csv'"
   ]
  },
  {
   "cell_type": "markdown",
   "metadata": {
    "colab_type": "text",
    "id": "kcILeYZI9pxm"
   },
   "source": [
    "<Pre><font size=6>Part-6: Creating a Data pipeline for BERT Model</font> \n",
    "\n",
    "1. Download data from <a href=\"https://drive.google.com/file/d/1QwjqTsqTX2vdy7fTmeXjxP3dq8IAVLpo/view?usp=sharing\">here</a>\n",
    "2. Read the csv file\n",
    "3. Remove all the html tags\n",
    "4. Now do tokenization [Part 3 as mentioned above]\n",
    "    * Create tokens,mask array and segment array\n",
    "5. Get Embeddings from BERT Model [Part 4 as mentioned above] , let it be X_test\n",
    "   * Print the shape of output(X_test.shape).You should get (352,768)\n",
    "6. Predit the output of X_test with the Neural network model which we trained earlier.\n",
    "7. Print the occurences of class labels in the predicted output\n",
    "\n",
    "</pre>"
   ]
  },
  {
   "cell_type": "code",
   "execution_count": 387,
   "metadata": {
    "colab": {},
    "colab_type": "code",
    "id": "wHPqHsy44jWm"
   },
   "outputs": [],
   "source": [
    "def pipeline(X_):\n",
    "  print('Preprocessing...\\n')\n",
    "  \n",
    "  #X_ = pd.read_csv('test.csv') \n",
    "\n",
    "  X_.Text = X_.Text.str.replace('<[^<]+?>', '')\n",
    "\n",
    "  print('Creating tokens...\\n')\n",
    "  sentences = [sentence for sentence in (X_.Text)]\n",
    "  tokens = [tokenizer.tokenize(sentence) for sentence in (sentences)]\n",
    "\n",
    "  for i in (range(len(tokens))):\n",
    "    tokens[i].insert(0,\"[CLS]\")\n",
    "    tokens[i].append(\"[SEP]\")\n",
    "\n",
    "  tokens_ = []\n",
    "  for i in (tokens):\n",
    "    tokens_.append(tokenizer.convert_tokens_to_ids(i))\n",
    "\n",
    "  tokens = tokens_\n",
    "  for i in (range(len(tokens))):\n",
    "    while len(tokens[i])<410:\n",
    "        tokens[i].append(\"[PAD]\")\n",
    "\n",
    "  print('Creating masks...\\n')\n",
    "  mask = []\n",
    "\n",
    "  for i in (tokens):\n",
    "    mask_temp = []\n",
    "    for j in i:\n",
    "        if j!=\"[PAD]\":\n",
    "           mask_temp.append(1)\n",
    "        else:\n",
    "           mask_temp.append(0)\n",
    "    mask.append(mask_temp)\n",
    "\n",
    "  print('Creating segments...\\n')\n",
    "  segment = []\n",
    "\n",
    "  for i in (tokens):\n",
    "    seg_temp = []\n",
    "    for j in i:\n",
    "        seg_temp.append(0)\n",
    "    segment.append(seg_temp)\n",
    "\n",
    "  for i in (range(len(tokens))):\n",
    "    for j in range(len(tokens[i])):\n",
    "        if tokens[i][j]==\"[PAD]\":\n",
    "           tokens[i][j] = 0\n",
    "\n",
    "  tokens = np.asarray(tokens)\n",
    "\n",
    "  mask = np.asarray(mask)\n",
    "\n",
    "  segment = np.asarray(segment)\n",
    "\n",
    "  print('Getting embeddings from BERT...\\n')\n",
    "  pooled_output=bert_model.predict([tokens,mask,segment])\n",
    "\n",
    "  X_ = pooled_output\n",
    "\n",
    "  print('Shape of test:',X_.shape)\n",
    "\n",
    "  predictions = model.predict(X_)\n",
    "\n",
    "  zeros = 0\n",
    "  ones = 0\n",
    "\n",
    "  for i in predictions:\n",
    "    if i[0]>=0.5:\n",
    "      zeros+=1\n",
    "    else:\n",
    "      ones+=1\n",
    "\n",
    "  print('\\nPredictions summary:\\n \\t Number of zeros : {} \\n \\t Number of ones : {}'.format(str(zeros),str(ones)))"
   ]
  },
  {
   "cell_type": "code",
   "execution_count": 390,
   "metadata": {
    "colab": {
     "base_uri": "https://localhost:8080/",
     "height": 261
    },
    "colab_type": "code",
    "id": "hTECYNYH5fiW",
    "outputId": "b7647ba3-5bd6-4113-d26a-e8a7496a73e5"
   },
   "outputs": [
    {
     "name": "stdout",
     "output_type": "stream",
     "text": [
      "Preprocessing...\n",
      "\n",
      "Creating tokens...\n",
      "\n",
      "Creating masks...\n",
      "\n",
      "Creating segments...\n",
      "\n",
      "Getting embeddings from BERT...\n",
      "\n",
      "Shape of test: (352, 768)\n",
      "\n",
      "Predictions summary:\n",
      " \t Number of zeros : 89 \n",
      " \t Number of ones : 263\n"
     ]
    }
   ],
   "source": [
    "test = pd.read_csv('test.csv')\n",
    "pipeline(test)"
   ]
  },
  {
   "cell_type": "code",
   "execution_count": null,
   "metadata": {
    "colab": {},
    "colab_type": "code",
    "id": "raN5EB7E6bJs"
   },
   "outputs": [],
   "source": []
  }
 ],
 "metadata": {
  "accelerator": "GPU",
  "colab": {
   "collapsed_sections": [],
   "name": "BERT- Assignment.ipynb",
   "provenance": []
  },
  "kernelspec": {
   "display_name": "Python 3 (ipykernel)",
   "language": "python",
   "name": "python3"
  },
  "language_info": {
   "codemirror_mode": {
    "name": "ipython",
    "version": 3
   },
   "file_extension": ".py",
   "mimetype": "text/x-python",
   "name": "python",
   "nbconvert_exporter": "python",
   "pygments_lexer": "ipython3",
   "version": "3.10.9"
  }
 },
 "nbformat": 4,
 "nbformat_minor": 1
}
