{
 "cells": [
  {
   "cell_type": "markdown",
   "metadata": {
    "colab_type": "text",
    "id": "y871RZtRhCEH"
   },
   "source": [
    "# <font color='red'>BackPropagation</font>"
   ]
  },
  {
   "cell_type": "markdown",
   "metadata": {
    "colab_type": "text",
    "id": "0huUQ0byiI0I"
   },
   "source": [
    "## <font color='red'>Loading data </font>"
   ]
  },
  {
   "cell_type": "code",
   "execution_count": null,
   "metadata": {
    "colab": {
     "base_uri": "https://localhost:8080/",
     "height": 112,
     "resources": {
      "http://localhost:8080/nbextensions/google.colab/files.js": {
       "data": "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",
       "headers": [
        [
         "content-type",
         "application/javascript"
        ]
       ],
       "ok": true,
       "status": 200,
       "status_text": ""
      }
     }
    },
    "colab_type": "code",
    "id": "EgmpcY8Uc-cQ",
    "outputId": "3c598e44-a803-4ff5-d771-f9f620724fca"
   },
   "outputs": [],
   "source": [
    "from google.colab import files\n",
    "files.upload()"
   ]
  },
  {
   "cell_type": "code",
   "execution_count": 2,
   "metadata": {
    "colab": {
     "base_uri": "https://localhost:8080/",
     "height": 52
    },
    "colab_type": "code",
    "id": "1hSje5CBgcUb",
    "outputId": "72f51eb7-3b43-4eea-d10f-1f91dc6a8aaa"
   },
   "outputs": [
    {
     "name": "stdout",
     "output_type": "stream",
     "text": [
      "(506, 6)\n",
      "(506, 5) (506,)\n"
     ]
    }
   ],
   "source": [
    "import pickle\n",
    "import numpy as np\n",
    "from tqdm import tqdm\n",
    "import matplotlib.pyplot as plt\n",
    "\n",
    "with open('data.pkl', 'rb') as f:\n",
    "    data = pickle.load(f)\n",
    "print(data.shape)\n",
    "X = data[:, :5]\n",
    "y = data[:, -1]\n",
    "print(X.shape, y.shape)"
   ]
  },
  {
   "cell_type": "markdown",
   "metadata": {
    "colab_type": "text",
    "id": "5JL-0soQistC"
   },
   "source": [
    "# <font color='red'>Computational graph</font>"
   ]
  },
  {
   "cell_type": "markdown",
   "metadata": {
    "colab_type": "text",
    "id": "nREnTTJ3i0Vd"
   },
   "source": [
    "<img src='https://i.imgur.com/seSGbNS.png'>"
   ]
  },
  {
   "cell_type": "markdown",
   "metadata": {
    "colab_type": "text",
    "id": "DSPX_H_4i_HT"
   },
   "source": [
    "\n",
    "*  **If you observe the graph, we are having input features [f1, f2, f3, f4, f5] and 9 weights [w1, w2, w3, w4, w5, w6,    w7, w8, w9]**.<br><br>\n",
    "*  **The final output of this graph is a value L which is computed as (Y-Y')^2** "
   ]
  },
  {
   "cell_type": "markdown",
   "metadata": {
    "colab_type": "text",
    "id": "D54eDEv6jkO4"
   },
   "source": [
    "# <font color='red'>Task 1: Implementing backpropagation and Gradient checking </font>"
   ]
  },
  {
   "cell_type": "code",
   "execution_count": 0,
   "metadata": {
    "colab": {},
    "colab_type": "code",
    "id": "KG5Nca2bi-dh"
   },
   "outputs": [],
   "source": [
    "import math \n",
    "\n",
    "def forward_propagation(X_, y_, W):\n",
    "\n",
    "  def exp_(X__,W__):\n",
    "    star1 = X__[0]*W__[0]\n",
    "    star2 = X__[1]*W__[1]\n",
    "    plus = star1+star2\n",
    "    star3 = plus**2\n",
    "    another_plus = star3+W__[5]\n",
    "    expo = np.exp(another_plus)\n",
    "    return expo\n",
    "\n",
    "  expA = exp_(X_,W)\n",
    "\n",
    "  def tanh_(x,W__):\n",
    "    plus = x+W__[6]\n",
    "    tan = np.tanh(plus)\n",
    "    return tan\n",
    "\n",
    "  tanhA = tanh_(expA,W)\n",
    "\n",
    "  def sigmoid_(X__,W__):\n",
    "    star1 = W__[2]*X__[2]\n",
    "    star2 = W__[3]*X__[3]\n",
    "    star3 = W__[4]*X__[4]\n",
    "    sinx = np.sin(star1)\n",
    "    plus1 = star2+star3\n",
    "    star4 = sinx*plus1\n",
    "    plus2 = star4+W__[7]\n",
    "    #sig_ = []\n",
    "    try:\n",
    "      sigg = 1/(1+(math.exp(-plus2)))\n",
    "      return sigg\n",
    "    except:\n",
    "      return 0.5\n",
    "\n",
    "  sigmoidA = sigmoid_(X_,W)\n",
    "\n",
    "  def getyhat(sigmoid_,tanh_,W_):\n",
    "    star1 = sigmoid_*W_[8]\n",
    "    plus1 = star1+tanh_\n",
    "    ydash = plus1\n",
    "    return ydash\n",
    "\n",
    "  y_hat = getyhat(sigmoidA,tanhA,W)\n",
    "\n",
    "  LA = (y_-y_hat)**2\n",
    "\n",
    "  dLA = -2*(y_-y_hat)\n",
    "\n",
    "  d = {}\n",
    "\n",
    "  d['exp'] = expA\n",
    "  d['sigmoid'] = sigmoidA\n",
    "  d['tanh'] = tanhA\n",
    "  d['loss'] = LA\n",
    "  d['dl'] = dLA\n",
    "  d['yhat'] = y_hat\n",
    "\n",
    "  \n",
    "  return (d)"
   ]
  },
  {
   "cell_type": "code",
   "execution_count": 0,
   "metadata": {
    "colab": {},
    "colab_type": "code",
    "id": "KSTalg6zvrFd"
   },
   "outputs": [],
   "source": [
    "def backward_propagation(X_, W_, dict_FP):\n",
    "\n",
    "  W_dict = dict()\n",
    "\n",
    "  dyhat = np.asarray(dict_FP['dl'])\n",
    "  dtanh = np.asarray(dict_FP['tanh'])\n",
    "  dtanhsq = dtanh**2\n",
    "  dexp = np.asarray(dict_FP['exp'])\n",
    "  dsigmoid = np.asarray(dict_FP['sigmoid'])\n",
    "\n",
    "  dw1 = dyhat*2*((W_[0]*X_[0]) + (W_[1]*X_[1])) * (1-dtanhsq) * (dexp) * (X_[0])\n",
    "  dw2 = dyhat*2*((W_[0]*X_[0]) + (W_[1]*X_[1])) * (1-dtanhsq) * (dexp) * (X_[1])\n",
    "  dw7 = dyhat*(1 - dtanhsq)\n",
    "  dw6 = dyhat*(1 - dtanhsq)*dexp\n",
    "\n",
    "  dw3 = dyhat*W_[8]*dsigmoid*(1-dsigmoid)*((W_[3]*X_[3])+(W_[4]*X_[4]))*(np.cos(W_[2]*X_[2]))*X_[2]\n",
    "  dw4 = dyhat*W_[8]*dsigmoid*(1-dsigmoid)*np.sin(W_[2]*X_[2])*X_[3]\n",
    "  dw5 = dyhat*W_[8]*dsigmoid*(1-dsigmoid)*np.sin(W_[2]*X_[2])*X_[4]\n",
    "  dw8 = dyhat*W_[8]*dsigmoid*(1-dsigmoid)\n",
    "  dw9 = dyhat*dsigmoid\n",
    "\n",
    "  W_dict['dw1'] = dw1\n",
    "  W_dict['dw2'] = dw2\n",
    "  W_dict['dw3'] = dw3\n",
    "  W_dict['dw4'] = dw4\n",
    "  W_dict['dw5'] = dw5\n",
    "  W_dict['dw6'] = dw6\n",
    "  W_dict['dw7'] = dw7\n",
    "  W_dict['dw8'] = dw8\n",
    "  W_dict['dw9'] = dw9\n",
    "\n",
    "  return W_dict"
   ]
  },
  {
   "cell_type": "markdown",
   "metadata": {
    "colab_type": "text",
    "id": "STS4NrQQc6OH"
   },
   "source": [
    " ## <font color='red'>Gradient clipping</font>"
   ]
  },
  {
   "cell_type": "markdown",
   "metadata": {
    "colab_type": "text",
    "id": "XY7ivRNzdPok"
   },
   "source": [
    "<b> Check this  <a href='https://towardsdatascience.com/how-to-debug-a-neural-network-with-gradient-checking-41deec0357a9'>blog link</a> for more details on Gradient clipping"
   ]
  },
  {
   "cell_type": "markdown",
   "metadata": {
    "colab_type": "text",
    "id": "BrsfpDoidtZ5"
   },
   "source": [
    " we know that the derivative of any function is\n",
    " \n",
    " $$\\lim_{\\epsilon\\to0}\\frac{f(x+\\epsilon)-f(x-\\epsilon)}{2\\epsilon}$$\n"
   ]
  },
  {
   "cell_type": "markdown",
   "metadata": {
    "colab_type": "text",
    "id": "vUcmt0kPd02f"
   },
   "source": [
    "*  The definition above can be used as a numerical approximation of the derivative. Taking an epsilon small enough, the calculated approximation will have an error in the range of epsilon squared. \n",
    "\n",
    "*  In other words, if epsilon is 0.001, the approximation will be off by 0.00001.\n",
    "\n",
    "Therefore, we can use this to approximate the gradient, and in turn make sure that backpropagation is implemented properly. This forms the basis of <b>gradient checking!</b>"
   ]
  },
  {
   "cell_type": "markdown",
   "metadata": {
    "colab_type": "text",
    "id": "f1BFQQaCermK"
   },
   "source": [
    "## <font color='red'> Implement Gradient checking </font> <br>\n"
   ]
  },
  {
   "cell_type": "code",
   "execution_count": 0,
   "metadata": {
    "colab": {},
    "colab_type": "code",
    "id": "ZGdvMzfRgzS8"
   },
   "outputs": [],
   "source": [
    "def gradient_checking(Xx_, yx_, Wx_):\n",
    "\n",
    "  dict_FPx = forward_propagation(Xx_, yx_, Wx_)\n",
    "  L = dict_FPx['loss']\n",
    "\n",
    "  W_dict =  backward_propagation(Xx_, Wx_, dict_FPx)\n",
    "  W_grad = []\n",
    "  for key in W_dict:\n",
    "    W_grad.append(W_dict[key])\n",
    "    \n",
    "  approx_gradients = []\n",
    "\n",
    "  WFake = Wx_\n",
    "\n",
    "  for i in range(len(Wx_)):\n",
    "\n",
    "    WFake[i] = Wx_[i] + 0.0001\n",
    "    FP=forward_propagation(Xx_,yx_,WFake)\n",
    "    L_WplusE = FP['loss']\n",
    "\n",
    "    WFake[i] = Wx_[i] - 0.0002\n",
    "    FP=forward_propagation(Xx_,yx_,WFake)\n",
    "    L_WminusE = FP['loss']\n",
    "\n",
    "    WFake[i] = Wx_[i] + 0.0001\n",
    "\n",
    "    num = L_WplusE - L_WminusE\n",
    "    den = 0.0002\n",
    "    grad_val = num/den\n",
    "\n",
    "    approx_gradients.append(grad_val)\n",
    "\n",
    "  comp = []\n",
    "\n",
    "  for i in range(len(W_grad)):\n",
    "    compare = (W_grad[i]-approx_gradients[i])/(W_grad[i]+approx_gradients[i])\n",
    "    comp.append(compare)\n",
    "\n",
    "  return comp"
   ]
  },
  {
   "cell_type": "code",
   "execution_count": 8,
   "metadata": {
    "colab": {
     "base_uri": "https://localhost:8080/",
     "height": 176
    },
    "colab_type": "code",
    "id": "1s9MfMKZVn-3",
    "outputId": "d315193e-2b2d-47eb-903c-c321fe408c7b"
   },
   "outputs": [
    {
     "data": {
      "text/plain": [
       "[1.0370728885929153e-08,\n",
       " 5.581934643713204e-11,\n",
       " 1.7287700041112022e-09,\n",
       " -1.87486944153289e-12,\n",
       " -4.2849738752544037e-10,\n",
       " 7.610196933782967e-10,\n",
       " -3.1480030084674753e-09,\n",
       " 4.0368014625577295e-10,\n",
       " 3.361951351774315e-13]"
      ]
     },
     "execution_count": 8,
     "metadata": {
      "tags": []
     },
     "output_type": "execute_result"
    }
   ],
   "source": [
    "w=np.ones(9)*0.1\n",
    "com = gradient_checking(X[0],y[0],w)\n",
    "com"
   ]
  },
  {
   "cell_type": "code",
   "execution_count": 0,
   "metadata": {
    "colab": {},
    "colab_type": "code",
    "id": "PUxlMw0p4itC"
   },
   "outputs": [],
   "source": [
    "#all the values are very close to zero"
   ]
  },
  {
   "cell_type": "markdown",
   "metadata": {
    "colab_type": "text",
    "id": "0ufbFBFfhgL0"
   },
   "source": [
    "# <font color='red'> Task 2 : Optimizers </font>"
   ]
  },
  {
   "cell_type": "markdown",
   "metadata": {
    "colab_type": "text",
    "id": "7zt05soYh1RM"
   },
   "source": [
    "* As a part of this task, you will be implementing 3 type of optimizers(methods to update weight)\n",
    "* Use the same computational graph that was mentioned above to do this task\n",
    "* Initilze the 9 weights from normal distribution with mean=0 and std=0.01"
   ]
  },
  {
   "cell_type": "markdown",
   "metadata": {
    "colab_type": "text",
    "id": "jmefh7ktjbaR"
   },
   "source": [
    "<font color='blue'><b>Algorithm</b>"
   ]
  },
  {
   "cell_type": "markdown",
   "metadata": {
    "colab_type": "text",
    "id": "nAc4NudkjdNa"
   },
   "source": [
    "<pre>\n",
    "    for each epoch(1-100):\n",
    "        for each data point in your data:\n",
    "            using the functions forward_propagation() and backword_propagation() compute the gradients of weights\n",
    "            update the weigts with help of gradients  ex: w1 = w1-learning_rate*dw1\n",
    "</pre>"
   ]
  },
  {
   "cell_type": "markdown",
   "metadata": {
    "colab_type": "text",
    "id": "_fdmPNqtjm3X"
   },
   "source": [
    "## <font color='red'> Tasks</b>"
   ]
  },
  {
   "cell_type": "markdown",
   "metadata": {
    "colab_type": "text",
    "id": "Ll9-CRsLjx_D"
   },
   "source": [
    "\n",
    "*  <b>Task 2.1</b>: <b>Vanilla update</b> of weights<br><br>\n",
    "*  <b>Task 2.2</b>: <b>Momentum update</b> of weights<br><br>\n",
    "*  <b>Task 2.3</b>:  <b>Adam update</b> of weights\n"
   ]
  },
  {
   "cell_type": "markdown",
   "metadata": {
    "colab_type": "text",
    "id": "atp082demrUR"
   },
   "source": [
    "**Note : If you get any assertion error while running grader functions, please print the variables in grader functions and check which variable is returning False .Recheck your logic for that variable .**"
   ]
  },
  {
   "cell_type": "markdown",
   "metadata": {
    "colab_type": "text",
    "id": "phG2WDkjkuIL"
   },
   "source": [
    "<br>\n",
    "<br>\n",
    "<br>"
   ]
  },
  {
   "cell_type": "markdown",
   "metadata": {
    "colab_type": "text",
    "id": "MhwDSe99kJ32"
   },
   "source": [
    "# <font color='red'>Task 2: Optimizers"
   ]
  },
  {
   "cell_type": "markdown",
   "metadata": {
    "colab_type": "text",
    "id": "jJzI-vnPk1dB"
   },
   "source": [
    "### <font color='blue'>Algorithm with Vanilla update of weights</font>"
   ]
  },
  {
   "cell_type": "code",
   "execution_count": 0,
   "metadata": {
    "colab": {},
    "colab_type": "code",
    "id": "wej_bTGH-a7i"
   },
   "outputs": [],
   "source": [
    "from tqdm import tqdm"
   ]
  },
  {
   "cell_type": "code",
   "execution_count": 13,
   "metadata": {
    "colab": {
     "base_uri": "https://localhost:8080/",
     "height": 230
    },
    "colab_type": "code",
    "id": "xJspU6ZuGhRQ",
    "outputId": "625b516d-86a9-4fc7-af6c-55a2fa295d5a"
   },
   "outputs": [
    {
     "name": "stderr",
     "output_type": "stream",
     "text": [
      "100%|██████████| 100/100 [00:03<00:00, 27.36it/s]\n",
      "100%|██████████| 100/100 [00:03<00:00, 27.31it/s]\n",
      "100%|██████████| 100/100 [00:03<00:00, 27.56it/s]\n",
      "100%|██████████| 100/100 [00:03<00:00, 27.41it/s]\n",
      "100%|██████████| 100/100 [00:03<00:00, 26.95it/s]\n",
      "100%|██████████| 100/100 [00:03<00:00, 26.88it/s]"
     ]
    },
    {
     "name": "stdout",
     "output_type": "stream",
     "text": [
      "\n",
      "For Vanilla Update\n",
      "The minimum loss occurs at learning rate: 1\n",
      "The minimum loss is: 1.5296046505401837e-07\n",
      "The optimum weights are: [-0.02329032  0.01206154 -0.99947182 -0.99736016 -0.99587938  0.92122951\n",
      "  0.90342098  0.99990797  1.00276283]\n"
     ]
    },
    {
     "name": "stderr",
     "output_type": "stream",
     "text": [
      "\n"
     ]
    }
   ],
   "source": [
    "loss_final = []\n",
    "learning_rate = [0.0001,0.001,0.01,0.1,1,10]\n",
    "Weights_final = []\n",
    "\n",
    "for rate in learning_rate:\n",
    "  Weights = np.random.normal(0,0.01,9)\n",
    "  Weights_list = []\n",
    "  loss = []\n",
    "  for _ in tqdm(range(100)):\n",
    "    loss_=0 \n",
    "    for ii in range(len(X)):\n",
    "      W_gradients = []\n",
    "      FP_dict = forward_propagation(X[ii], y[ii], Weights)\n",
    "      W_gradients_dict = backward_propagation(X[ii], Weights, FP_dict)\n",
    "      loss_ += FP_dict['loss']\n",
    "      for key in W_gradients_dict:\n",
    "        W_gradients.append(W_gradients_dict[key])\n",
    "      for i in range(len(Weights)):\n",
    "        Weights[i] = Weights[i] - (rate*W_gradients[i])\n",
    "    \n",
    "    Weights_list.append(Weights)\n",
    "    loss.append(loss_/len(X))\n",
    "  loss_np = np.asarray(loss)\n",
    "  min_pos = np.argmin(loss_np)\n",
    "  loss_final.append(loss[min_pos])\n",
    "  Weights_final.append(Weights_list[min_pos])\n",
    "\n",
    "print('\\nFor Vanilla Update')\n",
    "lossf_np = np.asarray(loss_final)\n",
    "min_pos = np.argmin(lossf_np)\n",
    "print('The minimum loss occurs at learning rate:', learning_rate[min_pos])\n",
    "print('The minimum loss is:', loss_final[min_pos])\n",
    "print('The optimum weights are:', Weights_final[min_pos])"
   ]
  },
  {
   "cell_type": "code",
   "execution_count": 14,
   "metadata": {
    "colab": {
     "base_uri": "https://localhost:8080/",
     "height": 123
    },
    "colab_type": "code",
    "id": "ew5l8rUi8QdZ",
    "outputId": "723b48a7-0288-4086-9619-0a36bc2287f9"
   },
   "outputs": [
    {
     "data": {
      "text/plain": [
       "[0.03128405949215831,\n",
       " 0.025981444766006712,\n",
       " 0.0002352382884876722,\n",
       " 1.8476094577989234e-06,\n",
       " 1.5296046505401837e-07,\n",
       " 0.6393551474445257]"
      ]
     },
     "execution_count": 14,
     "metadata": {
      "tags": []
     },
     "output_type": "execute_result"
    }
   ],
   "source": [
    "loss_final"
   ]
  },
  {
   "cell_type": "markdown",
   "metadata": {
    "colab_type": "text",
    "id": "UlTLXrvmlR26"
   },
   "source": [
    "<font color='blue'>Plot between epochs and loss</font>"
   ]
  },
  {
   "cell_type": "code",
   "execution_count": 26,
   "metadata": {
    "colab": {
     "base_uri": "https://localhost:8080/",
     "height": 638
    },
    "colab_type": "code",
    "id": "CjTCVUIoGhTo",
    "outputId": "a7cd585e-766f-43c9-986e-95e43814ecde"
   },
   "outputs": [
    {
     "name": "stderr",
     "output_type": "stream",
     "text": [
      "100%|██████████| 100/100 [00:03<00:00, 25.41it/s]\n"
     ]
    },
    {
     "data": {
      "image/png": "[encoded data removed]",
      "text/plain": [
       "<Figure size 1440x720 with 1 Axes>"
      ]
     },
     "metadata": {
      "needs_background": "light",
      "tags": []
     },
     "output_type": "display_data"
    }
   ],
   "source": [
    "import warnings\n",
    "warnings.filterwarnings(\"ignore\")\n",
    "\n",
    "loss_final = []\n",
    "learning_rate = [1]\n",
    "Weights_final = []\n",
    "\n",
    "for rate in learning_rate:\n",
    "  Weights = np.random.normal(0,0.01,9)\n",
    "  Weights_list = []\n",
    "  loss = []\n",
    "  for _ in tqdm(range(100)):\n",
    "    loss_=0 \n",
    "    for ii in range(len(X)):\n",
    "      W_gradients = []\n",
    "      FP_dict = forward_propagation(X[ii], y[ii], Weights)\n",
    "      W_gradients_dict = backward_propagation(X[ii], Weights, FP_dict)\n",
    "      loss_ += FP_dict['loss']\n",
    "      for key in W_gradients_dict:\n",
    "        W_gradients.append(W_gradients_dict[key])\n",
    "      Weights_list.append(Weights)\n",
    "      for i in range(len(Weights)):\n",
    "        Weights[i] = Weights[i] - (rate*W_gradients[i])\n",
    "    \n",
    "    loss.append(loss_/len(X))\n",
    "  loss_np = np.asarray(loss)\n",
    "  min_pos = np.argmin(loss_np)\n",
    "  loss_final.append(loss[min_pos])\n",
    "  Weights_final.append(Weights_list[min_pos])\n",
    "\n",
    "import matplotlib.pyplot as plt\n",
    "%matplotlib inline\n",
    "plt.figure(figsize=(20,10))\n",
    "plt.plot(range(100),loss)\n",
    "plt.xlabel('Epoch number')\n",
    "plt.ylabel('loss')\n",
    "plt.title('Epoch vs loss for train data')\n",
    "plt.show()\n"
   ]
  },
  {
   "cell_type": "markdown",
   "metadata": {
    "colab_type": "text",
    "id": "cv_hZFWalS2z"
   },
   "source": [
    "### <font color='blue'>Algorithm with momentum update of weights</font>\n",
    "\n"
   ]
  },
  {
   "cell_type": "code",
   "execution_count": 23,
   "metadata": {
    "colab": {
     "base_uri": "https://localhost:8080/",
     "height": 212
    },
    "colab_type": "code",
    "id": "jNFMEnjaAlyM",
    "outputId": "77a32d0d-a597-4ffc-fefe-86afbc2e11ec"
   },
   "outputs": [
    {
     "name": "stderr",
     "output_type": "stream",
     "text": [
      "100%|██████████| 100/100 [00:04<00:00, 23.80it/s]\n",
      "100%|██████████| 100/100 [00:04<00:00, 24.15it/s]\n",
      "100%|██████████| 100/100 [00:04<00:00, 24.22it/s]\n",
      "100%|██████████| 100/100 [00:04<00:00, 24.24it/s]\n",
      "100%|██████████| 100/100 [00:04<00:00, 23.53it/s]"
     ]
    },
    {
     "name": "stdout",
     "output_type": "stream",
     "text": [
      "\n",
      "For Momentum Update\n",
      "The minimum loss occurs at learning rate: 0.01\n",
      "The minimum loss is: 2.3972670678697625e-07\n",
      "The optimum weights are: [ 0.00473384 -0.00559503 -1.00142045 -0.99041021 -0.98569042  0.74254979\n",
      "  0.63979092  1.00252298  1.00980661]\n"
     ]
    },
    {
     "name": "stderr",
     "output_type": "stream",
     "text": [
      "\n"
     ]
    }
   ],
   "source": [
    "loss_final = []\n",
    "learning_rate = [0.0001,0.001,0.01,0.1,1]\n",
    "Weights_final = []\n",
    "\n",
    "for rate in learning_rate:\n",
    "  Weights = np.random.normal(0,0.01,9)\n",
    "  Weights_list = []\n",
    "  loss = []\n",
    "  v=np.zeros(9)\n",
    "  for _ in tqdm(range(100)):\n",
    "    loss_=0 \n",
    "    for ii in range(len(X)):\n",
    "      W_gradients = []\n",
    "      FP_dict = forward_propagation(X[ii], y[ii], Weights)\n",
    "      W_gradients_dict = backward_propagation(X[ii], Weights, FP_dict)\n",
    "      loss_ += FP_dict['loss']\n",
    "      for key in W_gradients_dict:\n",
    "        W_gradients.append(W_gradients_dict[key])\n",
    "      for i in range(len(Weights)):\n",
    "        v[i] = (0.9*v[i]) - (rate*W_gradients[i])\n",
    "        Weights[i] += v[i]\n",
    "\n",
    "    Weights_list.append(Weights)\n",
    "    loss.append(loss_/len(X))\n",
    "  loss_np = np.asarray(loss)\n",
    "  min_pos = np.argmin(loss_np)\n",
    "  loss_final.append(loss[min_pos])\n",
    "  Weights_final.append(Weights_list[min_pos])\n",
    "\n",
    "\n",
    "print('\\nFor Momentum Update')\n",
    "lossf_np = np.asarray(loss_final)\n",
    "min_pos = np.argmin(lossf_np)\n",
    "print('The minimum loss occurs at learning rate:', learning_rate[min_pos])\n",
    "print('The minimum loss is:', loss_final[min_pos])\n",
    "print('The optimum weights are:', Weights_final[min_pos])"
   ]
  },
  {
   "cell_type": "markdown",
   "metadata": {
    "colab_type": "text",
    "id": "Ow20azfKlVhn"
   },
   "source": [
    "<font color='blue'>Plot between epochs and loss</font>"
   ]
  },
  {
   "cell_type": "code",
   "execution_count": 27,
   "metadata": {
    "colab": {
     "base_uri": "https://localhost:8080/",
     "height": 638
    },
    "colab_type": "code",
    "id": "tpwSzkdYqVEH",
    "outputId": "97c213ab-c7f4-47ee-a095-c1e1157ba4d2"
   },
   "outputs": [
    {
     "name": "stderr",
     "output_type": "stream",
     "text": [
      "100%|██████████| 100/100 [00:04<00:00, 23.12it/s]\n"
     ]
    },
    {
     "data": {
      "image/png": "[encoded data removed]",
      "text/plain": [
       "<Figure size 1440x720 with 1 Axes>"
      ]
     },
     "metadata": {
      "needs_background": "light",
      "tags": []
     },
     "output_type": "display_data"
    }
   ],
   "source": [
    "import warnings\n",
    "warnings.filterwarnings(\"ignore\")\n",
    "\n",
    "loss_final = []\n",
    "learning_rate = [0.01]\n",
    "Weights_final = []\n",
    "\n",
    "for rate in learning_rate:\n",
    "  Weights = np.random.normal(0,0.01,9)\n",
    "  Weights_list = []\n",
    "  loss = []\n",
    "  v=np.zeros(9)\n",
    "  for _ in tqdm(range(100)):\n",
    "    loss_=0 \n",
    "    for ii in range(len(X)):\n",
    "      W_gradients = []\n",
    "      FP_dict = forward_propagation(X[ii], y[ii], Weights)\n",
    "      W_gradients_dict = backward_propagation(X[ii], Weights, FP_dict)\n",
    "      loss_ += FP_dict['loss']\n",
    "      for key in W_gradients_dict:\n",
    "        W_gradients.append(W_gradients_dict[key])\n",
    "      for i in range(len(Weights)):\n",
    "        v[i] = (0.9*v[i]) - (rate*W_gradients[i])\n",
    "        Weights[i] += v[i]\n",
    "\n",
    "    Weights_list.append(Weights)\n",
    "    loss.append(loss_/len(X))\n",
    "  loss_np = np.asarray(loss)\n",
    "  min_pos = np.argmin(loss_np)\n",
    "  loss_final.append(loss[min_pos])\n",
    "  Weights_final.append(Weights_list[min_pos])\n",
    "\n",
    "import matplotlib.pyplot as plt\n",
    "%matplotlib inline\n",
    "plt.figure(figsize=(20,10))\n",
    "plt.plot(range(100),loss)\n",
    "plt.xlabel('Epoch number')\n",
    "plt.ylabel('loss')\n",
    "plt.title('Epoch vs loss for train data')\n",
    "plt.show();\n"
   ]
  },
  {
   "cell_type": "markdown",
   "metadata": {
    "colab_type": "text",
    "id": "V4RWWrZ7lWap"
   },
   "source": [
    "### <font color='blue'>Algorithm with Adam update of weights</font>"
   ]
  },
  {
   "cell_type": "code",
   "execution_count": 28,
   "metadata": {
    "colab": {
     "base_uri": "https://localhost:8080/",
     "height": 194
    },
    "colab_type": "code",
    "id": "72rRC8rJGhf5",
    "outputId": "c8853219-3670-42f7-85b4-a4acc2871e7e"
   },
   "outputs": [
    {
     "name": "stderr",
     "output_type": "stream",
     "text": [
      "100%|██████████| 100/100 [00:05<00:00, 19.11it/s]\n",
      "100%|██████████| 100/100 [00:05<00:00, 19.19it/s]\n",
      "100%|██████████| 100/100 [00:05<00:00, 19.32it/s]\n",
      "100%|██████████| 100/100 [00:05<00:00, 18.46it/s]"
     ]
    },
    {
     "name": "stdout",
     "output_type": "stream",
     "text": [
      "\n",
      "For Adam update\n",
      "The minimum loss occurs at learning rate: 0.0001\n",
      "The minimum loss is: 1.6481845339961082e-08\n",
      "The optimum weights are: [-0.74829967 -0.74946971  0.99999896  0.9988696   0.99956451  1.03731408\n",
      "  0.92782512  1.00005467  0.99971796]\n"
     ]
    },
    {
     "name": "stderr",
     "output_type": "stream",
     "text": [
      "\n"
     ]
    }
   ],
   "source": [
    "import math\n",
    "\n",
    "loss_final = []\n",
    "learning_rate = [0.0001,0.001,0.01,0.1]\n",
    "Weights_final = []\n",
    "\n",
    "for rate in learning_rate:\n",
    "  Weights = np.random.normal(0,0.01,9)\n",
    "  Weights_list = []\n",
    "  loss = []\n",
    "  v=np.zeros(9)\n",
    "  m = np.zeros(9)\n",
    "  for _ in tqdm(range(100)):\n",
    "    loss_=0 \n",
    "    for ii in range(len(X)):\n",
    "      W_gradients = []\n",
    "      FP_dict = forward_propagation(X[ii], y[ii], Weights)\n",
    "      W_gradients_dict = backward_propagation(X[ii], Weights, FP_dict)\n",
    "      loss_ += FP_dict['loss']\n",
    "      for key in W_gradients_dict:\n",
    "        W_gradients.append(W_gradients_dict[key])\n",
    "      for i in range(len(Weights)):\n",
    "        m[i] = (0.9*m[i]) + (0.1*W_gradients[i])\n",
    "        v[i] = (0.999*v[i]) + (0.001*(W_gradients[i]**2))\n",
    "        Weights[i] = Weights[i] - ((rate*m[i])/(math.sqrt(v[i])+0.00000001))\n",
    "\n",
    "    Weights_list.append(Weights)\n",
    "    loss.append(loss_/len(X))\n",
    "  loss_np = np.asarray(loss)\n",
    "  min_pos = np.argmin(loss_np)\n",
    "  loss_final.append(loss[min_pos])\n",
    "  Weights_final.append(Weights_list[min_pos])\n",
    "\n",
    "\n",
    "print('\\nFor Adam update')\n",
    "lossf_np = np.asarray(loss_final)\n",
    "min_pos = np.argmin(lossf_np)\n",
    "print('The minimum loss occurs at learning rate:', learning_rate[min_pos])\n",
    "print('The minimum loss is:', loss_final[min_pos])\n",
    "print('The optimum weights are:', Weights_final[min_pos])"
   ]
  },
  {
   "cell_type": "markdown",
   "metadata": {
    "colab_type": "text",
    "id": "MMy0nBw-lXml"
   },
   "source": [
    "<font color='blue'>Plot between epochs and loss</font>"
   ]
  },
  {
   "cell_type": "code",
   "execution_count": 30,
   "metadata": {
    "colab": {
     "base_uri": "https://localhost:8080/",
     "height": 638
    },
    "colab_type": "code",
    "id": "aiFRk_uFlm2V",
    "outputId": "337d4e2e-2c00-44fd-b688-5bc37ffdb45e"
   },
   "outputs": [
    {
     "name": "stderr",
     "output_type": "stream",
     "text": [
      "100%|██████████| 100/100 [00:05<00:00, 19.49it/s]\n"
     ]
    },
    {
     "data": {
      "image/png": "[encoded data removed]",
      "text/plain": [
       "<Figure size 1440x720 with 1 Axes>"
      ]
     },
     "metadata": {
      "needs_background": "light",
      "tags": []
     },
     "output_type": "display_data"
    }
   ],
   "source": [
    "import math\n",
    "\n",
    "loss_final = []\n",
    "learning_rate = [0.0001]\n",
    "Weights_final = []\n",
    "\n",
    "for rate in learning_rate:\n",
    "  Weights = np.random.normal(0,0.01,9)\n",
    "  Weights_list = []\n",
    "  loss = []\n",
    "  v=np.zeros(9)\n",
    "  m = np.zeros(9)\n",
    "  for _ in tqdm(range(100)):\n",
    "    loss_=0 \n",
    "    for ii in range(len(X)):\n",
    "      W_gradients = []\n",
    "      FP_dict = forward_propagation(X[ii], y[ii], Weights)\n",
    "      W_gradients_dict = backward_propagation(X[ii], Weights, FP_dict)\n",
    "      loss_ += FP_dict['loss']\n",
    "      for key in W_gradients_dict:\n",
    "        W_gradients.append(W_gradients_dict[key])\n",
    "      for i in range(len(Weights)):\n",
    "        m[i] = (0.9*m[i]) + (0.1*W_gradients[i])\n",
    "        v[i] = (0.999*v[i]) + (0.001*(W_gradients[i]**2))\n",
    "        Weights[i] = Weights[i] - ((rate*m[i])/(math.sqrt(v[i])+0.00000001))\n",
    "\n",
    "    Weights_list.append(Weights)\n",
    "    loss.append(loss_/len(X))\n",
    "  loss_np = np.asarray(loss)\n",
    "  min_pos = np.argmin(loss_np)\n",
    "  loss_final.append(loss[min_pos])\n",
    "  Weights_final.append(Weights_list[min_pos])\n",
    "\n",
    "import matplotlib.pyplot as plt\n",
    "%matplotlib inline\n",
    "plt.figure(figsize=(20,10))\n",
    "plt.plot(range(100),loss)\n",
    "plt.xlabel('Epoch number')\n",
    "plt.ylabel('loss')\n",
    "plt.title('Epoch vs loss for train data')\n",
    "plt.show();\n"
   ]
  },
  {
   "cell_type": "markdown",
   "metadata": {
    "colab_type": "text",
    "id": "7627cy8YlnYO"
   },
   "source": [
    "<font color='blue'>Comparision plot between epochs and loss with different optimizers</font>"
   ]
  },
  {
   "cell_type": "code",
   "execution_count": 31,
   "metadata": {
    "colab": {
     "base_uri": "https://localhost:8080/",
     "height": 123
    },
    "colab_type": "code",
    "id": "scleSfIXl_bC",
    "outputId": "202f06cf-8260-4c0c-8959-324a2fe2e4ba"
   },
   "outputs": [
    {
     "name": "stderr",
     "output_type": "stream",
     "text": [
      "100%|██████████| 100/100 [00:13<00:00,  7.60it/s]\n",
      "100%|██████████| 100/100 [00:13<00:00,  7.66it/s]\n",
      "100%|██████████| 100/100 [00:13<00:00,  7.32it/s]\n"
     ]
    },
    {
     "data": {
      "text/plain": [
       "<Figure size 1440x720 with 0 Axes>"
      ]
     },
     "metadata": {
      "tags": []
     },
     "output_type": "display_data"
    },
    {
     "data": {
      "text/plain": [
       "<Figure size 1440x720 with 0 Axes>"
      ]
     },
     "metadata": {
      "tags": []
     },
     "output_type": "display_data"
    },
    {
     "data": {
      "text/plain": [
       "<Figure size 1440x720 with 0 Axes>"
      ]
     },
     "metadata": {
      "tags": []
     },
     "output_type": "display_data"
    }
   ],
   "source": [
    "import matplotlib.pyplot as plt\n",
    "%matplotlib inline\n",
    "\n",
    "import warnings\n",
    "warnings.filterwarnings(\"ignore\")\n",
    "\n",
    "learning_rate = [0.0001,0.01,1]\n",
    "y1=[]\n",
    "y2=[]\n",
    "y3=[]\n",
    "\n",
    "for rate in range(len(learning_rate)):\n",
    "  list_of_losses=[]\n",
    "  Weights_vanilla = np.random.normal(0,0.01,9)\n",
    "  Weights_momentum = np.random.normal(0,0.01,9)\n",
    "  Weights_adam = np.random.normal(0,0.01,9)\n",
    "  loss_vanilla = []\n",
    "  loss_momentum = []\n",
    "  loss_adam = []\n",
    "  v_momentum = np.zeros(9)\n",
    "  v_adam = np.zeros(9)\n",
    "  m_adam = np.zeros(9)\n",
    "  for _ in tqdm(range(100)):\n",
    "    loss_vanilla_=0\n",
    "    loss_momentum_=0\n",
    "    loss_adam_=0 \n",
    "    for ii in range(len(X)):\n",
    "      #Vanilla\n",
    "      W_gradients_vanilla = []\n",
    "      FP_dict_vanilla = forward_propagation(X[ii], y[ii], Weights_vanilla)\n",
    "      W_gradients_dict_vanilla = backward_propagation(X[ii], Weights_vanilla, FP_dict_vanilla)\n",
    "      loss_vanilla_ += FP_dict_vanilla['loss']\n",
    "      for key in W_gradients_dict_vanilla:\n",
    "        W_gradients_vanilla.append(W_gradients_dict_vanilla[key])\n",
    "      for i in range(len(Weights_vanilla)):\n",
    "        Weights_vanilla[i] = Weights_vanilla[i] - (learning_rate[rate]*W_gradients_vanilla[i])\n",
    "      #Momentum\n",
    "      W_gradients_momentum = []\n",
    "      FP_dict_momentum = forward_propagation(X[ii], y[ii], Weights_momentum)\n",
    "      W_gradients_dict_momentum = backward_propagation(X[ii], Weights_momentum, FP_dict_momentum)\n",
    "      loss_momentum_ += FP_dict_momentum['loss']\n",
    "      for key in W_gradients_dict_momentum:\n",
    "        W_gradients_momentum.append(W_gradients_dict_momentum[key])\n",
    "      for i in range(len(Weights_momentum)):\n",
    "        v_momentum[i] = (0.9*v_momentum[i]) - (learning_rate[rate]*W_gradients_momentum[i])\n",
    "        Weights_momentum[i] += v_momentum[i]\n",
    "      #Adam\n",
    "      W_gradients_adam = []\n",
    "      FP_dict_adam = forward_propagation(X[ii], y[ii], Weights_adam)\n",
    "      W_gradients_dict_adam = backward_propagation(X[ii], Weights_adam, FP_dict_adam)\n",
    "      loss_adam_ += FP_dict_adam['loss']\n",
    "      for key in W_gradients_dict_adam:\n",
    "        W_gradients_adam.append(W_gradients_dict_adam[key])\n",
    "      for i in range(len(Weights_adam)):\n",
    "        m_adam[i] = (0.9*m_adam[i]) + (0.1*W_gradients_adam[i])\n",
    "        v_adam[i] = (0.999*v_adam[i]) + (0.001*(W_gradients_adam[i]**2))\n",
    "        Weights_adam[i] = Weights_adam[i] - ((learning_rate[rate]*m_adam[i])/(math.sqrt(v_adam[i])+0.00000001))\n",
    "    \n",
    "    loss_vanilla.append(loss_vanilla_/len(X))\n",
    "    loss_momentum.append(loss_momentum_/len(X))\n",
    "    loss_adam.append(loss_adam_/len(X))\n",
    "  \n",
    "  plt.figure(figsize=(20,10))\n",
    "\n",
    "  x=range(100)\n",
    "  y1.append(loss_vanilla)\n",
    "  y2.append(loss_momentum)\n",
    "  y3.append(loss_adam)"
   ]
  },
  {
   "cell_type": "code",
   "execution_count": 33,
   "metadata": {
    "colab": {
     "base_uri": "https://localhost:8080/",
     "height": 350
    },
    "colab_type": "code",
    "id": "tKBmJ3p5d0lv",
    "outputId": "e7e592d1-ebe7-40ea-8bdd-54f5e7739e1c"
   },
   "outputs": [
    {
     "data": {
      "image/png": "[encoded data removed]",
      "text/plain": [
       "<Figure size 1440x360 with 3 Axes>"
      ]
     },
     "metadata": {
      "needs_background": "light",
      "tags": []
     },
     "output_type": "display_data"
    }
   ],
   "source": [
    "plt.figure(figsize=(20,5))\n",
    "for i in range(3):\n",
    "  plt.subplot(1,3,i+1)\n",
    "  plt.plot(x,y1[i])\n",
    "  plt.plot(x,y2[i])\n",
    "  plt.plot(x,y3[i])\n",
    "  plt.legend(['Vanilla update', 'Momentum update','Adam update'])\n",
    "  plt.xlabel('Epoch number')\n",
    "  plt.ylabel('loss')\n",
    "  plt.title(('Epoch vs loss for train data for learning rate:',learning_rate[i]))\n",
    "\n",
    "plt.show()"
   ]
  },
  {
   "cell_type": "code",
   "execution_count": 0,
   "metadata": {
    "colab": {},
    "colab_type": "code",
    "id": "ZEh0v-J_O9p1"
   },
   "outputs": [],
   "source": [
    "#vanilla update works well with learning rate = 1\n",
    "#Momentum update works well with learning rate = 0.01\n",
    "#adam update works well with learning rate = 0.0001"
   ]
  }
 ],
 "metadata": {
  "colab": {
   "collapsed_sections": [],
   "name": "Backpropagation_assignment.ipynb",
   "provenance": []
  },
  "kernelspec": {
   "display_name": "Python 3 (ipykernel)",
   "language": "python",
   "name": "python3"
  },
  "language_info": {
   "codemirror_mode": {
    "name": "ipython",
    "version": 3
   },
   "file_extension": ".py",
   "mimetype": "text/x-python",
   "name": "python",
   "nbconvert_exporter": "python",
   "pygments_lexer": "ipython3",
   "version": "3.10.9"
  }
 },
 "nbformat": 4,
 "nbformat_minor": 1
}
