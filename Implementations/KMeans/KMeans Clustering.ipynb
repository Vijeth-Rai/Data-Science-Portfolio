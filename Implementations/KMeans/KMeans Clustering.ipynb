{
 "cells": [
  {
   "cell_type": "markdown",
   "metadata": {
    "tags": []
   },
   "source": [
    "# Coursework 2: k-means clustering\n"
   ]
  },
  {
   "cell_type": "markdown",
   "metadata": {
    "tags": []
   },
   "source": [
    "# Task 1: Prepare two test datasets\n"
   ]
  },
  {
   "cell_type": "markdown",
   "metadata": {
    "tags": []
   },
   "source": [
    "## Task 1: Part 1: K-means clustering pen & paper Dataset:\n",
    "\n",
    "I am comfortable with writing equation and explanations in markdown so I will finish the pen & paper part here.\n",
    "\n",
    "### What is K-means clustering?\n",
    "&emsp; &emsp; It is a technique used to group similar datapoints together. It creates 'K' clusters on datapoints of size n, $$K < n$$.\n",
    "\n",
    "Suppose we have 9 2D points as below which are to be grouped into 3 clusters\n",
    "\n",
    "$$A_1 = (2,9)$$\n",
    "$$A_2 = (2,2)$$\n",
    "$$A_3 = (8,4)$$\n",
    "$$A_4 = (3,8)$$\n",
    "$$A_5 = (7,5)$$\n",
    "$$A_6 = (4,9)$$\n",
    "$$A_7 = (9,4)$$\n",
    "$$A_8 = (1,3)$$\n",
    "$$A_9 = (2,3)$$"
   ]
  },
  {
   "cell_type": "markdown",
   "metadata": {
    "tags": []
   },
   "source": [
    "## Task 1: Part 2: Creating fresh dataset \n",
    "\n",
    "1. The dataset that I will create will have 200x2 dimensions. This is made possible with the use of sklearn.dataset.make_blobs. Read https://scikit-learn.org/stable/modules/generated/sklearn.datasets.make_blobs.html for details.\n",
    "2. The dataset is supposed to have 4 clusters.\n",
    "3. The dataset has only 2 dimensions because I dont want to dive deep into clustering and dimension reduction concept for a simple task.\n",
    "\n",
    "\n",
    "### Why is my small dataset suitable for k-means clustering? \n",
    "1. When small dataset implies low dimensions:\n",
    "<br>&emsp;&emsp;K-means is literally finding k-centroids. Since centroids exist in euclidean geometry, the concept of distance when dimensions increase is lost. This is called the curse of dimensionality which render k-means useless in high dimensions. This issue can be solved using dimensionality reduction techniques on the dataset (which is overkill for this simple task).<br><br>\n",
    "2. When small dataset implies less inputs:\n",
    "<br>&emsp;&emsp; The time complexity for k-means is $O(n^2)$. The space complexity isnt going to be an issue unless the data is ginormous, since the notebook runs on a 12GB memory. I prefer the notebook to finish executing fast and also, I am satisfied with the size of data which anyway has 33% more datapoints than the recommended iris dataset. \n",
    "\n",
    "\n",
    "This answers why I chose 200x2 size of dataset"
   ]
  },
  {
   "cell_type": "code",
   "execution_count": 1,
   "metadata": {},
   "outputs": [],
   "source": [
    "#I want to create my own dataset for k-means clustering\n",
    "from sklearn.datasets import make_blobs\n",
    "import matplotlib.pyplot as plt\n",
    "import pandas as pd\n",
    "\n",
    "#creating dataset of clusters with only 2 dimensions for easier maths understanding\n",
    "features, clusters = make_blobs(n_samples = 2000, \n",
    "                                n_features = 2, \n",
    "                                centers = 4,\n",
    "                                cluster_std = 0.4,\n",
    "                                shuffle = False,\n",
    "                                random_state = 4)\n",
    "\n",
    "#visualizing the created clustered dataset\n",
    "#plt.scatter(features[:,0], features[:,1])\n",
    "#plt.xlabel('Feature 1')\n",
    "#plt.ylabel('Feature 2')\n",
    "#plt.title('Clustered dataset created')\n",
    "#plt.show()\n"
   ]
  },
  {
   "cell_type": "markdown",
   "metadata": {},
   "source": [
    "## Task 2: Apply k-means clustering on paper"
   ]
  },
  {
   "cell_type": "markdown",
   "metadata": {
    "tags": []
   },
   "source": [
    "From Task 1: Part 1: \n",
    "<br>Since we know $k = 3$, we need to find 3 centroids for the above datapoints. These 3 centroids can be found by following below steps.\n",
    "\n",
    "#### Step 1: Random initialization of 'K' centroids.\n",
    "Here we randomly pick any 3 datapoints and assign them as our initial centroids. In our example case, let us consider the below 3 points as the initial centroids.\n",
    "$$A_1, A_5, A_9$$\n",
    "\n",
    "#### Step 2: Assignment of all the remaining points.\n",
    "In this step, for all remaining points in the dataset, we will calculate its distance from all the assigned centroids. We shall use squared Euclidean distance to measure the distance since data is 2D.\n",
    "\n",
    "<center><input type=\"image\" src=\"eq S.svg\"></center>\n",
    "\n",
    "The above equation says, if a point $x_p$ is closest to the centroid $m_i$ than all other centroids $m_j$, then $x_p$ belongs to the subset $S_i$\n",
    "\n",
    "$$ A_1 \\in S_1$$ $$A_5 \\in S_2$$ $$ A_9 \\in S_3$$\n"
   ]
  },
  {
   "cell_type": "markdown",
   "metadata": {},
   "source": [
    "Let us take the point $A_2$.\n",
    "$$|A_2 - A_1| = \\sqrt{(2-2)^2 + (2-9)^2}$$<br>\n",
    "$$ = \\sqrt{0 + (-7)^2}$$<br>\n",
    "$$ = \\sqrt{49}$$<br>\n",
    "$$= 7 $$\n",
    "\n",
    "$$|A_2 - A_5| = \\sqrt{(2-7)^2 + (2-5)^2}$$<br>\n",
    "$$= \\sqrt{(-5)^2 + (-3)^2}$$<br>\n",
    "$$ = \\sqrt{25+9}$$<br>\n",
    "$$ = \\sqrt{34}$$<br>\n",
    "$$ = 5.8$$\n",
    "\n",
    "$$|A_2 - A_9| = \\sqrt{(2-2)^2 + (2-3)^2}$$<br>\n",
    "$$ = \\sqrt{(-1)^2}$$<br>\n",
    "$$ = \\sqrt{1}$$<br>\n",
    "$$ = 1$$\n",
    "\n",
    "\n",
    "As we can observe, the point $A_2$ has the least squared Euclidean distance for the Centroid $A_9$. Hence, this point will belong to the subset $S_3$."
   ]
  },
  {
   "cell_type": "markdown",
   "metadata": {},
   "source": [
    "Let us take the point $A_3$.\n",
    "$$|A_3 - A_1| = \\sqrt{(8-2)^2 + (4-9)^2}$$<br>\n",
    "$$ = \\sqrt{(6)^2 + (-5)^2}$$<br>\n",
    "$$ = \\sqrt{36 + 25}$$<br>\n",
    "$$= 7.81 $$\n",
    "\n",
    "$$|A_3 - A_5| = \\sqrt{(8-7)^2 + (4-5)^2}$$<br>\n",
    "$$= \\sqrt{(1)^2 + (-1)^2}$$<br>\n",
    "$$ = \\sqrt{2}$$<br>\n",
    "$$ = 1.414$$\n",
    "\n",
    "$$|A_3 - A_9| = \\sqrt{(8-2)^2 + (4-3)^2}$$<br>\n",
    "$$ = \\sqrt{(6)^2 + 1^2}$$<br>\n",
    "$$ = \\sqrt{37}$$<br>\n",
    "$$ = 6.09$$\n",
    "\n",
    "\n",
    "As we can observe, the point $A_3$ has the least squared Euclidean distance for the Centroid $A_5$. Hence, this point will belong to the subset $S_2$."
   ]
  },
  {
   "cell_type": "markdown",
   "metadata": {},
   "source": [
    "Let us take the point $A_4$.\n",
    "$$|A_4 - A_1| = \\sqrt{(3-2)^2 + (8-9)^2}$$<br>\n",
    "$$ = \\sqrt{(1)^2 + (-1)^2}$$<br>\n",
    "$$ = \\sqrt{2}$$<br>\n",
    "$$= 1.414 $$\n",
    "\n",
    "$$|A_4 - A_5| = \\sqrt{(3-7)^2 + (8-5)^2}$$<br>\n",
    "$$= \\sqrt{(-4)^2 + (-3)^2}$$<br>\n",
    "$$ = \\sqrt{25}$$<br>\n",
    "$$ = 5$$\n",
    "\n",
    "$$|A_4 - A_9| = \\sqrt{(3-2)^2 + (8-3)^2}$$<br>\n",
    "$$ = \\sqrt{(1)^2 + 5^2}$$<br>\n",
    "$$ = \\sqrt{26}$$<br>\n",
    "$$ = 5.09$$\n",
    "\n",
    "\n",
    "As we can observe, the point $A_4$ has the least squared Euclidean distance for the Centroid $A_1$. Hence, this point will belong to the subset $S_1$."
   ]
  },
  {
   "cell_type": "markdown",
   "metadata": {},
   "source": [
    "Let us take the point $A_6$.\n",
    "$$|A_6 - A_1| = \\sqrt{(4-2)^2 + (9-9)^2}$$<br>\n",
    "$$ = \\sqrt{(2)^2 + (-0)^2}$$<br>\n",
    "$$ = \\sqrt{4}$$<br>\n",
    "$$= 2 $$\n",
    "\n",
    "$$|A_6 - A_5| = \\sqrt{(4-7)^2 + (9-5)^2}$$<br>\n",
    "$$= \\sqrt{(3)^2 + (4)^2}$$<br>\n",
    "$$ = \\sqrt{25}$$<br>\n",
    "$$ = 5$$\n",
    "\n",
    "$$|A_6 - A_9| = \\sqrt{(4-2)^2 + (9-3)^2}$$<br>\n",
    "$$ = \\sqrt{(2)^2 + 6^2}$$<br>\n",
    "$$ = \\sqrt{40}$$<br>\n",
    "$$ = 6.32$$\n",
    "\n",
    "\n",
    "As we can observe, the point $A_6$ has the least squared Euclidean distance for the Centroid $A_1$. Hence, this point will belong to the subset $S_2$."
   ]
  },
  {
   "cell_type": "markdown",
   "metadata": {},
   "source": [
    "Let us take the point $A_7$.\n",
    "$$|A_7 - A_1| = \\sqrt{(9-2)^2 + (4-9)^2}$$<br>\n",
    "$$ = \\sqrt{(7)^2 + (-5)^2}$$<br>\n",
    "$$ = \\sqrt{49 + 25}$$<br>\n",
    "$$= 8.60 $$\n",
    "\n",
    "$$|A_7 - A_5| = \\sqrt{(9-7)^2 + (4-5)^2}$$<br>\n",
    "$$= \\sqrt{(2)^2 + (-1)^2}$$<br>\n",
    "$$ = \\sqrt{2+1}$$<br>\n",
    "$$ = 1.73 $$\n",
    "\n",
    "$$|A_7 - A_9| = \\sqrt{(9-2)^2 + (4-3)^2}$$<br>\n",
    "$$ = \\sqrt{(7)^2 + 1^2}$$<br>\n",
    "$$ = \\sqrt{50}$$<br>\n",
    "$$ = 7.07 $$\n",
    "\n",
    "\n",
    "As we can observe, the point $A_7$ has the least squared Euclidean distance for the Centroid $A_5$. Hence, this point will belong to the subset $S_2$."
   ]
  },
  {
   "cell_type": "markdown",
   "metadata": {},
   "source": [
    "Let us take the point $A_8$.\n",
    "$$|A_8 - A_1| = \\sqrt{(1-2)^2 + (3-9)^2}$$<br>\n",
    "$$ = \\sqrt{(-1)^2 + (-6)^2}$$<br>\n",
    "$$ = \\sqrt{37}$$<br>\n",
    "$$= 6.08 $$\n",
    "\n",
    "$$|A_8 - A_5| = \\sqrt{(1-7)^2 + (3-5)^2}$$<br>\n",
    "$$= \\sqrt{(-6)^2 + (-2)^2}$$<br>\n",
    "$$ = \\sqrt{36+4}$$<br>\n",
    "$$ = 6.32$$\n",
    "\n",
    "$$|A_8 - A_9| = \\sqrt{(1-2)^2 + (3-3)^2}$$<br>\n",
    "$$ = \\sqrt{1}$$<br>\n",
    "$$ = 1$$\n",
    "\n",
    "\n",
    "As we can observe, the point $A_8$ has the least squared Euclidean distance for the Centroid $A_9$. Hence, this point will belong to the subset $S_3$."
   ]
  },
  {
   "cell_type": "markdown",
   "metadata": {},
   "source": [
    "We already know \n",
    "$$ A_1 \\in S_1 $$\n",
    "$$ A_5 \\in S_2$$\n",
    "$$ A_9 \\in S_3$$\n",
    "\n",
    "After calculating the distance of each point to the initial centroids, the result is\n",
    "\n",
    "$$A_1, A_4, A_6 \\in S_1$$\n",
    "$$A_3, A_5, A_7 \\in S_2$$\n",
    "$$A_2, A_8, A_9 \\in S_3$$"
   ]
  },
  {
   "cell_type": "markdown",
   "metadata": {},
   "source": [
    "#### Step 3:\n",
    "\n",
    "We have each point $x_i$ assigned to set $S_j$. Now, we recalculate and update all centroids $C_j$\n",
    "\n",
    "$$\\large C_j = \\sum\\limits_{i=0}^n\\frac{ x_i}{|S_j|}$$\n",
    "\n",
    "where $|S_j|$ is the number of points in the set $S_j$\n",
    "\n",
    "Using the above formula on subset 1, we have\n",
    "$$ C_1 = \\frac{(x_1 + x_4 + x_6),(y_1 + y_4 + y_6)}{|S_1|}$$<br>\n",
    "$$ = \\frac{(2 + 3 + 4),(9 + 8 + 9)}{3}$$<br>\n",
    "$$ = \\frac{(9 , 26)}{3}$$<br>\n",
    "$$ = (3 , 8.66)$$\n",
    "\n",
    "From above, we find that the updated centroid for subset $S_1$ is (3, 8.66). \n",
    "\n",
    "Similarly, I will get the values of updated centroids for $S_2$ and $S_3$.\n",
    "\n",
    "For subset 2, we have\n",
    "$$ C_2 = \\frac{(x_3 + x_5 + x_7),(y_3 + y_5 + y_7)}{|S_2|}$$<br>\n",
    "$$ = \\frac{(8 + 7 + 9),(4 + 5 + 4)}{3}$$<br>\n",
    "$$ = \\frac{(24 , 13)}{3}$$<br>\n",
    "$$ = (8 , 4.33)$$\n",
    "\n",
    "\n",
    "For subset 3, we have\n",
    "$$ C_3 = \\frac{(x_2 + x_8 + x_9),(y_2 + y_8 + y_9)}{|S_3|}$$<br>\n",
    "$$ = \\frac{(2 + 1 + 2),(2 + 3 + 3)}{3}$$<br>\n",
    "$$ = \\frac{(5 , 8)}{3}$$<br>\n",
    "$$ = (1.66 , 2.66)$$"
   ]
  },
  {
   "cell_type": "markdown",
   "metadata": {},
   "source": [
    "#### Step 4:\n",
    "\n",
    "Repeat step 2 and step 3 until convergence. This means that, after updation of centroid, we keep reiterating step 2 and step 3 with updated values of centroids until there is little to no change in the updated centroid (convergence). I will use code to reiterate over and over again instead of writing every single step.\n",
    "\n",
    "In our case, the updated centroids are \n",
    "$$\\large C_1 = ( 3 , 8.67 )$$<br>\n",
    "$$\\large C_2 = ( 8 , 4.33 )$$<br>\n",
    "$$\\large C_3 = ( 1.67 , 2.67 )$$<br>\n"
   ]
  },
  {
   "cell_type": "markdown",
   "metadata": {},
   "source": [
    "Recalculating the closest points to these updated centroids:\n",
    "We take each point from our datapoints and then find out which is the closest updated centroid to it.\n",
    "\n",
    "Let's consider the case for datapoint $A_1$:\n",
    "\n",
    "$$|C_1 - A_1| = \\sqrt{(3-2)^2+(8.67-9)^2}$$<br>\n",
    "$$ = \\sqrt{(1)^2+(0.33)^2}$$<br>\n",
    "$$ = \\sqrt{1.11}$$<br>\n",
    "$$ = 1.05$$<br>\n",
    "\n",
    "$$ |C_2 - A_1| = \\sqrt{(8-2)^2+(4.33-9)^2}$$<br>\n",
    "$$ = \\sqrt{(6)^2+(-4.67)^2}$$<br>\n",
    "$$ = \\sqrt{36+21.81}$$<br>\n",
    "$$ = \\sqrt{57.81}$$<br>\n",
    "$$ = 7.60$$<br>\n",
    "\n",
    "$$ |C_3 - A_1| = \\sqrt{(1.67-2)^2+(2.67-9)^2}$$<br>\n",
    "$$ = \\sqrt{(0.33)^2+(-6.33)^2}$$<br>\n",
    "$$ = \\sqrt{0.11+40.06}$$<br>\n",
    "$$ = \\sqrt{40.57}$$<br>\n",
    "$$ = 6.47$$<br>\n",
    "\n",
    "The datapoint $A_1$ is closest to the centroid C_1. \n",
    "\n",
    "Let's consider the case for datapoint $A_2$:\n",
    "\n",
    "$$ |C_1 - A_2| = \\sqrt{(3-2)^2+(8.67-2)^2}$$<br>\n",
    "$$ = \\sqrt{(1)^2+(6.67)^2}$$<br>\n",
    "$$ = \\sqrt{1+44.49}$$<br>\n",
    "$$ = \\sqrt{45.49}$$<br>\n",
    "$$ = 6.67$$<br>\n",
    "\n",
    "$$ |C_2 - A_2| = \\sqrt{(8-2)^2+(4.33-2)^2}$$<br>\n",
    "$$ = \\sqrt{(6)^2+(2.33)^2}$$<br>\n",
    "$$ = \\sqrt{36+5.43}$$<br>\n",
    "$$ = \\sqrt{41.43}$$<br>\n",
    "$$ = 6.45$$<br>\n",
    "\n",
    "$$ |C_3 - A_2| = \\sqrt{(1.67-2)^2+(2.67-2)^2}$$<br>\n",
    "$$ = \\sqrt{(0.33)^2+(0.67)^2}$$<br>\n",
    "$$ = \\sqrt{0.11+0.45}$$<br>\n",
    "$$ = \\sqrt{0.56}$$<br>\n",
    "$$ = 0.75$$<br>\n",
    "\n",
    "\n",
    "The datapoint $A_2$ is closest to the centroid C_3. \n",
    "\n",
    "Let's consider the case for datapoint $A_3$:\n",
    "\n",
    "$$ |C_1 - A_3| = \\sqrt{(3-8)^2+(8.67-4)^2}$$<br>\n",
    "$$ = \\sqrt{(-5)^2+(4.67)^2}$$<br>\n",
    "$$ = \\sqrt{25+21.81}$$<br>\n",
    "$$ = \\sqrt{46.81}$$<br>\n",
    "$$ = 6.84$$<br>\n",
    "\n",
    "$$ |C_2 - A_3| = \\sqrt{(8-8)^2+(4.33-4)^2}$$<br>\n",
    "$$ = \\sqrt{(0.33)^2}$$<br>\n",
    "$$ = \\sqrt{0.11}$$<br>\n",
    "$$ = 0.33$$<br>\n",
    "\n",
    "$$ |C_3 - A_3| = \\sqrt{(1.67-8)^2+(2.67-4)^2}$$<br>\n",
    "$$ = \\sqrt{(-6.33)^2+(-2.33)^2}$$<br>\n",
    "$$ = \\sqrt{40.06+5.43}$$<br>\n",
    "$$ = \\sqrt{45.49}$$<br>\n",
    "$$ = 6.75$$<br>\n",
    "\n",
    "The datapoint $A_3$ is closest to the centroid C_3. \n",
    "\n",
    "Let's consider the case for datapoint $A_4$:\n",
    "\n",
    "$$ |C_1 - A_4| = \\sqrt{(3-4)^2+(8.67-8)^2}$$<br>\n",
    "$$ = \\sqrt{(-1)^2+(0.33)^2}$$<br>\n",
    "$$ = \\sqrt{1+0.44}$$<br>\n",
    "$$ = \\sqrt{1.44}$$<br>\n",
    "$$ = 1.2$$<br>\n",
    "\n",
    "$$ |C_2 - A_4| = \\sqrt{(8-3)^2+(4.33-8)^2}$$<br>\n",
    "$$ = \\sqrt{(5)^2+(-3.67)^2}$$<br>\n",
    "$$ = \\sqrt{25+13.46}$$<br>\n",
    "$$ = \\sqrt{38.46}$$<br>\n",
    "$$ = 6.23$$<br>\n",
    "\n",
    "$$ |C_3 - A_4| = \\sqrt{(1.67-3)^2+(2.67-8)^2}$$<br>\n",
    "$$ = \\sqrt{(-1.33)^2+(-5.33)^2}$$<br>\n",
    "$$ = \\sqrt{1.76+28.40}$$<br>\n",
    "$$ = \\sqrt{30.16}$$<br>\n",
    "$$ = 5.49$$<br>\n",
    "\n",
    "The datapoint $A_4$ is closest to the centroid C_1. \n",
    "\n",
    "Let's consider the case for datapoint $A_5$:\n",
    "\n",
    "$$ |C_1 - A_5| = \\sqrt{(3-7)^2+(8.67-5)^2}$$<br>\n",
    "$$ = \\sqrt{(-4)^2+(3.67)^2}$$<br>\n",
    "$$ = \\sqrt{16+13.47}$$<br>\n",
    "$$ = \\sqrt{29.47}$$<br>\n",
    "$$ = 5.43$$<br>\n",
    "\n",
    "$$ |C_2 - A_5| = \\sqrt{(8-7)^2+(4.33-5)^2}$$<br>\n",
    "$$ = \\sqrt{(1)^2+(-0.67)^2}$$<br>\n",
    "$$ = \\sqrt{1+0.45}$$<br>\n",
    "$$ = \\sqrt{1.45}$$<br>\n",
    "$$ = 1.20$$<br>\n",
    "\n",
    "$$ |C_3 - A_5| = \\sqrt{(1.67-7)^2+(2.67-5)^2}$$<br>\n",
    "$$ = \\sqrt{(-5.33)^2+(-2.33)^2}$$<br>\n",
    "$$ = \\sqrt{28.40+5.43}$$<br>\n",
    "$$ = \\sqrt{33.83}$$<br>\n",
    "$$ = 5.81$$<br>\n",
    "\n",
    "The datapoint $A_5$ is closest to the centroid C_2. \n",
    "\n",
    "Let's consider the case for datapoint $A_6$:\n",
    "\n",
    "$$ |C_1 - A_6| = \\sqrt{(3-4)^2+(8.67-9)^2}$$<br>\n",
    "$$ = \\sqrt{(-2)^2+(-0.33)^2}$$<br>\n",
    "$$ = \\sqrt{4+0.11}$$<br>\n",
    "$$ = \\sqrt{4.11}$$<br>\n",
    "$$ = 2.03$$<br>\n",
    "\n",
    "$$ |C_2 - A_6| = \\sqrt{(8-4)^2+(4.33-9)^2}$$<br>\n",
    "$$ = \\sqrt{(4)^2+(-4.67)^2}$$<br>\n",
    "$$ = \\sqrt{16+21.01}$$<br>\n",
    "$$ = \\sqrt{37.01}$$<br>\n",
    "$$ = 6.80$$<br>\n",
    "\n",
    "$$ |C_3 - A_6| = \\sqrt{(1.67-4)^2+(2.67-9)^2}$$<br>\n",
    "$$ = \\sqrt{(-5.33)^2+(-2.33)^2}$$<br>\n",
    "$$ = \\sqrt{28.40+5.43}$$<br>\n",
    "$$ = \\sqrt{33.83}$$<br>\n",
    "$$ = 5.81$$<br>\n",
    "\n",
    "The datapoint $A_6$ is closest to the centroid C_1. \n",
    "\n",
    "Let's consider the case for datapoint $A_7$:\n",
    "\n",
    "$$ |C_1 - A_7| = \\sqrt{(3-9)^2+(8.67-4)^2}$$<br>\n",
    "$$ = \\sqrt{(-6)^2+(4.67)^2}$$<br>\n",
    "$$ = \\sqrt{36+0.11}$$<br>\n",
    "$$ = \\sqrt{21.81}$$<br>\n",
    "$$ = 5.37$$<br>\n",
    "\n",
    "$$ |C_2 - A_7| = \\sqrt{(8-9)^2+(4.33-4)^2}$$<br>\n",
    "$$ = \\sqrt{(-1)^2+(0.33)^2}$$<br>\n",
    "$$ = \\sqrt{1+0.11}$$<br>\n",
    "$$ = \\sqrt{1.11}$$<br>\n",
    "$$ = 1.05$$<br>\n",
    "\n",
    "$$ |C_3 - A_7| = \\sqrt{(1.67-9)^2+(2.67-4)^2}$$<br>\n",
    "$$ = \\sqrt{(-7.33)^2+(-1.33)^2}$$<br>\n",
    "$$ = \\sqrt{53.73+1.77}$$<br>\n",
    "$$ = \\sqrt{55.5}$$<br>\n",
    "$$ = 7.41$$<br>\n",
    "\n",
    "The datapoint $A_7$ is closest to the centroid C_2. \n",
    "\n",
    "Let's consider the case for datapoint $A_8$:\n",
    "\n",
    "$$ |C_1 - A_8| = \\sqrt{(3-1)^2+(8.67-3)^2}$$<br>\n",
    "$$ = \\sqrt{(2)^2+(5.67)^2}$$<br>\n",
    "$$ = \\sqrt{4+32.14}$$<br>\n",
    "$$ = \\sqrt{36.14}$$<br>\n",
    "$$ = 6.01$$<br>\n",
    "\n",
    "$$ |C_2 - A_8| = \\sqrt{(8-1)^2+(4.33-3)^2}$$<br>\n",
    "$$ = \\sqrt{(7)^2+(1.33)^2}$$<br>\n",
    "$$ = \\sqrt{49+1.77}$$<br>\n",
    "$$ = \\sqrt{50.77}$$<br>\n",
    "$$ = 7.13$$<br>\n",
    "\n",
    "$$ |C_3 - A_8| = \\sqrt{(1.67-1)^2+(2.67-3)^2}$$<br>\n",
    "$$ = \\sqrt{(0.67)^2+(-0.33)^2}$$<br>\n",
    "$$ = \\sqrt{0.45+0.11}$$<br>\n",
    "$$ = \\sqrt{0.56}$$<br>\n",
    "$$ = 0.75$$<br>\n",
    "\n",
    "The datapoint $A_8$ is closest to the centroid C_3. \n",
    "\n",
    "Let's consider the case for datapoint $A_9$:\n",
    "\n",
    "$$ |C_1 - A_9| = \\sqrt{(3-2)^2+(8.67-3)^2}$$<br>\n",
    "$$ = \\sqrt{(1)^2+(5.67)^2}$$<br>\n",
    "$$ = \\sqrt{1+32.14}$$<br>\n",
    "$$ = \\sqrt{33.14}$$<br>\n",
    "$$ = 5.76$$<br>\n",
    "\n",
    "$$ |C_2 - A_9| = \\sqrt{(8-2)^2+(4.33-3)^2}$$<br>\n",
    "$$ = \\sqrt{(6)^2+(1.33)^2}$$<br>\n",
    "$$ = \\sqrt{36+1.77}$$<br>\n",
    "$$ = \\sqrt{37.77}$$<br>\n",
    "$$ = 6.15$$<br>\n",
    "\n",
    "$$ |C_3 - A_9| = \\sqrt{(1.67-2)^2+(2.67-3)^2}$$<br>\n",
    "$$ = \\sqrt{(-0.33)^2+(-0.33)^2}$$<br>\n",
    "$$ = \\sqrt{0.11+0.11}$$<br>\n",
    "$$ = \\sqrt{0.22}$$<br>\n",
    "$$ = 0.47$$<br>\n",
    "\n",
    "The datapoint $A_9$ is closest to the centroid C_3"
   ]
  },
  {
   "cell_type": "markdown",
   "metadata": {},
   "source": [
    "Updating the centroids $C_1, C_2, C_3$ using same formula as before\n",
    "\n",
    "$$\\large C_j = \\sum\\limits_{i=0}^n\\frac{ x_i}{|S_j|}$$\n"
   ]
  },
  {
   "cell_type": "markdown",
   "metadata": {},
   "source": [
    "Using the above formula on subset 1, we have\n",
    "$$\\large C_1 = \\frac{(x_1 + x_4 + x_6),(y_1 + y_4 + y_6)}{|S_1|}$$<br>\n",
    "$$\\large = \\frac{(2 + 3 + 4),(9 + 8 + 9)}{3}$$<br>\n",
    "$$\\large = \\frac{(9 , 26)}{3}$$<br>\n",
    "$$\\large = (3 , 8.66)$$\n",
    "\n",
    "From above, we find that the updated centroid for subset $S_1$ is (3, 8.66). \n",
    "\n",
    "Similarly, I will get the values of updated centroids for $S_2$ and $S_3$.\n",
    "\n",
    "For subset 2, we have\n",
    "$$\\large C_2 = \\frac{(x_3 + x_5 + x_7),(y_3 + y_5 + y_7)}{|S_2|}$$<br>\n",
    "$$\\large = \\frac{(8 + 7 + 9),(4 + 5 + 4)}{3}$$<br>\n",
    "$$\\large = \\frac{(24 , 13)}{3}$$<br>\n",
    "$$\\large = (8 , 4.33)$$\n",
    "\n",
    "\n",
    "For subset 3, we have\n",
    "$$\\large C_3 = \\frac{(x_2 + x_8 + x_9),(y_2 + y_8 + y_9)}{|S_3|}$$<br>\n",
    "$$\\large = \\frac{(2 + 1 + 2),(2 + 3 + 3)}{3}$$<br>\n",
    "$$\\large = \\frac{(5 , 8)}{3}$$<br>\n",
    "$$\\large = (1.66 , 2.66)$$\n",
    "\n",
    "After calculating the distance of each point, we get same centroid values as befoe.\n",
    "\n",
    "$$A_1, A_4, A_6 \\in S_1$$\n",
    "$$A_3, A_5, A_7 \\in S_2$$\n",
    "$$A_2, A_8, A_9 \\in S_3$$"
   ]
  },
  {
   "cell_type": "markdown",
   "metadata": {},
   "source": [
    "The new updated centroids and previous centroids are the same. This means we have reached convergence. So we can exit from the Step 4 loop and move on to conclude."
   ]
  },
  {
   "cell_type": "markdown",
   "metadata": {},
   "source": [
    "### Conclusion:\n",
    "\n",
    "The $k=3$ centroids $C$ of this dataset are\n",
    "\n",
    "$$\\large C_1 = ( 3 , 8.67 )$$<br>\n",
    "$$\\large C_2 = ( 1.67 , 2.67 )$$<br>\n",
    "$$\\large C_3 = ( 8 , 4.33 )$$<br>\n",
    "\n"
   ]
  },
  {
   "cell_type": "markdown",
   "metadata": {},
   "source": [
    "# Task 3: Create a test harness"
   ]
  },
  {
   "cell_type": "markdown",
   "metadata": {},
   "source": [
    "I will create functions that calculate each part seperately for unit testing. Then I will create a function for integration test on my pen and paper dataset with only input datapoints and K value, to see if it converges on ideal points."
   ]
  },
  {
   "cell_type": "code",
   "execution_count": 2,
   "metadata": {},
   "outputs": [],
   "source": [
    "import math\n",
    "import random\n",
    "import numpy as np\n",
    "\n",
    "# function that initializes k random centroids\n",
    "def initialize_k_random_centroids(all_points, number_of_centroids):\n",
    "    return random.sample(all_points, number_of_centroids)\n",
    "\n",
    "# function that finds distance between 2 points\n",
    "def find_distance(point_a, point_b):\n",
    "    return math.sqrt(sum([(i-j)**2 for i,j in zip(point_a,point_b)]))\n",
    "\n",
    "# function that returns the subset to which point belongs to\n",
    "def nearest_centroid(point, centroids_list): \n",
    "    distance_values = []\n",
    "    for i in range(len(centroids_list)):\n",
    "        distance_values.append([])\n",
    "    for i in range(len(centroids_list)):\n",
    "        distance_values[i] = find_distance(point, centroids_list[i])\n",
    "    return distance_values.index(min(distance_values))\n",
    "\n",
    "def create_subsets(all_points, centroids_list):\n",
    "    subset_list = []\n",
    "    for i in range(len(centroids_list)):\n",
    "        subset_list.append([])\n",
    "    for point in all_points:\n",
    "        subset_index = nearest_centroid(point, centroids_list)\n",
    "        subset_list[subset_index].append(point)\n",
    "    return subset_list\n",
    "\n",
    "def update_centroids(subset_of_points):\n",
    "    new_centroids = []\n",
    "    for i in subset_of_points:\n",
    "        x_val = 0\n",
    "        y_val = 0\n",
    "        for j in i:\n",
    "            x_val += j[0]\n",
    "            y_val += j[1]\n",
    "        new_centroids.append([round(x_val/len(i),4),round(y_val/len(i),4)])\n",
    "    return new_centroids\n",
    "        \n",
    "def integration_tests():\n",
    "    \n",
    "    # this is list I used in pen & paper. Using this for unit testing reference.\n",
    "    List = [[2,9],[2,2],[8,4],[3,8],[7,5],[4,9],[9,4],[1,3],[2,3]]\n",
    "    \n",
    "    # I have used K=3 in pen & paper so using same here.\n",
    "    k = 3\n",
    "    \n",
    "    # getting seed value for random which matches the randomly picked k values I have chose in pen & paper.\n",
    "    for i in range(1000):\n",
    "        random.seed(i)\n",
    "        random_centroids = initialize_k_random_centroids(List, k)\n",
    "        if random_centroids == [[2,9],[7,5],[2,3]]:\n",
    "            seed_value = i\n",
    "            break\n",
    "            \n",
    "    # unit testing random_centroids initialization\n",
    "    assert random_centroids == [[2,9], [7,5], [2,3]], \"The initial random centroids used are not same as the ones in pen & paper\"\n",
    "    \n",
    "    \n",
    "    # unit test for distance between [2,9] and [2,2] (first centroid and [2,2])\n",
    "    distance_unit_test = find_distance([2,2],[2,9])\n",
    "    assert distance_unit_test == 7.0, \"Error in find_distance(). Returning wrong value for [2,2] and [2,9]\"\n",
    "    \n",
    "    # unit test for nearest centroid. We know the point [2,2] has centroid 3 as nearest centroid. \n",
    "    # Note centroid 3 has index 2.\n",
    "    temp = nearest_centroid([2,2], random_centroids)\n",
    "    assert temp == 2, \"Error in nearest_centroid(). Returning wrong nearest centroid\"\n",
    "    \n",
    "    # unit test for getting subsets based on initial centroids assigned. We know what points belong to what set for initial centroid values.\n",
    "    subsets = create_subsets(List, random_centroids)\n",
    "    correct_subsets = [[[2, 9], [3, 8], [4, 9]], [[8, 4], [7, 5], [9, 4]], [[2, 2], [1, 3], [2, 3]]]\n",
    "    assert subsets == correct_subsets, 'Error in create_subsets(). Returning wrong values.'\n",
    "    \n",
    "    # unit test for update of centroids. We know the values of updated centroids from pen and paper\n",
    "    pp_updated_centroids = [[3.0, 8.6667], [8.0, 4.3333], [1.6667, 2.6667]]\n",
    "    updated_centroids = update_centroids(subsets)\n",
    "    assert pp_updated_centroids == updated_centroids, 'Error in update_centroids(). Wrong centroids values found'\n",
    "    \n",
    "    \n",
    "    \n",
    "# running unit test function.\n",
    "integration_tests()"
   ]
  },
  {
   "cell_type": "markdown",
   "metadata": {},
   "source": [
    "There is no error in functions created for implementation of K-means. All unit tests are passed."
   ]
  },
  {
   "cell_type": "markdown",
   "metadata": {},
   "source": [
    "Observation:<br>\n",
    "The integration test results is same as the pen and paper output. So we can confirm the functions are running properly."
   ]
  },
  {
   "cell_type": "markdown",
   "metadata": {},
   "source": [
    "# Task 4: Implement k-means clustering in Python\n"
   ]
  },
  {
   "cell_type": "markdown",
   "metadata": {},
   "source": [
    "## Complete Implementation: \n",
    "Note: Can use any dimensional data and any number of cluster"
   ]
  },
  {
   "cell_type": "code",
   "execution_count": 3,
   "metadata": {},
   "outputs": [],
   "source": [
    "import math\n",
    "import random\n",
    "import numpy as np\n",
    "\n",
    "# function that initializes k random centroids\n",
    "def initialize_k_random_centroids(all_points, number_of_centroids):\n",
    "    all_points = all_points.tolist()\n",
    "    return np.asarray(random.sample(all_points, number_of_centroids))\n",
    "\n",
    "# function that finds distance between 2 points\n",
    "def find_distance(point_a, point_b):\n",
    "    return np.linalg.norm(point_a - point_b)\n",
    "\n",
    "# function that returns the subset to which point belongs to\n",
    "def nearest_centroid(point, centroids_list): \n",
    "    distance_values = []\n",
    "    for i in range(len(centroids_list)):\n",
    "        distance_values.append([])\n",
    "    for i in range(len(centroids_list)):\n",
    "        distance_values[i] = find_distance(point, centroids_list[i])\n",
    "    return distance_values.index(min(distance_values))\n",
    "\n",
    "def create_subsets(all_points, centroids_list):\n",
    "    subset_list = []\n",
    "    for i in range(len(centroids_list)):\n",
    "        subset_list.append([])\n",
    "    for point in all_points:\n",
    "        subset_index = nearest_centroid(point, centroids_list)\n",
    "        subset_list[subset_index].append(point)\n",
    "    return subset_list\n",
    "\n",
    "def create_subsets_label(all_points, centroids_list):\n",
    "    subset_list = []\n",
    "    for point in all_points:\n",
    "        subset_index = nearest_centroid(point, centroids_list)\n",
    "        subset_list.append(subset_index)\n",
    "    return np.asarray(subset_list)\n",
    "\n",
    "def update_centroids(subset_of_points):\n",
    "    new=[]\n",
    "    for i in subset_of_points:\n",
    "        i = np.asarray(i)\n",
    "        new.append(i.sum(axis=0)/len(i))\n",
    "    return np.asarray(new)\n",
    "\n",
    "def labels_k_means(all_points, centroid_values):\n",
    "    return create_subsets_label(all_points, centroid_values)\n",
    "    \n",
    "# creating a function for integrated testing. Given datapoints and K, we will get centroid values\n",
    "def get_k_means(all_points, k):\n",
    "\n",
    "    # any random initial centroids (doesnt matter if other than pen and paper points initialized)\n",
    "    centroid_values = initialize_k_random_centroids(all_points, k)\n",
    "    temp = centroid_values+1\n",
    "    \n",
    "    # entering while loop with condition until centroid values dont change with iterations\n",
    "    while(centroid_values.all() != temp.all()):\n",
    "        temp = centroid_values\n",
    "        subset_of_points = create_subsets(all_points, centroid_values)\n",
    "        updated_centroids = update_centroids(subset_of_points)\n",
    "        centroid_values = updated_centroids\n",
    "        #exiting loop if iterations are too many\n",
    "        #if i == 1:\n",
    "         #   break\n",
    "    #return convergence centroids\n",
    "    \n",
    "    labels = labels_k_means(all_points,centroid_values)\n",
    "    \n",
    "    return centroid_values, labels, create_subsets(all_points, centroid_values)"
   ]
  },
  {
   "cell_type": "markdown",
   "metadata": {},
   "source": [
    "### Part 1/3:\n",
    "#### Applying the implementation on pen and paper dataset"
   ]
  },
  {
   "cell_type": "code",
   "execution_count": 4,
   "metadata": {},
   "outputs": [],
   "source": [
    "List = [[2,9],[2,2],[8,4],[3,8],[7,5],[4,9],[9,4],[1,3],[2,3]]\n",
    "List = np.asarray(List)\n",
    "\n",
    "x,y,z1 = get_k_means(List, 3)\n",
    "\n",
    "a1 = np.asarray(z1[0])\n",
    "b1 = np.asarray(z1[1])\n",
    "c1 = np.asarray(z1[2])\n",
    "\n",
    "#plt.scatter(a1[:,0],a1[:,1])\n",
    "#plt.scatter(b1[:,0],b1[:,1])\n",
    "#plt.scatter(c1[:,0],c1[:,1])"
   ]
  },
  {
   "cell_type": "markdown",
   "metadata": {},
   "source": [
    "### Part 2/3: \n",
    "##### Applying the implementation on created dataset in Task 1 - Part 2"
   ]
  },
  {
   "cell_type": "code",
   "execution_count": 5,
   "metadata": {},
   "outputs": [],
   "source": [
    "#I want to create my own dataset for k-means clustering\n",
    "from sklearn.datasets import make_blobs\n",
    "import matplotlib.pyplot as plt\n",
    "import pandas as pd\n",
    "\n",
    "#creating dataset of clusters with only 2 dimensions for easier maths understanding\n",
    "features, clusters = make_blobs(n_samples = 2000, \n",
    "                                n_features = 2, \n",
    "                                centers = 3,\n",
    "                                cluster_std = 0.4,\n",
    "                                shuffle = False,\n",
    "                                random_state = 4)\n",
    "\n",
    "#visualizing the created clustered dataset\n",
    "#lt.scatter(features[:,0], features[:,1])\n",
    "#plt.xlabel('Feature 1')\n",
    "#plt.ylabel('Feature 2')\n",
    "#plt.title('Clustered dataset created')\n",
    "#plt.show()\n",
    "\n",
    "x,y,z = get_k_means(features, 3)\n",
    "a2 = np.asarray(z[0])\n",
    "b2 = np.asarray(z[1])\n",
    "c2 = np.asarray(z[2])\n",
    "\n",
    "#plt.scatter(a2[:,0],a2[:,1])\n",
    "#plt.scatter(b2[:,0],b2[:,1])\n",
    "#plt.scatter(c2[:,0],c2[:,1])\n"
   ]
  },
  {
   "cell_type": "markdown",
   "metadata": {},
   "source": [
    "### Part 3/3: \n",
    "#### Applying implementation on iris dataset\n",
    "\n"
   ]
  },
  {
   "cell_type": "code",
   "execution_count": 6,
   "metadata": {},
   "outputs": [],
   "source": [
    "# not necessary on EECS Jupyterlab systems\n",
    "import sys\n",
    "sys.path.append('/usr/local/lib/python3.8/site-packages')\n",
    "\n",
    "from sklearn.datasets import load_iris\n",
    "iris = load_iris()\n",
    "\n",
    "import csv\n",
    "with open('iris.csv', 'w', newline='') as csvfile:\n",
    "    writer = csv.writer(csvfile, quoting=csv.QUOTE_NONNUMERIC)\n",
    "    writer.writerow(iris.feature_names)\n",
    "    writer.writerows(iris.data.tolist())\n",
    "    \n",
    "    \n",
    "x,y,z = get_k_means(iris.data, 3)\n",
    "a3 = np.asarray(z[0])\n",
    "b3 = np.asarray(z[1])\n",
    "c3 = np.asarray(z[2])\n",
    "\n",
    "#plt.scatter(a3[:,0],a3[:,1])\n",
    "#plt.scatter(b3[:,0],b3[:,1])\n",
    "#plt.scatter(c3[:,0],c3[:,1])"
   ]
  },
  {
   "cell_type": "markdown",
   "metadata": {},
   "source": [
    "## Optional Task 5: Add a visualisation\n",
    "Note: The clustering of datapoints are dependent on the initialization of centroids done in the given algorithm k-means. Since I have used random initialization, the datapoints are randomly initialized, hence sometimes, the clusters wont be perfectly grouped. Re-run the clustering algorithm few times to get best clusters based on random initialization. There are better initialization methods for clustering algorithms but I have used to most simple one because it is not a marking criteria."
   ]
  },
  {
   "cell_type": "markdown",
   "metadata": {},
   "source": [
    "## Part 1/4:\n",
    "#### Plot of pen and paper using implementated code"
   ]
  },
  {
   "cell_type": "code",
   "execution_count": 7,
   "metadata": {},
   "outputs": [
    {
     "data": {
      "image/png": "[encoded data removed]",
      "text/plain": [
       "<Figure size 640x480 with 1 Axes>"
      ]
     },
     "metadata": {},
     "output_type": "display_data"
    }
   ],
   "source": [
    "plt.scatter(a1[:,0],a1[:,1])\n",
    "plt.scatter(b1[:,0],b1[:,1])\n",
    "plt.scatter(c1[:,0],c1[:,1])\n",
    "plt.show()"
   ]
  },
  {
   "cell_type": "markdown",
   "metadata": {},
   "source": [
    "## Part 2/4:\n",
    "#### Plot of custom dataset using implemented code"
   ]
  },
  {
   "cell_type": "code",
   "execution_count": 8,
   "metadata": {},
   "outputs": [
    {
     "data": {
      "image/png": "[encoded data removed]",
      "text/plain": [
       "<Figure size 640x480 with 1 Axes>"
      ]
     },
     "metadata": {},
     "output_type": "display_data"
    }
   ],
   "source": [
    "plt.scatter(a2[:,0],a2[:,1])\n",
    "plt.scatter(b2[:,0],b2[:,1])\n",
    "plt.scatter(c2[:,0],c2[:,1])\n",
    "plt.show()"
   ]
  },
  {
   "cell_type": "markdown",
   "metadata": {},
   "source": []
  },
  {
   "cell_type": "markdown",
   "metadata": {},
   "source": [
    "## Part 3/4:\n",
    "#### Plot of iris dataset using implementated algorithm"
   ]
  },
  {
   "cell_type": "code",
   "execution_count": 9,
   "metadata": {},
   "outputs": [
    {
     "data": {
      "image/png": "[encoded data removed]",
      "text/plain": [
       "<Figure size 640x480 with 1 Axes>"
      ]
     },
     "metadata": {},
     "output_type": "display_data"
    }
   ],
   "source": [
    "plt.scatter(a3[:,0],a3[:,1])\n",
    "plt.scatter(b3[:,0],b3[:,1])\n",
    "plt.scatter(c3[:,0],c3[:,1])\n",
    "plt.show()"
   ]
  },
  {
   "cell_type": "markdown",
   "metadata": {},
   "source": [
    "Observation:\n",
    "\n",
    "The data seems as if it is somewhat seperated. Lets look at how well scikit can perform and compare our implemented model."
   ]
  },
  {
   "cell_type": "markdown",
   "metadata": {},
   "source": [
    "## Plot 4/4:\n",
    "#### Plot of iris dataset using scikit Kmeans "
   ]
  },
  {
   "cell_type": "code",
   "execution_count": 10,
   "metadata": {},
   "outputs": [
    {
     "data": {
      "image/png": "[encoded data removed]",
      "text/plain": [
       "<Figure size 640x480 with 1 Axes>"
      ]
     },
     "metadata": {},
     "output_type": "display_data"
    }
   ],
   "source": [
    "from sklearn.cluster import KMeans\n",
    "\n",
    "df = iris.data\n",
    "kmeans = KMeans(n_clusters=3)\n",
    "label = kmeans.fit_predict(df)\n",
    "\n",
    "label1 = df[label == 1]\n",
    "label2 = df[label == 2]\n",
    "label3 = df[label == 0]\n",
    "\n",
    "#Plotting the results\n",
    "plt.scatter(label1[:,0] , label1[:,1] , color = 'red')\n",
    "plt.scatter(label2[:,0] , label2[:,1] , color = 'blue')\n",
    "plt.scatter(label3[:,0] , label3[:,1] , color = 'black')\n",
    "plt.show()"
   ]
  },
  {
   "cell_type": "markdown",
   "metadata": {},
   "source": [
    "Observation of Plot 3/4 and Plot 4/4:\n",
    "\n",
    "Both the plots look very similar. So we can conclude that the implemented algorithm is working as expected"
   ]
  }
 ],
 "metadata": {
  "kernelspec": {
   "display_name": "Python 3 (ipykernel)",
   "language": "python",
   "name": "python3"
  },
  "language_info": {
   "codemirror_mode": {
    "name": "ipython",
    "version": 3
   },
   "file_extension": ".py",
   "mimetype": "text/x-python",
   "name": "python",
   "nbconvert_exporter": "python",
   "pygments_lexer": "ipython3",
   "version": "3.10.6"
  }
 },
 "nbformat": 4,
 "nbformat_minor": 4
}
