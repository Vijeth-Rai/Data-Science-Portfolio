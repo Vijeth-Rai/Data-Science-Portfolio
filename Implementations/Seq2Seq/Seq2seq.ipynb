{
  "nbformat": 4,
  "nbformat_minor": 0,
  "metadata": {
    "colab": {
      "name": "Seq2seq__Assignment.ipynb",
      "provenance": [],
      "collapsed_sections": [
        "3k_AlAuKJqVA",
        "vmGWTdRmKRph",
        "S8RDrP4xKabR",
        "fC1T1EOoMTqC",
        "wqtZUQF2NuZE",
        "uXHW6sliPMEN",
        "cS0UgLiaKNej",
        "PkOiaLuJQMDG",
        "6DpC9zlzMcXp",
        "e1IhdBrgQYJr",
        "jmxIVOOQPWMu",
        "gp1cQOtpTKUN",
        "LGj7s0V4b5iI",
        "1Eb1r0ftb8H_",
        "DGugWUgvb-q5",
        "f1PBDedGcBFv",
        "t62J9yPft9e-",
        "DrGiu_YIcIQp",
        "a9E75azdcL7w",
        "F2YSUzlBuvPy",
        "IolEjxB1uxUu",
        "ZPSUIuZuuy40",
        "BKz6U8dFR-Tc",
        "C_kmtwSNRvhg"
      ]
    },
    "kernelspec": {
      "display_name": "Python 3",
      "language": "python",
      "name": "python3"
    },
    "language_info": {
      "codemirror_mode": {
        "name": "ipython",
        "version": 3
      },
      "file_extension": ".py",
      "mimetype": "text/x-python",
      "name": "python",
      "nbconvert_exporter": "python",
      "pygments_lexer": "ipython3",
      "version": "3.8.3"
    },
    "accelerator": "GPU"
  },
  "cells": [
    {
      "cell_type": "markdown",
      "metadata": {
        "colab_type": "text",
        "id": "fwPL0hIlGKoA"
      },
      "source": [
        "# <font color='red'>**Sequence to sequence implementation**</font>"
      ]
    },
    {
      "cell_type": "markdown",
      "metadata": {
        "colab_type": "text",
        "id": "-nYHE_1ck2az"
      },
      "source": [
        "**There will be some functions that start with the word \"grader\" ex: grader_check_encoder(), grader_check_attention(), grader_onestepdecoder() etc, you should not change those function definition.<br><br>Every Grader function has to return True.**"
      ]
    },
    {
      "cell_type": "markdown",
      "metadata": {
        "colab_type": "text",
        "id": "Q3d7GeBMGbsJ"
      },
      "source": [
        "1. Download the **Italian** to **English** translation dataset from <a href=\"http://www.manythings.org/anki/ita-eng.zip\">here</a>\n",
        "\n",
        "2. You will find **ita.txt** file in that ZIP, \n",
        "you can read that data using python and preprocess that data. \n",
        "\n",
        "3. You have to implement an Encoder and Decoder architecture with  \n",
        "attention as discussed in the reference notebook.\n",
        "\n",
        "    * Encoder   - with 1 layer LSTM <br>\n",
        "    * Decoder   - with 1 layer LSTM<br>\n",
        "    * attention -  (Please refer the <a href= 'https://drive.google.com/file/d/1z_bnc-3aubKawbR6q8wyI6Mh5ho2R1aZ/view?usp=sharing'>**reference notebook**</a> to know more about the attention mechanism.)\n",
        "4. In Global attention, we have 3 types of scoring functions(as discussed in the reference notebook).\n",
        " As a part of this assignment **you need to create 3 models for each scoring function**\n",
        "<img src='https://i.imgur.com/iD2jZo3.png'>\n",
        "\n",
        "    * In model 1 you need to implemnt \"dot\" score function\n",
        "    * In model 2 you need to implemnt \"general\" score function\n",
        "    * In model 3 you need to implemnt \"concat\" score function.<br>\n",
        "    \n",
        " **Please do add the markdown titles for each model so that we can have a better look at the code and verify.**\n",
        "\n",
        "5. Using attention weights, you can plot the attention plots, \n",
        "please plot those for 2-3 examples. You can check about those in <a href=\"https://www.tensorflow.org/tutorials/text/nmt_with_attention#translate\">this</a>\n",
        "\n",
        "6. The attention layer has to be written by yourself only. \n",
        "The main objective of this assignment is to read and implement a paper on yourself so please do it yourself.  \n",
        "\n",
        "7. Please implement the class **onestepdecoder** as mentioned in the assignment instructions.\n",
        "\n",
        "8. You can use any tf.Keras highlevel API's to build and train the models. \n",
        " Check the reference notebook for better understanding.\n",
        "\n",
        "9. Use BLEU score as metric to evaluate your model. You can use any loss function you need.\n",
        "\n",
        "10. You have to use Tensorboard to plot the Graph, Scores and histograms of gradients. \n",
        "\n",
        "11. Resources:\n",
        "    a. Check the reference notebook\n",
        "    b. <a href=\"https://jalammar.github.io/visualizing-neural-machine-translation-mechanics-of-seq2seq-models-with-attention/\">Resource 1</a>\n",
        "    c. <a href=\"https://www.tensorflow.org/tutorials/text/nmt_with_attention\">Resource 2</a>\n",
        "    d. <a href=\"https://stackoverflow.com/questions/44238154/what-is-the-difference-between-luong-attention-and-bahdanau-attention#:~:text=Luong%20attention%20used%20top%20hidden,hidden%20state%20at%20time%20t.\">Resource 3</a>\n",
        "    \n",
        "\n",
        "**Note 1:**  There are many blogs on the attention mechanisum which might be misleading you,\n",
        " so do read the references completly and after that only please check the internet.\n",
        " The best things is to read the research papers and try to implement it on your own. \n",
        "\n",
        "**Note 2:** To complete this assignment, the reference that are mentioned will be enough.\n",
        "\n",
        "**Note 3:** If you are starting this assignment, you might have completed minimum of 20 assignment.\n",
        " If  you are still not able to implement this algorithm you might have rushed in the previous assignments \n",
        "with out learning much and didn't spend your time productively."
      ]
    },
    {
      "cell_type": "markdown",
      "metadata": {
        "colab_type": "text",
        "id": "3k_AlAuKJqVA"
      },
      "source": [
        "# Load data"
      ]
    },
    {
      "cell_type": "code",
      "metadata": {
        "colab_type": "code",
        "id": "fU80Ao-AGaob",
        "colab": {
          "base_uri": "https://localhost:8080/",
          "height": 208
        },
        "outputId": "809235cf-6006-435d-edc8-3130403a5fca"
      },
      "source": [
        "!wget --header=\"Host: www.manythings.org\" --header=\"User-Agent: Mozilla/5.0 (Windows NT 10.0; Win64; x64) AppleWebKit/537.36 (KHTML, like Gecko) Chrome/83.0.0.0 Safari/537.36\" --header=\"Accept: text/html,application/xhtml+xml,application/xml;q=0.9,image/webp,image/apng,*/*;q=0.8,application/signed-exchange;v=b3;q=0.9\" --header=\"Accept-Language: en-US,en;q=0.9\" --header=\"Referer: https://colab.research.google.com/\" --header=\"Cookie: __cfduid=df22880bb4f55c8fa346f3877f536184c1593838215\" --header=\"Connection: keep-alive\" \"http://www.manythings.org/anki/ita-eng.zip\" -c -O 'ita-eng.zip'"
      ],
      "execution_count": 1,
      "outputs": [
        {
          "output_type": "stream",
          "text": [
            "--2020-07-09 03:24:53--  http://www.manythings.org/anki/ita-eng.zip\n",
            "Resolving www.manythings.org (www.manythings.org)... 172.67.173.198, 104.24.109.196, 104.24.108.196, ...\n",
            "Connecting to www.manythings.org (www.manythings.org)|172.67.173.198|:80... connected.\n",
            "HTTP request sent, awaiting response... 200 OK\n",
            "Length: 7441562 (7.1M) [application/zip]\n",
            "Saving to: ‘ita-eng.zip’\n",
            "\n",
            "ita-eng.zip         100%[===================>]   7.10M  3.25MB/s    in 2.2s    \n",
            "\n",
            "2020-07-09 03:24:55 (3.25 MB/s) - ‘ita-eng.zip’ saved [7441562/7441562]\n",
            "\n"
          ],
          "name": "stdout"
        }
      ]
    },
    {
      "cell_type": "code",
      "metadata": {
        "id": "7sEqYH05KZ89",
        "colab_type": "code",
        "colab": {
          "base_uri": "https://localhost:8080/",
          "height": 69
        },
        "outputId": "3476a855-e09b-461e-c015-ac35183c9df5"
      },
      "source": [
        "!unzip ita-eng.zip"
      ],
      "execution_count": 2,
      "outputs": [
        {
          "output_type": "stream",
          "text": [
            "Archive:  ita-eng.zip\n",
            "  inflating: ita.txt                 \n",
            "  inflating: _about.txt              \n"
          ],
          "name": "stdout"
        }
      ]
    },
    {
      "cell_type": "code",
      "metadata": {
        "id": "RFWMrooLaBi_",
        "colab_type": "code",
        "colab": {}
      },
      "source": [
        "import os\n",
        "path_to_file = 'ita.txt'"
      ],
      "execution_count": 3,
      "outputs": []
    },
    {
      "cell_type": "markdown",
      "metadata": {
        "id": "sTMmKcuDOZa5",
        "colab_type": "text"
      },
      "source": [
        "Looking at dataset"
      ]
    },
    {
      "cell_type": "code",
      "metadata": {
        "id": "fmPJtd-9UpNm",
        "colab_type": "code",
        "colab": {}
      },
      "source": [
        "data = open(\"ita.txt\", \"r\") "
      ],
      "execution_count": 4,
      "outputs": []
    },
    {
      "cell_type": "code",
      "metadata": {
        "id": "vx5oH8QELMhV",
        "colab_type": "code",
        "colab": {}
      },
      "source": [
        "data = data.readlines()"
      ],
      "execution_count": 5,
      "outputs": []
    },
    {
      "cell_type": "code",
      "metadata": {
        "id": "vdNJNlN-L8LZ",
        "colab_type": "code",
        "colab": {
          "base_uri": "https://localhost:8080/",
          "height": 104
        },
        "outputId": "31ed6e6e-6251-48a0-b7e3-2e214e3995fa"
      },
      "source": [
        "data[:5]"
      ],
      "execution_count": 6,
      "outputs": [
        {
          "output_type": "execute_result",
          "data": {
            "text/plain": [
              "['Hi.\\tCiao!\\tCC-BY 2.0 (France) Attribution: tatoeba.org #538123 (CM) & #607364 (Cero)\\n',\n",
              " 'Run!\\tCorri!\\tCC-BY 2.0 (France) Attribution: tatoeba.org #906328 (papabear) & #906347 (Guybrush88)\\n',\n",
              " 'Run!\\tCorra!\\tCC-BY 2.0 (France) Attribution: tatoeba.org #906328 (papabear) & #906348 (Guybrush88)\\n',\n",
              " 'Run!\\tCorrete!\\tCC-BY 2.0 (France) Attribution: tatoeba.org #906328 (papabear) & #906350 (Guybrush88)\\n',\n",
              " 'Who?\\tChi?\\tCC-BY 2.0 (France) Attribution: tatoeba.org #2083030 (CK) & #2126402 (Guybrush88)\\n']"
            ]
          },
          "metadata": {
            "tags": []
          },
          "execution_count": 6
        }
      ]
    },
    {
      "cell_type": "markdown",
      "metadata": {
        "id": "A61RwHstOgAt",
        "colab_type": "text"
      },
      "source": [
        "Using pandas since the values seem to be seperated by tab space"
      ]
    },
    {
      "cell_type": "code",
      "metadata": {
        "id": "Af2YG8A1N1pR",
        "colab_type": "code",
        "colab": {}
      },
      "source": [
        "import pandas as pd\n",
        "df = pd.read_csv('ita.txt',sep = '\\t', header = None)"
      ],
      "execution_count": 7,
      "outputs": []
    },
    {
      "cell_type": "code",
      "metadata": {
        "id": "Jhon2ShjN5LE",
        "colab_type": "code",
        "colab": {
          "base_uri": "https://localhost:8080/",
          "height": 202
        },
        "outputId": "aed5b532-8f62-4392-c8c0-a8e2fe66b470"
      },
      "source": [
        "df.head()"
      ],
      "execution_count": 8,
      "outputs": [
        {
          "output_type": "execute_result",
          "data": {
            "text/html": [
              "<div>\n",
              "<style scoped>\n",
              "    .dataframe tbody tr th:only-of-type {\n",
              "        vertical-align: middle;\n",
              "    }\n",
              "\n",
              "    .dataframe tbody tr th {\n",
              "        vertical-align: top;\n",
              "    }\n",
              "\n",
              "    .dataframe thead th {\n",
              "        text-align: right;\n",
              "    }\n",
              "</style>\n",
              "<table border=\"1\" class=\"dataframe\">\n",
              "  <thead>\n",
              "    <tr style=\"text-align: right;\">\n",
              "      <th></th>\n",
              "      <th>0</th>\n",
              "      <th>1</th>\n",
              "      <th>2</th>\n",
              "    </tr>\n",
              "  </thead>\n",
              "  <tbody>\n",
              "    <tr>\n",
              "      <th>0</th>\n",
              "      <td>Hi.</td>\n",
              "      <td>Ciao!</td>\n",
              "      <td>CC-BY 2.0 (France) Attribution: tatoeba.org #5...</td>\n",
              "    </tr>\n",
              "    <tr>\n",
              "      <th>1</th>\n",
              "      <td>Run!</td>\n",
              "      <td>Corri!</td>\n",
              "      <td>CC-BY 2.0 (France) Attribution: tatoeba.org #9...</td>\n",
              "    </tr>\n",
              "    <tr>\n",
              "      <th>2</th>\n",
              "      <td>Run!</td>\n",
              "      <td>Corra!</td>\n",
              "      <td>CC-BY 2.0 (France) Attribution: tatoeba.org #9...</td>\n",
              "    </tr>\n",
              "    <tr>\n",
              "      <th>3</th>\n",
              "      <td>Run!</td>\n",
              "      <td>Correte!</td>\n",
              "      <td>CC-BY 2.0 (France) Attribution: tatoeba.org #9...</td>\n",
              "    </tr>\n",
              "    <tr>\n",
              "      <th>4</th>\n",
              "      <td>Who?</td>\n",
              "      <td>Chi?</td>\n",
              "      <td>CC-BY 2.0 (France) Attribution: tatoeba.org #2...</td>\n",
              "    </tr>\n",
              "  </tbody>\n",
              "</table>\n",
              "</div>"
            ],
            "text/plain": [
              "      0         1                                                  2\n",
              "0   Hi.     Ciao!  CC-BY 2.0 (France) Attribution: tatoeba.org #5...\n",
              "1  Run!    Corri!  CC-BY 2.0 (France) Attribution: tatoeba.org #9...\n",
              "2  Run!    Corra!  CC-BY 2.0 (France) Attribution: tatoeba.org #9...\n",
              "3  Run!  Correte!  CC-BY 2.0 (France) Attribution: tatoeba.org #9...\n",
              "4  Who?      Chi?  CC-BY 2.0 (France) Attribution: tatoeba.org #2..."
            ]
          },
          "metadata": {
            "tags": []
          },
          "execution_count": 8
        }
      ]
    },
    {
      "cell_type": "code",
      "metadata": {
        "id": "wDo11BeSQNO-",
        "colab_type": "code",
        "colab": {}
      },
      "source": [
        "df = df.drop(2,axis=1)"
      ],
      "execution_count": 9,
      "outputs": []
    },
    {
      "cell_type": "code",
      "metadata": {
        "id": "MvJwyM2dQQ4L",
        "colab_type": "code",
        "colab": {
          "base_uri": "https://localhost:8080/",
          "height": 202
        },
        "outputId": "e013c2d5-0432-4fc5-c07c-2ced1c824b5e"
      },
      "source": [
        "df.head()"
      ],
      "execution_count": 10,
      "outputs": [
        {
          "output_type": "execute_result",
          "data": {
            "text/html": [
              "<div>\n",
              "<style scoped>\n",
              "    .dataframe tbody tr th:only-of-type {\n",
              "        vertical-align: middle;\n",
              "    }\n",
              "\n",
              "    .dataframe tbody tr th {\n",
              "        vertical-align: top;\n",
              "    }\n",
              "\n",
              "    .dataframe thead th {\n",
              "        text-align: right;\n",
              "    }\n",
              "</style>\n",
              "<table border=\"1\" class=\"dataframe\">\n",
              "  <thead>\n",
              "    <tr style=\"text-align: right;\">\n",
              "      <th></th>\n",
              "      <th>0</th>\n",
              "      <th>1</th>\n",
              "    </tr>\n",
              "  </thead>\n",
              "  <tbody>\n",
              "    <tr>\n",
              "      <th>0</th>\n",
              "      <td>Hi.</td>\n",
              "      <td>Ciao!</td>\n",
              "    </tr>\n",
              "    <tr>\n",
              "      <th>1</th>\n",
              "      <td>Run!</td>\n",
              "      <td>Corri!</td>\n",
              "    </tr>\n",
              "    <tr>\n",
              "      <th>2</th>\n",
              "      <td>Run!</td>\n",
              "      <td>Corra!</td>\n",
              "    </tr>\n",
              "    <tr>\n",
              "      <th>3</th>\n",
              "      <td>Run!</td>\n",
              "      <td>Correte!</td>\n",
              "    </tr>\n",
              "    <tr>\n",
              "      <th>4</th>\n",
              "      <td>Who?</td>\n",
              "      <td>Chi?</td>\n",
              "    </tr>\n",
              "  </tbody>\n",
              "</table>\n",
              "</div>"
            ],
            "text/plain": [
              "      0         1\n",
              "0   Hi.     Ciao!\n",
              "1  Run!    Corri!\n",
              "2  Run!    Corra!\n",
              "3  Run!  Correte!\n",
              "4  Who?      Chi?"
            ]
          },
          "metadata": {
            "tags": []
          },
          "execution_count": 10
        }
      ]
    },
    {
      "cell_type": "markdown",
      "metadata": {
        "colab_type": "text",
        "id": "vmGWTdRmKRph"
      },
      "source": [
        "# Preprocess data"
      ]
    },
    {
      "cell_type": "markdown",
      "metadata": {
        "id": "Ag1QuKwk9I2T",
        "colab_type": "text"
      },
      "source": [
        "Codes taken from https://www.tensorflow.org/tutorials/text/nmt_with_attention with minor changes"
      ]
    },
    {
      "cell_type": "code",
      "metadata": {
        "id": "Iy3gkgwjd_Sy",
        "colab_type": "code",
        "colab": {}
      },
      "source": [
        "from tqdm import tqdm"
      ],
      "execution_count": 11,
      "outputs": []
    },
    {
      "cell_type": "code",
      "metadata": {
        "id": "FtrmfLH_YTcA",
        "colab_type": "code",
        "colab": {}
      },
      "source": [
        "# Converts the unicode file to ascii\n",
        "import unicodedata\n",
        "import re\n",
        "def unicode_to_ascii(s):\n",
        "  return ''.join(c for c in unicodedata.normalize('NFD', s)\n",
        "      if unicodedata.category(c) != 'Mn')\n",
        "\n",
        "def preprocess_sentence(w):\n",
        "  w = unicode_to_ascii(w.lower().strip())\n",
        "\n",
        "  # creating a space between a word and the punctuation following it\n",
        "  # eg: \"he is a boy.\" => \"he is a boy .\"\n",
        "  # Reference:- https://stackoverflow.com/questions/3645931/python-padding-punctuation-with-white-spaces-keeping-punctuation\n",
        "  w = re.sub(r\"([?.!,¿])\", r\" \\1 \", w)\n",
        "  w = re.sub(r'[\" \"]+', \" \", w)\n",
        "\n",
        "  # replacing everything with space except (a-z, A-Z, \".\", \"?\", \"!\", \",\")\n",
        "  w = re.sub(r\"[^a-zA-Z?.!,¿]+\", \" \", w)\n",
        "\n",
        "  w = w.strip()\n",
        "\n",
        "  # adding a start and an end token to the sentence\n",
        "  # so that the model know when to start and stop predicting.\n",
        "  w = '<start> ' + w + ' <end>'\n",
        "  return w"
      ],
      "execution_count": 12,
      "outputs": []
    },
    {
      "cell_type": "code",
      "metadata": {
        "id": "bHXoSzgXaMtM",
        "colab_type": "code",
        "colab": {}
      },
      "source": [
        "def create_dataset(data):\n",
        "\n",
        "  eng_ = [preprocess_sentence(w) for w in tqdm(data[0])]\n",
        "  ita_ = [preprocess_sentence(w) for w in tqdm(data[1])]\n",
        "\n",
        "  return eng_, ita_"
      ],
      "execution_count": 13,
      "outputs": []
    },
    {
      "cell_type": "code",
      "metadata": {
        "id": "bgMWezjFaPjy",
        "colab_type": "code",
        "colab": {
          "base_uri": "https://localhost:8080/",
          "height": 52
        },
        "outputId": "6b77a703-b9f5-43d3-8367-532d13ebbf30"
      },
      "source": [
        "import io\n",
        "eng, ita = create_dataset(df)"
      ],
      "execution_count": 14,
      "outputs": [
        {
          "output_type": "stream",
          "text": [
            "100%|██████████| 340432/340432 [00:06<00:00, 53195.86it/s]\n",
            "100%|██████████| 340432/340432 [00:07<00:00, 48385.03it/s]\n"
          ],
          "name": "stderr"
        }
      ]
    },
    {
      "cell_type": "code",
      "metadata": {
        "id": "o7qzAiqE8Obm",
        "colab_type": "code",
        "colab": {
          "base_uri": "https://localhost:8080/",
          "height": 52
        },
        "outputId": "07ceb35f-3d47-4373-873b-0cbfc6283701"
      },
      "source": [
        "print(eng[0])\n",
        "print(ita[0])"
      ],
      "execution_count": 15,
      "outputs": [
        {
          "output_type": "stream",
          "text": [
            "<start> hi . <end>\n",
            "<start> ciao ! <end>\n"
          ],
          "name": "stdout"
        }
      ]
    },
    {
      "cell_type": "code",
      "metadata": {
        "id": "eETpMVSNYVKL",
        "colab_type": "code",
        "colab": {}
      },
      "source": [
        "def tokenize(lang):\n",
        "  lang_tokenizer = tf.keras.preprocessing.text.Tokenizer(filters='')\n",
        "  lang_tokenizer.fit_on_texts(lang)\n",
        "\n",
        "  tensor = lang_tokenizer.texts_to_sequences(lang)\n",
        "\n",
        "  tensor = tf.keras.preprocessing.sequence.pad_sequences(tensor,\n",
        "                                                         padding='post')\n",
        "\n",
        "  return tensor, lang_tokenizer"
      ],
      "execution_count": 16,
      "outputs": []
    },
    {
      "cell_type": "code",
      "metadata": {
        "id": "PbtvBRbo77bv",
        "colab_type": "code",
        "colab": {}
      },
      "source": [
        "\n",
        "def load_dataset(data):\n",
        "  # creating cleaned input, output pairs\n",
        "  targ_lang, inp_lang = create_dataset(data)\n",
        "\n",
        "  input_tensor, inp_lang_tokenizer = tokenize(inp_lang)\n",
        "  target_tensor, targ_lang_tokenizer = tokenize(targ_lang)\n",
        "\n",
        "  return input_tensor, target_tensor, inp_lang_tokenizer, targ_lang_tokenizer"
      ],
      "execution_count": 17,
      "outputs": []
    },
    {
      "cell_type": "code",
      "metadata": {
        "id": "yFwBxeuz-f-7",
        "colab_type": "code",
        "colab": {
          "base_uri": "https://localhost:8080/",
          "height": 52
        },
        "outputId": "1dcf4508-5cd7-4d12-f77c-13628df98567"
      },
      "source": [
        "import tensorflow as tf\n",
        "input_tensor, target_tensor, inp_lang, targ_lang = load_dataset(df)"
      ],
      "execution_count": 18,
      "outputs": [
        {
          "output_type": "stream",
          "text": [
            "100%|██████████| 340432/340432 [00:06<00:00, 52064.58it/s]\n",
            "100%|██████████| 340432/340432 [00:06<00:00, 48774.56it/s]\n"
          ],
          "name": "stderr"
        }
      ]
    },
    {
      "cell_type": "code",
      "metadata": {
        "id": "LuCFRDpjXwVN",
        "colab_type": "code",
        "colab": {}
      },
      "source": [
        "max_length_targ, max_length_inp = target_tensor.shape[1], input_tensor.shape[1]"
      ],
      "execution_count": 19,
      "outputs": []
    },
    {
      "cell_type": "code",
      "metadata": {
        "id": "ocqlG1kQX4Su",
        "colab_type": "code",
        "colab": {}
      },
      "source": [
        "from sklearn.model_selection import train_test_split\n",
        "\n",
        "input_tensor_train, input_tensor_val, target_tensor_train, target_tensor_val = train_test_split(input_tensor, target_tensor, test_size=0.2)"
      ],
      "execution_count": 20,
      "outputs": []
    },
    {
      "cell_type": "markdown",
      "metadata": {
        "colab_type": "text",
        "id": "S8RDrP4xKabR"
      },
      "source": [
        "# Implement custom encoder decoder and attention layers"
      ]
    },
    {
      "cell_type": "markdown",
      "metadata": {
        "colab_type": "text",
        "id": "A45uc0JILMlV"
      },
      "source": [
        "## Encoder"
      ]
    },
    {
      "cell_type": "code",
      "metadata": {
        "colab_type": "code",
        "id": "Lx_5NA24KzRp",
        "colab": {}
      },
      "source": [
        "class Encoder(tf.keras.Model):\n",
        "    '''\n",
        "    Encoder model -- That takes a input sequence and returns output sequence\n",
        "    '''\n",
        "\n",
        "    def __init__(self,inp_vocab_size,embedding_size,lstm_size,input_length):\n",
        "\n",
        "      #Initialize Embedding layer\n",
        "      #Intialize Encoder LSTM layer\n",
        "\n",
        "      super().__init__()\n",
        "      self.inp_vocab_size = inp_vocab_size\n",
        "      self.embedding_size = embedding_size\n",
        "      self.lstm_size = lstm_size\n",
        "      self.input_length = input_length\n",
        "      self.embedding = tf.keras.layers.Embedding(input_dim=self.inp_vocab_size, output_dim=self.embedding_size, input_length=self.input_length,mask_zero=True, name=\"embedding_layer_encoder\")\n",
        "      self.lstm = tf.keras.layers.LSTM(self.lstm_size, return_state=True, return_sequences=True, name=\"Encoder_LSTM\")\n",
        "\n",
        "    def call(self,input_sequence,states):\n",
        "      '''\n",
        "          This function takes a sequence input and the initial states of the encoder.\n",
        "          Pass the input_sequence input to the Embedding layer, Pass the embedding layer ouput to encoder_lstm\n",
        "          returns -- All encoder_outputs, last time steps hidden and cell state\n",
        "      '''\n",
        "      embed_output = self.embedding(input_sequence)\n",
        "      lstm_output, lstm_state_h, lstm_state_c = self.lstm(embed_output, initial_state=states)\n",
        "      return lstm_output, lstm_state_h,lstm_state_c\n",
        "\n",
        "    def initialize_states(self,batch_size):\n",
        "      '''\n",
        "      Given a batch size it will return intial hidden state and intial cell state.\n",
        "      If batch size is 32- Hidden state shape is [32,lstm_units], cell state shape is [32,lstm_units]\n",
        "      '''\n",
        "      return [tf.zeros((batch_size, self.lstm_size)) ,  tf.zeros((batch_size, self.lstm_size))]\n"
      ],
      "execution_count": 21,
      "outputs": []
    },
    {
      "cell_type": "markdown",
      "metadata": {
        "colab_type": "text",
        "id": "4ub9aN-hK244"
      },
      "source": [
        "<font color='cyan'>**Grader function - 1**</font>"
      ]
    },
    {
      "cell_type": "code",
      "metadata": {
        "colab_type": "code",
        "id": "wRoe65b9LB0D",
        "colab": {
          "base_uri": "https://localhost:8080/",
          "height": 34
        },
        "outputId": "9552436e-0b01-4818-b314-eb69c6b1b83b"
      },
      "source": [
        "def grader_check_encoder():\n",
        "    vocab_size=10\n",
        "    embedding_size=20\n",
        "    lstm_size=32\n",
        "    input_length=10\n",
        "    batch_size=16\n",
        "    encoder=Encoder(vocab_size,embedding_size,lstm_size,input_length)\n",
        "    input_sequence=tf.random.uniform(shape=[batch_size,input_length],maxval=vocab_size,minval=0,dtype=tf.int32)\n",
        "    initial_state=encoder.initialize_states(batch_size)\n",
        "    encoder_output,state_h,state_c=encoder(input_sequence,initial_state)\n",
        "    assert(encoder_output.shape==(batch_size,input_length,lstm_size) and state_h.shape==(batch_size,lstm_size) and state_c.shape==(batch_size,lstm_size))\n",
        "    return True\n",
        "print(grader_check_encoder())"
      ],
      "execution_count": 22,
      "outputs": [
        {
          "output_type": "stream",
          "text": [
            "True\n"
          ],
          "name": "stdout"
        }
      ]
    },
    {
      "cell_type": "code",
      "metadata": {
        "id": "zTx6VKs6t_X0",
        "colab_type": "code",
        "colab": {}
      },
      "source": [
        "import numpy as np"
      ],
      "execution_count": 23,
      "outputs": []
    },
    {
      "cell_type": "markdown",
      "metadata": {
        "colab_type": "text",
        "id": "lXn278lhLYRM"
      },
      "source": [
        "## Attention"
      ]
    },
    {
      "cell_type": "code",
      "metadata": {
        "colab_type": "code",
        "id": "ab5SNdPZLlur",
        "colab": {}
      },
      "source": [
        "#concat code from here https://www.tensorflow.org/tutorials/text/nmt_with_attention. Dot and general codes follow same approach\n",
        "\n",
        "class Attention(tf.keras.layers.Layer):\n",
        "  '''\n",
        "    Class the calculates score based on the scoring_function using Bahdanu attention mechanism.\n",
        "  '''\n",
        "  def __init__(self,scoring_function, att_units):\n",
        "\n",
        "\n",
        "    # Please go through the reference notebook and research paper to complete the scoring functions\n",
        "    super().__init__()\n",
        "    self.scoring_function = scoring_function\n",
        "\n",
        "    if self.scoring_function=='dot':\n",
        "      # Intialize variables needed for Dot score function here\n",
        "      pass\n",
        "    elif scoring_function == 'general':\n",
        "      # Intialize variables needed for General score function here\n",
        "      self.W = tf.keras.layers.Dense(att_units)\n",
        "      pass\n",
        "    elif scoring_function == 'concat':\n",
        "      # Intialize variables needed for Concat score function here\n",
        "      self.W = tf.keras.layers.Dense(att_units)\n",
        "      self.V = tf.keras.layers.Dense(1)\n",
        "      pass\n",
        "  \n",
        "  \n",
        "  def call(self,decoder_hidden_state,encoder_output):\n",
        "    '''\n",
        "      Attention mechanism takes two inputs current step -- decoder_hidden_state and all the encoder_outputs.\n",
        "      * Based on the scoring function we will find the score or similarity between decoder_hidden_state and encoder_output.\n",
        "        Multiply the score function with your encoder_outputs to get the context vector.\n",
        "        Function returns context vector and attention weights(softmax - scores)\n",
        "    '''\n",
        "\n",
        "    decoder_hidden_state_ = tf.expand_dims(decoder_hidden_state, 1)\n",
        "\n",
        "    # encoder shape = (batch_size,input_length,att_units)\n",
        "    # decoder shape = (batch_size,1,att_units)\n",
        "    # matmul with transpose of decoder.encoder shape = (batch_size,1,input_length)\n",
        "    # addition decoder+encoder shape = (batch_size,input_length,1)\n",
        "    # return in shape (batch_size,input_length,1)\n",
        "\n",
        "    # attention weights and context vector \n",
        "\n",
        "    if self.scoring_function == 'dot':\n",
        "        # Implement Dot score function here\n",
        "        score = tf.matmul(decoder_hidden_state_, encoder_output, transpose_b=True) \n",
        "        attention_weights = tf.nn.softmax(score, axis=2)                 # axis 2 will have input\n",
        "        attention_weights = tf.transpose(attention_weights, [0, 2, 1])   # swapping axes to required shape \n",
        "        context_vector = tf.matmul(score, encoder_output)                \n",
        "        context_vector = tf.reduce_sum(context_vector, axis=1)           # dropping the extra dimension\n",
        "        return context_vector, attention_weights  \n",
        "\n",
        "    elif self.scoring_function == 'general':\n",
        "        # Implement General score function here\n",
        "        score = tf.matmul(decoder_hidden_state_, self.W(encoder_output), transpose_b=True) \n",
        "        attention_weights = tf.nn.softmax(score, axis=2)                 \n",
        "        attention_weights = tf.transpose(attention_weights, [0, 2, 1])   \n",
        "        context_vector = tf.matmul(score, encoder_output)                \n",
        "        context_vector = tf.reduce_sum(context_vector, axis=1)\n",
        "        return context_vector, attention_weights\n",
        "\n",
        "    elif self.scoring_function == 'concat':\n",
        "        # Implement General score function here\n",
        "        score = self.V(tf.nn.tanh(self.W(decoder_hidden_state_) + self.W(encoder_output)))\n",
        "        attention_weights = tf.nn.softmax(score, axis=1)\n",
        "        context_vector = attention_weights * encoder_output\n",
        "        context_vector = tf.reduce_sum(context_vector, axis=1)\n",
        "        return context_vector, attention_weights  \n"
      ],
      "execution_count": 24,
      "outputs": []
    },
    {
      "cell_type": "markdown",
      "metadata": {
        "colab_type": "text",
        "id": "ExQDlxI9LuqK"
      },
      "source": [
        "<font color='cyan'>**Grader function - 2**</font>"
      ]
    },
    {
      "cell_type": "code",
      "metadata": {
        "colab_type": "code",
        "id": "51x50h_TLrl9",
        "colab": {
          "base_uri": "https://localhost:8080/",
          "height": 69
        },
        "outputId": "6f55ab28-4e14-4ba7-b974-a1df99415116"
      },
      "source": [
        "def grader_check_attention(scoring_fun):\n",
        "    input_length=10\n",
        "    vocab_size=10\n",
        "    batch_size=16\n",
        "    att_units=32\n",
        "    state_h=tf.random.uniform(shape=[batch_size,att_units])\n",
        "    encoder_output=tf.random.uniform(shape=[batch_size,input_length,att_units])\n",
        "    attention=Attention(scoring_fun,att_units)\n",
        "    context_vector,attention_weights=attention(state_h,encoder_output)\n",
        "    assert(context_vector.shape==(batch_size,att_units) and attention_weights.shape==(batch_size,input_length,1))\n",
        "    return True\n",
        "print(grader_check_attention('dot'))\n",
        "print(grader_check_attention('general'))\n",
        "print(grader_check_attention('concat'))"
      ],
      "execution_count": 25,
      "outputs": [
        {
          "output_type": "stream",
          "text": [
            "True\n",
            "True\n",
            "True\n"
          ],
          "name": "stdout"
        }
      ]
    },
    {
      "cell_type": "markdown",
      "metadata": {
        "colab_type": "text",
        "id": "ic-FNEbfL2DN"
      },
      "source": [
        "## OneStepDecoder"
      ]
    },
    {
      "cell_type": "code",
      "metadata": {
        "colab_type": "code",
        "id": "Kc8m7lmOL097",
        "colab": {}
      },
      "source": [
        "#https://www.tensorflow.org/tutorials/text/nmt_with_attention concat and output reshape taken from here\n",
        "\n",
        "class OneStepDecoder(tf.keras.Model):\n",
        "  def __init__(self,tar_vocab_size, embedding_dim, input_length, dec_units ,score_fun ,att_units):\n",
        "\n",
        "      # Initialize decoder embedding layer, LSTM and any other objects needed\n",
        "      super().__init__()\n",
        "      self.tar_vocab_size = tar_vocab_size\n",
        "      self.embedding_dim = embedding_dim\n",
        "      self.input_length = input_length\n",
        "      self.dec_units = dec_units\n",
        "      self.score_fun = score_fun\n",
        "      self.att_units = att_units\n",
        "      self.embedding = tf.keras.layers.Embedding(input_dim=self.tar_vocab_size, output_dim=self.embedding_dim, input_length=self.input_length, mask_zero=True, name=\"embedding_layer_encoder\")\n",
        "      self.LSTM = tf.keras.layers.LSTM(self.dec_units, return_sequences=True, return_state=True, recurrent_initializer='glorot_uniform')\n",
        "      self.dense = tf.keras.layers.Dense(tar_vocab_size)\n",
        "      self.attention = Attention(self.score_fun, self.att_units)\n",
        "\n",
        "  def call(self,input_to_decoder, encoder_output, state_h,state_c):\n",
        "    '''\n",
        "        One step decoder mechanisim step by step:\n",
        "      A. Pass the input_to_decoder to the embedding layer and then get the output(1,1,embedding_dim)\n",
        "      B. Using the encoder_output and decoder hidden state, compute the context vector.\n",
        "      C. Concat the context vector with the step A output\n",
        "      D. Pass the Step-C output to LSTM/GRU and get the decoder output and states(hidden and cell state)\n",
        "      E. Pass the decoder output to dense layer(vocab size) and store the result into output.\n",
        "      F. Return the states from step D, output from Step E, attention weights from Step -B\n",
        "    '''\n",
        "    embed_output = self.embedding(input_to_decoder)\n",
        "\n",
        "    context_vector,attention_weights=self.attention(state_h,encoder_output)\n",
        "\n",
        "    concat = tf.concat([tf.expand_dims(context_vector, 1),embed_output],axis=-1)\n",
        "\n",
        "    decoder_output, state_h, state_c = self.LSTM(concat, initial_state=[state_h,state_c])\n",
        "\n",
        "    output = tf.reshape(decoder_output, (-1, decoder_output.shape[2]))\n",
        "\n",
        "    out = self.dense(output)\n",
        "\n",
        "    return out, state_h, state_c, attention_weights, context_vector"
      ],
      "execution_count": 26,
      "outputs": []
    },
    {
      "cell_type": "markdown",
      "metadata": {
        "colab_type": "text",
        "id": "R_I8I4EIMAXq"
      },
      "source": [
        "<font color='cyan'>**Grader function - 3**</font>"
      ]
    },
    {
      "cell_type": "code",
      "metadata": {
        "colab_type": "code",
        "id": "uLEXhChnMC1k",
        "colab": {
          "base_uri": "https://localhost:8080/",
          "height": 69
        },
        "outputId": "b5741d11-47a9-4e81-f2e8-0d3a443d92fe"
      },
      "source": [
        "def grader_onestepdecoder(score_fun):\n",
        "    vocab_size=13 \n",
        "    embedding_dim=12 \n",
        "    input_length=10\n",
        "    dec_units=16 \n",
        "    att_units=16\n",
        "    batch_size=32\n",
        "    onestepdecoder=OneStepDecoder(vocab_size, embedding_dim, input_length, dec_units ,score_fun ,att_units)\n",
        "    input_to_decoder=tf.random.uniform(shape=(batch_size,1),maxval=10,minval=0,dtype=tf.int32)\n",
        "    encoder_output=tf.random.uniform(shape=[batch_size,input_length,dec_units])\n",
        "    state_h=tf.random.uniform(shape=[batch_size,dec_units])\n",
        "    state_c=tf.random.uniform(shape=[batch_size,dec_units])\n",
        "    output,state_h,state_c,attention_weights,context_vector=onestepdecoder(input_to_decoder,encoder_output,state_h,state_c)\n",
        "    assert(output.shape==(batch_size,vocab_size))\n",
        "    assert(state_h.shape==(batch_size,dec_units))\n",
        "    assert(state_c.shape==(batch_size,dec_units))\n",
        "    assert(attention_weights.shape==(batch_size,input_length,1))\n",
        "    assert(context_vector.shape==(batch_size,dec_units))\n",
        "    return True\n",
        "    \n",
        "print(grader_onestepdecoder('dot'))\n",
        "print(grader_onestepdecoder('general'))\n",
        "print(grader_onestepdecoder('concat'))"
      ],
      "execution_count": 27,
      "outputs": [
        {
          "output_type": "stream",
          "text": [
            "True\n",
            "True\n",
            "True\n"
          ],
          "name": "stdout"
        }
      ]
    },
    {
      "cell_type": "markdown",
      "metadata": {
        "colab_type": "text",
        "id": "6FHrurjUMGAi"
      },
      "source": [
        "## Decoder"
      ]
    },
    {
      "cell_type": "code",
      "metadata": {
        "colab_type": "code",
        "id": "NV-x31rj6Hc4",
        "colab": {}
      },
      "source": [
        "class Decoder(tf.keras.Model):\n",
        "    def __init__(self,out_vocab_size, embedding_dim, output_length, dec_units ,score_fun ,att_units):\n",
        "      #Intialize necessary variables and create an object from the class onestepdecoder\n",
        "      super().__init__()\n",
        "      self.out_vocab_size = out_vocab_size\n",
        "      self.embedding_dim = embedding_dim\n",
        "      self.output_length = output_length\n",
        "      self.dec_units = dec_units\n",
        "      self.score_fun = score_fun\n",
        "      self.att_units = att_units\n",
        "      self.onestepdecoder=OneStepDecoder(out_vocab_size, embedding_dim, output_length, dec_units ,score_fun ,att_units)\n",
        "      self.embedding = tf.keras.layers.Embedding(input_dim=self.out_vocab_size, output_dim=self.embedding_dim, input_length=output_length, mask_zero=True, name=\"embedding_layer_decoder\")\n",
        "      self.lstm = tf.keras.layers.LSTM(self.dec_units, return_sequences=True, return_state=True, name=\"Encoder_LSTM\")\n",
        "        \n",
        "\n",
        "    def call(self, input_to_decoder,encoder_output,decoder_hidden_state,decoder_cell_state ):\n",
        "        #Initialize an empty Tensor array, that will store the outputs at each and every time step\n",
        "        #Create a tensor array as shown in the reference notebook\n",
        "        tensor = []    # I will rather initialize a list and append tensors to it then I will convert this list into tensor for my convinience\n",
        "        #Iterate till the length of the decoder input\n",
        "        for i in range(input_to_decoder.shape[1]):       # the input to decoder is in this dimension \n",
        "          input_to_decoder__ = tf.transpose(input_to_decoder)   # taking transpose because the of shape issues \n",
        "          input_to_decoder_ = input_to_decoder__[i]           # taking i'th value of the input length. Gives shape (32,)\n",
        "          input_to_decoder_ = tf.reshape(input_to_decoder_,[-1,1])   # reshape to (32,1) because of shape issues in onestepdecoder \n",
        "        # Call onestepdecoder for each token in decoder_input\n",
        "          output,state_h,state_c,attention_weights,context_vector=self.onestepdecoder(input_to_decoder_,encoder_output,decoder_hidden_state,decoder_cell_state)\n",
        "        # Store the output in tensorarray\n",
        "          tensor.append(output)\n",
        "        # Return the tensor array\n",
        "        tensor = tf.convert_to_tensor(tensor)  # converting list of tensors to tensor of tensors\n",
        "        tensor = tf.transpose(tensor, [1, 0, 2])   # interchanging dimensions because tensor shape is (11,32,13) .Proper output should be (32,11,13)\n",
        "        return tensor"
      ],
      "execution_count": 28,
      "outputs": []
    },
    {
      "cell_type": "markdown",
      "metadata": {
        "colab_type": "text",
        "id": "FxrL-P8bMJH6"
      },
      "source": [
        "<font color='cyan'>**Grader function - 4**</font>"
      ]
    },
    {
      "cell_type": "code",
      "metadata": {
        "colab_type": "code",
        "id": "rtbx6onFMJXb",
        "colab": {
          "base_uri": "https://localhost:8080/",
          "height": 69
        },
        "outputId": "065ec9e9-c678-4317-8d3a-b5f723e4b282"
      },
      "source": [
        "def grader_decoder(score_fun):\n",
        "    out_vocab_size=13 \n",
        "    embedding_dim=12 \n",
        "    input_length=10\n",
        "    output_length=11\n",
        "    dec_units=16 \n",
        "    att_units=16\n",
        "    batch_size=32\n",
        "    \n",
        "    target_sentences=tf.random.uniform(shape=(batch_size,output_length),maxval=10,minval=0,dtype=tf.int32)\n",
        "    encoder_output=tf.random.uniform(shape=[batch_size,input_length,dec_units])\n",
        "    state_h=tf.random.uniform(shape=[batch_size,dec_units])\n",
        "    state_c=tf.random.uniform(shape=[batch_size,dec_units])\n",
        "    \n",
        "    decoder=Decoder(out_vocab_size, embedding_dim, output_length, dec_units ,score_fun ,att_units)\n",
        "    output=decoder(target_sentences,encoder_output, state_h, state_c)\n",
        "    assert(output.shape==(batch_size,output_length,out_vocab_size))\n",
        "    return True\n",
        "print(grader_decoder('dot'))\n",
        "print(grader_decoder('general'))\n",
        "print(grader_decoder('concat'))"
      ],
      "execution_count": 29,
      "outputs": [
        {
          "output_type": "stream",
          "text": [
            "True\n",
            "True\n",
            "True\n"
          ],
          "name": "stdout"
        }
      ]
    },
    {
      "cell_type": "markdown",
      "metadata": {
        "colab_type": "text",
        "id": "fC1T1EOoMTqC"
      },
      "source": [
        "## Encoder Decoder model"
      ]
    },
    {
      "cell_type": "code",
      "metadata": {
        "colab_type": "code",
        "id": "FfqBIe20MT3D",
        "colab": {}
      },
      "source": [
        "from tensorflow.keras.layers import Input, Softmax, RNN, Dense, Embedding, LSTM\n",
        "\n",
        "class encoder_decoder(tf.keras.Model):\n",
        "  def __init__(self, encoder_inputs_length, decoder_inputs_length, output_vocab_size, score):\n",
        "    #Intialize objects from encoder decoder\n",
        "    super().__init__()\n",
        "    self.score = score\n",
        "    self.encoder = Encoder(inp_vocab_size=len(inp_lang.word_index)+1, embedding_size=20, input_length=encoder_inputs_length, lstm_size=16)\n",
        "    self.decoder = Decoder(out_vocab_size=len(targ_lang.word_index)+1, embedding_dim=20, output_length=decoder_inputs_length, dec_units=16, score_fun=self.score, att_units=16)\n",
        "    self.dense   = Dense(len(targ_lang.word_index)+1, activation='softmax')\n",
        "\n",
        "  def call(self,data):\n",
        "    input_to_encoder, input_to_decoder = data[0], data[1]\n",
        "    #Intialize encoder states, Pass the encoder_sequence to the embedding layer\n",
        "    initial_state=self.encoder.initialize_states(batch_size=64)\n",
        "    encoder_output, encoder_h, encoder_c = self.encoder(input_to_encoder,initial_state)\n",
        "\n",
        "    # Decoder initial states are encoder final states, Initialize it accordingly\n",
        "    #dec_input = tf.expand_dims([targ_lang.word_index['<start>']] * 128, 1)\n",
        "    # Pass the decoder sequence,encoder_output,decoder states to Decoder\n",
        "    decoder_output = self.decoder(input_to_decoder, encoder_output, encoder_h, encoder_c)\n",
        "    output = self.dense(decoder_output)\n",
        "\n",
        "    # return the decoder output\n",
        "    return output"
      ],
      "execution_count": null,
      "outputs": []
    },
    {
      "cell_type": "code",
      "metadata": {
        "id": "zE-1Pb-maZUY",
        "colab_type": "code",
        "colab": {}
      },
      "source": [
        "model  = encoder_decoder(encoder_inputs_length=30,decoder_inputs_length=20,output_vocab_size=len(targ_lang.word_index)+1, score='dot') # wont be using this approach"
      ],
      "execution_count": null,
      "outputs": []
    },
    {
      "cell_type": "markdown",
      "metadata": {
        "colab_type": "text",
        "id": "WVRxB-FDMJWL"
      },
      "source": [
        "## Custom loss function"
      ]
    },
    {
      "cell_type": "code",
      "metadata": {
        "colab_type": "code",
        "id": "QY_3izrXMs8y",
        "colab": {}
      },
      "source": [
        "optimizer = tf.keras.optimizers.Adam()\n",
        "loss_object = tf.keras.losses.SparseCategoricalCrossentropy(\n",
        "    from_logits=True, reduction='none')\n",
        "\n",
        "def custom_lossfunction(targets,logits):\n",
        "  # Custom loss function that will not consider the loss for padded zeros.\n",
        "  # Refer https://www.tensorflow.org/tutorials/text/nmt_with_attention#define_the_optimizer_and_the_loss_function same code used\n",
        "  mask = tf.math.logical_not(tf.math.equal(targets, 0))\n",
        "  loss_ = loss_object(targets, logits)\n",
        "\n",
        "  mask = tf.cast(mask, dtype=loss_.dtype)\n",
        "  loss_ *= mask\n",
        "\n",
        "  return tf.reduce_mean(loss_)"
      ],
      "execution_count": 30,
      "outputs": []
    },
    {
      "cell_type": "markdown",
      "metadata": {
        "id": "Zmrq0MhVP9Je",
        "colab_type": "text"
      },
      "source": [
        "## Train model"
      ]
    },
    {
      "cell_type": "code",
      "metadata": {
        "colab_type": "code",
        "id": "fgyWwZWeMxGQ",
        "colab": {}
      },
      "source": [
        "# Implement teacher forcing while training your model. You can do it two ways.\n",
        "# Prepare your data, encoder_input,decoder_input and decoder_output\n",
        "# if decoder input is \n",
        "# <start> Hi how are you\n",
        "# decoder output should be\n",
        "# Hi How are you <end>\n",
        "# i.e when you have send <start>-- decoder predicted Hi, 'Hi' decoder predicted 'How' .. e.t.c\n",
        "# from https://www.tensorflow.org/tutorials/text/nmt_with_attention#training with minor changes\n",
        "\n",
        "@tf.function\n",
        "def train_step(inp, targ, enc_hidden):\n",
        "  loss = 0\n",
        "\n",
        "  with tf.GradientTape() as tape:\n",
        "    enc_output, enc_hidden_h, enc_hidden_c = encoder(inp, enc_hidden)\n",
        "\n",
        "    dec_hidden_h, dec_hidden_c = enc_hidden_h, enc_hidden_c\n",
        "\n",
        "    dec_input = tf.expand_dims([targ_lang.word_index['<start>']] * 128, 1)\n",
        "\n",
        "    # Teacher forcing - feeding the target as the next input\n",
        "    for t in tqdm(range(1, targ.shape[1])):\n",
        "      # passing enc_output to the decoder\n",
        "      predictions, dec_hidden_h, dec_hidden_c, _, _ = onestepdecoder(dec_input,enc_output, dec_hidden_h, dec_hidden_c)\n",
        "\n",
        "      loss += custom_lossfunction(targ[:, t], predictions)\n",
        "\n",
        "      # using teacher forcing\n",
        "      dec_input = tf.expand_dims(targ[:, t], 1)\n",
        "\n",
        "  batch_loss = (loss / int(targ.shape[1]))\n",
        "\n",
        "  variables = encoder.trainable_variables + onestepdecoder.trainable_variables\n",
        "\n",
        "  gradients = tape.gradient(loss, variables)\n",
        "\n",
        "  optimizer.apply_gradients(zip(gradients, variables))\n",
        "\n",
        "  return batch_loss\n",
        "\n",
        "# or\n",
        " \n",
        "# model.fit([train_ita,train_eng],train_eng[:,1:]..)\n",
        "# Note: If you follow this approach some grader functions might return false and this is fine."
      ],
      "execution_count": 31,
      "outputs": []
    },
    {
      "cell_type": "markdown",
      "metadata": {
        "colab_type": "text",
        "id": "wqtZUQF2NuZE"
      },
      "source": [
        "# Model-dot\n",
        "\n"
      ]
    },
    {
      "cell_type": "markdown",
      "metadata": {
        "id": "uXHW6sliPMEN",
        "colab_type": "text"
      },
      "source": [
        "## Initialization "
      ]
    },
    {
      "cell_type": "code",
      "metadata": {
        "id": "Nov7qwFE36Tg",
        "colab_type": "code",
        "colab": {}
      },
      "source": [
        "dataset = tf.data.Dataset.from_tensor_slices((input_tensor_train, target_tensor_train)).shuffle(len(input_tensor_train))\n",
        "dataset = dataset.batch(128, drop_remainder=True)\n",
        "steps_per_epoch = len(input_tensor_train)//128"
      ],
      "execution_count": null,
      "outputs": []
    },
    {
      "cell_type": "code",
      "metadata": {
        "id": "WbGJIsBX3nxu",
        "colab_type": "code",
        "colab": {}
      },
      "source": [
        "encoder = Encoder(inp_vocab_size=len(inp_lang.word_index)+1, embedding_size=50, input_length=50, lstm_size=128)  \n",
        "decoder = Decoder(out_vocab_size=len(targ_lang.word_index)+1, embedding_dim=50, output_length=50, dec_units=128, score_fun='dot', att_units=128)\n",
        "onestepdecoder=OneStepDecoder(len(targ_lang.word_index)+1, 50, 50, 128 ,'dot' ,128)"
      ],
      "execution_count": null,
      "outputs": []
    },
    {
      "cell_type": "markdown",
      "metadata": {
        "id": "cS0UgLiaKNej",
        "colab_type": "text"
      },
      "source": [
        "## Train"
      ]
    },
    {
      "cell_type": "code",
      "metadata": {
        "id": "uyL-oGEhHkIO",
        "colab_type": "code",
        "colab": {
          "base_uri": "https://localhost:8080/",
          "height": 34
        },
        "outputId": "aec70e33-faae-4182-c060-4876f7175028"
      },
      "source": [
        "from google.colab import drive\n",
        "drive.mount('/content/gdrive')"
      ],
      "execution_count": null,
      "outputs": [
        {
          "output_type": "stream",
          "text": [
            "Drive already mounted at /content/gdrive; to attempt to forcibly remount, call drive.mount(\"/content/gdrive\", force_remount=True).\n"
          ],
          "name": "stdout"
        }
      ]
    },
    {
      "cell_type": "code",
      "metadata": {
        "id": "Sns89zeD3SAS",
        "colab_type": "code",
        "colab": {
          "base_uri": "https://localhost:8080/",
          "height": 1000
        },
        "outputId": "24902758-e9d0-4951-ef54-ee3163e0cfe7"
      },
      "source": [
        "# from https://www.tensorflow.org/tutorials/text/nmt_with_attention#training with minor changes\n",
        "EPOCHS = 5\n",
        "import time\n",
        "checkpoint_dir = './content/gdrive/My Drive/Colab Notebooks/Seq2Seq checkpoiints/training_checkpoints'\n",
        "checkpoint_prefix = os.path.join(checkpoint_dir, \"ckpt\")\n",
        "checkpoint = tf.train.Checkpoint(optimizer=optimizer,\n",
        "                                 encoder=encoder,\n",
        "                                 decoder=onestepdecoder)\n",
        "\n",
        "for epoch in range(EPOCHS):\n",
        "  start = time.time()\n",
        "\n",
        "  enc_hidden = encoder.initialize_states(batch_size=128)\n",
        "  total_loss = 0\n",
        "\n",
        "  for (batch, (inp, targ)) in enumerate(dataset.take(steps_per_epoch)):\n",
        "    batch_loss = train_step(inp, targ, enc_hidden)\n",
        "    total_loss += batch_loss\n",
        "\n",
        "    if batch % 100 == 0:\n",
        "      print('Epoch {} Batch {} Loss {:.4f}'.format(epoch + 1,\n",
        "                                                   batch,\n",
        "                                                   batch_loss.numpy()))\n",
        "  # saving (checkpoint) the model every 2 epochs\n",
        "  checkpoint.save(file_prefix = checkpoint_prefix)\n",
        "\n",
        "  print('Epoch {} Loss {:.4f}'.format(epoch + 1,\n",
        "                                      total_loss / steps_per_epoch))\n",
        "  print('Time taken for epoch {} sec\\n'.format(time.time() - start))"
      ],
      "execution_count": null,
      "outputs": [
        {
          "output_type": "stream",
          "text": [
            "100%|██████████| 111/111 [00:39<00:00,  2.81it/s]\n",
            "100%|██████████| 111/111 [00:36<00:00,  3.02it/s]\n"
          ],
          "name": "stderr"
        },
        {
          "output_type": "stream",
          "text": [
            "Epoch 1 Batch 0 Loss 0.6700\n",
            "Epoch 1 Batch 100 Loss 0.3592\n",
            "Epoch 1 Batch 200 Loss 0.3460\n",
            "Epoch 1 Batch 300 Loss 0.3350\n",
            "Epoch 1 Batch 400 Loss 0.3133\n",
            "Epoch 1 Batch 500 Loss 0.3213\n",
            "Epoch 1 Batch 600 Loss 0.3501\n",
            "Epoch 1 Batch 700 Loss 0.3276\n",
            "Epoch 1 Batch 800 Loss 0.3135\n",
            "Epoch 1 Batch 900 Loss 0.3124\n",
            "Epoch 1 Batch 1000 Loss 0.3092\n",
            "Epoch 1 Batch 1100 Loss 0.3079\n",
            "Epoch 1 Batch 1200 Loss 0.3082\n",
            "Epoch 1 Batch 1300 Loss 0.2945\n",
            "Epoch 1 Batch 1400 Loss 0.3155\n",
            "Epoch 1 Batch 1500 Loss 0.3090\n",
            "Epoch 1 Batch 1600 Loss 0.2869\n",
            "Epoch 1 Batch 1700 Loss 0.3049\n",
            "Epoch 1 Batch 1800 Loss 0.2904\n",
            "Epoch 1 Batch 1900 Loss 0.2790\n",
            "Epoch 1 Batch 2000 Loss 0.2807\n",
            "Epoch 1 Batch 2100 Loss 0.2680\n",
            "Epoch 1 Loss 0.3164\n",
            "Time taken for epoch 1390.4504945278168 sec\n",
            "\n",
            "Epoch 2 Batch 0 Loss 0.2842\n",
            "Epoch 2 Batch 100 Loss 0.2779\n",
            "Epoch 2 Batch 200 Loss 0.2906\n",
            "Epoch 2 Batch 300 Loss 0.2680\n",
            "Epoch 2 Batch 400 Loss 0.2756\n",
            "Epoch 2 Batch 500 Loss 0.2681\n",
            "Epoch 2 Batch 600 Loss 0.2519\n",
            "Epoch 2 Batch 700 Loss 0.2770\n",
            "Epoch 2 Batch 800 Loss 0.2993\n",
            "Epoch 2 Batch 900 Loss 0.2563\n",
            "Epoch 2 Batch 1000 Loss 0.2659\n",
            "Epoch 2 Batch 1100 Loss 0.2568\n",
            "Epoch 2 Batch 1200 Loss 0.2570\n",
            "Epoch 2 Batch 1300 Loss 0.2604\n",
            "Epoch 2 Batch 1400 Loss 0.2488\n",
            "Epoch 2 Batch 1500 Loss 0.2269\n",
            "Epoch 2 Batch 1600 Loss 0.2415\n",
            "Epoch 2 Batch 1700 Loss 0.2413\n",
            "Epoch 2 Batch 1800 Loss 0.2285\n",
            "Epoch 2 Batch 1900 Loss 0.2357\n",
            "Epoch 2 Batch 2000 Loss 0.2273\n",
            "Epoch 2 Batch 2100 Loss 0.2118\n",
            "Epoch 2 Loss 0.2562\n",
            "Time taken for epoch 1223.832174539566 sec\n",
            "\n",
            "Epoch 3 Batch 0 Loss 0.2088\n",
            "Epoch 3 Batch 100 Loss 0.2037\n",
            "Epoch 3 Batch 200 Loss 0.2220\n",
            "Epoch 3 Batch 300 Loss 0.2064\n",
            "Epoch 3 Batch 400 Loss 0.2043\n",
            "Epoch 3 Batch 500 Loss 0.2026\n",
            "Epoch 3 Batch 600 Loss 0.1995\n",
            "Epoch 3 Batch 700 Loss 0.1960\n",
            "Epoch 3 Batch 800 Loss 0.2152\n",
            "Epoch 3 Batch 900 Loss 0.2003\n",
            "Epoch 3 Batch 1000 Loss 0.1990\n",
            "Epoch 3 Batch 1100 Loss 0.2054\n",
            "Epoch 3 Batch 1200 Loss 0.1927\n",
            "Epoch 3 Batch 1300 Loss 0.1944\n",
            "Epoch 3 Batch 1400 Loss 0.1975\n",
            "Epoch 3 Batch 1500 Loss 0.1820\n",
            "Epoch 3 Batch 1600 Loss 0.1662\n",
            "Epoch 3 Batch 1700 Loss 0.1753\n",
            "Epoch 3 Batch 1800 Loss 0.1850\n",
            "Epoch 3 Batch 1900 Loss 0.2037\n",
            "Epoch 3 Batch 2000 Loss 0.1790\n",
            "Epoch 3 Batch 2100 Loss 0.1831\n",
            "Epoch 3 Loss 0.2011\n",
            "Time taken for epoch 1223.4508936405182 sec\n",
            "\n",
            "Epoch 4 Batch 0 Loss 0.2696\n",
            "Epoch 4 Batch 100 Loss 0.2333\n",
            "Epoch 4 Batch 200 Loss 0.2014\n",
            "Epoch 4 Batch 300 Loss 0.2145\n",
            "Epoch 4 Batch 400 Loss 0.2002\n",
            "Epoch 4 Batch 500 Loss 0.1897\n",
            "Epoch 4 Batch 600 Loss 0.2124\n",
            "Epoch 4 Batch 700 Loss 0.2136\n",
            "Epoch 4 Batch 800 Loss 0.1815\n",
            "Epoch 4 Batch 900 Loss 0.1715\n",
            "Epoch 4 Batch 1000 Loss 0.1771\n",
            "Epoch 4 Batch 1100 Loss 0.1696\n",
            "Epoch 4 Batch 1200 Loss 0.1988\n",
            "Epoch 4 Batch 1300 Loss 0.1603\n",
            "Epoch 4 Batch 1400 Loss 0.2008\n",
            "Epoch 4 Batch 1500 Loss 0.1779\n",
            "Epoch 4 Batch 1600 Loss 0.1565\n",
            "Epoch 4 Batch 1700 Loss 0.1588\n",
            "Epoch 4 Batch 1800 Loss 0.1761\n",
            "Epoch 4 Batch 1900 Loss 0.1880\n",
            "Epoch 4 Batch 2000 Loss 0.1707\n",
            "Epoch 4 Batch 2100 Loss 0.1671\n",
            "Epoch 4 Loss 0.1895\n",
            "Time taken for epoch 1223.12153840065 sec\n",
            "\n",
            "Epoch 5 Batch 0 Loss 0.1723\n",
            "Epoch 5 Batch 100 Loss 0.1614\n",
            "Epoch 5 Batch 200 Loss 0.1741\n",
            "Epoch 5 Batch 300 Loss 0.1475\n",
            "Epoch 5 Batch 400 Loss 0.1563\n",
            "Epoch 5 Batch 500 Loss 0.1576\n",
            "Epoch 5 Batch 600 Loss 0.1578\n",
            "Epoch 5 Batch 700 Loss 0.1620\n",
            "Epoch 5 Batch 800 Loss 0.1599\n",
            "Epoch 5 Batch 900 Loss 0.1660\n",
            "Epoch 5 Batch 1000 Loss 0.1533\n",
            "Epoch 5 Batch 1100 Loss 0.1565\n",
            "Epoch 5 Batch 1200 Loss 0.1475\n",
            "Epoch 5 Batch 1300 Loss 0.1460\n",
            "Epoch 5 Batch 1400 Loss 0.1705\n",
            "Epoch 5 Batch 1500 Loss 0.1599\n",
            "Epoch 5 Batch 1600 Loss 0.1356\n",
            "Epoch 5 Batch 1700 Loss 0.1509\n",
            "Epoch 5 Batch 1800 Loss 0.1669\n",
            "Epoch 5 Batch 1900 Loss 0.1360\n",
            "Epoch 5 Batch 2000 Loss 0.1591\n",
            "Epoch 5 Batch 2100 Loss 0.1508\n",
            "Epoch 5 Loss 0.1561\n",
            "Time taken for epoch 1222.7273924350739 sec\n",
            "\n"
          ],
          "name": "stdout"
        }
      ]
    },
    {
      "cell_type": "code",
      "metadata": {
        "id": "l4VKqljudara",
        "colab_type": "code",
        "colab": {
          "base_uri": "https://localhost:8080/",
          "height": 450
        },
        "outputId": "195a7c85-47ab-476f-b22c-5d808b799bb9"
      },
      "source": [
        "# from https://www.tensorflow.org/tutorials/text/nmt_with_attention#training with minor changes\n",
        "EPOCHS = 1\n",
        "import time\n",
        "checkpoint_dir = './training_checkpoints'\n",
        "checkpoint_prefix = os.path.join(checkpoint_dir, \"ckpt\")\n",
        "checkpoint = tf.train.Checkpoint(optimizer=optimizer,\n",
        "                                 encoder=encoder,\n",
        "                                 decoder=onestepdecoder)\n",
        "\n",
        "for epoch in range(EPOCHS):\n",
        "  start = time.time()\n",
        "\n",
        "  enc_hidden = encoder.initialize_states(batch_size=128)\n",
        "  total_loss = 0\n",
        "\n",
        "  for (batch, (inp, targ)) in enumerate(dataset.take(steps_per_epoch)):\n",
        "    batch_loss = train_step(inp, targ, enc_hidden)\n",
        "    total_loss += batch_loss\n",
        "\n",
        "    if batch % 100 == 0:\n",
        "      print('Epoch {} Batch {} Loss {:.4f}'.format(epoch + 1,\n",
        "                                                   batch,\n",
        "                                                   batch_loss.numpy()))\n",
        "  # saving (checkpoint) the model every 2 epochs\n",
        "  checkpoint.save(file_prefix = checkpoint_prefix)\n",
        "\n",
        "  print('Epoch {} Loss {:.4f}'.format(epoch + 1,\n",
        "                                      total_loss / steps_per_epoch))\n",
        "  print('Time taken for epoch {} sec\\n'.format(time.time() - start))"
      ],
      "execution_count": null,
      "outputs": [
        {
          "output_type": "stream",
          "text": [
            "Epoch 1 Batch 0 Loss 0.1544\n",
            "Epoch 1 Batch 100 Loss 0.1734\n",
            "Epoch 1 Batch 200 Loss 0.1467\n",
            "Epoch 1 Batch 300 Loss 0.1385\n",
            "Epoch 1 Batch 400 Loss 0.1433\n",
            "Epoch 1 Batch 500 Loss 0.1282\n",
            "Epoch 1 Batch 600 Loss 0.1249\n",
            "Epoch 1 Batch 700 Loss 0.1257\n",
            "Epoch 1 Batch 800 Loss 0.1416\n",
            "Epoch 1 Batch 900 Loss 0.1661\n",
            "Epoch 1 Batch 1000 Loss 0.1407\n",
            "Epoch 1 Batch 1100 Loss 0.1337\n",
            "Epoch 1 Batch 1200 Loss 0.1221\n",
            "Epoch 1 Batch 1300 Loss 0.1429\n",
            "Epoch 1 Batch 1400 Loss 0.1398\n",
            "Epoch 1 Batch 1500 Loss 0.1172\n",
            "Epoch 1 Batch 1600 Loss 0.1373\n",
            "Epoch 1 Batch 1700 Loss 0.1283\n",
            "Epoch 1 Batch 1800 Loss 0.1204\n",
            "Epoch 1 Batch 1900 Loss 0.1262\n",
            "Epoch 1 Batch 2000 Loss 0.1283\n",
            "Epoch 1 Batch 2100 Loss 0.1232\n",
            "Epoch 1 Loss 0.1378\n",
            "Time taken for epoch 1222.1849255561829 sec\n",
            "\n"
          ],
          "name": "stdout"
        }
      ]
    },
    {
      "cell_type": "code",
      "metadata": {
        "id": "8H1HAolaix7K",
        "colab_type": "code",
        "colab": {
          "base_uri": "https://localhost:8080/",
          "height": 450
        },
        "outputId": "7dc06c92-8523-4995-ba7b-dcb53ad26168"
      },
      "source": [
        "# from https://www.tensorflow.org/tutorials/text/nmt_with_attention#training with minor changes\n",
        "EPOCHS = 1\n",
        "import time\n",
        "checkpoint_dir = '.extra/training_checkpoints'\n",
        "checkpoint_prefix = os.path.join(checkpoint_dir, \"ckpt\")\n",
        "checkpoint = tf.train.Checkpoint(optimizer=tf.keras.optimizers.Adam(0.001),\n",
        "                                 encoder=encoder,\n",
        "                                 decoder=onestepdecoder)\n",
        "\n",
        "for epoch in range(EPOCHS):\n",
        "  start = time.time()\n",
        "\n",
        "  enc_hidden = encoder.initialize_states(batch_size=128)\n",
        "  total_loss = 0\n",
        "\n",
        "  for (batch, (inp, targ)) in enumerate(dataset.take(steps_per_epoch)):\n",
        "    batch_loss = train_step(inp, targ, enc_hidden)\n",
        "    total_loss += batch_loss\n",
        "\n",
        "    if batch % 100 == 0:\n",
        "      print('Epoch {} Batch {} Loss {:.4f}'.format(epoch + 1,\n",
        "                                                   batch,\n",
        "                                                   batch_loss.numpy()))\n",
        "  # saving (checkpoint) the model every 2 epochs\n",
        "  checkpoint.save(file_prefix = checkpoint_prefix)\n",
        "\n",
        "  print('Epoch {} Loss {:.4f}'.format(epoch + 1,\n",
        "                                      total_loss / steps_per_epoch))\n",
        "  print('Time taken for epoch {} sec\\n'.format(time.time() - start))"
      ],
      "execution_count": null,
      "outputs": [
        {
          "output_type": "stream",
          "text": [
            "Epoch 1 Batch 0 Loss 0.1257\n",
            "Epoch 1 Batch 100 Loss 0.1182\n",
            "Epoch 1 Batch 200 Loss 0.1139\n",
            "Epoch 1 Batch 300 Loss 0.1213\n",
            "Epoch 1 Batch 400 Loss 0.1174\n",
            "Epoch 1 Batch 500 Loss 0.1270\n",
            "Epoch 1 Batch 600 Loss 0.1192\n",
            "Epoch 1 Batch 700 Loss 0.1254\n",
            "Epoch 1 Batch 800 Loss 0.1414\n",
            "Epoch 1 Batch 900 Loss 0.1245\n",
            "Epoch 1 Batch 1000 Loss 0.1206\n",
            "Epoch 1 Batch 1100 Loss 0.1091\n",
            "Epoch 1 Batch 1200 Loss 0.1340\n",
            "Epoch 1 Batch 1300 Loss 0.1220\n",
            "Epoch 1 Batch 1400 Loss 0.1174\n",
            "Epoch 1 Batch 1500 Loss 0.1186\n",
            "Epoch 1 Batch 1600 Loss 0.1321\n",
            "Epoch 1 Batch 1700 Loss 0.1280\n",
            "Epoch 1 Batch 1800 Loss 0.1115\n",
            "Epoch 1 Batch 1900 Loss 0.1259\n",
            "Epoch 1 Batch 2000 Loss 0.1111\n",
            "Epoch 1 Batch 2100 Loss 0.1052\n",
            "Epoch 1 Loss 0.1205\n",
            "Time taken for epoch 1221.1852684020996 sec\n",
            "\n"
          ],
          "name": "stdout"
        }
      ]
    },
    {
      "cell_type": "code",
      "metadata": {
        "id": "50p4Ab9anEO3",
        "colab_type": "code",
        "colab": {
          "base_uri": "https://localhost:8080/",
          "height": 450
        },
        "outputId": "73eb2cad-9ebc-433e-d4ba-331c8df6e54e"
      },
      "source": [
        "# from https://www.tensorflow.org/tutorials/text/nmt_with_attention#training with minor changes\n",
        "EPOCHS = 1\n",
        "import time\n",
        "checkpoint_dir = './content/gdrive/My Drive/Colab Notebooks/Seq2Seq checkpoiints/training_checkpoints'\n",
        "checkpoint_prefix = os.path.join(checkpoint_dir, \"ckpt\")\n",
        "checkpoint = tf.train.Checkpoint(optimizer=tf.keras.optimizers.Adam(0.001),\n",
        "                                 encoder=encoder,\n",
        "                                 decoder=onestepdecoder)\n",
        "\n",
        "for epoch in range(EPOCHS):\n",
        "  start = time.time()\n",
        "\n",
        "  enc_hidden = encoder.initialize_states(batch_size=128)\n",
        "  total_loss = 0\n",
        "\n",
        "  for (batch, (inp, targ)) in enumerate(dataset.take(steps_per_epoch)):\n",
        "    batch_loss = train_step(inp, targ, enc_hidden)\n",
        "    total_loss += batch_loss\n",
        "\n",
        "    if batch % 100 == 0:\n",
        "      print('Epoch {} Batch {} Loss {:.4f}'.format(epoch + 1,\n",
        "                                                   batch,\n",
        "                                                   batch_loss.numpy()))\n",
        "  # saving (checkpoint) the model every 2 epochs\n",
        "  checkpoint.save(file_prefix = checkpoint_prefix)\n",
        "\n",
        "  print('Epoch {} Loss {:.4f}'.format(epoch + 1,\n",
        "                                      total_loss / steps_per_epoch))\n",
        "  print('Time taken for epoch {} sec\\n'.format(time.time() - start))"
      ],
      "execution_count": null,
      "outputs": [
        {
          "output_type": "stream",
          "text": [
            "Epoch 1 Batch 0 Loss 0.1105\n",
            "Epoch 1 Batch 100 Loss 0.1105\n",
            "Epoch 1 Batch 200 Loss 0.1104\n",
            "Epoch 1 Batch 300 Loss 0.1098\n",
            "Epoch 1 Batch 400 Loss 0.1101\n",
            "Epoch 1 Batch 500 Loss 0.1044\n",
            "Epoch 1 Batch 600 Loss 0.1004\n",
            "Epoch 1 Batch 700 Loss 0.1069\n",
            "Epoch 1 Batch 800 Loss 0.1010\n",
            "Epoch 1 Batch 900 Loss 0.0985\n",
            "Epoch 1 Batch 1000 Loss 0.1023\n",
            "Epoch 1 Batch 1100 Loss 0.1206\n",
            "Epoch 1 Batch 1200 Loss 0.1095\n",
            "Epoch 1 Batch 1300 Loss 0.0999\n",
            "Epoch 1 Batch 1400 Loss 0.1287\n",
            "Epoch 1 Batch 1500 Loss 0.1050\n",
            "Epoch 1 Batch 1600 Loss 0.1158\n",
            "Epoch 1 Batch 1700 Loss 0.1038\n",
            "Epoch 1 Batch 1800 Loss 0.1072\n",
            "Epoch 1 Batch 1900 Loss 0.1023\n",
            "Epoch 1 Batch 2000 Loss 0.1068\n",
            "Epoch 1 Batch 2100 Loss 0.1188\n",
            "Epoch 1 Loss 0.1065\n",
            "Time taken for epoch 1216.8304238319397 sec\n",
            "\n"
          ],
          "name": "stdout"
        }
      ]
    },
    {
      "cell_type": "code",
      "metadata": {
        "id": "3BDIM7G_s5Xx",
        "colab_type": "code",
        "colab": {
          "base_uri": "https://localhost:8080/",
          "height": 450
        },
        "outputId": "d9dfb9ae-60a4-4454-d2fe-6b98a9f1d7fd"
      },
      "source": [
        "# from https://www.tensorflow.org/tutorials/text/nmt_with_attention#training with minor changes\n",
        "EPOCHS = 1\n",
        "import time\n",
        "checkpoint_dir = './training_checkpoints'\n",
        "checkpoint_prefix = os.path.join(checkpoint_dir, \"ckpt\")\n",
        "checkpoint = tf.train.Checkpoint(optimizer=tf.keras.optimizers.Adam(0.001),\n",
        "                                 encoder=encoder,\n",
        "                                 decoder=onestepdecoder)\n",
        "\n",
        "for epoch in range(EPOCHS):\n",
        "  start = time.time()\n",
        "\n",
        "  enc_hidden = encoder.initialize_states(batch_size=128)\n",
        "  total_loss = 0\n",
        "\n",
        "  for (batch, (inp, targ)) in enumerate(dataset.take(steps_per_epoch)):\n",
        "    batch_loss = train_step(inp, targ, enc_hidden)\n",
        "    total_loss += batch_loss\n",
        "\n",
        "    if batch % 100 == 0:\n",
        "      print('Epoch {} Batch {} Loss {:.4f}'.format(epoch + 1,\n",
        "                                                   batch,\n",
        "                                                   batch_loss.numpy()))\n",
        "  # saving (checkpoint) the model every 2 epochs\n",
        "  checkpoint.save(file_prefix = checkpoint_prefix)\n",
        "\n",
        "  print('Epoch {} Loss {:.4f}'.format(epoch + 1,\n",
        "                                      total_loss / steps_per_epoch))\n",
        "  print('Time taken for epoch {} sec\\n'.format(time.time() - start))"
      ],
      "execution_count": null,
      "outputs": [
        {
          "output_type": "stream",
          "text": [
            "Epoch 1 Batch 0 Loss 0.0966\n",
            "Epoch 1 Batch 100 Loss 0.0948\n",
            "Epoch 1 Batch 200 Loss 0.1139\n",
            "Epoch 1 Batch 300 Loss 0.0973\n",
            "Epoch 1 Batch 400 Loss 0.0949\n",
            "Epoch 1 Batch 500 Loss 0.0931\n",
            "Epoch 1 Batch 600 Loss 0.1048\n",
            "Epoch 1 Batch 700 Loss 0.0969\n",
            "Epoch 1 Batch 800 Loss 0.0946\n",
            "Epoch 1 Batch 900 Loss 0.0982\n",
            "Epoch 1 Batch 1000 Loss 0.0947\n",
            "Epoch 1 Batch 1100 Loss 0.0889\n",
            "Epoch 1 Batch 1200 Loss 0.0789\n",
            "Epoch 1 Batch 1300 Loss 0.0816\n",
            "Epoch 1 Batch 1400 Loss 0.1003\n",
            "Epoch 1 Batch 1500 Loss 0.0896\n",
            "Epoch 1 Batch 1600 Loss 0.0901\n",
            "Epoch 1 Batch 1700 Loss 0.0872\n",
            "Epoch 1 Batch 1800 Loss 0.1124\n",
            "Epoch 1 Batch 1900 Loss 0.1090\n",
            "Epoch 1 Batch 2000 Loss 0.0968\n",
            "Epoch 1 Batch 2100 Loss 0.1051\n",
            "Epoch 1 Loss 0.0970\n",
            "Time taken for epoch 1216.9346754550934 sec\n",
            "\n"
          ],
          "name": "stdout"
        }
      ]
    },
    {
      "cell_type": "markdown",
      "metadata": {
        "id": "PkOiaLuJQMDG",
        "colab_type": "text"
      },
      "source": [
        "## Model-1 summary:"
      ]
    },
    {
      "cell_type": "markdown",
      "metadata": {
        "id": "ZRaRWvmmQQE3",
        "colab_type": "text"
      },
      "source": [
        "Model is trained for 9 epochs.\n",
        "\n",
        "Optimizer used is Adam with varying learning rate mentioned below.\n",
        "\n",
        "  *   First 6 epochs on default learning rate 0.01.\n",
        "  *   Next 3 epohs on a slower learning rate 0.001.\n",
        "\n",
        "Batch size used is 128.\n",
        "\n",
        "Embed size = Input length = Output length = 50\n",
        "\n",
        "Decoder units = Lstm units = Attention units = 128"
      ]
    },
    {
      "cell_type": "markdown",
      "metadata": {
        "colab_type": "text",
        "id": "6DpC9zlzMcXp"
      },
      "source": [
        "## Inference"
      ]
    },
    {
      "cell_type": "markdown",
      "metadata": {
        "colab_type": "text",
        "id": "Z5NhESYyMW_t"
      },
      "source": [
        "Plot attention weights"
      ]
    },
    {
      "cell_type": "code",
      "metadata": {
        "colab_type": "code",
        "id": "pkEY7SsBMtrC",
        "colab": {}
      },
      "source": [
        "def plot_attention(attention, sentence, predicted_sentence):\n",
        "  #Refer: https://www.tensorflow.org/tutorials/text/nmt_with_attention#translate code taken from same\n",
        "\n",
        "  fig = plt.figure(figsize=(10,10))\n",
        "  ax = fig.add_subplot(1, 1, 1)\n",
        "  ax.matshow(attention, cmap='viridis')\n",
        "\n",
        "  fontdict = {'fontsize': 14}\n",
        "\n",
        "  ax.set_xticklabels([''] + sentence, fontdict=fontdict, rotation=90)\n",
        "  ax.set_yticklabels([''] + predicted_sentence, fontdict=fontdict)\n",
        "\n",
        "  ax.xaxis.set_major_locator(ticker.MultipleLocator(1))\n",
        "  ax.yaxis.set_major_locator(ticker.MultipleLocator(1))\n",
        "\n",
        "  plt.show()"
      ],
      "execution_count": null,
      "outputs": []
    },
    {
      "cell_type": "markdown",
      "metadata": {
        "colab_type": "text",
        "id": "e1IhdBrgQYJr"
      },
      "source": [
        "## Prediction"
      ]
    },
    {
      "cell_type": "code",
      "metadata": {
        "colab_type": "code",
        "id": "MP3kLZoPMvSu",
        "colab": {}
      },
      "source": [
        "def predict(input_sentence):\n",
        "  #https://www.tensorflow.org/tutorials/text/nmt_with_attention#translate taken from here with minor changes\n",
        "  '''\n",
        "  A. Given input sentence, convert the sentence into integers using tokenizer used earlier\n",
        "  B. Pass the input_sequence to encoder. we get encoder_outputs, last time step hidden and cell state\n",
        "  C. Initialize index of <start> as input to decoder. and encoder final states as input_states to onestepdecoder.\n",
        "  D. till we reach max_length of decoder or till the model predicted word <end>:\n",
        "         predictions, input_states, attention_weights = model.layers[1].onestepdecoder(input_to_decoder, encoder_output, input_states)\n",
        "         Save the attention weights\n",
        "         And get the word using the tokenizer(word index) and then store it in a string.\n",
        "  E. Call plot_attention(#params)\n",
        "  F. Return the predicted sentence\n",
        "  '''\n",
        "  max_length_targ, max_length_inp = target_tensor.shape[1], input_tensor.shape[1]\n",
        "\n",
        "  attention_plot = np.zeros((max_length_targ, max_length_inp))\n",
        "  #attention_plot = []\n",
        "\n",
        "  sentence = preprocess_sentence(input_sentence)\n",
        "\n",
        "  inputs = [inp_lang.word_index[i] for i in sentence.split(' ')]\n",
        "  inputs = tf.keras.preprocessing.sequence.pad_sequences([inputs],\n",
        "                                                         maxlen=max_length_inp,\n",
        "                                                         padding='post')\n",
        "  inputs = tf.convert_to_tensor(inputs)\n",
        "\n",
        "  result = ''\n",
        "\n",
        "  hidden,cell = tf.zeros((1, 128)),tf.zeros((1, 128))\n",
        "  enc_out, enc_hidden, enc_cell = encoder(inputs, [hidden,cell])\n",
        "\n",
        "\n",
        "  dec_hidden, dec_cell = enc_hidden, enc_cell\n",
        "  #dec_input = tf.expand_dims([targ_lang.word_index['<start>']], 1)\n",
        "  dec_input = tf.expand_dims([targ_lang.word_index['<start>']], 0)\n",
        "\n",
        "  for t in range(max_length_targ):\n",
        "    predictions, dec_hidden, dec_cell, attention_weights,_ = onestepdecoder(dec_input,enc_out, dec_hidden, dec_cell)\n",
        "                                                         \n",
        "    #output,dec_h,dec_c,attention_weights,_=onestepdecoder(input_to_decoder,encoder_output,dec_h,dec_c)\n",
        "\n",
        "    # storing the attention weights to plot later on\n",
        "    attention_weights = tf.reshape(attention_weights, (-1, ))\n",
        "    #attention_plot.appeend(attention_weights.numpy())\n",
        "    attention_plot[t] = attention_weights.numpy()\n",
        "\n",
        "    predicted_id = tf.argmax(predictions[0]).numpy()\n",
        "\n",
        "    result += targ_lang.index_word[predicted_id] + ' '\n",
        "\n",
        "    if targ_lang.index_word[predicted_id] == '<end>':\n",
        "      return result, sentence, attention_plot\n",
        "\n",
        "    # the predicted ID is fed back into the model\n",
        "    dec_input = tf.expand_dims([predicted_id], 0)\n",
        "  #attention_plot = np.asarray(attention_plot)\n",
        "  return result, sentence, attention_plot"
      ],
      "execution_count": null,
      "outputs": []
    },
    {
      "cell_type": "code",
      "metadata": {
        "id": "0lCBAgBMH0WV",
        "colab_type": "code",
        "colab": {}
      },
      "source": [
        "def translate(sentence):\n",
        "  result, sentence, attention= predict(sentence)\n",
        "\n",
        "  print('Input: %s' % (sentence))\n",
        "  print('Predicted translation: {}'.format(result))\n",
        "\n",
        "  attention_plot = attention[:len(result.split(' ')), :len(sentence.split(' '))]\n",
        "  plot_attention(attention_plot, sentence.split(' '), result.split(' '))"
      ],
      "execution_count": null,
      "outputs": []
    },
    {
      "cell_type": "code",
      "metadata": {
        "id": "vmG9jifXKLE8",
        "colab_type": "code",
        "colab": {}
      },
      "source": [
        "import matplotlib.pyplot as plt\n",
        "import matplotlib.ticker as ticker"
      ],
      "execution_count": null,
      "outputs": []
    },
    {
      "cell_type": "code",
      "metadata": {
        "id": "Wh5C5qTBSpsU",
        "colab_type": "code",
        "colab": {
          "base_uri": "https://localhost:8080/",
          "height": 676
        },
        "outputId": "27e5e1a2-0df7-4eeb-d1ff-ec924f90086b"
      },
      "source": [
        "translate(df[1][50])"
      ],
      "execution_count": null,
      "outputs": [
        {
          "output_type": "stream",
          "text": [
            "Input: <start> spara ! <end>\n",
            "Predicted translation: get ! <end> \n"
          ],
          "name": "stdout"
        },
        {
          "output_type": "display_data",
          "data": {
            "image/png": "[encoded data removed]",
            "text/plain": [
              "<Figure size 720x720 with 1 Axes>"
            ]
          },
          "metadata": {
            "tags": [],
            "needs_background": "light"
          }
        }
      ]
    },
    {
      "cell_type": "code",
      "metadata": {
        "id": "2UPnX80OIG6J",
        "colab_type": "code",
        "colab": {
          "base_uri": "https://localhost:8080/",
          "height": 676
        },
        "outputId": "07f960de-be99-4fa1-bebe-7c24ae526b64"
      },
      "source": [
        "translate(df[1][1000])"
      ],
      "execution_count": null,
      "outputs": [
        {
          "output_type": "stream",
          "text": [
            "Input: <start> tom ha mentito . <end>\n",
            "Predicted translation: tom lied to lie . <end> \n"
          ],
          "name": "stdout"
        },
        {
          "output_type": "display_data",
          "data": {
            "image/png": "[encoded data removed]",
            "text/plain": [
              "<Figure size 720x720 with 1 Axes>"
            ]
          },
          "metadata": {
            "tags": [],
            "needs_background": "light"
          }
        }
      ]
    },
    {
      "cell_type": "code",
      "metadata": {
        "id": "_eAXFOX2H0q9",
        "colab_type": "code",
        "colab": {
          "base_uri": "https://localhost:8080/",
          "height": 702
        },
        "outputId": "8f474b6b-376e-4849-e39d-90a88ea1a56d"
      },
      "source": [
        "translate(df[1][200])"
      ],
      "execution_count": null,
      "outputs": [
        {
          "output_type": "stream",
          "text": [
            "Input: <start> chiamatemi . <end>\n",
            "Predicted translation: call me . <end> \n"
          ],
          "name": "stdout"
        },
        {
          "output_type": "display_data",
          "data": {
            "image/png": "[encoded data removed]",
            "text/plain": [
              "<Figure size 720x720 with 1 Axes>"
            ]
          },
          "metadata": {
            "tags": [],
            "needs_background": "light"
          }
        }
      ]
    },
    {
      "cell_type": "markdown",
      "metadata": {
        "colab_type": "text",
        "id": "jmxIVOOQPWMu"
      },
      "source": [
        "## Calculate BLEU score"
      ]
    },
    {
      "cell_type": "code",
      "metadata": {
        "id": "NFbANMLMu2kP",
        "colab_type": "code",
        "colab": {}
      },
      "source": [
        "def pred_tensor(input_sentence):\n",
        "  max_length_targ, max_length_inp = target_tensor.shape[1], input_tensor.shape[1]\n",
        "\n",
        "  #attention_plot = np.zeros((max_length_targ, max_length_inp))\n",
        "  #attention_plot = []\n",
        "\n",
        "  sentence = preprocess_sentence(input_sentence)\n",
        "\n",
        "  inputs = [inp_lang.word_index[i] for i in sentence.split(' ')]\n",
        "  inputs = tf.keras.preprocessing.sequence.pad_sequences([inputs],\n",
        "                                                         maxlen=max_length_inp,\n",
        "                                                         padding='post')\n",
        "  inputs = tf.convert_to_tensor(inputs)\n",
        "\n",
        "  result = ''\n",
        "\n",
        "  hidden,cell = tf.zeros((1, 128)),tf.zeros((1, 128))\n",
        "  enc_out, enc_hidden, enc_cell = encoder(inputs, [hidden,cell])\n",
        "\n",
        "\n",
        "  dec_hidden, dec_cell = enc_hidden, enc_cell\n",
        "  #dec_input = tf.expand_dims([targ_lang.word_index['<start>']], 1)\n",
        "  dec_input = tf.expand_dims([targ_lang.word_index['<start>']], 0)\n",
        "\n",
        "  for t in range(max_length_targ):\n",
        "    predictions, dec_hidden, dec_cell, _,_ = onestepdecoder(dec_input,enc_out, dec_hidden, dec_cell)\n",
        "                                                         \n",
        "    #output,dec_h,dec_c,attention_weights,_=onestepdecoder(input_to_decoder,encoder_output,dec_h,dec_c)\n",
        "\n",
        "    # storing the attention weights to plot later on\n",
        "    #attention_weights = tf.reshape(attention_weights, (-1, ))\n",
        "    #attention_plot.appeend(attention_weights.numpy())\n",
        "    #attention_plot[t] = attention_weights.numpy()\n",
        "\n",
        "    predicted_id = tf.argmax(predictions[0]).numpy()\n",
        "    \n",
        "    result += targ_lang.index_word[predicted_id] + ' '\n",
        "\n",
        "    if targ_lang.index_word[predicted_id] == '<end>':\n",
        "      return result\n",
        "\n",
        "    # the predicted ID is fed back into the model\n",
        "    dec_input = tf.expand_dims([predicted_id], 0)\n",
        "  #attention_plot = np.asarray(attention_plot)\n",
        "  return result"
      ],
      "execution_count": null,
      "outputs": []
    },
    {
      "cell_type": "code",
      "metadata": {
        "id": "0FUSfSfK5YP4",
        "colab_type": "code",
        "colab": {}
      },
      "source": [
        "import random\n",
        "import nltk.translate.bleu_score as bleu\n",
        "import warnings\n",
        "warnings.filterwarnings(\"ignore\")\n",
        "\n",
        "def get_bleu(inp_tensor, targ_tensor):\n",
        "  random_index = random.sample(range(1, 68086), 1000)\n",
        "  bleu_score = 0\n",
        "  for index in tqdm(random_index):\n",
        "    x = input_tensor_val[index]\n",
        "    y = target_tensor_val[index]\n",
        "    out=\" \"\n",
        "    for i in x:\n",
        "      if (i!=0 and i!=1 and i!=2):\n",
        "        out += inp_lang.index_word[i] + ' '\n",
        "    inp=\" \"\n",
        "    for i in y:\n",
        "      if (i!=0 and i!=1 and i!=2):\n",
        "        inp += targ_lang.index_word[i] + ' '\n",
        "    translated = pred_tensor(out)\n",
        "    translated = translated.split()\n",
        "    translated[-1] = ''\n",
        "    translated = ' '.join(translated)\n",
        "    bleu_score += bleu.sentence_bleu([translated.split(),], inp.split())\n",
        "  return bleu_score"
      ],
      "execution_count": null,
      "outputs": []
    },
    {
      "cell_type": "code",
      "metadata": {
        "id": "H3Z7uaJqA242",
        "colab_type": "code",
        "colab": {
          "base_uri": "https://localhost:8080/",
          "height": 52
        },
        "outputId": "5b4477c6-8c9b-41b2-c695-22c9fa189986"
      },
      "source": [
        "get_bleu(input_tensor_val, target_tensor_val)"
      ],
      "execution_count": null,
      "outputs": [
        {
          "output_type": "stream",
          "text": [
            "100%|██████████| 1000/1000 [01:08<00:00, 14.62it/s]\n"
          ],
          "name": "stderr"
        },
        {
          "output_type": "execute_result",
          "data": {
            "text/plain": [
              "634.0815786012852"
            ]
          },
          "metadata": {
            "tags": []
          },
          "execution_count": 69
        }
      ]
    },
    {
      "cell_type": "markdown",
      "metadata": {
        "id": "gp1cQOtpTKUN",
        "colab_type": "text"
      },
      "source": [
        "## Model-dot Results:"
      ]
    },
    {
      "cell_type": "markdown",
      "metadata": {
        "id": "-rcm2k9nTNI2",
        "colab_type": "text"
      },
      "source": [
        "Best loss is achieved at the last epoch having value 0.0970\n",
        "\n",
        "BLEU score on random 1000 datapoints of test data is 634.08"
      ]
    },
    {
      "cell_type": "markdown",
      "metadata": {
        "colab_type": "text",
        "id": "SWg2ferDQvT3"
      },
      "source": [
        "# Model-General"
      ]
    },
    {
      "cell_type": "markdown",
      "metadata": {
        "id": "LGj7s0V4b5iI",
        "colab_type": "text"
      },
      "source": [
        "## Training function"
      ]
    },
    {
      "cell_type": "code",
      "metadata": {
        "id": "Z_9eHnXIUy-6",
        "colab_type": "code",
        "colab": {}
      },
      "source": [
        "# Implement teacher forcing while training your model. You can do it two ways.\n",
        "# Prepare your data, encoder_input,decoder_input and decoder_output\n",
        "# if decoder input is \n",
        "# <start> Hi how are you\n",
        "# decoder output should be\n",
        "# Hi How are you <end>\n",
        "# i.e when you have send <start>-- decoder predicted Hi, 'Hi' decoder predicted 'How' .. e.t.c\n",
        "# from https://www.tensorflow.org/tutorials/text/nmt_with_attention#training with minor changes\n",
        "\n",
        "@tf.function\n",
        "def train_step(inp, targ, enc_hidden):\n",
        "  loss = 0\n",
        "\n",
        "  with tf.GradientTape() as tape:\n",
        "    enc_output, enc_hidden_h, enc_hidden_c = encoder(inp, enc_hidden)\n",
        "\n",
        "    dec_hidden_h, dec_hidden_c = enc_hidden_h, enc_hidden_c\n",
        "\n",
        "    dec_input = tf.expand_dims([targ_lang.word_index['<start>']] * 128, 1)\n",
        "\n",
        "    # Teacher forcing - feeding the target as the next input\n",
        "    for t in tqdm(range(1, targ.shape[1])):\n",
        "      # passing enc_output to the decoder\n",
        "      predictions, dec_hidden_h, dec_hidden_c, _, _ = onestepdecoder(dec_input,enc_output, dec_hidden_h, dec_hidden_c)\n",
        "\n",
        "      loss += custom_lossfunction(targ[:, t], predictions)\n",
        "\n",
        "      # using teacher forcing\n",
        "      dec_input = tf.expand_dims(targ[:, t], 1)\n",
        "\n",
        "  batch_loss = (loss / int(targ.shape[1]))\n",
        "\n",
        "  variables = encoder.trainable_variables + onestepdecoder.trainable_variables\n",
        "\n",
        "  gradients = tape.gradient(loss, variables)\n",
        "\n",
        "  optimizer.apply_gradients(zip(gradients, variables))\n",
        "\n",
        "  return batch_loss\n",
        "\n",
        "# or\n",
        " \n",
        "# model.fit([train_ita,train_eng],train_eng[:,1:]..)\n",
        "# Note: If you follow this approach some grader functions might return false and this is fine."
      ],
      "execution_count": 32,
      "outputs": []
    },
    {
      "cell_type": "markdown",
      "metadata": {
        "id": "1Eb1r0ftb8H_",
        "colab_type": "text"
      },
      "source": [
        "## Loss"
      ]
    },
    {
      "cell_type": "code",
      "metadata": {
        "id": "99-3OYNNUyM8",
        "colab_type": "code",
        "colab": {}
      },
      "source": [
        "optimizer = tf.keras.optimizers.Adam()\n",
        "loss_object = tf.keras.losses.SparseCategoricalCrossentropy(\n",
        "    from_logits=True, reduction='none')\n",
        "\n",
        "def custom_lossfunction(targets,logits):\n",
        "  # Custom loss function that will not consider the loss for padded zeros.\n",
        "  # Refer https://www.tensorflow.org/tutorials/text/nmt_with_attention#define_the_optimizer_and_the_loss_function same code used\n",
        "  mask = tf.math.logical_not(tf.math.equal(targets, 0))\n",
        "  loss_ = loss_object(targets, logits)\n",
        "\n",
        "  mask = tf.cast(mask, dtype=loss_.dtype)\n",
        "  loss_ *= mask\n",
        "\n",
        "  return tf.reduce_mean(loss_)"
      ],
      "execution_count": 33,
      "outputs": []
    },
    {
      "cell_type": "markdown",
      "metadata": {
        "id": "DGugWUgvb-q5",
        "colab_type": "text"
      },
      "source": [
        "## Initialize"
      ]
    },
    {
      "cell_type": "code",
      "metadata": {
        "id": "zFaoI25zUavT",
        "colab_type": "code",
        "colab": {}
      },
      "source": [
        "dataset = tf.data.Dataset.from_tensor_slices((input_tensor_train, target_tensor_train)).shuffle(len(input_tensor_train))\n",
        "dataset = dataset.batch(128, drop_remainder=True)\n",
        "steps_per_epoch = len(input_tensor_train)//128"
      ],
      "execution_count": 34,
      "outputs": []
    },
    {
      "cell_type": "code",
      "metadata": {
        "id": "dbOZU59PUbja",
        "colab_type": "code",
        "colab": {}
      },
      "source": [
        "encoder = Encoder(inp_vocab_size=len(inp_lang.word_index)+1, embedding_size=50, input_length=50, lstm_size=128)  \n",
        "decoder = Decoder(out_vocab_size=len(targ_lang.word_index)+1, embedding_dim=50, output_length=50, dec_units=128, score_fun='general', att_units=128)\n",
        "onestepdecoder=OneStepDecoder(len(targ_lang.word_index)+1, 50, 50, 128 ,'general' ,128)"
      ],
      "execution_count": 35,
      "outputs": []
    },
    {
      "cell_type": "code",
      "metadata": {
        "id": "eUANSiLFo4rZ",
        "colab_type": "code",
        "colab": {
          "base_uri": "https://localhost:8080/",
          "height": 124
        },
        "outputId": "eed8cdcc-6615-4489-cc43-3ef9521a2fb7"
      },
      "source": [
        "from google.colab import drive\n",
        "drive.mount('/content/gdrive')"
      ],
      "execution_count": 37,
      "outputs": [
        {
          "output_type": "stream",
          "text": [
            "Go to this URL in a browser: https://accounts.google.com/o/oauth2/auth?client_id=947318989803-6bn6qk8qdgf4n4g3pfee6491hc0brc4i.apps.googleusercontent.com&redirect_uri=urn%3aietf%3awg%3aoauth%3a2.0%3aoob&response_type=code&scope=email%20https%3a%2f%2fwww.googleapis.com%2fauth%2fdocs.test%20https%3a%2f%2fwww.googleapis.com%2fauth%2fdrive%20https%3a%2f%2fwww.googleapis.com%2fauth%2fdrive.photos.readonly%20https%3a%2f%2fwww.googleapis.com%2fauth%2fpeopleapi.readonly\n",
            "\n",
            "Enter your authorization code:\n",
            "··········\n",
            "Mounted at /content/gdrive\n"
          ],
          "name": "stdout"
        }
      ]
    },
    {
      "cell_type": "markdown",
      "metadata": {
        "id": "f1PBDedGcBFv",
        "colab_type": "text"
      },
      "source": [
        "## Start training"
      ]
    },
    {
      "cell_type": "code",
      "metadata": {
        "id": "keNluic5UfHD",
        "colab_type": "code",
        "colab": {
          "base_uri": "https://localhost:8080/",
          "height": 1000
        },
        "outputId": "4a30e2f7-eeec-4cf8-cee3-1fa05a84f86f"
      },
      "source": [
        "# from https://www.tensorflow.org/tutorials/text/nmt_with_attention#training with minor changes\n",
        "EPOCHS = 3\n",
        "import time\n",
        "checkpoint_dir = './content/gdrive/My Drive/Colab Notebooks/Seq2Seq checkpoiints/training_checkpoints'\n",
        "checkpoint_prefix = os.path.join(checkpoint_dir, \"ckpt\")\n",
        "checkpoint = tf.train.Checkpoint(optimizer=optimizer,\n",
        "                                 encoder=encoder,\n",
        "                                 decoder=onestepdecoder)\n",
        "\n",
        "for epoch in range(EPOCHS):\n",
        "  start = time.time()\n",
        "\n",
        "  enc_hidden = encoder.initialize_states(batch_size=128)\n",
        "  total_loss = 0\n",
        "\n",
        "  for (batch, (inp, targ)) in enumerate(dataset.take(steps_per_epoch)):\n",
        "    batch_loss = train_step(inp, targ, enc_hidden)\n",
        "    total_loss += batch_loss\n",
        "\n",
        "    if batch % 100 == 0:\n",
        "      print('Epoch {} Batch {} Loss {:.4f}'.format(epoch + 1,\n",
        "                                                   batch,\n",
        "                                                   batch_loss.numpy()))\n",
        "  # saving (checkpoint) the model every 2 epochs\n",
        "  checkpoint.save(file_prefix = checkpoint_prefix)\n",
        "\n",
        "  print('Epoch {} Loss {:.4f}'.format(epoch + 1,\n",
        "                                      total_loss / steps_per_epoch))\n",
        "  print('Time taken for epoch {} sec\\n'.format(time.time() - start))"
      ],
      "execution_count": 38,
      "outputs": [
        {
          "output_type": "stream",
          "text": [
            "100%|██████████| 111/111 [00:37<00:00,  2.97it/s]\n",
            "100%|██████████| 111/111 [00:36<00:00,  3.03it/s]\n"
          ],
          "name": "stderr"
        },
        {
          "output_type": "stream",
          "text": [
            "Epoch 1 Batch 0 Loss 0.6759\n",
            "Epoch 1 Batch 100 Loss 0.3792\n",
            "Epoch 1 Batch 200 Loss 0.3508\n",
            "Epoch 1 Batch 300 Loss 0.3414\n",
            "Epoch 1 Batch 400 Loss 0.3229\n",
            "Epoch 1 Batch 500 Loss 0.3216\n",
            "Epoch 1 Batch 600 Loss 0.3251\n",
            "Epoch 1 Batch 700 Loss 0.3484\n",
            "Epoch 1 Batch 800 Loss 0.3296\n",
            "Epoch 1 Batch 900 Loss 0.3286\n",
            "Epoch 1 Batch 1000 Loss 0.3203\n",
            "Epoch 1 Batch 1100 Loss 0.3168\n",
            "Epoch 1 Batch 1200 Loss 0.3105\n",
            "Epoch 1 Batch 1300 Loss 0.3219\n",
            "Epoch 1 Batch 1400 Loss 0.2970\n",
            "Epoch 1 Batch 1500 Loss 0.2798\n",
            "Epoch 1 Batch 1600 Loss 0.3041\n",
            "Epoch 1 Batch 1700 Loss 0.2960\n",
            "Epoch 1 Batch 1800 Loss 0.3100\n",
            "Epoch 1 Batch 1900 Loss 0.2838\n",
            "Epoch 1 Batch 2000 Loss 0.2827\n",
            "Epoch 1 Batch 2100 Loss 0.2931\n",
            "Epoch 1 Loss 0.3159\n",
            "Time taken for epoch 1702.172844171524 sec\n",
            "\n",
            "Epoch 2 Batch 0 Loss 0.2600\n",
            "Epoch 2 Batch 100 Loss 0.2827\n",
            "Epoch 2 Batch 200 Loss 0.2623\n",
            "Epoch 2 Batch 300 Loss 0.2628\n",
            "Epoch 2 Batch 400 Loss 0.2668\n",
            "Epoch 2 Batch 500 Loss 0.2572\n",
            "Epoch 2 Batch 600 Loss 0.2746\n",
            "Epoch 2 Batch 700 Loss 0.2578\n",
            "Epoch 2 Batch 800 Loss 0.2711\n",
            "Epoch 2 Batch 900 Loss 0.2681\n",
            "Epoch 2 Batch 1000 Loss 0.2372\n",
            "Epoch 2 Batch 1100 Loss 0.2488\n",
            "Epoch 2 Batch 1200 Loss 0.2681\n",
            "Epoch 2 Batch 1300 Loss 0.2600\n",
            "Epoch 2 Batch 1400 Loss 0.2523\n",
            "Epoch 2 Batch 1500 Loss 0.2483\n",
            "Epoch 2 Batch 1600 Loss 0.2272\n",
            "Epoch 2 Batch 1700 Loss 0.2499\n",
            "Epoch 2 Batch 1800 Loss 0.2458\n",
            "Epoch 2 Batch 1900 Loss 0.2372\n",
            "Epoch 2 Batch 2000 Loss 0.2463\n",
            "Epoch 2 Batch 2100 Loss 0.2440\n",
            "Epoch 2 Loss 0.2587\n",
            "Time taken for epoch 1538.8191421031952 sec\n",
            "\n",
            "Epoch 3 Batch 0 Loss 0.2463\n",
            "Epoch 3 Batch 100 Loss 0.2352\n",
            "Epoch 3 Batch 200 Loss 0.2299\n",
            "Epoch 3 Batch 300 Loss 0.2489\n",
            "Epoch 3 Batch 400 Loss 0.2484\n",
            "Epoch 3 Batch 500 Loss 0.2342\n",
            "Epoch 3 Batch 600 Loss 0.2275\n",
            "Epoch 3 Batch 700 Loss 0.2155\n",
            "Epoch 3 Batch 800 Loss 0.2386\n",
            "Epoch 3 Batch 900 Loss 0.2503\n",
            "Epoch 3 Batch 1000 Loss 0.2328\n",
            "Epoch 3 Batch 1100 Loss 0.2103\n",
            "Epoch 3 Batch 1200 Loss 0.2051\n",
            "Epoch 3 Batch 1300 Loss 0.2026\n",
            "Epoch 3 Batch 1400 Loss 0.2221\n",
            "Epoch 3 Batch 1500 Loss 0.2072\n",
            "Epoch 3 Batch 1600 Loss 0.2268\n",
            "Epoch 3 Batch 1700 Loss 0.2201\n",
            "Epoch 3 Batch 1800 Loss 0.1974\n",
            "Epoch 3 Batch 1900 Loss 0.1987\n",
            "Epoch 3 Batch 2000 Loss 0.1905\n",
            "Epoch 3 Batch 2100 Loss 0.2250\n",
            "Epoch 3 Loss 0.2207\n",
            "Time taken for epoch 1540.0128331184387 sec\n",
            "\n"
          ],
          "name": "stdout"
        }
      ]
    },
    {
      "cell_type": "code",
      "metadata": {
        "id": "jZIyGqd5pbNu",
        "colab_type": "code",
        "colab": {
          "base_uri": "https://localhost:8080/",
          "height": 1000
        },
        "outputId": "f60a46da-9995-4449-a1bf-834d8c49304a"
      },
      "source": [
        "# from https://www.tensorflow.org/tutorials/text/nmt_with_attention#training with minor changes\n",
        "EPOCHS = 3\n",
        "import time\n",
        "checkpoint_dir = './training_checkpoints'\n",
        "checkpoint_prefix = os.path.join(checkpoint_dir, \"ckpt\")\n",
        "checkpoint = tf.train.Checkpoint(optimizer=optimizer,\n",
        "                                 encoder=encoder,\n",
        "                                 decoder=onestepdecoder)\n",
        "\n",
        "for epoch in range(EPOCHS):\n",
        "  start = time.time()\n",
        "\n",
        "  enc_hidden = encoder.initialize_states(batch_size=128)\n",
        "  total_loss = 0\n",
        "\n",
        "  for (batch, (inp, targ)) in enumerate(dataset.take(steps_per_epoch)):\n",
        "    batch_loss = train_step(inp, targ, enc_hidden)\n",
        "    total_loss += batch_loss\n",
        "\n",
        "    if batch % 100 == 0:\n",
        "      print('Epoch {} Batch {} Loss {:.4f}'.format(epoch + 1,\n",
        "                                                   batch,\n",
        "                                                   batch_loss.numpy()))\n",
        "  # saving (checkpoint) the model every 2 epochs\n",
        "  checkpoint.save(file_prefix = checkpoint_prefix)\n",
        "\n",
        "  print('Epoch {} Loss {:.4f}'.format(epoch + 1,\n",
        "                                      total_loss / steps_per_epoch))\n",
        "  print('Time taken for epoch {} sec\\n'.format(time.time() - start))"
      ],
      "execution_count": 39,
      "outputs": [
        {
          "output_type": "stream",
          "text": [
            "Epoch 1 Batch 0 Loss 0.2008\n",
            "Epoch 1 Batch 100 Loss 0.1936\n",
            "Epoch 1 Batch 200 Loss 0.1936\n",
            "Epoch 1 Batch 300 Loss 0.1976\n",
            "Epoch 1 Batch 400 Loss 0.1992\n",
            "Epoch 1 Batch 500 Loss 0.1854\n",
            "Epoch 1 Batch 600 Loss 0.2097\n",
            "Epoch 1 Batch 700 Loss 0.2052\n",
            "Epoch 1 Batch 800 Loss 0.1754\n",
            "Epoch 1 Batch 900 Loss 0.1817\n",
            "Epoch 1 Batch 1000 Loss 0.1767\n",
            "Epoch 1 Batch 1100 Loss 0.1706\n",
            "Epoch 1 Batch 1200 Loss 0.1768\n",
            "Epoch 1 Batch 1300 Loss 0.1766\n",
            "Epoch 1 Batch 1400 Loss 0.1678\n",
            "Epoch 1 Batch 1500 Loss 0.1820\n",
            "Epoch 1 Batch 1600 Loss 0.1766\n",
            "Epoch 1 Batch 1700 Loss 0.1829\n",
            "Epoch 1 Batch 1800 Loss 0.1829\n",
            "Epoch 1 Batch 1900 Loss 0.1964\n",
            "Epoch 1 Batch 2000 Loss 0.1740\n",
            "Epoch 1 Batch 2100 Loss 0.2129\n",
            "Epoch 1 Loss 0.1882\n",
            "Time taken for epoch 1540.240258216858 sec\n",
            "\n",
            "Epoch 2 Batch 0 Loss 0.2104\n",
            "Epoch 2 Batch 100 Loss 0.1835\n",
            "Epoch 2 Batch 200 Loss 0.1828\n",
            "Epoch 2 Batch 300 Loss 0.1800\n",
            "Epoch 2 Batch 400 Loss 0.1758\n",
            "Epoch 2 Batch 500 Loss 0.1725\n",
            "Epoch 2 Batch 600 Loss 0.1714\n",
            "Epoch 2 Batch 700 Loss 0.1684\n",
            "Epoch 2 Batch 800 Loss 0.1412\n",
            "Epoch 2 Batch 900 Loss 0.1769\n",
            "Epoch 2 Batch 1000 Loss 0.1723\n",
            "Epoch 2 Batch 1100 Loss 0.1714\n",
            "Epoch 2 Batch 1200 Loss 0.1499\n",
            "Epoch 2 Batch 1300 Loss 0.1744\n",
            "Epoch 2 Batch 1400 Loss 0.1705\n",
            "Epoch 2 Batch 1500 Loss 0.1637\n",
            "Epoch 2 Batch 1600 Loss 0.1648\n",
            "Epoch 2 Batch 1700 Loss 0.1598\n",
            "Epoch 2 Batch 1800 Loss 0.1508\n",
            "Epoch 1 Batch 0 Loss 0.2008\n",
            "Epoch 1 Batch 100 Loss 0.1936\n",
            "Epoch 1 Batch 200 Loss 0.1936\n",
            "Epoch 1 Batch 300 Loss 0.1976\n",
            "Epoch 1 Batch 400 Loss 0.1992\n",
            "Epoch 1 Batch 500 Loss 0.1854\n",
            "Epoch 1 Batch 600 Loss 0.2097\n",
            "Epoch 1 Batch 700 Loss 0.2052\n",
            "Epoch 1 Batch 800 Loss 0.1754\n",
            "Epoch 1 Batch 900 Loss 0.1817\n",
            "Epoch 1 Batch 1000 Loss 0.1767\n",
            "Epoch 1 Batch 1100 Loss 0.1706\n",
            "Epoch 1 Batch 1200 Loss 0.1768\n",
            "Epoch 1 Batch 1300 Loss 0.1766\n",
            "Epoch 1 Batch 1400 Loss 0.1678\n",
            "Epoch 1 Batch 1500 Loss 0.1820\n",
            "Epoch 1 Batch 1600 Loss 0.1766\n",
            "Epoch 1 Batch 1700 Loss 0.1829\n",
            "Epoch 1 Batch 1800 Loss 0.1829\n",
            "Epoch 1 Batch 1900 Loss 0.1964\n",
            "Epoch 1 Batch 2000 Loss 0.1740\n",
            "Epoch 1 Batch 2100 Loss 0.2129\n",
            "Epoch 1 Loss 0.1882\n",
            "Time taken for epoch 1540.240258216858 sec\n",
            "\n",
            "Epoch 2 Batch 0 Loss 0.2104\n",
            "Epoch 2 Batch 100 Loss 0.1835\n",
            "Epoch 2 Batch 200 Loss 0.1828\n",
            "Epoch 2 Batch 300 Loss 0.1800\n",
            "Epoch 2 Batch 400 Loss 0.1758\n",
            "Epoch 2 Batch 500 Loss 0.1725\n",
            "Epoch 2 Batch 600 Loss 0.1714\n",
            "Epoch 2 Batch 700 Loss 0.1684\n",
            "Epoch 2 Batch 800 Loss 0.1412\n",
            "Epoch 2 Batch 900 Loss 0.1769\n",
            "Epoch 2 Batch 1000 Loss 0.1723\n",
            "Epoch 2 Batch 1100 Loss 0.1714\n",
            "Epoch 2 Batch 1200 Loss 0.1499\n",
            "Epoch 2 Batch 1300 Loss 0.1744\n",
            "Epoch 2 Batch 1400 Loss 0.1705\n",
            "Epoch 2 Batch 1500 Loss 0.1637\n",
            "Epoch 2 Batch 1600 Loss 0.1648\n",
            "Epoch 2 Batch 1700 Loss 0.1598\n",
            "Epoch 2 Batch 1800 Loss 0.1508\n",
            "Epoch 2 Batch 1900 Loss 0.1683\n",
            "Epoch 2 Batch 1900 Loss 0.1683\n",
            "Epoch 2 Batch 2000 Loss 0.1522\n",
            "Epoch 2 Batch 2000 Loss 0.1522\n",
            "Epoch 2 Batch 2100 Loss 0.1550\n",
            "Epoch 2 Batch 2100 Loss 0.1550\n",
            "Epoch 2 Loss 0.1658\n",
            "Time taken for epoch 1539.2130727767944 sec\n",
            "\n",
            "Epoch 2 Loss 0.1658\n",
            "Time taken for epoch 1539.2130727767944 sec\n",
            "\n",
            "Epoch 3 Batch 0 Loss 0.1752\n",
            "Epoch 3 Batch 0 Loss 0.1752\n",
            "Epoch 3 Batch 100 Loss 0.1491\n",
            "Epoch 3 Batch 100 Loss 0.1491\n",
            "Epoch 3 Batch 200 Loss 0.1395\n",
            "Epoch 3 Batch 200 Loss 0.1395\n",
            "Epoch 3 Batch 300 Loss 0.1599\n",
            "Epoch 3 Batch 300 Loss 0.1599\n",
            "Epoch 3 Batch 400 Loss 0.1323\n",
            "Epoch 3 Batch 400 Loss 0.1323\n",
            "Epoch 3 Batch 500 Loss 0.1408\n",
            "Epoch 3 Batch 500 Loss 0.1408\n",
            "Epoch 3 Batch 600 Loss 0.1395\n",
            "Epoch 3 Batch 600 Loss 0.1395\n",
            "Epoch 3 Batch 700 Loss 0.1448\n",
            "Epoch 3 Batch 700 Loss 0.1448\n",
            "Epoch 3 Batch 800 Loss 0.1370\n",
            "Epoch 3 Batch 800 Loss 0.1370\n",
            "Epoch 3 Batch 900 Loss 0.1290\n",
            "Epoch 3 Batch 900 Loss 0.1290\n",
            "Epoch 3 Batch 1000 Loss 0.1341\n",
            "Epoch 3 Batch 1000 Loss 0.1341\n",
            "Epoch 3 Batch 1100 Loss 0.1385\n",
            "Epoch 3 Batch 1100 Loss 0.1385\n",
            "Epoch 3 Batch 1200 Loss 0.1576\n",
            "Epoch 3 Batch 1200 Loss 0.1576\n",
            "Epoch 3 Batch 1300 Loss 0.1461\n",
            "Epoch 3 Batch 1300 Loss 0.1461\n",
            "Epoch 3 Batch 1400 Loss 0.1496\n",
            "Epoch 3 Batch 1400 Loss 0.1496\n",
            "Epoch 3 Batch 1500 Loss 0.1529\n",
            "Epoch 3 Batch 1500 Loss 0.1529\n",
            "Epoch 3 Batch 1600 Loss 0.1373\n",
            "Epoch 3 Batch 1600 Loss 0.1373\n",
            "Epoch 3 Batch 1700 Loss 0.1453\n",
            "Epoch 3 Batch 1700 Loss 0.1453\n",
            "Epoch 3 Batch 1800 Loss 0.1329\n",
            "Epoch 3 Batch 1800 Loss 0.1329\n",
            "Epoch 3 Batch 1900 Loss 0.1328\n",
            "Epoch 3 Batch 1900 Loss 0.1328\n",
            "Epoch 3 Batch 2000 Loss 0.1304\n",
            "Epoch 3 Batch 2000 Loss 0.1304\n",
            "Epoch 3 Batch 2100 Loss 0.1639\n",
            "Epoch 3 Batch 2100 Loss 0.1639\n",
            "Epoch 3 Loss 0.1432\n",
            "Time taken for epoch 1538.2376861572266 sec\n",
            "\n",
            "Epoch 3 Loss 0.1432\n",
            "Time taken for epoch 1538.2376861572266 sec\n",
            "\n"
          ],
          "name": "stdout"
        }
      ]
    },
    {
      "cell_type": "code",
      "metadata": {
        "id": "2mh06oaEUnRa",
        "colab_type": "code",
        "colab": {
          "base_uri": "https://localhost:8080/",
          "height": 884
        },
        "outputId": "33087a4e-c51f-4ee8-e4e5-f4a154afa211"
      },
      "source": [
        "# from https://www.tensorflow.org/tutorials/text/nmt_with_attention#training with minor changes\n",
        "EPOCHS = 1\n",
        "import time\n",
        "checkpoint_dir = '.extra/training_checkpoints'\n",
        "checkpoint_prefix = os.path.join(checkpoint_dir, \"ckpt\")\n",
        "checkpoint = tf.train.Checkpoint(optimizer=optimizer,\n",
        "                                 encoder=encoder,\n",
        "                                 decoder=onestepdecoder)\n",
        "\n",
        "for epoch in range(EPOCHS):\n",
        "  start = time.time()\n",
        "\n",
        "  enc_hidden = encoder.initialize_states(batch_size=128)\n",
        "  total_loss = 0\n",
        "\n",
        "  for (batch, (inp, targ)) in enumerate(dataset.take(steps_per_epoch)):\n",
        "    batch_loss = train_step(inp, targ, enc_hidden)\n",
        "    total_loss += batch_loss\n",
        "\n",
        "    if batch % 100 == 0:\n",
        "      print('Epoch {} Batch {} Loss {:.4f}'.format(epoch + 1,\n",
        "                                                   batch,\n",
        "                                                   batch_loss.numpy()))\n",
        "  # saving (checkpoint) the model every 2 epochs\n",
        "  checkpoint.save(file_prefix = checkpoint_prefix)\n",
        "\n",
        "  print('Epoch {} Loss {:.4f}'.format(epoch + 1,\n",
        "                                      total_loss / steps_per_epoch))\n",
        "  print('Time taken for epoch {} sec\\n'.format(time.time() - start))"
      ],
      "execution_count": 40,
      "outputs": [
        {
          "output_type": "stream",
          "text": [
            "Epoch 1 Batch 0 Loss 0.1282\n",
            "Epoch 1 Batch 100 Loss 0.1838\n",
            "Epoch 1 Batch 200 Loss 0.1353\n",
            "Epoch 1 Batch 300 Loss 0.1247\n",
            "Epoch 1 Batch 400 Loss 0.1397\n",
            "Epoch 1 Batch 500 Loss 0.1413\n",
            "Epoch 1 Batch 600 Loss 0.1396\n",
            "Epoch 1 Batch 700 Loss 0.1272\n",
            "Epoch 1 Batch 800 Loss 0.1314\n",
            "Epoch 1 Batch 900 Loss 0.1326\n",
            "Epoch 1 Batch 1000 Loss 0.1248\n",
            "Epoch 1 Batch 1100 Loss 0.1313\n",
            "Epoch 1 Batch 1200 Loss 0.1210\n",
            "Epoch 1 Batch 1300 Loss 0.1308\n",
            "Epoch 1 Batch 1400 Loss 0.1314\n",
            "Epoch 1 Batch 1500 Loss 0.1572\n",
            "Epoch 1 Batch 1600 Loss 0.1522\n",
            "Epoch 1 Batch 1700 Loss 0.1369\n",
            "Epoch 1 Batch 1800 Loss 0.1190\n",
            "Epoch 1 Batch 1900 Loss 0.1224\n",
            "Epoch 1 Batch 2000 Loss 0.1276\n",
            "Epoch 1 Batch 2100 Loss 0.1383\n",
            "Epoch 1 Loss 0.1356\n",
            "Time taken for epoch 1540.0749011039734 sec\n",
            "\n",
            "Epoch 1 Batch 0 Loss 0.1282\n",
            "Epoch 1 Batch 100 Loss 0.1838\n",
            "Epoch 1 Batch 200 Loss 0.1353\n",
            "Epoch 1 Batch 300 Loss 0.1247\n",
            "Epoch 1 Batch 400 Loss 0.1397\n",
            "Epoch 1 Batch 500 Loss 0.1413\n",
            "Epoch 1 Batch 600 Loss 0.1396\n",
            "Epoch 1 Batch 700 Loss 0.1272\n",
            "Epoch 1 Batch 800 Loss 0.1314\n",
            "Epoch 1 Batch 900 Loss 0.1326\n",
            "Epoch 1 Batch 1000 Loss 0.1248\n",
            "Epoch 1 Batch 1100 Loss 0.1313\n",
            "Epoch 1 Batch 1200 Loss 0.1210\n",
            "Epoch 1 Batch 1300 Loss 0.1308\n",
            "Epoch 1 Batch 1400 Loss 0.1314\n",
            "Epoch 1 Batch 1500 Loss 0.1572\n",
            "Epoch 1 Batch 1600 Loss 0.1522\n",
            "Epoch 1 Batch 1700 Loss 0.1369\n",
            "Epoch 1 Batch 1800 Loss 0.1190\n",
            "Epoch 1 Batch 1900 Loss 0.1224\n",
            "Epoch 1 Batch 2000 Loss 0.1276\n",
            "Epoch 1 Batch 2100 Loss 0.1383\n",
            "Epoch 1 Loss 0.1356\n",
            "Time taken for epoch 1540.0749011039734 sec\n",
            "\n"
          ],
          "name": "stdout"
        }
      ]
    },
    {
      "cell_type": "code",
      "metadata": {
        "id": "d_AMm_ZEbEiq",
        "colab_type": "code",
        "colab": {
          "base_uri": "https://localhost:8080/",
          "height": 34
        },
        "outputId": "5ca2c7ea-3336-4671-9c98-3cc01c97d2e5"
      },
      "source": [
        "checkpoint.restore(tf.train.latest_checkpoint('.extra/training_checkpoints'))"
      ],
      "execution_count": 43,
      "outputs": [
        {
          "output_type": "execute_result",
          "data": {
            "text/plain": [
              "<tensorflow.python.training.tracking.util.CheckpointLoadStatus at 0x7f421ea49be0>"
            ]
          },
          "metadata": {
            "tags": []
          },
          "execution_count": 43
        }
      ]
    },
    {
      "cell_type": "markdown",
      "metadata": {
        "id": "t62J9yPft9e-",
        "colab_type": "text"
      },
      "source": [
        "## Model summary"
      ]
    },
    {
      "cell_type": "markdown",
      "metadata": {
        "id": "5EDjAcd6uBTM",
        "colab_type": "text"
      },
      "source": [
        "Model is trained for 7 epochs.\n",
        "\n",
        "Optimizer used is Adam with varying learning rate mentioned below.\n",
        "\n",
        "  *   First 6 epochs on default learning rate 0.01.\n",
        "  *   Next 1 epoch on a slower learning rate 0.001.\n",
        "\n",
        "Batch size used is 128.\n",
        "\n",
        "Embed size = Input length = Output length = 50\n",
        "\n",
        "Decoder units = Lstm units = Attention units = 128"
      ]
    },
    {
      "cell_type": "markdown",
      "metadata": {
        "id": "DrGiu_YIcIQp",
        "colab_type": "text"
      },
      "source": [
        "## Prediction"
      ]
    },
    {
      "cell_type": "code",
      "metadata": {
        "id": "p4RDabvEZz81",
        "colab_type": "code",
        "colab": {}
      },
      "source": [
        "def plot_attention(attention, sentence, predicted_sentence):\n",
        "  #Refer: https://www.tensorflow.org/tutorials/text/nmt_with_attention#translate code taken from same\n",
        "\n",
        "  fig = plt.figure(figsize=(10,10))\n",
        "  ax = fig.add_subplot(1, 1, 1)\n",
        "  ax.matshow(attention, cmap='viridis')\n",
        "\n",
        "  fontdict = {'fontsize': 14}\n",
        "\n",
        "  ax.set_xticklabels([''] + sentence, fontdict=fontdict, rotation=90)\n",
        "  ax.set_yticklabels([''] + predicted_sentence, fontdict=fontdict)\n",
        "\n",
        "  ax.xaxis.set_major_locator(ticker.MultipleLocator(1))\n",
        "  ax.yaxis.set_major_locator(ticker.MultipleLocator(1))\n",
        "\n",
        "  plt.show()"
      ],
      "execution_count": 44,
      "outputs": []
    },
    {
      "cell_type": "code",
      "metadata": {
        "id": "ZE3mi6zvaJgR",
        "colab_type": "code",
        "colab": {}
      },
      "source": [
        "def predict(input_sentence):\n",
        "  #https://www.tensorflow.org/tutorials/text/nmt_with_attention#translate taken from here with minor changes\n",
        "  '''\n",
        "  A. Given input sentence, convert the sentence into integers using tokenizer used earlier\n",
        "  B. Pass the input_sequence to encoder. we get encoder_outputs, last time step hidden and cell state\n",
        "  C. Initialize index of <start> as input to decoder. and encoder final states as input_states to onestepdecoder.\n",
        "  D. till we reach max_length of decoder or till the model predicted word <end>:\n",
        "         predictions, input_states, attention_weights = model.layers[1].onestepdecoder(input_to_decoder, encoder_output, input_states)\n",
        "         Save the attention weights\n",
        "         And get the word using the tokenizer(word index) and then store it in a string.\n",
        "  E. Call plot_attention(#params)\n",
        "  F. Return the predicted sentence\n",
        "  '''\n",
        "  max_length_targ, max_length_inp = target_tensor.shape[1], input_tensor.shape[1]\n",
        "\n",
        "  attention_plot = np.zeros((max_length_targ, max_length_inp))\n",
        "  #attention_plot = []\n",
        "\n",
        "  sentence = preprocess_sentence(input_sentence)\n",
        "\n",
        "  inputs = [inp_lang.word_index[i] for i in sentence.split(' ')]\n",
        "  inputs = tf.keras.preprocessing.sequence.pad_sequences([inputs],\n",
        "                                                         maxlen=max_length_inp,\n",
        "                                                         padding='post')\n",
        "  inputs = tf.convert_to_tensor(inputs)\n",
        "\n",
        "  result = ''\n",
        "\n",
        "  hidden,cell = tf.zeros((1, 128)),tf.zeros((1, 128))\n",
        "  enc_out, enc_hidden, enc_cell = encoder(inputs, [hidden,cell])\n",
        "\n",
        "\n",
        "  dec_hidden, dec_cell = enc_hidden, enc_cell\n",
        "  #dec_input = tf.expand_dims([targ_lang.word_index['<start>']], 1)\n",
        "  dec_input = tf.expand_dims([targ_lang.word_index['<start>']], 0)\n",
        "\n",
        "  for t in range(max_length_targ):\n",
        "    predictions, dec_hidden, dec_cell, attention_weights,_ = onestepdecoder(dec_input,enc_out, dec_hidden, dec_cell)\n",
        "                                                         \n",
        "    #output,dec_h,dec_c,attention_weights,_=onestepdecoder(input_to_decoder,encoder_output,dec_h,dec_c)\n",
        "\n",
        "    # storing the attention weights to plot later on\n",
        "    attention_weights = tf.reshape(attention_weights, (-1, ))\n",
        "    #attention_plot.appeend(attention_weights.numpy())\n",
        "    attention_plot[t] = attention_weights.numpy()\n",
        "\n",
        "    predicted_id = tf.argmax(predictions[0]).numpy()\n",
        "\n",
        "    result += targ_lang.index_word[predicted_id] + ' '\n",
        "\n",
        "    if targ_lang.index_word[predicted_id] == '<end>':\n",
        "      return result, sentence, attention_plot\n",
        "\n",
        "    # the predicted ID is fed back into the model\n",
        "    dec_input = tf.expand_dims([predicted_id], 0)\n",
        "  #attention_plot = np.asarray(attention_plot)\n",
        "  return result, sentence, attention_plot"
      ],
      "execution_count": 45,
      "outputs": []
    },
    {
      "cell_type": "code",
      "metadata": {
        "id": "4m2_J6TRaKMm",
        "colab_type": "code",
        "colab": {}
      },
      "source": [
        "def translate(sentence):\n",
        "  result, sentence, attention= predict(sentence)\n",
        "\n",
        "  print('Input: %s' % (sentence))\n",
        "  print('Predicted translation: {}'.format(result))\n",
        "\n",
        "  attention_plot = attention[:len(result.split(' ')), :len(sentence.split(' '))]\n",
        "  plot_attention(attention_plot, sentence.split(' '), result.split(' '))"
      ],
      "execution_count": 46,
      "outputs": []
    },
    {
      "cell_type": "code",
      "metadata": {
        "id": "wZIXGgBCaRKr",
        "colab_type": "code",
        "colab": {}
      },
      "source": [
        "import matplotlib.pyplot as plt\n",
        "import matplotlib.ticker as ticker"
      ],
      "execution_count": 47,
      "outputs": []
    },
    {
      "cell_type": "code",
      "metadata": {
        "id": "QIlDB3sPaW9I",
        "colab_type": "code",
        "colab": {
          "base_uri": "https://localhost:8080/",
          "height": 676
        },
        "outputId": "1f3013bc-3c2b-42ae-b042-b26689549d66"
      },
      "source": [
        "translate(df[1][0])"
      ],
      "execution_count": 48,
      "outputs": [
        {
          "output_type": "stream",
          "text": [
            "Input: <start> ciao ! <end>\n",
            "Predicted translation: hello ! <end> \n"
          ],
          "name": "stdout"
        },
        {
          "output_type": "display_data",
          "data": {
            "image/png": "[encoded data removed]",
            "text/plain": [
              "<Figure size 720x720 with 1 Axes>"
            ]
          },
          "metadata": {
            "tags": [],
            "needs_background": "light"
          }
        }
      ]
    },
    {
      "cell_type": "code",
      "metadata": {
        "id": "rBQR9olcbOO8",
        "colab_type": "code",
        "colab": {
          "base_uri": "https://localhost:8080/",
          "height": 702
        },
        "outputId": "bf100b3e-d45f-4e4c-bea7-b57627a2563e"
      },
      "source": [
        "translate(df[1][200])"
      ],
      "execution_count": 50,
      "outputs": [
        {
          "output_type": "stream",
          "text": [
            "Input: <start> chiamatemi . <end>\n",
            "Predicted translation: call me . <end> \n"
          ],
          "name": "stdout"
        },
        {
          "output_type": "display_data",
          "data": {
            "image/png": "[encoded data removed]",
            "text/plain": [
              "<Figure size 720x720 with 1 Axes>"
            ]
          },
          "metadata": {
            "tags": [],
            "needs_background": "light"
          }
        }
      ]
    },
    {
      "cell_type": "code",
      "metadata": {
        "id": "_-s7MFIHbX4S",
        "colab_type": "code",
        "colab": {
          "base_uri": "https://localhost:8080/",
          "height": 597
        },
        "outputId": "4ea62bd3-9d30-4d05-bccf-61bde0ab58f8"
      },
      "source": [
        "translate(df[1][99])"
      ],
      "execution_count": 52,
      "outputs": [
        {
          "output_type": "stream",
          "text": [
            "Input: <start> io sono caduta . <end>\n",
            "Predicted translation: i fell . <end> \n"
          ],
          "name": "stdout"
        },
        {
          "output_type": "display_data",
          "data": {
            "image/png": "[encoded data removed]",
            "text/plain": [
              "<Figure size 720x720 with 1 Axes>"
            ]
          },
          "metadata": {
            "tags": [],
            "needs_background": "light"
          }
        }
      ]
    },
    {
      "cell_type": "markdown",
      "metadata": {
        "id": "a9E75azdcL7w",
        "colab_type": "text"
      },
      "source": [
        "## BLEU score"
      ]
    },
    {
      "cell_type": "code",
      "metadata": {
        "id": "hGi-hKLbboI0",
        "colab_type": "code",
        "colab": {}
      },
      "source": [
        "def pred_tensor(input_sentence):\n",
        "  max_length_targ, max_length_inp = target_tensor.shape[1], input_tensor.shape[1]\n",
        "\n",
        "  #attention_plot = np.zeros((max_length_targ, max_length_inp))\n",
        "  #attention_plot = []\n",
        "\n",
        "  sentence = preprocess_sentence(input_sentence)\n",
        "\n",
        "  inputs = [inp_lang.word_index[i] for i in sentence.split(' ')]\n",
        "  inputs = tf.keras.preprocessing.sequence.pad_sequences([inputs],\n",
        "                                                         maxlen=max_length_inp,\n",
        "                                                         padding='post')\n",
        "  inputs = tf.convert_to_tensor(inputs)\n",
        "\n",
        "  result = ''\n",
        "\n",
        "  hidden,cell = tf.zeros((1, 128)),tf.zeros((1, 128))\n",
        "  enc_out, enc_hidden, enc_cell = encoder(inputs, [hidden,cell])\n",
        "\n",
        "\n",
        "  dec_hidden, dec_cell = enc_hidden, enc_cell\n",
        "  #dec_input = tf.expand_dims([targ_lang.word_index['<start>']], 1)\n",
        "  dec_input = tf.expand_dims([targ_lang.word_index['<start>']], 0)\n",
        "\n",
        "  for t in range(max_length_targ):\n",
        "    predictions, dec_hidden, dec_cell, _,_ = onestepdecoder(dec_input,enc_out, dec_hidden, dec_cell)\n",
        "                                                         \n",
        "    #output,dec_h,dec_c,attention_weights,_=onestepdecoder(input_to_decoder,encoder_output,dec_h,dec_c)\n",
        "\n",
        "    # storing the attention weights to plot later on\n",
        "    #attention_weights = tf.reshape(attention_weights, (-1, ))\n",
        "    #attention_plot.appeend(attention_weights.numpy())\n",
        "    #attention_plot[t] = attention_weights.numpy()\n",
        "\n",
        "    predicted_id = tf.argmax(predictions[0]).numpy()\n",
        "    \n",
        "    result += targ_lang.index_word[predicted_id] + ' '\n",
        "\n",
        "    if targ_lang.index_word[predicted_id] == '<end>':\n",
        "      return result\n",
        "\n",
        "    # the predicted ID is fed back into the model\n",
        "    dec_input = tf.expand_dims([predicted_id], 0)\n",
        "  #attention_plot = np.asarray(attention_plot)\n",
        "  return result"
      ],
      "execution_count": 53,
      "outputs": []
    },
    {
      "cell_type": "code",
      "metadata": {
        "id": "JC7iHarzboh5",
        "colab_type": "code",
        "colab": {}
      },
      "source": [
        "import random\n",
        "import nltk.translate.bleu_score as bleu\n",
        "import warnings\n",
        "warnings.filterwarnings(\"ignore\")\n",
        "\n",
        "def get_bleu(inp_tensor, targ_tensor):\n",
        "  random_index = random.sample(range(1, 68086), 1000)\n",
        "  bleu_score = 0\n",
        "  for index in tqdm(random_index):\n",
        "    x = input_tensor_val[index]\n",
        "    y = target_tensor_val[index]\n",
        "    out=\" \"\n",
        "    for i in x:\n",
        "      if (i!=0 and i!=1 and i!=2):\n",
        "        out += inp_lang.index_word[i] + ' '\n",
        "    inp=\" \"\n",
        "    for i in y:\n",
        "      if (i!=0 and i!=1 and i!=2):\n",
        "        inp += targ_lang.index_word[i] + ' '\n",
        "    translated = pred_tensor(out)\n",
        "    translated = translated.split()\n",
        "    translated[-1] = ''\n",
        "    translated = ' '.join(translated)\n",
        "    bleu_score += bleu.sentence_bleu([translated.split(),], inp.split())\n",
        "  return bleu_score"
      ],
      "execution_count": 55,
      "outputs": []
    },
    {
      "cell_type": "code",
      "metadata": {
        "id": "zbIFSGZUbtpJ",
        "colab_type": "code",
        "colab": {
          "base_uri": "https://localhost:8080/",
          "height": 52
        },
        "outputId": "073b6131-a6aa-4f89-d157-616f6a2f2967"
      },
      "source": [
        "get_bleu(input_tensor_val, target_tensor_val)"
      ],
      "execution_count": 56,
      "outputs": [
        {
          "output_type": "stream",
          "text": [
            "100%|██████████| 1000/1000 [01:19<00:00, 12.51it/s]\n"
          ],
          "name": "stderr"
        },
        {
          "output_type": "execute_result",
          "data": {
            "text/plain": [
              "628.3770478920059"
            ]
          },
          "metadata": {
            "tags": []
          },
          "execution_count": 56
        }
      ]
    },
    {
      "cell_type": "markdown",
      "metadata": {
        "id": "6XLs36vtuS_I",
        "colab_type": "text"
      },
      "source": [
        "## Model results"
      ]
    },
    {
      "cell_type": "markdown",
      "metadata": {
        "id": "sw1PwrhJuWbo",
        "colab_type": "text"
      },
      "source": [
        "Best loss is achieved at the last epoch having value 0.1356\n",
        "\n",
        "BLEU score on random 1000 datapoints of test data is 628.38"
      ]
    },
    {
      "cell_type": "markdown",
      "metadata": {
        "colab_type": "text",
        "id": "VB1jRUqZQ9AM"
      },
      "source": [
        "# Concat scoring function"
      ]
    },
    {
      "cell_type": "markdown",
      "metadata": {
        "id": "F2YSUzlBuvPy",
        "colab_type": "text"
      },
      "source": [
        "## Train function"
      ]
    },
    {
      "cell_type": "code",
      "metadata": {
        "colab_type": "code",
        "id": "1kN9ZWViQNMB",
        "colab": {}
      },
      "source": [
        "# Implement teacher forcing while training your model. You can do it two ways.\n",
        "# Prepare your data, encoder_input,decoder_input and decoder_output\n",
        "# if decoder input is \n",
        "# <start> Hi how are you\n",
        "# decoder output should be\n",
        "# Hi How are you <end>\n",
        "# i.e when you have send <start>-- decoder predicted Hi, 'Hi' decoder predicted 'How' .. e.t.c\n",
        "# from https://www.tensorflow.org/tutorials/text/nmt_with_attention#training with minor changes\n",
        "\n",
        "@tf.function\n",
        "def train_step(inp, targ, enc_hidden):\n",
        "  loss = 0\n",
        "\n",
        "  with tf.GradientTape() as tape:\n",
        "    enc_output, enc_hidden_h, enc_hidden_c = encoder(inp, enc_hidden)\n",
        "\n",
        "    dec_hidden_h, dec_hidden_c = enc_hidden_h, enc_hidden_c\n",
        "\n",
        "    dec_input = tf.expand_dims([targ_lang.word_index['<start>']] * 128, 1)\n",
        "\n",
        "    # Teacher forcing - feeding the target as the next input\n",
        "    for t in tqdm(range(1, targ.shape[1])):\n",
        "      # passing enc_output to the decoder\n",
        "      predictions, dec_hidden_h, dec_hidden_c, _, _ = onestepdecoder(dec_input,enc_output, dec_hidden_h, dec_hidden_c)\n",
        "\n",
        "      loss += custom_lossfunction(targ[:, t], predictions)\n",
        "\n",
        "      # using teacher forcing\n",
        "      dec_input = tf.expand_dims(targ[:, t], 1)\n",
        "\n",
        "  batch_loss = (loss / int(targ.shape[1]))\n",
        "\n",
        "  variables = encoder.trainable_variables + onestepdecoder.trainable_variables\n",
        "\n",
        "  gradients = tape.gradient(loss, variables)\n",
        "\n",
        "  optimizer.apply_gradients(zip(gradients, variables))\n",
        "\n",
        "  return batch_loss\n",
        "\n",
        "# or\n",
        " \n",
        "# model.fit([train_ita,train_eng],train_eng[:,1:]..)\n",
        "# Note: If you follow this approach some grader functions might return false and this is fine."
      ],
      "execution_count": 66,
      "outputs": []
    },
    {
      "cell_type": "markdown",
      "metadata": {
        "id": "IolEjxB1uxUu",
        "colab_type": "text"
      },
      "source": [
        "## Loss"
      ]
    },
    {
      "cell_type": "code",
      "metadata": {
        "colab_type": "code",
        "id": "Ff1lV0ITM6_p",
        "colab": {}
      },
      "source": [
        "optimizer = tf.keras.optimizers.Adam()\n",
        "loss_object = tf.keras.losses.SparseCategoricalCrossentropy(\n",
        "    from_logits=True, reduction='none')\n",
        "\n",
        "def custom_lossfunction(targets,logits):\n",
        "  # Custom loss function that will not consider the loss for padded zeros.\n",
        "  # Refer https://www.tensorflow.org/tutorials/text/nmt_with_attention#define_the_optimizer_and_the_loss_function same code used\n",
        "  mask = tf.math.logical_not(tf.math.equal(targets, 0))\n",
        "  loss_ = loss_object(targets, logits)\n",
        "\n",
        "  mask = tf.cast(mask, dtype=loss_.dtype)\n",
        "  loss_ *= mask\n",
        "\n",
        "  return tf.reduce_mean(loss_)"
      ],
      "execution_count": 67,
      "outputs": []
    },
    {
      "cell_type": "markdown",
      "metadata": {
        "id": "ZPSUIuZuuy40",
        "colab_type": "text"
      },
      "source": [
        "## Initialization"
      ]
    },
    {
      "cell_type": "code",
      "metadata": {
        "id": "AocYxo5RV2jH",
        "colab_type": "code",
        "colab": {}
      },
      "source": [
        "dataset = tf.data.Dataset.from_tensor_slices((input_tensor_train, target_tensor_train)).shuffle(len(input_tensor_train))\n",
        "dataset = dataset.batch(128, drop_remainder=True)\n",
        "steps_per_epoch = len(input_tensor_train)//128"
      ],
      "execution_count": 68,
      "outputs": []
    },
    {
      "cell_type": "code",
      "metadata": {
        "id": "sbGzTpKYgRpH",
        "colab_type": "code",
        "colab": {}
      },
      "source": [
        "encoder = Encoder(inp_vocab_size=len(inp_lang.word_index)+1, embedding_size=50, input_length=50, lstm_size=128)  \n",
        "decoder = Decoder(out_vocab_size=len(targ_lang.word_index)+1, embedding_dim=50, output_length=50, dec_units=128, score_fun='concat', att_units=128)\n",
        "onestepdecoder=OneStepDecoder(len(targ_lang.word_index)+1, 50, 50, 128 ,'concat' ,128)"
      ],
      "execution_count": 69,
      "outputs": []
    },
    {
      "cell_type": "markdown",
      "metadata": {
        "id": "T-wB03Ksu0vr",
        "colab_type": "text"
      },
      "source": [
        "## Training"
      ]
    },
    {
      "cell_type": "code",
      "metadata": {
        "id": "lIaM52lhgU8U",
        "colab_type": "code",
        "colab": {
          "base_uri": "https://localhost:8080/",
          "height": 1000
        },
        "outputId": "4aaa218d-c0a7-430c-b648-7ae74816d988"
      },
      "source": [
        "# from https://www.tensorflow.org/tutorials/text/nmt_with_attention#training with minor changes\n",
        "EPOCHS = 3\n",
        "import time\n",
        "checkpoint_dir = './content/gdrive/My Drive/Colab Notebooks/Seq2Seq checkpoiints/training_checkpoints'\n",
        "checkpoint_prefix = os.path.join(checkpoint_dir, \"ckpt\")\n",
        "checkpoint = tf.train.Checkpoint(optimizer=optimizer,\n",
        "                                 encoder=encoder,\n",
        "                                 decoder=onestepdecoder)\n",
        "\n",
        "for epoch in range(EPOCHS):\n",
        "  start = time.time()\n",
        "\n",
        "  enc_hidden = encoder.initialize_states(batch_size=128)\n",
        "  total_loss = 0\n",
        "\n",
        "  for (batch, (inp, targ)) in enumerate(dataset.take(steps_per_epoch)):\n",
        "    batch_loss = train_step(inp, targ, enc_hidden)\n",
        "    total_loss += batch_loss\n",
        "\n",
        "    if batch % 100 == 0:\n",
        "      print('Epoch {} Batch {} Loss {:.4f}'.format(epoch + 1,\n",
        "                                                   batch,\n",
        "                                                   batch_loss.numpy()))\n",
        "  # saving (checkpoint) the model every 2 epochs\n",
        "  checkpoint.save(file_prefix = checkpoint_prefix)\n",
        "\n",
        "  print('Epoch {} Loss {:.4f}'.format(epoch + 1,\n",
        "                                      total_loss / steps_per_epoch))\n",
        "  print('Time taken for epoch {} sec\\n'.format(time.time() - start))"
      ],
      "execution_count": 70,
      "outputs": [
        {
          "output_type": "stream",
          "text": [
            "100%|██████████| 111/111 [00:39<00:00,  2.78it/s]\n",
            "100%|██████████| 111/111 [00:40<00:00,  2.75it/s]\n"
          ],
          "name": "stderr"
        },
        {
          "output_type": "stream",
          "text": [
            "Epoch 1 Batch 0 Loss 0.6878\n",
            "Epoch 1 Batch 100 Loss 0.3326\n",
            "Epoch 1 Batch 200 Loss 0.3363\n",
            "Epoch 1 Batch 300 Loss 0.3257\n",
            "Epoch 1 Batch 400 Loss 0.2916\n",
            "Epoch 1 Batch 500 Loss 0.2902\n",
            "Epoch 1 Batch 600 Loss 0.2914\n",
            "Epoch 1 Batch 700 Loss 0.2792\n",
            "Epoch 1 Batch 800 Loss 0.2681\n",
            "Epoch 1 Batch 900 Loss 0.2714\n",
            "Epoch 1 Batch 1000 Loss 0.2536\n",
            "Epoch 1 Batch 1100 Loss 0.2517\n",
            "Epoch 1 Batch 1200 Loss 0.2521\n",
            "Epoch 1 Batch 1300 Loss 0.2304\n",
            "Epoch 1 Batch 1400 Loss 0.2442\n",
            "Epoch 1 Batch 1500 Loss 0.2290\n",
            "Epoch 1 Batch 1600 Loss 0.2368\n",
            "Epoch 1 Batch 1700 Loss 0.2338\n",
            "Epoch 1 Batch 1800 Loss 0.2223\n",
            "Epoch 1 Batch 1900 Loss 0.2160\n",
            "Epoch 1 Batch 2000 Loss 0.2152\n",
            "Epoch 1 Batch 2100 Loss 0.2104\n",
            "Epoch 1 Loss 0.2698\n",
            "Time taken for epoch 1998.3184669017792 sec\n",
            "\n",
            "Epoch 2 Batch 0 Loss 0.2149\n",
            "Epoch 2 Batch 100 Loss 0.1985\n",
            "Epoch 2 Batch 200 Loss 0.2008\n",
            "Epoch 2 Batch 300 Loss 0.1917\n",
            "Epoch 2 Batch 400 Loss 0.1899\n",
            "Epoch 2 Batch 500 Loss 0.1867\n",
            "Epoch 2 Batch 600 Loss 0.1874\n",
            "Epoch 2 Batch 700 Loss 0.2209\n",
            "Epoch 2 Batch 800 Loss 0.1864\n",
            "Epoch 2 Batch 900 Loss 0.1772\n",
            "Epoch 2 Batch 1000 Loss 0.1854\n",
            "Epoch 2 Batch 1100 Loss 0.1889\n",
            "Epoch 2 Batch 1200 Loss 0.1669\n",
            "Epoch 2 Batch 1300 Loss 0.1663\n",
            "Epoch 2 Batch 1400 Loss 0.1770\n",
            "Epoch 2 Batch 1500 Loss 0.1733\n",
            "Epoch 2 Batch 1600 Loss 0.1644\n",
            "Epoch 2 Batch 1700 Loss 0.1544\n",
            "Epoch 2 Batch 1800 Loss 0.1499\n",
            "Epoch 2 Batch 1900 Loss 0.1535\n",
            "Epoch 2 Batch 2000 Loss 0.1525\n",
            "Epoch 2 Batch 2100 Loss 0.1602\n",
            "Epoch 2 Loss 0.1785\n",
            "Time taken for epoch 1825.8541371822357 sec\n",
            "\n",
            "Epoch 3 Batch 0 Loss 0.1679\n",
            "Epoch 3 Batch 100 Loss 0.1480\n",
            "Epoch 3 Batch 200 Loss 0.1558\n",
            "Epoch 3 Batch 300 Loss 0.1430\n",
            "Epoch 3 Batch 400 Loss 0.1241\n",
            "Epoch 3 Batch 500 Loss 0.1582\n",
            "Epoch 3 Batch 600 Loss 0.1369\n",
            "Epoch 3 Batch 700 Loss 0.1473\n",
            "Epoch 3 Batch 900 Loss 0.1464\n",
            "Epoch 3 Batch 1000 Loss 0.1402\n",
            "Epoch 3 Batch 1100 Loss 0.1282\n",
            "Epoch 3 Batch 1200 Loss 0.1368\n",
            "Epoch 3 Batch 1300 Loss 0.1229\n",
            "Epoch 3 Batch 1400 Loss 0.1310\n",
            "Epoch 3 Batch 1500 Loss 0.1236\n",
            "Epoch 3 Batch 1600 Loss 0.1204\n",
            "Epoch 3 Batch 1700 Loss 0.1426\n",
            "Epoch 3 Batch 1800 Loss 0.1199\n",
            "Epoch 3 Batch 1900 Loss 0.1126\n",
            "Epoch 3 Batch 2000 Loss 0.1076\n",
            "Epoch 3 Batch 2100 Loss 0.1221\n",
            "Epoch 3 Loss 0.1328\n",
            "Time taken for epoch 1826.3680481910706 sec\n",
            "\n"
          ],
          "name": "stdout"
        }
      ]
    },
    {
      "cell_type": "code",
      "metadata": {
        "id": "HQMeSHoogaaj",
        "colab_type": "code",
        "colab": {
          "base_uri": "https://localhost:8080/",
          "height": 450
        },
        "outputId": "96452e14-a848-4413-f095-e4a43f08b8e3"
      },
      "source": [
        "# from https://www.tensorflow.org/tutorials/text/nmt_with_attention#training with minor changes\n",
        "EPOCHS = 1\n",
        "import time\n",
        "checkpoint_dir = './training_checkpoints'\n",
        "checkpoint_prefix = os.path.join(checkpoint_dir, \"ckpt\")\n",
        "checkpoint = tf.train.Checkpoint(optimizer=optimizer,\n",
        "                                 encoder=encoder,\n",
        "                                 decoder=onestepdecoder)\n",
        "\n",
        "for epoch in range(EPOCHS):\n",
        "  start = time.time()\n",
        "\n",
        "  enc_hidden = encoder.initialize_states(batch_size=128)\n",
        "  total_loss = 0\n",
        "\n",
        "  for (batch, (inp, targ)) in enumerate(dataset.take(steps_per_epoch)):\n",
        "    batch_loss = train_step(inp, targ, enc_hidden)\n",
        "    total_loss += batch_loss\n",
        "\n",
        "    if batch % 100 == 0:\n",
        "      print('Epoch {} Batch {} Loss {:.4f}'.format(epoch + 1,\n",
        "                                                   batch,\n",
        "                                                   batch_loss.numpy()))\n",
        "  # saving (checkpoint) the model every 2 epochs\n",
        "  checkpoint.save(file_prefix = checkpoint_prefix)\n",
        "\n",
        "  print('Epoch {} Loss {:.4f}'.format(epoch + 1,\n",
        "                                      total_loss / steps_per_epoch))\n",
        "  print('Time taken for epoch {} sec\\n'.format(time.time() - start))"
      ],
      "execution_count": 72,
      "outputs": [
        {
          "output_type": "stream",
          "text": [
            "Epoch 1 Batch 0 Loss 0.1111\n",
            "Epoch 1 Batch 100 Loss 0.0966\n",
            "Epoch 1 Batch 200 Loss 0.1109\n",
            "Epoch 1 Batch 300 Loss 0.1079\n",
            "Epoch 1 Batch 400 Loss 0.0968\n",
            "Epoch 1 Batch 500 Loss 0.1057\n",
            "Epoch 1 Batch 600 Loss 0.1134\n",
            "Epoch 1 Batch 700 Loss 0.1007\n",
            "Epoch 1 Batch 800 Loss 0.1013\n",
            "Epoch 1 Batch 900 Loss 0.0919\n",
            "Epoch 1 Batch 1000 Loss 0.0956\n",
            "Epoch 1 Batch 1100 Loss 0.0991\n",
            "Epoch 1 Batch 1200 Loss 0.1069\n",
            "Epoch 1 Batch 1300 Loss 0.0910\n",
            "Epoch 1 Batch 1400 Loss 0.0859\n",
            "Epoch 1 Batch 1500 Loss 0.0849\n",
            "Epoch 1 Batch 1600 Loss 0.0846\n",
            "Epoch 1 Batch 1700 Loss 0.0910\n",
            "Epoch 1 Batch 1800 Loss 0.0888\n",
            "Epoch 1 Batch 1900 Loss 0.0825\n",
            "Epoch 1 Batch 2000 Loss 0.0855\n",
            "Epoch 1 Batch 2100 Loss 0.0741\n",
            "Epoch 1 Loss 0.0967\n",
            "Time taken for epoch 1824.6811904907227 sec\n",
            "\n"
          ],
          "name": "stdout"
        }
      ]
    },
    {
      "cell_type": "code",
      "metadata": {
        "id": "Djgu65oktwTJ",
        "colab_type": "code",
        "colab": {
          "base_uri": "https://localhost:8080/",
          "height": 433
        },
        "outputId": "54d76364-caf9-40ee-b2e5-896ace5d6da9"
      },
      "source": [
        "# from https://www.tensorflow.org/tutorials/text/nmt_with_attention#training with minor changes\n",
        "EPOCHS = 1\n",
        "import time\n",
        "checkpoint_dir = '.extra/training_checkpoints'\n",
        "checkpoint_prefix = os.path.join(checkpoint_dir, \"ckpt\")\n",
        "checkpoint = tf.train.Checkpoint(optimizer=optimizer,\n",
        "                                 encoder=encoder,\n",
        "                                 decoder=onestepdecoder)\n",
        "\n",
        "for epoch in range(EPOCHS):\n",
        "  start = time.time()\n",
        "\n",
        "  enc_hidden = encoder.initialize_states(batch_size=128)\n",
        "  total_loss = 0\n",
        "\n",
        "  for (batch, (inp, targ)) in enumerate(dataset.take(steps_per_epoch)):\n",
        "    batch_loss = train_step(inp, targ, enc_hidden)\n",
        "    total_loss += batch_loss\n",
        "\n",
        "    if batch % 100 == 0:\n",
        "      print('Epoch {} Batch {} Loss {:.4f}'.format(epoch + 1,\n",
        "                                                   batch,\n",
        "                                                   batch_loss.numpy()))\n",
        "  # saving (checkpoint) the model every 2 epochs\n",
        "  checkpoint.save(file_prefix = checkpoint_prefix)\n",
        "\n",
        "  print('Epoch {} Loss {:.4f}'.format(epoch + 1,\n",
        "                                      total_loss / steps_per_epoch))\n",
        "  print('Time taken for epoch {} sec\\n'.format(time.time() - start))"
      ],
      "execution_count": 73,
      "outputs": [
        {
          "output_type": "stream",
          "text": [
            "Epoch 1 Batch 0 Loss 0.0771\n",
            "Epoch 1 Batch 100 Loss 0.0785\n",
            "Epoch 1 Batch 200 Loss 0.0880\n",
            "Epoch 1 Batch 400 Loss 0.0756\n",
            "Epoch 1 Batch 500 Loss 0.0767\n",
            "Epoch 1 Batch 600 Loss 0.0704\n",
            "Epoch 1 Batch 700 Loss 0.0763\n",
            "Epoch 1 Batch 800 Loss 0.0759\n",
            "Epoch 1 Batch 900 Loss 0.0702\n",
            "Epoch 1 Batch 1000 Loss 0.0684\n",
            "Epoch 1 Batch 1100 Loss 0.0786\n",
            "Epoch 1 Batch 1200 Loss 0.0616\n",
            "Epoch 1 Batch 1300 Loss 0.0754\n",
            "Epoch 1 Batch 1400 Loss 0.0589\n",
            "Epoch 1 Batch 1500 Loss 0.0683\n",
            "Epoch 1 Batch 1600 Loss 0.0609\n",
            "Epoch 1 Batch 1700 Loss 0.0801\n",
            "Epoch 1 Batch 1800 Loss 0.0639\n",
            "Epoch 1 Batch 1900 Loss 0.0744\n",
            "Epoch 1 Batch 2000 Loss 0.0575\n",
            "Epoch 1 Batch 2100 Loss 0.0715\n",
            "Epoch 1 Loss 0.0710\n",
            "Time taken for epoch 1824.4262850284576 sec\n",
            "\n"
          ],
          "name": "stdout"
        }
      ]
    },
    {
      "cell_type": "code",
      "metadata": {
        "id": "5QGSpcJ_CK5j",
        "colab_type": "code",
        "colab": {
          "base_uri": "https://localhost:8080/",
          "height": 450
        },
        "outputId": "dfc85b86-09e9-4bb1-efff-d62360386f6f"
      },
      "source": [
        "# from https://www.tensorflow.org/tutorials/text/nmt_with_attention#training with minor changes\n",
        "EPOCHS = 1\n",
        "import time\n",
        "checkpoint_dir = './training_checkpoints'\n",
        "checkpoint_prefix = os.path.join(checkpoint_dir, \"ckpt\")\n",
        "checkpoint = tf.train.Checkpoint(optimizer=optimizer,\n",
        "                                 encoder=encoder,\n",
        "                                 decoder=onestepdecoder)\n",
        "\n",
        "for epoch in range(EPOCHS):\n",
        "  start = time.time()\n",
        "\n",
        "  enc_hidden = encoder.initialize_states(batch_size=128)\n",
        "  total_loss = 0\n",
        "\n",
        "  for (batch, (inp, targ)) in enumerate(dataset.take(steps_per_epoch)):\n",
        "    batch_loss = train_step(inp, targ, enc_hidden)\n",
        "    total_loss += batch_loss\n",
        "\n",
        "    if batch % 100 == 0:\n",
        "      print('Epoch {} Batch {} Loss {:.4f}'.format(epoch + 1,\n",
        "                                                   batch,\n",
        "                                                   batch_loss.numpy()))\n",
        "  # saving (checkpoint) the model every 2 epochs\n",
        "  checkpoint.save(file_prefix = checkpoint_prefix)\n",
        "\n",
        "  print('Epoch {} Loss {:.4f}'.format(epoch + 1,\n",
        "                                      total_loss / steps_per_epoch))\n",
        "  print('Time taken for epoch {} sec\\n'.format(time.time() - start))"
      ],
      "execution_count": 74,
      "outputs": [
        {
          "output_type": "stream",
          "text": [
            "Epoch 1 Batch 0 Loss 0.0602\n",
            "Epoch 1 Batch 100 Loss 0.0586\n",
            "Epoch 1 Batch 200 Loss 0.0664\n",
            "Epoch 1 Batch 300 Loss 0.0623\n",
            "Epoch 1 Batch 400 Loss 0.0612\n",
            "Epoch 1 Batch 500 Loss 0.0619\n",
            "Epoch 1 Batch 600 Loss 0.0683\n",
            "Epoch 1 Batch 700 Loss 0.0634\n",
            "Epoch 1 Batch 800 Loss 0.0591\n",
            "Epoch 1 Batch 900 Loss 0.0553\n",
            "Epoch 1 Batch 1000 Loss 0.0589\n",
            "Epoch 1 Batch 1100 Loss 0.0512\n",
            "Epoch 1 Batch 1200 Loss 0.0613\n",
            "Epoch 1 Batch 1300 Loss 0.0509\n",
            "Epoch 1 Batch 1400 Loss 0.0542\n",
            "Epoch 1 Batch 1500 Loss 0.0509\n",
            "Epoch 1 Batch 1600 Loss 0.0497\n",
            "Epoch 1 Batch 1700 Loss 0.0703\n",
            "Epoch 1 Batch 1800 Loss 0.0455\n",
            "Epoch 1 Batch 1900 Loss 0.0533\n",
            "Epoch 1 Batch 2000 Loss 0.0521\n",
            "Epoch 1 Batch 2100 Loss 0.0486\n",
            "Epoch 1 Loss 0.0545\n",
            "Time taken for epoch 1828.3004620075226 sec\n",
            "\n"
          ],
          "name": "stdout"
        }
      ]
    },
    {
      "cell_type": "markdown",
      "metadata": {
        "id": "BKz6U8dFR-Tc",
        "colab_type": "text"
      },
      "source": [
        "## Model summary"
      ]
    },
    {
      "cell_type": "markdown",
      "metadata": {
        "id": "R88981UYSBQD",
        "colab_type": "text"
      },
      "source": [
        "Model is trained for 6 epochs.\n",
        "\n",
        "Optimizer used is Adam with constant learning rate mentioned below.\n",
        "\n",
        "  *   First 6 epochs on default learning rate 0.01.\n",
        "\n",
        "Batch size used is 128.\n",
        "\n",
        "Embed size = Input length = Output length = 50\n",
        "\n",
        "Decoder units = Lstm units = Attention units = 128"
      ]
    },
    {
      "cell_type": "markdown",
      "metadata": {
        "id": "C_kmtwSNRvhg",
        "colab_type": "text"
      },
      "source": [
        "## Predictions"
      ]
    },
    {
      "cell_type": "code",
      "metadata": {
        "id": "tSmlL1HHQkNU",
        "colab_type": "code",
        "colab": {}
      },
      "source": [
        "def plot_attention(attention, sentence, predicted_sentence):\n",
        "  #Refer: https://www.tensorflow.org/tutorials/text/nmt_with_attention#translate code taken from same\n",
        "\n",
        "  fig = plt.figure(figsize=(10,10))\n",
        "  ax = fig.add_subplot(1, 1, 1)\n",
        "  ax.matshow(attention, cmap='viridis')\n",
        "\n",
        "  fontdict = {'fontsize': 14}\n",
        "\n",
        "  ax.set_xticklabels([''] + sentence, fontdict=fontdict, rotation=90)\n",
        "  ax.set_yticklabels([''] + predicted_sentence, fontdict=fontdict)\n",
        "\n",
        "  ax.xaxis.set_major_locator(ticker.MultipleLocator(1))\n",
        "  ax.yaxis.set_major_locator(ticker.MultipleLocator(1))\n",
        "\n",
        "  plt.show()"
      ],
      "execution_count": 76,
      "outputs": []
    },
    {
      "cell_type": "code",
      "metadata": {
        "id": "2kU3-KXoRAuW",
        "colab_type": "code",
        "colab": {}
      },
      "source": [
        "def predict(input_sentence):\n",
        "  #https://www.tensorflow.org/tutorials/text/nmt_with_attention#translate taken from here with minor changes\n",
        "  '''\n",
        "  A. Given input sentence, convert the sentence into integers using tokenizer used earlier\n",
        "  B. Pass the input_sequence to encoder. we get encoder_outputs, last time step hidden and cell state\n",
        "  C. Initialize index of <start> as input to decoder. and encoder final states as input_states to onestepdecoder.\n",
        "  D. till we reach max_length of decoder or till the model predicted word <end>:\n",
        "         predictions, input_states, attention_weights = model.layers[1].onestepdecoder(input_to_decoder, encoder_output, input_states)\n",
        "         Save the attention weights\n",
        "         And get the word using the tokenizer(word index) and then store it in a string.\n",
        "  E. Call plot_attention(#params)\n",
        "  F. Return the predicted sentence\n",
        "  '''\n",
        "  max_length_targ, max_length_inp = target_tensor.shape[1], input_tensor.shape[1]\n",
        "\n",
        "  attention_plot = np.zeros((max_length_targ, max_length_inp))\n",
        "  #attention_plot = []\n",
        "\n",
        "  sentence = preprocess_sentence(input_sentence)\n",
        "\n",
        "  inputs = [inp_lang.word_index[i] for i in sentence.split(' ')]\n",
        "  inputs = tf.keras.preprocessing.sequence.pad_sequences([inputs],\n",
        "                                                         maxlen=max_length_inp,\n",
        "                                                         padding='post')\n",
        "  inputs = tf.convert_to_tensor(inputs)\n",
        "\n",
        "  result = ''\n",
        "\n",
        "  hidden,cell = tf.zeros((1, 128)),tf.zeros((1, 128))\n",
        "  enc_out, enc_hidden, enc_cell = encoder(inputs, [hidden,cell])\n",
        "\n",
        "\n",
        "  dec_hidden, dec_cell = enc_hidden, enc_cell\n",
        "  #dec_input = tf.expand_dims([targ_lang.word_index['<start>']], 1)\n",
        "  dec_input = tf.expand_dims([targ_lang.word_index['<start>']], 0)\n",
        "\n",
        "  for t in range(max_length_targ):\n",
        "    predictions, dec_hidden, dec_cell, attention_weights,_ = onestepdecoder(dec_input,enc_out, dec_hidden, dec_cell)\n",
        "                                                         \n",
        "    #output,dec_h,dec_c,attention_weights,_=onestepdecoder(input_to_decoder,encoder_output,dec_h,dec_c)\n",
        "\n",
        "    # storing the attention weights to plot later on\n",
        "    attention_weights = tf.reshape(attention_weights, (-1, ))\n",
        "    #attention_plot.appeend(attention_weights.numpy())\n",
        "    attention_plot[t] = attention_weights.numpy()\n",
        "\n",
        "    predicted_id = tf.argmax(predictions[0]).numpy()\n",
        "\n",
        "    result += targ_lang.index_word[predicted_id] + ' '\n",
        "\n",
        "    if targ_lang.index_word[predicted_id] == '<end>':\n",
        "      return result, sentence, attention_plot\n",
        "\n",
        "    # the predicted ID is fed back into the model\n",
        "    dec_input = tf.expand_dims([predicted_id], 0)\n",
        "  #attention_plot = np.asarray(attention_plot)\n",
        "  return result, sentence, attention_plot"
      ],
      "execution_count": 77,
      "outputs": []
    },
    {
      "cell_type": "code",
      "metadata": {
        "id": "GltAThLxRBAY",
        "colab_type": "code",
        "colab": {}
      },
      "source": [
        "def translate(sentence):\n",
        "  result, sentence, attention= predict(sentence)\n",
        "\n",
        "  print('Input: %s' % (sentence))\n",
        "  print('Predicted translation: {}'.format(result))\n",
        "\n",
        "  attention_plot = attention[:len(result.split(' ')), :len(sentence.split(' '))]\n",
        "  plot_attention(attention_plot, sentence.split(' '), result.split(' '))"
      ],
      "execution_count": 78,
      "outputs": []
    },
    {
      "cell_type": "code",
      "metadata": {
        "id": "ZnLis2QWRDvv",
        "colab_type": "code",
        "colab": {}
      },
      "source": [
        "import matplotlib.pyplot as plt\n",
        "import matplotlib.ticker as ticker"
      ],
      "execution_count": 79,
      "outputs": []
    },
    {
      "cell_type": "code",
      "metadata": {
        "id": "Dn2Ym1CgRGBv",
        "colab_type": "code",
        "colab": {
          "base_uri": "https://localhost:8080/",
          "height": 676
        },
        "outputId": "7dd72adb-b820-4143-ac0a-fee9e97c4a5a"
      },
      "source": [
        "translate(df[1][0])"
      ],
      "execution_count": 81,
      "outputs": [
        {
          "output_type": "stream",
          "text": [
            "Input: <start> ciao ! <end>\n",
            "Predicted translation: hello ! <end> \n"
          ],
          "name": "stdout"
        },
        {
          "output_type": "display_data",
          "data": {
            "image/png": "[encoded data removed]",
            "text/plain": [
              "<Figure size 720x720 with 1 Axes>"
            ]
          },
          "metadata": {
            "tags": [],
            "needs_background": "light"
          }
        }
      ]
    },
    {
      "cell_type": "code",
      "metadata": {
        "id": "6BgLwg-fRIJY",
        "colab_type": "code",
        "colab": {
          "base_uri": "https://localhost:8080/",
          "height": 597
        },
        "outputId": "928f6ab4-ba77-4c2a-bd69-4dc3ba4203eb"
      },
      "source": [
        "translate(df[1][99])"
      ],
      "execution_count": 82,
      "outputs": [
        {
          "output_type": "stream",
          "text": [
            "Input: <start> io sono caduta . <end>\n",
            "Predicted translation: i fell . <end> \n"
          ],
          "name": "stdout"
        },
        {
          "output_type": "display_data",
          "data": {
            "image/png": "[encoded data removed]",
            "text/plain": [
              "<Figure size 720x720 with 1 Axes>"
            ]
          },
          "metadata": {
            "tags": [],
            "needs_background": "light"
          }
        }
      ]
    },
    {
      "cell_type": "code",
      "metadata": {
        "id": "BfNtQqYWRO3v",
        "colab_type": "code",
        "colab": {
          "base_uri": "https://localhost:8080/",
          "height": 597
        },
        "outputId": "37620b83-2ee7-4f0f-f269-600394b742f1"
      },
      "source": [
        "translate(df[1][1000])"
      ],
      "execution_count": 86,
      "outputs": [
        {
          "output_type": "stream",
          "text": [
            "Input: <start> tom ha mentito . <end>\n",
            "Predicted translation: tom lied . <end> \n"
          ],
          "name": "stdout"
        },
        {
          "output_type": "display_data",
          "data": {
            "image/png": "[encoded data removed]",
            "text/plain": [
              "<Figure size 720x720 with 1 Axes>"
            ]
          },
          "metadata": {
            "tags": [],
            "needs_background": "light"
          }
        }
      ]
    },
    {
      "cell_type": "markdown",
      "metadata": {
        "id": "IpP_pXOSRyeN",
        "colab_type": "text"
      },
      "source": [
        "## BLEU score"
      ]
    },
    {
      "cell_type": "code",
      "metadata": {
        "id": "M24_rxGRRRlp",
        "colab_type": "code",
        "colab": {}
      },
      "source": [
        "def pred_tensor(input_sentence):\n",
        "  max_length_targ, max_length_inp = target_tensor.shape[1], input_tensor.shape[1]\n",
        "\n",
        "  #attention_plot = np.zeros((max_length_targ, max_length_inp))\n",
        "  #attention_plot = []\n",
        "\n",
        "  sentence = preprocess_sentence(input_sentence)\n",
        "\n",
        "  inputs = [inp_lang.word_index[i] for i in sentence.split(' ')]\n",
        "  inputs = tf.keras.preprocessing.sequence.pad_sequences([inputs],\n",
        "                                                         maxlen=max_length_inp,\n",
        "                                                         padding='post')\n",
        "  inputs = tf.convert_to_tensor(inputs)\n",
        "\n",
        "  result = ''\n",
        "\n",
        "  hidden,cell = tf.zeros((1, 128)),tf.zeros((1, 128))\n",
        "  enc_out, enc_hidden, enc_cell = encoder(inputs, [hidden,cell])\n",
        "\n",
        "\n",
        "  dec_hidden, dec_cell = enc_hidden, enc_cell\n",
        "  #dec_input = tf.expand_dims([targ_lang.word_index['<start>']], 1)\n",
        "  dec_input = tf.expand_dims([targ_lang.word_index['<start>']], 0)\n",
        "\n",
        "  for t in range(max_length_targ):\n",
        "    predictions, dec_hidden, dec_cell, _,_ = onestepdecoder(dec_input,enc_out, dec_hidden, dec_cell)\n",
        "                                                         \n",
        "    #output,dec_h,dec_c,attention_weights,_=onestepdecoder(input_to_decoder,encoder_output,dec_h,dec_c)\n",
        "\n",
        "    # storing the attention weights to plot later on\n",
        "    #attention_weights = tf.reshape(attention_weights, (-1, ))\n",
        "    #attention_plot.appeend(attention_weights.numpy())\n",
        "    #attention_plot[t] = attention_weights.numpy()\n",
        "\n",
        "    predicted_id = tf.argmax(predictions[0]).numpy()\n",
        "    \n",
        "    result += targ_lang.index_word[predicted_id] + ' '\n",
        "\n",
        "    if targ_lang.index_word[predicted_id] == '<end>':\n",
        "      return result\n",
        "\n",
        "    # the predicted ID is fed back into the model\n",
        "    dec_input = tf.expand_dims([predicted_id], 0)\n",
        "  #attention_plot = np.asarray(attention_plot)\n",
        "  return result"
      ],
      "execution_count": 87,
      "outputs": []
    },
    {
      "cell_type": "code",
      "metadata": {
        "id": "ZdXKQhu6Re7N",
        "colab_type": "code",
        "colab": {}
      },
      "source": [
        "import random\n",
        "import nltk.translate.bleu_score as bleu\n",
        "import warnings\n",
        "warnings.filterwarnings(\"ignore\")\n",
        "\n",
        "def get_bleu(inp_tensor, targ_tensor):\n",
        "  random_index = random.sample(range(1, 68086), 1000)\n",
        "  bleu_score = 0\n",
        "  for index in tqdm(random_index):\n",
        "    x = input_tensor_val[index]\n",
        "    y = target_tensor_val[index]\n",
        "    out=\" \"\n",
        "    for i in x:\n",
        "      if (i!=0 and i!=1 and i!=2):\n",
        "        out += inp_lang.index_word[i] + ' '\n",
        "    inp=\" \"\n",
        "    for i in y:\n",
        "      if (i!=0 and i!=1 and i!=2):\n",
        "        inp += targ_lang.index_word[i] + ' '\n",
        "    translated = pred_tensor(out)\n",
        "    translated = translated.split()\n",
        "    translated[-1] = ''\n",
        "    translated = ' '.join(translated)\n",
        "    bleu_score += bleu.sentence_bleu([translated.split(),], inp.split())\n",
        "  return bleu_score"
      ],
      "execution_count": 88,
      "outputs": []
    },
    {
      "cell_type": "code",
      "metadata": {
        "id": "9Qokhti6SrPU",
        "colab_type": "code",
        "colab": {
          "base_uri": "https://localhost:8080/",
          "height": 52
        },
        "outputId": "49b35cce-dc45-45af-d81f-e9ce18e657e6"
      },
      "source": [
        "get_bleu(input_tensor_val, target_tensor_val)"
      ],
      "execution_count": 94,
      "outputs": [
        {
          "output_type": "stream",
          "text": [
            "100%|██████████| 1000/1000 [01:49<00:00,  9.13it/s]\n"
          ],
          "name": "stderr"
        },
        {
          "output_type": "execute_result",
          "data": {
            "text/plain": [
              "718.5695864681999"
            ]
          },
          "metadata": {
            "tags": []
          },
          "execution_count": 94
        }
      ]
    },
    {
      "cell_type": "markdown",
      "metadata": {
        "id": "iacdP163SiP-",
        "colab_type": "text"
      },
      "source": [
        "## Model Results"
      ]
    },
    {
      "cell_type": "markdown",
      "metadata": {
        "id": "F7akGi1DSkfc",
        "colab_type": "text"
      },
      "source": [
        "Best loss is achieved at the last epoch having value 0.0545\n",
        "\n",
        "BLEU score on random 1000 datapoints of test data is 718.57"
      ]
    },
    {
      "cell_type": "code",
      "metadata": {
        "id": "N0f7cvkJRqEI",
        "colab_type": "code",
        "colab": {}
      },
      "source": [
        ""
      ],
      "execution_count": null,
      "outputs": []
    }
  ]
}