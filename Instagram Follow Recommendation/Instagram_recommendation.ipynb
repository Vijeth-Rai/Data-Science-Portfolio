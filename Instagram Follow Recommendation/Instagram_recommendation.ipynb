{
 "cells": [
  {
   "cell_type": "markdown",
   "metadata": {},
   "source": [
    "# Loading data"
   ]
  },
  {
   "cell_type": "code",
   "execution_count": 1,
   "metadata": {
    "colab": {
     "base_uri": "https://localhost:8080/",
     "height": 216
    },
    "colab_type": "code",
    "id": "ABPXysD6CGgR",
    "outputId": "0f8ebd1a-aba1-4758-c748-b728de21de49"
   },
   "outputs": [
    {
     "name": "stdout",
     "output_type": "stream",
     "text": [
      "--2020-05-14 16:43:45--  https://doc-14-1c-docs.googleusercontent.com/docs/securesc/cpqrl8u0bfmm43paalnv6tsqiqd8at9v/limn0ka1b3jo17bfdec2ke2868um5o17/1589474550000/06629147635963609455/03674084270746528232/1XLHsIRXKLx9TA9nuC1SS7JDkLyRVmo69?e=download&authuser=0&nonce=rntn5992hik94&user=03674084270746528232&hash=rsommpc1rtb8pg5tq6s9ulvs5cvcn5q2\n",
      "Resolving doc-14-1c-docs.googleusercontent.com (doc-14-1c-docs.googleusercontent.com)... 108.177.111.132, 2607:f8b0:4001:c07::84\n",
      "Connecting to doc-14-1c-docs.googleusercontent.com (doc-14-1c-docs.googleusercontent.com)|108.177.111.132|:443... connected.\n",
      "HTTP request sent, awaiting response... 200 OK\n",
      "Length: unspecified [text/csv]\n",
      "Saving to: ‘train_pos_after_eda.csv’\n",
      "\n",
      "train_pos_after_eda     [        <=>         ] 113.80M  38.3MB/s    in 3.0s    \n",
      "\n",
      "2020-05-14 16:43:48 (38.3 MB/s) - ‘train_pos_after_eda.csv’ saved [119333798]\n",
      "\n"
     ]
    }
   ],
   "source": [
    "!wget --header=\"Host: doc-14-1c-docs.googleusercontent.com\" --header=\"User-Agent: Mozilla/5.0 (Windows NT 10.0; Win64; x64) AppleWebKit/537.36 (KHTML, like Gecko) Chrome/81.0.4044.138 Safari/537.36\" --header=\"Accept: text/html,application/xhtml+xml,application/xml;q=0.9,image/webp,image/apng,*/*;q=0.8,application/signed-exchange;v=b3;q=0.9\" --header=\"Accept-Language: en-US,en;q=0.9\" --header=\"Referer: https://drive.google.com/drive/folders/1ONG0P5YAMlkzyKB7VugPKtLs9fXcdmRx\" --header=\"Cookie: AUTH_qt52u2gu6qban90vehnie4dc20mth5n4_nonce=rntn5992hik94\" --header=\"Connection: keep-alive\" \"https://doc-14-1c-docs.googleusercontent.com/docs/securesc/cpqrl8u0bfmm43paalnv6tsqiqd8at9v/limn0ka1b3jo17bfdec2ke2868um5o17/1589474550000/06629147635963609455/03674084270746528232/1XLHsIRXKLx9TA9nuC1SS7JDkLyRVmo69?e=download&authuser=0&nonce=rntn5992hik94&user=03674084270746528232&hash=rsommpc1rtb8pg5tq6s9ulvs5cvcn5q2\" -c -O 'train_pos_after_eda.csv'"
   ]
  },
  {
   "cell_type": "code",
   "execution_count": 17,
   "metadata": {
    "colab": {
     "base_uri": "https://localhost:8080/",
     "height": 216
    },
    "colab_type": "code",
    "id": "q-MJDxdp60ww",
    "outputId": "92318ad6-09f2-4f3c-b496-649b98f6bb47"
   },
   "outputs": [
    {
     "name": "stdout",
     "output_type": "stream",
     "text": [
      "--2020-05-14 16:50:12--  https://doc-0s-1c-docs.googleusercontent.com/docs/securesc/cpqrl8u0bfmm43paalnv6tsqiqd8at9v/kffktod2o77gimvmudi4umnvesslo6gm/1589474850000/06629147635963609455/03674084270746528232/1fDJptlCFEWNV5UNGPc4geTykgFI3PDCV?e=download&authuser=0&nonce=ls4n1sdlife48&user=03674084270746528232&hash=qvgsu25o8ui5shnm6ro7uci8m2pfola2\n",
      "Resolving doc-0s-1c-docs.googleusercontent.com (doc-0s-1c-docs.googleusercontent.com)... 108.177.111.132, 2607:f8b0:4001:c07::84\n",
      "Connecting to doc-0s-1c-docs.googleusercontent.com (doc-0s-1c-docs.googleusercontent.com)|108.177.111.132|:443... connected.\n",
      "HTTP request sent, awaiting response... 200 OK\n",
      "Length: unspecified [application/octet-stream]\n",
      "Saving to: ‘storage_sample_stage4.h5’\n",
      "\n",
      "storage_sample_stag     [       <=>          ]  98.19M  58.4MB/s    in 1.7s    \n",
      "\n",
      "2020-05-14 16:50:15 (58.4 MB/s) - ‘storage_sample_stage4.h5’ saved [102955153]\n",
      "\n"
     ]
    }
   ],
   "source": [
    "!wget --header=\"Host: doc-0s-1c-docs.googleusercontent.com\" --header=\"User-Agent: Mozilla/5.0 (Windows NT 10.0; Win64; x64) AppleWebKit/537.36 (KHTML, like Gecko) Chrome/81.0.4044.138 Safari/537.36\" --header=\"Accept: text/html,application/xhtml+xml,application/xml;q=0.9,image/webp,image/apng,*/*;q=0.8,application/signed-exchange;v=b3;q=0.9\" --header=\"Accept-Language: en-US,en;q=0.9\" --header=\"Referer: https://drive.google.com/drive/folders/1qYtDPghLMT6rv3xd7NmQUSUKWwCS5375\" --header=\"Cookie: AUTH_qt52u2gu6qban90vehnie4dc20mth5n4_nonce=ls4n1sdlife48\" --header=\"Connection: keep-alive\" \"https://doc-0s-1c-docs.googleusercontent.com/docs/securesc/cpqrl8u0bfmm43paalnv6tsqiqd8at9v/kffktod2o77gimvmudi4umnvesslo6gm/1589474850000/06629147635963609455/03674084270746528232/1fDJptlCFEWNV5UNGPc4geTykgFI3PDCV?e=download&authuser=0&nonce=ls4n1sdlife48&user=03674084270746528232&hash=qvgsu25o8ui5shnm6ro7uci8m2pfola2\" -c -O 'storage_sample_stage4.h5'"
   ]
  },
  {
   "cell_type": "code",
   "execution_count": 3,
   "metadata": {
    "colab": {
     "base_uri": "https://localhost:8080/",
     "height": 216
    },
    "colab_type": "code",
    "id": "r0DKk_kg9FPv",
    "outputId": "3dfc4eb4-3937-44cb-f22d-c4c87fb5d133"
   },
   "outputs": [
    {
     "name": "stdout",
     "output_type": "stream",
     "text": [
      "--2020-05-14 16:44:48--  https://doc-0s-1c-docs.googleusercontent.com/docs/securesc/cpqrl8u0bfmm43paalnv6tsqiqd8at9v/9glfu68mcb9qbrsobchcso398u45rq6t/1589474625000/06629147635963609455/03674084270746528232/19mviN_yeJIfakb4kU5NfKdQlOQtaQ-kH?e=download&authuser=0\n",
      "Resolving doc-0s-1c-docs.googleusercontent.com (doc-0s-1c-docs.googleusercontent.com)... 108.177.111.132, 2607:f8b0:4001:c07::84\n",
      "Connecting to doc-0s-1c-docs.googleusercontent.com (doc-0s-1c-docs.googleusercontent.com)|108.177.111.132|:443... connected.\n",
      "HTTP request sent, awaiting response... 200 OK\n",
      "Length: unspecified [text/csv]\n",
      "Saving to: ‘train_y.csv’\n",
      "\n",
      "\r",
      "train_y.csv             [<=>                 ]       0  --.-KB/s               \r",
      "train_y.csv             [ <=>                ]   8.30M  41.5MB/s               \r",
      "train_y.csv             [  <=>               ]  43.20M   142MB/s    in 0.3s    \n",
      "\n",
      "2020-05-14 16:44:49 (142 MB/s) - ‘train_y.csv’ saved [45300090]\n",
      "\n"
     ]
    }
   ],
   "source": [
    "!wget --header=\"Host: doc-0s-1c-docs.googleusercontent.com\" --header=\"User-Agent: Mozilla/5.0 (Windows NT 10.0; Win64; x64) AppleWebKit/537.36 (KHTML, like Gecko) Chrome/81.0.4044.138 Safari/537.36\" --header=\"Accept: text/html,application/xhtml+xml,application/xml;q=0.9,image/webp,image/apng,*/*;q=0.8,application/signed-exchange;v=b3;q=0.9\" --header=\"Accept-Language: en-US,en;q=0.9\" --header=\"Referer: https://drive.google.com/drive/folders/1pEBmIl1tbuwYrsfeUv2KDz8a2gR0Fjxe\" --header=\"Cookie: AUTH_qt52u2gu6qban90vehnie4dc20mth5n4=03674084270746528232|1589474550000|d0htubc5a6efu2rnqlbrvl2ubkdes7o3\" --header=\"Connection: keep-alive\" \"https://doc-0s-1c-docs.googleusercontent.com/docs/securesc/cpqrl8u0bfmm43paalnv6tsqiqd8at9v/9glfu68mcb9qbrsobchcso398u45rq6t/1589474625000/06629147635963609455/03674084270746528232/19mviN_yeJIfakb4kU5NfKdQlOQtaQ-kH?e=download&authuser=0\" -c -O 'train_y.csv'"
   ]
  },
  {
   "cell_type": "code",
   "execution_count": 4,
   "metadata": {
    "colab": {
     "base_uri": "https://localhost:8080/",
     "height": 216
    },
    "colab_type": "code",
    "id": "u18LJsEZNz1N",
    "outputId": "0f3fa549-5398-4929-dd65-84642ce47f13"
   },
   "outputs": [
    {
     "name": "stdout",
     "output_type": "stream",
     "text": [
      "--2020-05-14 16:45:09--  https://doc-0g-1c-docs.googleusercontent.com/docs/securesc/cpqrl8u0bfmm43paalnv6tsqiqd8at9v/12254p4hcffridb64drhk8i31sp8p4nd/1589474625000/06629147635963609455/03674084270746528232/1H6qybuXr8i_USWu3k3ulXEOurc-SElUh?e=download&authuser=0\n",
      "Resolving doc-0g-1c-docs.googleusercontent.com (doc-0g-1c-docs.googleusercontent.com)... 108.177.111.132, 2607:f8b0:4001:c07::84\n",
      "Connecting to doc-0g-1c-docs.googleusercontent.com (doc-0g-1c-docs.googleusercontent.com)|108.177.111.132|:443... connected.\n",
      "HTTP request sent, awaiting response... 200 OK\n",
      "Length: unspecified [text/csv]\n",
      "Saving to: ‘test_y.csv’\n",
      "\n",
      "\r",
      "test_y.csv              [<=>                 ]       0  --.-KB/s               \r",
      "test_y.csv              [ <=>                ]   5.34M  26.7MB/s               \r",
      "test_y.csv              [  <=>               ]  10.80M  36.6MB/s    in 0.3s    \n",
      "\n",
      "2020-05-14 16:45:09 (36.6 MB/s) - ‘test_y.csv’ saved [11325024]\n",
      "\n"
     ]
    }
   ],
   "source": [
    "!wget --header=\"Host: doc-0g-1c-docs.googleusercontent.com\" --header=\"User-Agent: Mozilla/5.0 (Windows NT 10.0; Win64; x64) AppleWebKit/537.36 (KHTML, like Gecko) Chrome/81.0.4044.138 Safari/537.36\" --header=\"Accept: text/html,application/xhtml+xml,application/xml;q=0.9,image/webp,image/apng,*/*;q=0.8,application/signed-exchange;v=b3;q=0.9\" --header=\"Accept-Language: en-US,en;q=0.9\" --header=\"Referer: https://drive.google.com/drive/folders/1pEBmIl1tbuwYrsfeUv2KDz8a2gR0Fjxe\" --header=\"Cookie: AUTH_qt52u2gu6qban90vehnie4dc20mth5n4=03674084270746528232|1589474550000|d0htubc5a6efu2rnqlbrvl2ubkdes7o3\" --header=\"Connection: keep-alive\" \"https://doc-0g-1c-docs.googleusercontent.com/docs/securesc/cpqrl8u0bfmm43paalnv6tsqiqd8at9v/12254p4hcffridb64drhk8i31sp8p4nd/1589474625000/06629147635963609455/03674084270746528232/1H6qybuXr8i_USWu3k3ulXEOurc-SElUh?e=download&authuser=0\" -c -O 'test_y.csv'"
   ]
  },
  {
   "cell_type": "markdown",
   "metadata": {},
   "source": [
    "# Importing Libraries"
   ]
  },
  {
   "cell_type": "code",
   "execution_count": 0,
   "metadata": {
    "colab": {},
    "colab_type": "code",
    "id": "JkwPsAqirkT9"
   },
   "outputs": [],
   "source": [
    "#Importing Libraries\n",
    "# please do go through this python notebook: \n",
    "import warnings\n",
    "warnings.filterwarnings(\"ignore\")\n",
    "\n",
    "import csv\n",
    "import pandas as pd#pandas to create small dataframes \n",
    "import datetime #Convert to unix time\n",
    "import time #Convert to unix time\n",
    "# if numpy is not installed already : pip3 install numpy\n",
    "import numpy as np#Do aritmetic operations on arrays\n",
    "# matplotlib: used to plot graphs\n",
    "import matplotlib\n",
    "import matplotlib.pylab as plt\n",
    "import seaborn as sns#Plots\n",
    "from matplotlib import rcParams#Size of plots  \n",
    "from sklearn.cluster import MiniBatchKMeans, KMeans#Clustering\n",
    "import math\n",
    "import pickle\n",
    "import os\n",
    "# to install xgboost: pip3 install xgboost\n",
    "import xgboost as xgb\n",
    "\n",
    "import warnings\n",
    "import networkx as nx\n",
    "import pdb\n",
    "import pickle\n",
    "from pandas import HDFStore,DataFrame\n",
    "from pandas import read_hdf\n",
    "from scipy.sparse.linalg import svds, eigs\n",
    "import gc\n",
    "from tqdm import tqdm"
   ]
  },
  {
   "cell_type": "markdown",
   "metadata": {},
   "source": [
    "### Preferential Attachment Calculation\n",
    "\n",
    "This section of the code defines a function to calculate the preferential attachment score for a given pair of nodes (a, b) in the `train_graph`. The preferential attachment score is a measure of the likelihood that node 'a' follows node 'b', based on the number of people 'a' follows and the number of followers 'b' has."
   ]
  },
  {
   "cell_type": "code",
   "execution_count": 0,
   "metadata": {
    "colab": {},
    "colab_type": "code",
    "id": "N5ms2c149Mu4"
   },
   "outputs": [],
   "source": [
    "train_graph=nx.read_edgelist('train_pos_after_eda.csv',delimiter=',',create_using=nx.DiGraph(),nodetype=int)"
   ]
  },
  {
   "cell_type": "code",
   "execution_count": 0,
   "metadata": {
    "colab": {},
    "colab_type": "code",
    "id": "Dv7MUMb2vNC0"
   },
   "outputs": [],
   "source": [
    "def pref_at(a,b):\n",
    "  try:\n",
    "    a_following_numbers = len(set(train_graph.successors(a)))   # a follows many people\n",
    "    b_followers_numbers =len(set(train_graph.predecessors(b)))  # b has many followers\n",
    "    pred = a_following_numbers*b_followers_numbers              #  a might follow b\n",
    "    return pred\n",
    "  except:\n",
    "    return 0"
   ]
  },
  {
   "cell_type": "code",
   "execution_count": 0,
   "metadata": {
    "colab": {},
    "colab_type": "code",
    "id": "uEOYPgQJ59vj"
   },
   "outputs": [],
   "source": [
    "df_final_train = read_hdf('storage_sample_stage4.h5', 'train_df',mode='r')\n",
    "df_final_test = read_hdf('storage_sample_stage4.h5', 'test_df',mode='r')"
   ]
  },
  {
   "cell_type": "code",
   "execution_count": 19,
   "metadata": {
    "colab": {
     "base_uri": "https://localhost:8080/",
     "height": 228
    },
    "colab_type": "code",
    "id": "7dYwe57W82kj",
    "outputId": "5cf27658-a591-42f1-c3d8-f0ffe480aba7"
   },
   "outputs": [
    {
     "data": {
      "text/plain": [
       "Index(['source_node', 'destination_node', 'indicator_link',\n",
       "       'jaccard_followers', 'jaccard_followees', 'cosine_followers',\n",
       "       'cosine_followees', 'num_followers_s', 'num_followees_s',\n",
       "       'num_followees_d', 'inter_followers', 'inter_followees', 'adar_index',\n",
       "       'follows_back', 'same_comp', 'shortest_path', 'weight_in', 'weight_out',\n",
       "       'weight_f1', 'weight_f2', 'weight_f3', 'weight_f4', 'page_rank_s',\n",
       "       'page_rank_d', 'katz_s', 'katz_d', 'hubs_s', 'hubs_d', 'authorities_s',\n",
       "       'authorities_d', 'svd_u_s_1', 'svd_u_s_2', 'svd_u_s_3', 'svd_u_s_4',\n",
       "       'svd_u_s_5', 'svd_u_s_6', 'svd_u_d_1', 'svd_u_d_2', 'svd_u_d_3',\n",
       "       'svd_u_d_4', 'svd_u_d_5', 'svd_u_d_6', 'svd_v_s_1', 'svd_v_s_2',\n",
       "       'svd_v_s_3', 'svd_v_s_4', 'svd_v_s_5', 'svd_v_s_6', 'svd_v_d_1',\n",
       "       'svd_v_d_2', 'svd_v_d_3', 'svd_v_d_4', 'svd_v_d_5', 'svd_v_d_6'],\n",
       "      dtype='object')"
      ]
     },
     "execution_count": 19,
     "metadata": {
      "tags": []
     },
     "output_type": "execute_result"
    }
   ],
   "source": [
    "df_final_train.columns"
   ]
  },
  {
   "cell_type": "code",
   "execution_count": 0,
   "metadata": {
    "colab": {},
    "colab_type": "code",
    "id": "UYcqjEvV7Gl7"
   },
   "outputs": [],
   "source": [
    "df_final_train['preff_attach'] = df_final_train.apply(lambda row:pref_at(row['source_node'],row['destination_node']),axis=1)"
   ]
  },
  {
   "cell_type": "markdown",
   "metadata": {},
   "source": [
    "### Computing Dot Product of SVD_u Vectors\n",
    "\n",
    "This code snippet calculates the dot product of the `svd_u` vectors for source and destination nodes in the `df_final_train` dataset. The dot product is computed using the corresponding components of the `svd_u` vectors (svd_u_s_* and svd_u_d_*). The result is stored in a new column, `svd_u_dot`, which represents the similarity between the source and destination nodes' SVD_u vectors."
   ]
  },
  {
   "cell_type": "code",
   "execution_count": 0,
   "metadata": {
    "colab": {},
    "colab_type": "code",
    "id": "8ipukwJ394oN"
   },
   "outputs": [],
   "source": [
    "df_final_train['svd_u_dot'] = df_final_train['svd_u_s_1']*df_final_train['svd_u_d_1']+df_final_train['svd_u_s_2']*df_final_train['svd_u_d_2']+\\\n",
    "                              df_final_train['svd_u_s_3']*df_final_train['svd_u_d_3']+df_final_train['svd_u_s_4']*df_final_train['svd_u_d_4']+\\\n",
    "                              df_final_train['svd_u_s_5']*df_final_train['svd_u_d_5']+df_final_train['svd_u_s_6']*df_final_train['svd_u_d_6']"
   ]
  },
  {
   "cell_type": "code",
   "execution_count": 0,
   "metadata": {
    "colab": {},
    "colab_type": "code",
    "id": "N56NtdiC-vRb"
   },
   "outputs": [],
   "source": [
    "df_final_train['svd_v_dot'] = df_final_train['svd_v_s_1']*df_final_train['svd_v_d_1']+df_final_train['svd_v_s_2']*df_final_train['svd_v_d_2']+\\\n",
    "                              df_final_train['svd_v_s_3']*df_final_train['svd_v_d_3']+df_final_train['svd_v_s_4']*df_final_train['svd_v_d_4']+\\\n",
    "                              df_final_train['svd_v_s_5']*df_final_train['svd_v_d_5']+df_final_train['svd_v_s_6']*df_final_train['svd_v_d_6']"
   ]
  },
  {
   "cell_type": "code",
   "execution_count": 23,
   "metadata": {
    "colab": {
     "base_uri": "https://localhost:8080/",
     "height": 245
    },
    "colab_type": "code",
    "id": "h7-fE6y9_Dgj",
    "outputId": "8844ccb5-e000-440c-ec09-dd966d23b119"
   },
   "outputs": [
    {
     "data": {
      "text/plain": [
       "Index(['source_node', 'destination_node', 'indicator_link',\n",
       "       'jaccard_followers', 'jaccard_followees', 'cosine_followers',\n",
       "       'cosine_followees', 'num_followers_s', 'num_followees_s',\n",
       "       'num_followees_d', 'inter_followers', 'inter_followees', 'adar_index',\n",
       "       'follows_back', 'same_comp', 'shortest_path', 'weight_in', 'weight_out',\n",
       "       'weight_f1', 'weight_f2', 'weight_f3', 'weight_f4', 'page_rank_s',\n",
       "       'page_rank_d', 'katz_s', 'katz_d', 'hubs_s', 'hubs_d', 'authorities_s',\n",
       "       'authorities_d', 'svd_u_s_1', 'svd_u_s_2', 'svd_u_s_3', 'svd_u_s_4',\n",
       "       'svd_u_s_5', 'svd_u_s_6', 'svd_u_d_1', 'svd_u_d_2', 'svd_u_d_3',\n",
       "       'svd_u_d_4', 'svd_u_d_5', 'svd_u_d_6', 'svd_v_s_1', 'svd_v_s_2',\n",
       "       'svd_v_s_3', 'svd_v_s_4', 'svd_v_s_5', 'svd_v_s_6', 'svd_v_d_1',\n",
       "       'svd_v_d_2', 'svd_v_d_3', 'svd_v_d_4', 'svd_v_d_5', 'svd_v_d_6',\n",
       "       'preff_attach', 'svd_u_dot', 'svd_v_dot'],\n",
       "      dtype='object')"
      ]
     },
     "execution_count": 23,
     "metadata": {
      "tags": []
     },
     "output_type": "execute_result"
    }
   ],
   "source": [
    "df_final_train.columns"
   ]
  },
  {
   "cell_type": "code",
   "execution_count": 24,
   "metadata": {
    "colab": {
     "base_uri": "https://localhost:8080/",
     "height": 228
    },
    "colab_type": "code",
    "id": "Hp1z6aD2_NIC",
    "outputId": "21f5e970-2a9f-4210-be2b-c534fde1e785"
   },
   "outputs": [
    {
     "data": {
      "text/plain": [
       "Index(['source_node', 'destination_node', 'indicator_link',\n",
       "       'jaccard_followers', 'jaccard_followees', 'cosine_followers',\n",
       "       'cosine_followees', 'num_followers_s', 'num_followees_s',\n",
       "       'num_followees_d', 'inter_followers', 'inter_followees', 'adar_index',\n",
       "       'follows_back', 'same_comp', 'shortest_path', 'weight_in', 'weight_out',\n",
       "       'weight_f1', 'weight_f2', 'weight_f3', 'weight_f4', 'page_rank_s',\n",
       "       'page_rank_d', 'katz_s', 'katz_d', 'hubs_s', 'hubs_d', 'authorities_s',\n",
       "       'authorities_d', 'svd_u_s_1', 'svd_u_s_2', 'svd_u_s_3', 'svd_u_s_4',\n",
       "       'svd_u_s_5', 'svd_u_s_6', 'svd_u_d_1', 'svd_u_d_2', 'svd_u_d_3',\n",
       "       'svd_u_d_4', 'svd_u_d_5', 'svd_u_d_6', 'svd_v_s_1', 'svd_v_s_2',\n",
       "       'svd_v_s_3', 'svd_v_s_4', 'svd_v_s_5', 'svd_v_s_6', 'svd_v_d_1',\n",
       "       'svd_v_d_2', 'svd_v_d_3', 'svd_v_d_4', 'svd_v_d_5', 'svd_v_d_6'],\n",
       "      dtype='object')"
      ]
     },
     "execution_count": 24,
     "metadata": {
      "tags": []
     },
     "output_type": "execute_result"
    }
   ],
   "source": [
    "df_final_test.columns"
   ]
  },
  {
   "cell_type": "markdown",
   "metadata": {},
   "source": [
    "### Repeating the same for test set"
   ]
  },
  {
   "cell_type": "code",
   "execution_count": 0,
   "metadata": {
    "colab": {},
    "colab_type": "code",
    "id": "caNxZEb0_Oxk"
   },
   "outputs": [],
   "source": [
    "df_final_test['preff_attach'] = df_final_test.apply(lambda row:pref_at(row['source_node'],row['destination_node']),axis=1)"
   ]
  },
  {
   "cell_type": "code",
   "execution_count": 0,
   "metadata": {
    "colab": {},
    "colab_type": "code",
    "id": "PyB5SSdP_bIY"
   },
   "outputs": [],
   "source": [
    "df_final_test['svd_u_dot'] = df_final_test['svd_u_s_1']*df_final_test['svd_u_d_1']+df_final_test['svd_u_s_2']*df_final_test['svd_u_d_2']+\\\n",
    "                              df_final_test['svd_u_s_3']*df_final_test['svd_u_d_3']+df_final_test['svd_u_s_4']*df_final_test['svd_u_d_4']+\\\n",
    "                              df_final_test['svd_u_s_5']*df_final_test['svd_u_d_5']+df_final_test['svd_u_s_6']*df_final_test['svd_u_d_6']"
   ]
  },
  {
   "cell_type": "code",
   "execution_count": 0,
   "metadata": {
    "colab": {},
    "colab_type": "code",
    "id": "fE2Ox43V_nUb"
   },
   "outputs": [],
   "source": [
    "df_final_test['svd_v_dot'] = df_final_test['svd_v_s_1']*df_final_test['svd_v_d_1']+df_final_test['svd_v_s_2']*df_final_test['svd_v_d_2']+\\\n",
    "                              df_final_test['svd_v_s_3']*df_final_test['svd_v_d_3']+df_final_test['svd_v_s_4']*df_final_test['svd_v_d_4']+\\\n",
    "                              df_final_test['svd_v_s_5']*df_final_test['svd_v_d_5']+df_final_test['svd_v_s_6']*df_final_test['svd_v_d_6']"
   ]
  },
  {
   "cell_type": "code",
   "execution_count": 28,
   "metadata": {
    "colab": {
     "base_uri": "https://localhost:8080/",
     "height": 245
    },
    "colab_type": "code",
    "id": "3hXkXFHL_1K1",
    "outputId": "f98b6d5a-25c5-4895-ea14-e4a39a9041f4"
   },
   "outputs": [
    {
     "data": {
      "text/plain": [
       "Index(['source_node', 'destination_node', 'indicator_link',\n",
       "       'jaccard_followers', 'jaccard_followees', 'cosine_followers',\n",
       "       'cosine_followees', 'num_followers_s', 'num_followees_s',\n",
       "       'num_followees_d', 'inter_followers', 'inter_followees', 'adar_index',\n",
       "       'follows_back', 'same_comp', 'shortest_path', 'weight_in', 'weight_out',\n",
       "       'weight_f1', 'weight_f2', 'weight_f3', 'weight_f4', 'page_rank_s',\n",
       "       'page_rank_d', 'katz_s', 'katz_d', 'hubs_s', 'hubs_d', 'authorities_s',\n",
       "       'authorities_d', 'svd_u_s_1', 'svd_u_s_2', 'svd_u_s_3', 'svd_u_s_4',\n",
       "       'svd_u_s_5', 'svd_u_s_6', 'svd_u_d_1', 'svd_u_d_2', 'svd_u_d_3',\n",
       "       'svd_u_d_4', 'svd_u_d_5', 'svd_u_d_6', 'svd_v_s_1', 'svd_v_s_2',\n",
       "       'svd_v_s_3', 'svd_v_s_4', 'svd_v_s_5', 'svd_v_s_6', 'svd_v_d_1',\n",
       "       'svd_v_d_2', 'svd_v_d_3', 'svd_v_d_4', 'svd_v_d_5', 'svd_v_d_6',\n",
       "       'preff_attach', 'svd_u_dot', 'svd_v_dot'],\n",
       "      dtype='object')"
      ]
     },
     "execution_count": 28,
     "metadata": {
      "tags": []
     },
     "output_type": "execute_result"
    }
   ],
   "source": [
    "df_final_test.columns"
   ]
  },
  {
   "cell_type": "code",
   "execution_count": 0,
   "metadata": {
    "colab": {},
    "colab_type": "code",
    "id": "D12BocaMCM1d"
   },
   "outputs": [],
   "source": [
    "y_train = pd.read_csv('train_y.csv')  \n",
    "y_test = pd.read_csv('test_y.csv')"
   ]
  },
  {
   "cell_type": "markdown",
   "metadata": {},
   "source": [
    "### Preparing Data for Modeling\n",
    "\n",
    "In this code snippet, the target variables `y_train` and `y_test` are created by extracting the `indicator_link` column from the `df_final_train` and `df_final_test` datasets, respectively. \n",
    "\n",
    "The `source_node`, `destination_node`, and `indicator_link` columns are then dropped from both the train and test datasets, as they are no longer needed for the modeling process. This results in `df_final_train` and `df_final_test` containing only the feature columns that will be used for training and testing the machine learning model."
   ]
  },
  {
   "cell_type": "code",
   "execution_count": 0,
   "metadata": {
    "colab": {},
    "colab_type": "code",
    "id": "ovuvhe7tPqe5"
   },
   "outputs": [],
   "source": [
    "y_train = df_final_train.indicator_link\n",
    "y_test = df_final_test.indicator_link"
   ]
  },
  {
   "cell_type": "code",
   "execution_count": 0,
   "metadata": {
    "colab": {},
    "colab_type": "code",
    "id": "YTdYjlaTC6rb"
   },
   "outputs": [],
   "source": [
    "df_final_train.drop(['source_node', 'destination_node','indicator_link'],axis=1,inplace=True)\n",
    "df_final_test.drop(['source_node', 'destination_node','indicator_link'],axis=1,inplace=True)"
   ]
  },
  {
   "cell_type": "code",
   "execution_count": 32,
   "metadata": {
    "colab": {
     "base_uri": "https://localhost:8080/",
     "height": 50
    },
    "colab_type": "code",
    "id": "VihmAkmgSXOk",
    "outputId": "91beea25-cb7c-453b-dcf2-0cbb9b11fefc"
   },
   "outputs": [
    {
     "data": {
      "text/plain": [
       "0    1\n",
       "Name: indicator_link, dtype: int64"
      ]
     },
     "execution_count": 32,
     "metadata": {
      "tags": []
     },
     "output_type": "execute_result"
    }
   ],
   "source": [
    "y_test.head(1)"
   ]
  },
  {
   "cell_type": "markdown",
   "metadata": {},
   "source": [
    "### Hyperparameter Tuning with XGBoost Classifier\n",
    "\n",
    "In this code snippet, the XGBoost Classifier is used to find the optimal combination of hyperparameters that yield the best performance. The hyperparameters being tuned include `max_depth`, `learning_rate`, and `n_estimators`.\n",
    "\n",
    "To achieve this, the code iterates over multiple combinations of hyperparameters using nested loops. For each combination, an XGBoost Classifier model is trained and used to make predictions on both the train and test datasets. The F1 scores for the predictions are then calculated and stored in `train_scores` and `test_scores`.\n",
    "\n",
    "The results for each combination of hyperparameters are printed as the loops progress, allowing you to identify the combination that yields the best performance."
   ]
  },
  {
   "cell_type": "code",
   "execution_count": 0,
   "metadata": {
    "colab": {
     "base_uri": "https://localhost:8080/",
     "height": 1000
    },
    "colab_type": "code",
    "id": "kCR7NLtayehR",
    "outputId": "f5203652-3e6f-4b4c-e441-0a325cac2a83"
   },
   "outputs": [
    {
     "name": "stdout",
     "output_type": "stream",
     "text": [
      "Depth = 1 learning rate = 0.001 Estimators = 10 Train Score = 0.7140783371658338 Test Score = 0.710917120793409\n",
      "Depth = 1 learning rate = 0.001 Estimators = 50 Train Score = 0.7140783371658338 Test Score = 0.710917120793409\n",
      "Depth = 1 learning rate = 0.001 Estimators = 100 Train Score = 0.8671465216891917 Test Score = 0.8439557005293278\n",
      "Depth = 1 learning rate = 0.001 Estimators = 250 Train Score = 0.8671465216891917 Test Score = 0.8439557005293278\n",
      "Depth = 1 learning rate = 0.001 Estimators = 450 Train Score = 0.8754657776034517 Test Score = 0.8543141725669029\n",
      "Depth = 1 learning rate = 0.01 Estimators = 10 Train Score = 0.8671465216891917 Test Score = 0.8439557005293278\n",
      "Depth = 1 learning rate = 0.01 Estimators = 50 Train Score = 0.8754657776034517 Test Score = 0.8543141725669029\n",
      "Depth = 1 learning rate = 0.01 Estimators = 100 Train Score = 0.8767197073411586 Test Score = 0.8691830169015361\n",
      "Depth = 1 learning rate = 0.01 Estimators = 250 Train Score = 0.9231892371069509 Test Score = 0.9094326870274152\n",
      "Depth = 1 learning rate = 0.01 Estimators = 450 Train Score = 0.9277736874306514 Test Score = 0.9151097863050506\n",
      "Depth = 1 learning rate = 0.1 Estimators = 10 Train Score = 0.8795529154291074 Test Score = 0.8600143289285147\n",
      "Depth = 1 learning rate = 0.1 Estimators = 50 Train Score = 0.9296750188103606 Test Score = 0.9143740469177581\n",
      "Depth = 1 learning rate = 0.1 Estimators = 100 Train Score = 0.9366407650926479 Test Score = 0.9040152963671128\n",
      "Depth = 1 learning rate = 0.1 Estimators = 250 Train Score = 0.9647864494691628 Test Score = 0.9117828763767283\n",
      "Depth = 1 learning rate = 0.1 Estimators = 450 Train Score = 0.9694148666463848 Test Score = 0.9093449105914718\n",
      "Depth = 1 learning rate = 1 Estimators = 10 Train Score = 0.9567879885256241 Test Score = 0.9172652750781713\n",
      "Depth = 1 learning rate = 1 Estimators = 50 Train Score = 0.9708637364644753 Test Score = 0.8927406823802334\n",
      "Depth = 1 learning rate = 1 Estimators = 100 Train Score = 0.9730802328524424 Test Score = 0.8985854189336234\n",
      "Depth = 1 learning rate = 1 Estimators = 250 Train Score = 0.9759162726795167 Test Score = 0.8936569607543545\n",
      "Depth = 1 learning rate = 1 Estimators = 450 Train Score = 0.977308973453114 Test Score = 0.892529488859764\n",
      "Depth = 1 learning rate = 10 Estimators = 10 Train Score = 0.6671020712819556 Test Score = 0.6658662184156461\n",
      "Depth = 1 learning rate = 10 Estimators = 50 Train Score = 0.6671020712819556 Test Score = 0.6658662184156461\n",
      "Depth = 1 learning rate = 10 Estimators = 100 Train Score = 0.6671020712819556 Test Score = 0.6658662184156461\n",
      "Depth = 1 learning rate = 10 Estimators = 250 Train Score = 0.6671020712819556 Test Score = 0.6658662184156461\n",
      "Depth = 1 learning rate = 10 Estimators = 450 Train Score = 0.6671020712819556 Test Score = 0.6658662184156461\n",
      "Depth = 1 learning rate = 100 Estimators = 10 Train Score = 0.6671020712819556 Test Score = 0.6658662184156461\n",
      "Depth = 1 learning rate = 100 Estimators = 50 Train Score = 0.6671020712819556 Test Score = 0.6658662184156461\n",
      "Depth = 1 learning rate = 100 Estimators = 100 Train Score = 0.6671020712819556 Test Score = 0.6658662184156461\n",
      "Depth = 1 learning rate = 100 Estimators = 250 Train Score = 0.6671020712819556 Test Score = 0.6658662184156461\n",
      "Depth = 1 learning rate = 100 Estimators = 450 Train Score = 0.6671020712819556 Test Score = 0.6658662184156461\n",
      "Depth = 5 learning rate = 0.001 Estimators = 10 Train Score = 0.9271861720821751 Test Score = 0.9268303104103911\n",
      "Depth = 5 learning rate = 0.001 Estimators = 50 Train Score = 0.9282045282938606 Test Score = 0.9281296651738111\n",
      "Depth = 5 learning rate = 0.001 Estimators = 100 Train Score = 0.9282045282938606 Test Score = 0.9281296651738111\n",
      "Depth = 5 learning rate = 0.001 Estimators = 250 Train Score = 0.9322737792055458 Test Score = 0.9284742881427964\n",
      "Depth = 5 learning rate = 0.001 Estimators = 450 Train Score = 0.9397484368945257 Test Score = 0.9288892655846082\n",
      "Depth = 5 learning rate = 0.01 Estimators = 10 Train Score = 0.9282045282938606 Test Score = 0.9281296651738111\n",
      "Depth = 5 learning rate = 0.01 Estimators = 50 Train Score = 0.9403699012968525 Test Score = 0.928866569194584\n",
      "Depth = 5 learning rate = 0.01 Estimators = 100 Train Score = 0.9622655012012472 Test Score = 0.9289425879768493\n",
      "Depth = 5 learning rate = 0.01 Estimators = 250 Train Score = 0.9680570599415503 Test Score = 0.9334095334857336\n",
      "Depth = 5 learning rate = 0.01 Estimators = 450 Train Score = 0.9712535487875612 Test Score = 0.932831242463348\n",
      "Depth = 5 learning rate = 0.1 Estimators = 10 Train Score = 0.9629039017858056 Test Score = 0.9292037267868083\n",
      "Depth = 5 learning rate = 0.1 Estimators = 50 Train Score = 0.9718116435917521 Test Score = 0.9315677966101695\n",
      "Depth = 5 learning rate = 0.1 Estimators = 100 Train Score = 0.9763921354340589 Test Score = 0.9302443776206006\n",
      "Depth = 5 learning rate = 0.1 Estimators = 250 Train Score = 0.986140446160964 Test Score = 0.9266550448573493\n",
      "Depth = 5 learning rate = 0.1 Estimators = 450 Train Score = 0.9939878554680455 Test Score = 0.9229423561035969\n",
      "Depth = 5 learning rate = 1 Estimators = 10 Train Score = 0.9753625967681703 Test Score = 0.9265457630713755\n",
      "Depth = 5 learning rate = 1 Estimators = 50 Train Score = 0.994478564426751 Test Score = 0.9013706342160535\n",
      "Depth = 5 learning rate = 1 Estimators = 100 Train Score = 0.9998801102985253 Test Score = 0.8986533449174631\n",
      "Depth = 5 learning rate = 1 Estimators = 250 Train Score = 1.0 Test Score = 0.8922612669742626\n",
      "Depth = 5 learning rate = 1 Estimators = 450 Train Score = 1.0 Test Score = 0.8904866286716352\n",
      "Depth = 5 learning rate = 10 Estimators = 10 Train Score = 0.0 Test Score = 0.0\n",
      "Depth = 5 learning rate = 10 Estimators = 50 Train Score = 0.0 Test Score = 0.0\n",
      "Depth = 5 learning rate = 10 Estimators = 100 Train Score = 0.0 Test Score = 0.0\n",
      "Depth = 5 learning rate = 10 Estimators = 250 Train Score = 0.0 Test Score = 0.0\n",
      "Depth = 5 learning rate = 10 Estimators = 450 Train Score = 0.7038688508827807 Test Score = 0.6637409501140533\n",
      "Depth = 5 learning rate = 100 Estimators = 10 Train Score = 0.6671020712819556 Test Score = 0.6658662184156461\n",
      "Depth = 5 learning rate = 100 Estimators = 50 Train Score = 0.6671020712819556 Test Score = 0.6658662184156461\n",
      "Depth = 5 learning rate = 100 Estimators = 100 Train Score = 0.6671020712819556 Test Score = 0.6658662184156461\n",
      "Depth = 5 learning rate = 100 Estimators = 250 Train Score = 0.6671020712819556 Test Score = 0.6658662184156461\n",
      "Depth = 5 learning rate = 100 Estimators = 450 Train Score = 0.6671020712819556 Test Score = 0.6658662184156461\n",
      "Depth = 10 learning rate = 0.001 Estimators = 10 Train Score = 0.9740263688600181 Test Score = 0.9345180443845539\n",
      "Depth = 10 learning rate = 0.001 Estimators = 50 Train Score = 0.9745008053976841 Test Score = 0.9342991913746631\n",
      "Depth = 10 learning rate = 0.001 Estimators = 100 Train Score = 0.9743314206930112 Test Score = 0.934811006700097\n",
      "Depth = 10 learning rate = 0.001 Estimators = 250 Train Score = 0.9751025160735078 Test Score = 0.9349299212929837\n",
      "Depth = 10 learning rate = 0.001 Estimators = 450 Train Score = 0.9755672609400323 Test Score = 0.934927685732932\n",
      "Depth = 10 learning rate = 0.01 Estimators = 10 Train Score = 0.9743631331920889 Test Score = 0.9346900939619938\n",
      "Depth = 10 learning rate = 0.01 Estimators = 50 Train Score = 0.9758588201922784 Test Score = 0.9349703070378638\n",
      "Depth = 10 learning rate = 0.01 Estimators = 100 Train Score = 0.9769743833689262 Test Score = 0.9342296588203065\n",
      "Depth = 10 learning rate = 0.01 Estimators = 250 Train Score = 0.9784884250128948 Test Score = 0.9333277051982862\n",
      "Depth = 10 learning rate = 0.01 Estimators = 450 Train Score = 0.9796169976251832 Test Score = 0.9325080800185893\n",
      "Depth = 10 learning rate = 0.1 Estimators = 10 Train Score = 0.9768378854447166 Test Score = 0.9342973377458318\n",
      "Depth = 10 learning rate = 0.1 Estimators = 50 Train Score = 0.9804000767436459 Test Score = 0.9282791664016621\n",
      "Depth = 10 learning rate = 0.1 Estimators = 100 Train Score = 0.9894728375076666 Test Score = 0.9283516856554856\n",
      "Depth = 10 learning rate = 0.1 Estimators = 250 Train Score = 0.9999800195808108 Test Score = 0.9282652065028227\n",
      "Depth = 10 learning rate = 0.1 Estimators = 450 Train Score = 1.0 Test Score = 0.9270530272462784\n",
      "Depth = 10 learning rate = 1 Estimators = 10 Train Score = 0.9910673155881352 Test Score = 0.9219497734298904\n",
      "Depth = 10 learning rate = 1 Estimators = 50 Train Score = 1.0 Test Score = 0.9233677413873667\n",
      "Depth = 10 learning rate = 1 Estimators = 100 Train Score = 1.0 Test Score = 0.9224191112340191\n",
      "Depth = 10 learning rate = 1 Estimators = 250 Train Score = 1.0 Test Score = 0.9200929300679924\n",
      "Depth = 10 learning rate = 1 Estimators = 450 Train Score = 1.0 Test Score = 0.9192313434427453\n",
      "Depth = 10 learning rate = 10 Estimators = 10 Train Score = 0.6671020712819556 Test Score = 0.6658662184156461\n",
      "Depth = 10 learning rate = 10 Estimators = 50 Train Score = 0.6671020712819556 Test Score = 0.6658662184156461\n",
      "Depth = 10 learning rate = 10 Estimators = 100 Train Score = 0.6671020712819556 Test Score = 0.6658662184156461\n",
      "Depth = 10 learning rate = 10 Estimators = 250 Train Score = 0.6671020712819556 Test Score = 0.6658662184156461\n",
      "Depth = 10 learning rate = 10 Estimators = 450 Train Score = 0.6671020712819556 Test Score = 0.6658662184156461\n",
      "Depth = 10 learning rate = 100 Estimators = 10 Train Score = 0.6671020712819556 Test Score = 0.6658662184156461\n",
      "Depth = 10 learning rate = 100 Estimators = 50 Train Score = 0.6671020712819556 Test Score = 0.6658662184156461\n",
      "Depth = 10 learning rate = 100 Estimators = 100 Train Score = 0.6671020712819556 Test Score = 0.6658662184156461\n",
      "Depth = 10 learning rate = 100 Estimators = 250 Train Score = 0.6671020712819556 Test Score = 0.6658662184156461\n",
      "Depth = 10 learning rate = 100 Estimators = 450 Train Score = 0.6671020712819556 Test Score = 0.6658662184156461\n",
      "Depth = 25 learning rate = 0.001 Estimators = 10 Train Score = 0.9893219862711252 Test Score = 0.9277574490329326\n",
      "Depth = 25 learning rate = 0.001 Estimators = 50 Train Score = 0.9911706866797768 Test Score = 0.9300735957058688\n",
      "Depth = 25 learning rate = 0.001 Estimators = 100 Train Score = 0.9918718766933591 Test Score = 0.9319140895635196\n",
      "Depth = 25 learning rate = 0.001 Estimators = 250 Train Score = 0.9927169856747321 Test Score = 0.933195997645674\n",
      "Depth = 25 learning rate = 0.001 Estimators = 450 Train Score = 0.9941962451008891 Test Score = 0.9334986758585901\n",
      "Depth = 25 learning rate = 0.01 Estimators = 10 Train Score = 0.9918922715687651 Test Score = 0.931718986066812\n",
      "Depth = 25 learning rate = 0.01 Estimators = 50 Train Score = 0.9942872033354714 Test Score = 0.9335098558399528\n",
      "Depth = 25 learning rate = 0.01 Estimators = 100 Train Score = 0.9962559564329475 Test Score = 0.9335801118916418\n",
      "Depth = 25 learning rate = 0.01 Estimators = 250 Train Score = 0.9992706491222811 Test Score = 0.9321211609854877\n",
      "Depth = 25 learning rate = 0.01 Estimators = 450 Train Score = 0.9998601594182632 Test Score = 0.932652975161304\n",
      "Depth = 25 learning rate = 0.1 Estimators = 10 Train Score = 0.9960957834461218 Test Score = 0.9334202557200538\n",
      "Depth = 25 learning rate = 0.1 Estimators = 50 Train Score = 0.999900109879133 Test Score = 0.9319188425359599\n",
      "Depth = 25 learning rate = 0.1 Estimators = 100 Train Score = 1.0 Test Score = 0.9297919133818304\n",
      "Depth = 25 learning rate = 0.1 Estimators = 250 Train Score = 1.0 Test Score = 0.9297670186427408\n",
      "Depth = 25 learning rate = 0.1 Estimators = 450 Train Score = 1.0 Test Score = 0.9292262093786388\n",
      "Depth = 25 learning rate = 1 Estimators = 10 Train Score = 1.0 Test Score = 0.9270114578717478\n",
      "Depth = 25 learning rate = 1 Estimators = 50 Train Score = 1.0 Test Score = 0.9274792208616206\n",
      "Depth = 25 learning rate = 1 Estimators = 100 Train Score = 1.0 Test Score = 0.927629490083187\n",
      "Depth = 25 learning rate = 1 Estimators = 250 Train Score = 1.0 Test Score = 0.9270948064051513\n",
      "Depth = 25 learning rate = 1 Estimators = 450 Train Score = 1.0 Test Score = 0.9261756349913073\n",
      "Depth = 25 learning rate = 10 Estimators = 10 Train Score = 0.6671020712819556 Test Score = 0.6658662184156461\n",
      "Depth = 25 learning rate = 10 Estimators = 50 Train Score = 0.6671020712819556 Test Score = 0.6658662184156461\n",
      "Depth = 25 learning rate = 10 Estimators = 100 Train Score = 0.6671020712819556 Test Score = 0.6658662184156461\n",
      "Depth = 25 learning rate = 10 Estimators = 250 Train Score = 0.6671020712819556 Test Score = 0.6658662184156461\n",
      "Depth = 25 learning rate = 10 Estimators = 450 Train Score = 0.6671020712819556 Test Score = 0.6658662184156461\n",
      "Depth = 25 learning rate = 100 Estimators = 10 Train Score = 0.0 Test Score = 0.0\n",
      "Depth = 25 learning rate = 100 Estimators = 50 Train Score = 0.0 Test Score = 0.0\n",
      "Depth = 25 learning rate = 100 Estimators = 100 Train Score = 0.0 Test Score = 0.0\n",
      "Depth = 25 learning rate = 100 Estimators = 250 Train Score = 0.0 Test Score = 0.0\n",
      "Depth = 25 learning rate = 100 Estimators = 450 Train Score = 0.0 Test Score = 0.0\n",
      "Depth = 50 learning rate = 0.001 Estimators = 10 Train Score = 0.9893120578052085 Test Score = 0.9277574490329326\n",
      "Depth = 50 learning rate = 0.001 Estimators = 50 Train Score = 0.9912212936301706 Test Score = 0.9301155305810076\n",
      "Depth = 50 learning rate = 0.001 Estimators = 100 Train Score = 0.9919528004655737 Test Score = 0.9320791954481512\n",
      "Depth = 50 learning rate = 0.001 Estimators = 250 Train Score = 0.9928281257836401 Test Score = 0.9332099985283916\n",
      "Depth = 50 learning rate = 0.001 Estimators = 450 Train Score = 0.9942970543132911 Test Score = 0.9334678690799016\n",
      "Depth = 50 learning rate = 0.01 Estimators = 10 Train Score = 0.9920033712261832 Test Score = 0.9317414021025242\n",
      "Depth = 50 learning rate = 0.01 Estimators = 50 Train Score = 0.9945186536129788 Test Score = 0.9335883317220799\n",
      "Depth = 50 learning rate = 0.01 Estimators = 100 Train Score = 0.996707860109071 Test Score = 0.9336810886986517\n",
      "Depth = 50 learning rate = 0.01 Estimators = 250 Train Score = 0.9994405929714503 Test Score = 0.9322505800464036\n",
      "Depth = 50 learning rate = 0.01 Estimators = 450 Train Score = 0.9998501693086811 Test Score = 0.9326191028534071\n",
      "Depth = 50 learning rate = 0.1 Estimators = 10 Train Score = 0.9963871458452177 Test Score = 0.9335548871547862\n",
      "Depth = 50 learning rate = 0.1 Estimators = 50 Train Score = 0.999900109879133 Test Score = 0.9323514517218096\n",
      "Depth = 50 learning rate = 0.1 Estimators = 100 Train Score = 1.0 Test Score = 0.9304627358091531\n",
      "Depth = 50 learning rate = 0.1 Estimators = 250 Train Score = 1.0 Test Score = 0.9299794617713694\n",
      "Depth = 50 learning rate = 0.1 Estimators = 450 Train Score = 1.0 Test Score = 0.9294080271100286\n",
      "Depth = 50 learning rate = 1 Estimators = 10 Train Score = 1.0 Test Score = 0.9279267881241566\n",
      "Depth = 50 learning rate = 1 Estimators = 50 Train Score = 1.0 Test Score = 0.927909633202183\n",
      "Depth = 50 learning rate = 1 Estimators = 100 Train Score = 1.0 Test Score = 0.9278123544603921\n",
      "Depth = 50 learning rate = 1 Estimators = 250 Train Score = 1.0 Test Score = 0.9270990021397854\n",
      "Depth = 50 learning rate = 1 Estimators = 450 Train Score = 1.0 Test Score = 0.925668222316504\n",
      "Depth = 50 learning rate = 10 Estimators = 10 Train Score = 0.6671020712819556 Test Score = 0.6658662184156461\n",
      "Depth = 50 learning rate = 10 Estimators = 50 Train Score = 0.6671020712819556 Test Score = 0.6658662184156461\n",
      "Depth = 50 learning rate = 10 Estimators = 100 Train Score = 0.6671020712819556 Test Score = 0.6658662184156461\n",
      "Depth = 50 learning rate = 10 Estimators = 250 Train Score = 0.6671020712819556 Test Score = 0.6658662184156461\n",
      "Depth = 50 learning rate = 10 Estimators = 450 Train Score = 0.6671020712819556 Test Score = 0.6658662184156461\n",
      "Depth = 50 learning rate = 100 Estimators = 10 Train Score = 0.0 Test Score = 0.0\n",
      "Depth = 50 learning rate = 100 Estimators = 50 Train Score = 0.0 Test Score = 0.0\n",
      "Depth = 50 learning rate = 100 Estimators = 100 Train Score = 0.0 Test Score = 0.0\n",
      "Depth = 50 learning rate = 100 Estimators = 250 Train Score = 0.0 Test Score = 0.0\n",
      "Depth = 50 learning rate = 100 Estimators = 450 Train Score = 0.0 Test Score = 0.0\n",
      "Depth = 100 learning rate = 0.001 Estimators = 10 Train Score = 0.9893120578052085 Test Score = 0.9277574490329326\n",
      "Depth = 100 learning rate = 0.001 Estimators = 50 Train Score = 0.9912212936301706 Test Score = 0.9301155305810076\n",
      "Depth = 100 learning rate = 0.001 Estimators = 100 Train Score = 0.9919528004655737 Test Score = 0.9320791954481512\n",
      "Depth = 100 learning rate = 0.001 Estimators = 250 Train Score = 0.9928281257836401 Test Score = 0.9332099985283916\n",
      "Depth = 100 learning rate = 0.001 Estimators = 450 Train Score = 0.9942970543132911 Test Score = 0.9334678690799016\n",
      "Depth = 100 learning rate = 0.01 Estimators = 10 Train Score = 0.9920033712261832 Test Score = 0.9317414021025242\n",
      "Depth = 100 learning rate = 0.01 Estimators = 50 Train Score = 0.9945186536129788 Test Score = 0.9335883317220799\n",
      "Depth = 100 learning rate = 0.01 Estimators = 100 Train Score = 0.996707860109071 Test Score = 0.9336810886986517\n",
      "Depth = 100 learning rate = 0.01 Estimators = 250 Train Score = 0.9994405929714503 Test Score = 0.9322505800464036\n",
      "Depth = 100 learning rate = 0.01 Estimators = 450 Train Score = 0.9998501693086811 Test Score = 0.9326191028534071\n",
      "Depth = 100 learning rate = 0.1 Estimators = 10 Train Score = 0.9963871458452177 Test Score = 0.9335548871547862\n",
      "Depth = 100 learning rate = 0.1 Estimators = 50 Train Score = 0.999900109879133 Test Score = 0.9323514517218096\n",
      "Depth = 100 learning rate = 0.1 Estimators = 100 Train Score = 1.0 Test Score = 0.9304627358091531\n",
      "Depth = 100 learning rate = 0.1 Estimators = 250 Train Score = 1.0 Test Score = 0.9299794617713694\n",
      "Depth = 100 learning rate = 0.1 Estimators = 450 Train Score = 1.0 Test Score = 0.9294080271100286\n",
      "Depth = 100 learning rate = 1 Estimators = 10 Train Score = 1.0 Test Score = 0.9279267881241566\n",
      "Depth = 100 learning rate = 1 Estimators = 50 Train Score = 1.0 Test Score = 0.927909633202183\n",
      "Depth = 100 learning rate = 1 Estimators = 100 Train Score = 1.0 Test Score = 0.9278123544603921\n",
      "Depth = 100 learning rate = 1 Estimators = 250 Train Score = 1.0 Test Score = 0.9270990021397854\n",
      "Depth = 100 learning rate = 1 Estimators = 450 Train Score = 1.0 Test Score = 0.925668222316504\n",
      "Depth = 100 learning rate = 10 Estimators = 10 Train Score = 0.6671020712819556 Test Score = 0.6658662184156461\n",
      "Depth = 100 learning rate = 10 Estimators = 50 Train Score = 0.6671020712819556 Test Score = 0.6658662184156461\n",
      "Depth = 100 learning rate = 10 Estimators = 100 Train Score = 0.6671020712819556 Test Score = 0.6658662184156461\n",
      "Depth = 100 learning rate = 10 Estimators = 250 Train Score = 0.6671020712819556 Test Score = 0.6658662184156461\n",
      "Depth = 100 learning rate = 10 Estimators = 450 Train Score = 0.6671020712819556 Test Score = 0.6658662184156461\n",
      "Depth = 100 learning rate = 100 Estimators = 10 Train Score = 0.0 Test Score = 0.0\n",
      "Depth = 100 learning rate = 100 Estimators = 50 Train Score = 0.0 Test Score = 0.0\n",
      "Depth = 100 learning rate = 100 Estimators = 100 Train Score = 0.0 Test Score = 0.0\n",
      "Depth = 100 learning rate = 100 Estimators = 250 Train Score = 0.0 Test Score = 0.0\n",
      "Depth = 100 learning rate = 100 Estimators = 450 Train Score = 0.0 Test Score = 0.0\n"
     ]
    }
   ],
   "source": [
    "from xgboost import XGBClassifier\n",
    "from sklearn.metrics import f1_score\n",
    "\n",
    "train_scores = []\n",
    "test_scores = []\n",
    "\n",
    "depth = [1,5,10,25,50,100]\n",
    "eta = [0.001,0.01,0.1,1,10,100]\n",
    "estimators = [10,50,100,250,450]\n",
    "\n",
    "for i in depth:\n",
    "  for j in eta: \n",
    "    for k in estimators:\n",
    "      model = XGBClassifier(max_depth=i,learning_rate=j,n_estimators=k)\n",
    "      model.fit(df_final_train,y_train)\n",
    "      pred_train = model.predict(df_final_train)\n",
    "      pred_tr = [0 if x<0.5 else 1 for x in pred_train]\n",
    "      train_sc = f1_score(y_train,pred_tr)\n",
    "      pred_test = model.predict(df_final_test)\n",
    "      pred_te = [0 if x<0.5 else 1 for x in pred_test]\n",
    "      test_sc = f1_score(y_test,pred_te)\n",
    "      test_scores.append(test_sc)\n",
    "      train_scores.append(train_sc)\n",
    "      print('Depth =',i,'learning rate =',j,'Estimators =',k,'Train Score =',train_sc,'Test Score =',test_sc)"
   ]
  },
  {
   "cell_type": "code",
   "execution_count": 0,
   "metadata": {
    "colab": {
     "base_uri": "https://localhost:8080/",
     "height": 82
    },
    "colab_type": "code",
    "id": "J6gqtJ0g5w6J",
    "outputId": "cbb00c7b-8642-4b8d-b625-013360e62638"
   },
   "outputs": [
    {
     "name": "stdout",
     "output_type": "stream",
     "text": [
      "The max accuracy achieved is: 0.9349703070378638\n",
      "The max accuracy is achieved at depth: 10\n",
      "The max accuracy is achieved at learning rate: 0.01\n",
      "The max accuracy is achieved at n_estimators: 50\n"
     ]
    }
   ],
   "source": [
    "test_scores_np = np.asarray(test_scores)\n",
    "max_pos = np.argmax(test_scores_np)\n",
    "print(\"The max accuracy achieved is:\",test_scores[max_pos])\n",
    "depth = [1,5,10,25,50,100]\n",
    "eta = [0.001,0.01,0.1,1,10,100]\n",
    "estimators = [10,50,100,250,450]\n",
    "depth_eta_est =[]\n",
    "for i in depth:\n",
    "  for j in eta:\n",
    "    for k in estimators:\n",
    "      depth_eta_est.append((i,j,k))\n",
    "print(\"The max accuracy is achieved at depth:\",depth_eta_est[max_pos][0])\n",
    "print(\"The max accuracy is achieved at learning rate:\",depth_eta_est[max_pos][1])\n",
    "print(\"The max accuracy is achieved at n_estimators:\",depth_eta_est[max_pos][2])"
   ]
  },
  {
   "cell_type": "markdown",
   "metadata": {},
   "source": [
    "### Plotting Confusion Matrix, Precision Matrix, and Recall Matrix\n",
    "\n",
    "In this code snippet, an XGBoost Classifier model is trained with the optimal hyperparameters (`max_depth=10`, `learning_rate=0.01`, and `n_estimators=50`). The model is then used to make predictions on both the train and test datasets. The F1 scores for these predictions are calculated as `train_sc` and `test_sc`.\n",
    "\n",
    "A custom function called `plot_confusion_matrix` is defined to plot the confusion matrix, precision matrix, and recall matrix using seaborn's heatmap visualization. This function takes two inputs: `test_y` (the true labels) and `predict_y` (the predicted labels).\n",
    "\n",
    "The confusion matrix (C) is calculated using the `confusion_matrix` function from the `sklearn.metrics` module. The precision matrix (B) and recall matrix (A) are then derived from the confusion matrix. All three matrices are plotted side-by-side as heatmaps, providing a visual representation of the model's performance in terms of true positives, true negatives, false positives, and false negatives."
   ]
  },
  {
   "cell_type": "code",
   "execution_count": 0,
   "metadata": {
    "colab": {},
    "colab_type": "code",
    "id": "eU6kMTPD4vL0"
   },
   "outputs": [],
   "source": [
    "from xgboost import XGBClassifier\n",
    "from sklearn.metrics import f1_score\n",
    "\n",
    "model = XGBClassifier(max_depth=10,learning_rate=0.01,n_estimators=50)\n",
    "model.fit(df_final_train,y_train)\n",
    "pred_train = model.predict(df_final_train)\n",
    "pred_tr = [0 if x<0.5 else 1 for x in pred_train]\n",
    "train_sc = f1_score(y_train,pred_tr)\n",
    "pred_test = model.predict(df_final_test)\n",
    "pred_te = [0 if x<0.5 else 1 for x in pred_test]\n",
    "test_sc = f1_score(y_test,pred_te)"
   ]
  },
  {
   "cell_type": "code",
   "execution_count": 0,
   "metadata": {
    "colab": {},
    "colab_type": "code",
    "id": "8TnuvR6UFW4Q"
   },
   "outputs": [],
   "source": [
    "from sklearn.metrics import confusion_matrix\n",
    "def plot_confusion_matrix(test_y, predict_y):\n",
    "    C = confusion_matrix(test_y, predict_y)\n",
    "    \n",
    "    A =(((C.T)/(C.sum(axis=1))).T)\n",
    "    \n",
    "    B =(C/C.sum(axis=0))\n",
    "    plt.figure(figsize=(20,4))\n",
    "    \n",
    "    labels = [0,1]\n",
    "    # representing A in heatmap format\n",
    "    cmap=sns.light_palette(\"blue\")\n",
    "    plt.subplot(1, 3, 1)\n",
    "    sns.heatmap(C, annot=True, cmap=cmap, fmt=\".3f\", xticklabels=labels, yticklabels=labels)\n",
    "    plt.xlabel('Predicted Class')\n",
    "    plt.ylabel('Original Class')\n",
    "    plt.title(\"Confusion matrix\")\n",
    "    \n",
    "    plt.subplot(1, 3, 2)\n",
    "    sns.heatmap(B, annot=True, cmap=cmap, fmt=\".3f\", xticklabels=labels, yticklabels=labels)\n",
    "    plt.xlabel('Predicted Class')\n",
    "    plt.ylabel('Original Class')\n",
    "    plt.title(\"Precision matrix\")\n",
    "    \n",
    "    plt.subplot(1, 3, 3)\n",
    "    # representing B in heatmap format\n",
    "    sns.heatmap(A, annot=True, cmap=cmap, fmt=\".3f\", xticklabels=labels, yticklabels=labels)\n",
    "    plt.xlabel('Predicted Class')\n",
    "    plt.ylabel('Original Class')\n",
    "    plt.title(\"Recall matrix\")\n",
    "    \n",
    "    plt.show()"
   ]
  },
  {
   "cell_type": "code",
   "execution_count": 39,
   "metadata": {
    "colab": {
     "base_uri": "https://localhost:8080/",
     "height": 605
    },
    "colab_type": "code",
    "id": "IwgCrNmwGdp3",
    "outputId": "813ee0ff-91e5-4273-f4e2-61c171a8d24e"
   },
   "outputs": [
    {
     "name": "stdout",
     "output_type": "stream",
     "text": [
      "Train confusion_matrix\n"
     ]
    },
    {
     "data": {
      "image/png": "[encoded data removed]",
      "text/plain": [
       "<Figure size 1440x288 with 6 Axes>"
      ]
     },
     "metadata": {
      "needs_background": "light",
      "tags": []
     },
     "output_type": "display_data"
    },
    {
     "name": "stdout",
     "output_type": "stream",
     "text": [
      "Test confusion_matrix\n"
     ]
    },
    {
     "data": {
      "image/png": "[encoded data removed]",
      "text/plain": [
       "<Figure size 1440x288 with 6 Axes>"
      ]
     },
     "metadata": {
      "needs_background": "light",
      "tags": []
     },
     "output_type": "display_data"
    }
   ],
   "source": [
    "print('Train confusion_matrix')\n",
    "plot_confusion_matrix(y_train,pred_train)\n",
    "print('Test confusion_matrix')\n",
    "plot_confusion_matrix(y_test,pred_test)"
   ]
  },
  {
   "cell_type": "markdown",
   "metadata": {},
   "source": [
    "### Plotting ROC Curve and AUC Score\n",
    "\n",
    "In this code snippet, the Receiver Operating Characteristic (ROC) curve is plotted, and the Area Under the Curve (AUC) score is calculated to evaluate the performance of the XGBoost Classifier model on the test dataset.\n",
    "\n",
    "The `roc_curve` function from the `sklearn.metrics` module is used to compute the False Positive Rate (FPR) and True Positive Rate (TPR) at various thresholds. The AUC score is calculated using the `auc` function, also from the `sklearn.metrics` module.\n",
    "\n",
    "A plot of the ROC curve is created using Matplotlib, with FPR on the x-axis and TPR on the y-axis. The AUC score is displayed in the plot's legend. A higher AUC score indicates better classifier performance, with a score of 1.0 representing a perfect classifier and a score of 0.5 representing a random classifier."
   ]
  },
  {
   "cell_type": "code",
   "execution_count": 41,
   "metadata": {
    "colab": {
     "base_uri": "https://localhost:8080/",
     "height": 295
    },
    "colab_type": "code",
    "id": "fKoaO9nxGwac",
    "outputId": "e4d667f9-5035-4c06-8f0b-b1c0f6b6f98d"
   },
   "outputs": [
    {
     "data": {
      "image/png": "[encoded data removed]",
      "text/plain": [
       "<Figure size 432x288 with 1 Axes>"
      ]
     },
     "metadata": {
      "needs_background": "light",
      "tags": []
     },
     "output_type": "display_data"
    }
   ],
   "source": [
    "from sklearn.metrics import roc_curve, auc\n",
    "fpr,tpr,ths = roc_curve(y_test,pred_test)\n",
    "auc_sc = auc(fpr, tpr)\n",
    "plt.plot(fpr, tpr, color='navy',label='ROC curve (area = %0.2f)' % auc_sc)\n",
    "plt.xlabel('False Positive Rate')\n",
    "plt.ylabel('True Positive Rate')\n",
    "plt.title('Receiver operating characteristic with test data')\n",
    "plt.legend()\n",
    "plt.show()"
   ]
  },
  {
   "cell_type": "markdown",
   "metadata": {},
   "source": [
    "# Feature Importance"
   ]
  },
  {
   "cell_type": "code",
   "execution_count": 43,
   "metadata": {
    "colab": {
     "base_uri": "https://localhost:8080/",
     "height": 730
    },
    "colab_type": "code",
    "id": "dIchHRzLG5l-",
    "outputId": "2bae8ae6-4a06-4997-e209-a76597819d1d"
   },
   "outputs": [
    {
     "data": {
      "image/png": "[encoded data removed]",
      "text/plain": [
       "<Figure size 720x864 with 1 Axes>"
      ]
     },
     "metadata": {
      "needs_background": "light",
      "tags": []
     },
     "output_type": "display_data"
    }
   ],
   "source": [
    "features = df_final_train.columns\n",
    "importances = model.feature_importances_\n",
    "indices = (np.argsort(importances))[-25:]\n",
    "plt.figure(figsize=(10,12))\n",
    "plt.title('Feature Importances')\n",
    "plt.barh(range(len(indices)), importances[indices], color='r', align='center')\n",
    "plt.yticks(range(len(indices)), [features[i] for i in indices])\n",
    "plt.xlabel('Relative Importance')\n",
    "plt.show()"
   ]
  },
  {
   "cell_type": "code",
   "execution_count": 0,
   "metadata": {
    "colab": {},
    "colab_type": "code",
    "id": "gcmjl7k9HATb"
   },
   "outputs": [],
   "source": []
  }
 ],
 "metadata": {
  "accelerator": "TPU",
  "colab": {
   "collapsed_sections": [],
   "name": "Untitled7.ipynb",
   "provenance": []
  },
  "kernelspec": {
   "display_name": "Python 3 (ipykernel)",
   "language": "python",
   "name": "python3"
  },
  "language_info": {
   "codemirror_mode": {
    "name": "ipython",
    "version": 3
   },
   "file_extension": ".py",
   "mimetype": "text/x-python",
   "name": "python",
   "nbconvert_exporter": "python",
   "pygments_lexer": "ipython3",
   "version": "3.10.9"
  }
 },
 "nbformat": 4,
 "nbformat_minor": 1
}
