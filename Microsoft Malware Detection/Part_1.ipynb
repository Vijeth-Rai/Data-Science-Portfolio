{
 "cells": [
  {
   "cell_type": "markdown",
   "metadata": {},
   "source": [
    "# Import"
   ]
  },
  {
   "cell_type": "code",
   "execution_count": 1,
   "metadata": {},
   "outputs": [],
   "source": [
    "import os\n",
    "from sklearn.feature_extraction.text import CountVectorizer\n",
    "from tqdm import tqdm\n",
    "import re\n",
    "import codecs\n",
    "import scipy\n",
    "import pickle"
   ]
  },
  {
   "cell_type": "markdown",
   "metadata": {},
   "source": [
    "# Preprocess bytes bigram"
   ]
  },
  {
   "cell_type": "code",
   "execution_count": 7,
   "metadata": {},
   "outputs": [
    {
     "name": "stdout",
     "output_type": "stream",
     "text": [
      "Total byte files: 10868\n"
     ]
    }
   ],
   "source": [
    "files_ = []\n",
    "\n",
    "for file in os.listdir(r'D:/Assignments/16. Microsoft Malware Detection/train'):\n",
    "    if file[-5:] == 'bytes':\n",
    "        files_.append(r'D:/Assignments/16. Microsoft Malware Detection/train/'+file)\n",
    "        \n",
    "        \n",
    "print('Total byte files:',len(files_))"
   ]
  },
  {
   "cell_type": "code",
   "execution_count": 3,
   "metadata": {},
   "outputs": [
    {
     "data": {
      "text/plain": [
       "['D:/Assignments/16. Microsoft Malware Detection/train/01azqd4InC7m9JpocGv5.bytes',\n",
       " 'D:/Assignments/16. Microsoft Malware Detection/train/01IsoiSMh5gxyDYTl4CB.bytes',\n",
       " 'D:/Assignments/16. Microsoft Malware Detection/train/01jsnpXSAlgw6aPeDxrU.bytes',\n",
       " 'D:/Assignments/16. Microsoft Malware Detection/train/01kcPWA9K2BOxQeS5Rju.bytes',\n",
       " 'D:/Assignments/16. Microsoft Malware Detection/train/01SuzwMJEIXsK7A8dQbl.bytes']"
      ]
     },
     "execution_count": 3,
     "metadata": {},
     "output_type": "execute_result"
    }
   ],
   "source": [
    "files_[:5]"
   ]
  },
  {
   "cell_type": "code",
   "execution_count": 4,
   "metadata": {},
   "outputs": [
    {
     "name": "stdout",
     "output_type": "stream",
     "text": [
      "Bigrams vocab head:\n",
      " ['00 00', '00 01', '00 02', '00 03', '00 04']\n",
      "\n",
      "Total length of bigrams vocab: 66049\n"
     ]
    }
   ],
   "source": [
    "byte_vocab = \"00,01,02,03,04,05,06,07,08,09,0a,0b,0c,0d,0e,0f,10,11,12,13,14,15,16,17,18,19,1a,1b,1c,1d,1e,1f,20,21,22,23,24,25,26,27,28,29,2a,2b,2c,2d,2e,2f,30,31,32,33,34,35,36,37,38,39,3a,3b,3c,3d,3e,3f,40,41,42,43,44,45,46,47,48,49,4a,4b,4c,4d,4e,4f,50,51,52,53,54,55,56,57,58,59,5a,5b,5c,5d,5e,5f,60,61,62,63,64,65,66,67,68,69,6a,6b,6c,6d,6e,6f,70,71,72,73,74,75,76,77,78,79,7a,7b,7c,7d,7e,7f,80,81,82,83,84,85,86,87,88,89,8a,8b,8c,8d,8e,8f,90,91,92,93,94,95,96,97,98,99,9a,9b,9c,9d,9e,9f,a0,a1,a2,a3,a4,a5,a6,a7,a8,a9,aa,ab,ac,ad,ae,af,b0,b1,b2,b3,b4,b5,b6,b7,b8,b9,ba,bb,bc,bd,be,bf,c0,c1,c2,c3,c4,c5,c6,c7,c8,c9,ca,cb,cc,cd,ce,cf,d0,d1,d2,d3,d4,d5,d6,d7,d8,d9,da,db,dc,dd,de,df,e0,e1,e2,e3,e4,e5,e6,e7,e8,e9,ea,eb,ec,ed,ee,ef,f0,f1,f2,f3,f4,f5,f6,f7,f8,f9,fa,fb,fc,fd,fe,ff,??\"\n",
    "byte_vocab = byte_vocab.split(',')\n",
    "\n",
    "bytes_bigrams_vocab = []\n",
    "\n",
    "for i in byte_vocab:\n",
    "    for j in byte_vocab:\n",
    "        bytes_bigrams_vocab.append([i,j])\n",
    "\n",
    "for ii in range(len(bytes_bigrams_vocab)):\n",
    "    bytes_bigrams_vocab[ii] = ' '.join(bytes_bigrams_vocab[ii])\n",
    "\n",
    "\n",
    "print('Bigrams vocab head:\\n', bytes_bigrams_vocab[:5])\n",
    "print('\\nTotal length of bigrams vocab:',len(bytes_bigrams_vocab))"
   ]
  },
  {
   "cell_type": "code",
   "execution_count": 5,
   "metadata": {},
   "outputs": [],
   "source": [
    "pickle.dump((bytes_bigrams_vocab),open('D:/Assignments/16. Microsoft Malware Detection/bytes_vocab.pkl','wb')) "
   ]
  },
  {
   "cell_type": "markdown",
   "metadata": {},
   "source": [
    "## Preprocessing in chunks because ram issues"
   ]
  },
  {
   "cell_type": "code",
   "execution_count": 5,
   "metadata": {},
   "outputs": [
    {
     "name": "stderr",
     "output_type": "stream",
     "text": [
      "0it [00:00, ?it/s]c:\\users\\jyothi rai\\appdata\\local\\programs\\python\\python38\\lib\\site-packages\\scipy\\sparse\\_index.py:116: SparseEfficiencyWarning: Changing the sparsity structure of a csr_matrix is expensive. lil_matrix is more efficient.\n",
      "  self._set_arrayXarray_sparse(i, j, x)\n",
      "1000it [37:39,  2.26s/it]\n"
     ]
    }
   ],
   "source": [
    "vector = CountVectorizer(ngram_range=(2,2), vocabulary=bytes_bigrams_vocab)\n",
    "bytebigram_vect = scipy.sparse.csr_matrix((10868, 66049))\n",
    "\n",
    "for i, file in tqdm(enumerate(files_[:1000])):\n",
    "    f = open(file)\n",
    "    x = f.read().replace('\\n','') \n",
    "    bytebigram_vect[i]+= scipy.sparse.csr_matrix(vector.fit_transform([x]))\n",
    "    f.close()"
   ]
  },
  {
   "cell_type": "code",
   "execution_count": 6,
   "metadata": {},
   "outputs": [],
   "source": [
    "scipy.sparse.save_npz(\"D:/Assignments/16. Microsoft Malware Detection/bytes_bigram_vect_1000.npz\", bytebigram_vect)"
   ]
  },
  {
   "cell_type": "code",
   "execution_count": 7,
   "metadata": {},
   "outputs": [
    {
     "name": "stderr",
     "output_type": "stream",
     "text": [
      "1000it [34:45,  2.09s/it]\n"
     ]
    }
   ],
   "source": [
    "vector = CountVectorizer(ngram_range=(2,2), vocabulary=bytes_bigrams_vocab)\n",
    "bytebigram_vect = scipy.sparse.csr_matrix((10868, 66049))\n",
    "\n",
    "for i, file in tqdm(enumerate(files_[1000:2000])):\n",
    "    f = open(file)\n",
    "    x = f.read().replace('\\n','') \n",
    "    bytebigram_vect[1000+i]+= scipy.sparse.csr_matrix(vector.fit_transform([x]))\n",
    "    f.close()"
   ]
  },
  {
   "cell_type": "code",
   "execution_count": 8,
   "metadata": {},
   "outputs": [],
   "source": [
    "scipy.sparse.save_npz(\"D:/Assignments/16. Microsoft Malware Detection/bytes_bigram_vect_2000.npz\", bytebigram_vect)"
   ]
  },
  {
   "cell_type": "code",
   "execution_count": 9,
   "metadata": {},
   "outputs": [
    {
     "name": "stderr",
     "output_type": "stream",
     "text": [
      "1000it [33:26,  2.01s/it]\n"
     ]
    }
   ],
   "source": [
    "vector = CountVectorizer(ngram_range=(2,2), vocabulary=bytes_bigrams_vocab)\n",
    "bytebigram_vect = scipy.sparse.csr_matrix((10868, 66049))\n",
    "\n",
    "for i, file in tqdm(enumerate(files_[2000:3000])):\n",
    "    f = open(file)\n",
    "    x = f.read().replace('\\n','') \n",
    "    bytebigram_vect[2000+i]+= scipy.sparse.csr_matrix(vector.fit_transform([x]))\n",
    "    f.close()"
   ]
  },
  {
   "cell_type": "code",
   "execution_count": 10,
   "metadata": {},
   "outputs": [],
   "source": [
    "scipy.sparse.save_npz(\"D:/Assignments/16. Microsoft Malware Detection/bytes_bigram_vect_3000.npz\", bytebigram_vect)"
   ]
  },
  {
   "cell_type": "code",
   "execution_count": 11,
   "metadata": {},
   "outputs": [
    {
     "name": "stderr",
     "output_type": "stream",
     "text": [
      "1000it [33:14,  1.99s/it]\n"
     ]
    }
   ],
   "source": [
    "vector = CountVectorizer(ngram_range=(2,2), vocabulary=bytes_bigrams_vocab)\n",
    "bytebigram_vect = scipy.sparse.csr_matrix((10868, 66049))\n",
    "\n",
    "for i, file in tqdm(enumerate(files_[3000:4000])):\n",
    "    f = open(file)\n",
    "    x = f.read().replace('\\n','') \n",
    "    bytebigram_vect[3000+i]+= scipy.sparse.csr_matrix(vector.fit_transform([x]))\n",
    "    f.close()"
   ]
  },
  {
   "cell_type": "code",
   "execution_count": 12,
   "metadata": {},
   "outputs": [],
   "source": [
    "scipy.sparse.save_npz(\"D:/Assignments/16. Microsoft Malware Detection/bytes_bigram_vect_4000.npz\", bytebigram_vect)"
   ]
  },
  {
   "cell_type": "code",
   "execution_count": 13,
   "metadata": {},
   "outputs": [
    {
     "name": "stderr",
     "output_type": "stream",
     "text": [
      "1000it [34:08,  2.05s/it]\n"
     ]
    }
   ],
   "source": [
    "vector = CountVectorizer(ngram_range=(2,2), vocabulary=bytes_bigrams_vocab)\n",
    "bytebigram_vect = scipy.sparse.csr_matrix((10868, 66049))\n",
    "\n",
    "for i, file in tqdm(enumerate(files_[4000:5000])):\n",
    "    f = open(file)\n",
    "    x = f.read().replace('\\n','') \n",
    "    bytebigram_vect[4000+i]+= scipy.sparse.csr_matrix(vector.fit_transform([x]))\n",
    "    f.close()"
   ]
  },
  {
   "cell_type": "code",
   "execution_count": 14,
   "metadata": {},
   "outputs": [],
   "source": [
    "scipy.sparse.save_npz(\"D:/Assignments/16. Microsoft Malware Detection/bytes_bigram_vect_5000.npz\", bytebigram_vect)"
   ]
  },
  {
   "cell_type": "code",
   "execution_count": 15,
   "metadata": {},
   "outputs": [
    {
     "name": "stderr",
     "output_type": "stream",
     "text": [
      "1000it [34:19,  2.06s/it]\n"
     ]
    }
   ],
   "source": [
    "vector = CountVectorizer(ngram_range=(2,2), vocabulary=bytes_bigrams_vocab)\n",
    "bytebigram_vect = scipy.sparse.csr_matrix((10868, 66049))\n",
    "\n",
    "for i, file in tqdm(enumerate(files_[5000:6000])):\n",
    "    f = open(file)\n",
    "    x = f.read().replace('\\n','') \n",
    "    bytebigram_vect[5000+i]+= scipy.sparse.csr_matrix(vector.fit_transform([x]))\n",
    "    f.close()"
   ]
  },
  {
   "cell_type": "code",
   "execution_count": 16,
   "metadata": {},
   "outputs": [],
   "source": [
    "scipy.sparse.save_npz(\"D:/Assignments/16. Microsoft Malware Detection/bytes_bigram_vect_6000.npz\", bytebigram_vect)"
   ]
  },
  {
   "cell_type": "code",
   "execution_count": 17,
   "metadata": {},
   "outputs": [
    {
     "name": "stderr",
     "output_type": "stream",
     "text": [
      "1000it [34:33,  2.07s/it]\n"
     ]
    }
   ],
   "source": [
    "vector = CountVectorizer(ngram_range=(2,2), vocabulary=bytes_bigrams_vocab)\n",
    "bytebigram_vect = scipy.sparse.csr_matrix((10868, 66049))\n",
    "\n",
    "for i, file in tqdm(enumerate(files_[6000:7000])):\n",
    "    f = open(file)\n",
    "    x = f.read().replace('\\n','') \n",
    "    bytebigram_vect[6000+i]+= scipy.sparse.csr_matrix(vector.fit_transform([x]))\n",
    "    f.close()"
   ]
  },
  {
   "cell_type": "code",
   "execution_count": 18,
   "metadata": {},
   "outputs": [],
   "source": [
    "scipy.sparse.save_npz(\"D:/Assignments/16. Microsoft Malware Detection/bytes_bigram_vect_7000.npz\", bytebigram_vect)"
   ]
  },
  {
   "cell_type": "code",
   "execution_count": 19,
   "metadata": {},
   "outputs": [
    {
     "name": "stderr",
     "output_type": "stream",
     "text": [
      "1000it [34:41,  2.08s/it]\n"
     ]
    }
   ],
   "source": [
    "vector = CountVectorizer(ngram_range=(2,2), vocabulary=bytes_bigrams_vocab)\n",
    "bytebigram_vect = scipy.sparse.csr_matrix((10868, 66049))\n",
    "\n",
    "for i, file in tqdm(enumerate(files_[7000:8000])):\n",
    "    f = open(file)\n",
    "    x = f.read().replace('\\n','') \n",
    "    bytebigram_vect[7000+i]+= scipy.sparse.csr_matrix(vector.fit_transform([x]))\n",
    "    f.close()"
   ]
  },
  {
   "cell_type": "code",
   "execution_count": 20,
   "metadata": {},
   "outputs": [],
   "source": [
    "scipy.sparse.save_npz(\"D:/Assignments/16. Microsoft Malware Detection/bytes_bigram_vect_8000.npz\", bytebigram_vect)"
   ]
  },
  {
   "cell_type": "code",
   "execution_count": 21,
   "metadata": {},
   "outputs": [
    {
     "name": "stderr",
     "output_type": "stream",
     "text": [
      "1000it [45:28,  2.73s/it]\n"
     ]
    }
   ],
   "source": [
    "vector = CountVectorizer(ngram_range=(2,2), vocabulary=bytes_bigrams_vocab)\n",
    "bytebigram_vect = scipy.sparse.csr_matrix((10868, 66049))\n",
    "\n",
    "for i, file in tqdm(enumerate(files_[8000:9000])):\n",
    "    f = open(file)\n",
    "    x = f.read().replace('\\n','') \n",
    "    bytebigram_vect[8000+i]+= scipy.sparse.csr_matrix(vector.fit_transform([x]))\n",
    "    f.close()"
   ]
  },
  {
   "cell_type": "code",
   "execution_count": 22,
   "metadata": {},
   "outputs": [],
   "source": [
    "scipy.sparse.save_npz(\"D:/Assignments/16. Microsoft Malware Detection/bytes_bigram_vect_9000.npz\", bytebigram_vect)"
   ]
  },
  {
   "cell_type": "code",
   "execution_count": 23,
   "metadata": {},
   "outputs": [
    {
     "name": "stderr",
     "output_type": "stream",
     "text": [
      "1000it [45:37,  2.74s/it]\n"
     ]
    }
   ],
   "source": [
    "vector = CountVectorizer(ngram_range=(2,2), vocabulary=bytes_bigrams_vocab)\n",
    "bytebigram_vect = scipy.sparse.csr_matrix((10868, 66049))\n",
    "\n",
    "for i, file in tqdm(enumerate(files_[9000:10000])):\n",
    "    f = open(file)\n",
    "    x = f.read().replace('\\n','') \n",
    "    bytebigram_vect[9000+i]+= scipy.sparse.csr_matrix(vector.fit_transform([x]))\n",
    "    f.close()"
   ]
  },
  {
   "cell_type": "code",
   "execution_count": 24,
   "metadata": {},
   "outputs": [],
   "source": [
    "scipy.sparse.save_npz(\"D:/Assignments/16. Microsoft Malware Detection/bytes_bigram_vect_10000.npz\", bytebigram_vect)"
   ]
  },
  {
   "cell_type": "code",
   "execution_count": 25,
   "metadata": {},
   "outputs": [
    {
     "name": "stderr",
     "output_type": "stream",
     "text": [
      "868it [35:20,  2.44s/it]\n"
     ]
    }
   ],
   "source": [
    "vector = CountVectorizer(ngram_range=(2,2), vocabulary=bytes_bigrams_vocab)\n",
    "bytebigram_vect = scipy.sparse.csr_matrix((10868, 66049))\n",
    "\n",
    "for i, file in tqdm(enumerate(files_[10000:])):\n",
    "    f = open(file)\n",
    "    x = f.read().replace('\\n','') \n",
    "    bytebigram_vect[10000+i]+= scipy.sparse.csr_matrix(vector.fit_transform([x]))\n",
    "    f.close()"
   ]
  },
  {
   "cell_type": "code",
   "execution_count": 26,
   "metadata": {},
   "outputs": [],
   "source": [
    "scipy.sparse.save_npz(\"D:/Assignments/16. Microsoft Malware Detection/bytes_bigram_vect_10868.npz\", bytebigram_vect)"
   ]
  },
  {
   "cell_type": "code",
   "execution_count": 10,
   "metadata": {},
   "outputs": [
    {
     "name": "stdout",
     "output_type": "stream",
     "text": [
      "Loading part - 1/11\n",
      "Initializing sparse matrix 1000\n",
      "\n",
      "Loading part - 2/11\n",
      "Initializing sparse matrix 2000\n",
      "\n",
      "Loading part - 3/11\n",
      "Initializing sparse matrix 3000\n",
      "\n",
      "Loading part - 4/11\n",
      "Initializing sparse matrix 4000\n",
      "\n",
      "Loading part - 5/11\n",
      "Initializing sparse matrix 5000\n",
      "\n",
      "Loading part - 6/11\n",
      "Initializing sparse matrix 6000\n",
      "\n",
      "Loading part - 7/11\n",
      "Initializing sparse matrix 7000\n",
      "\n",
      "Loading part - 8/11\n",
      "Initializing sparse matrix 8000\n",
      "\n",
      "Loading part - 9/11\n",
      "Initializing sparse matrix 9000\n",
      "\n",
      "Loading part - 10/11\n",
      "Initializing sparse matrix 10000\n",
      "\n",
      "Loading part - 11/11\n",
      "Initializing sparse matrix 10868\n",
      "\n",
      "Done\n",
      "\n",
      "V stacking the matrices\n",
      "\n",
      "Verifying matrix shapes:\n",
      "\tTotal number of rows: 10868\n",
      "\tTotal number of columns: 66049\n"
     ]
    }
   ],
   "source": [
    "from sklearn.preprocessing import normalize\n",
    "\n",
    "print('Loading part - 1/11')\n",
    "bytes_bigram_vect =  scipy.sparse.load_npz('D:/Assignments/16. Microsoft Malware Detection/bytes_bigram_vect_1000.npz')\n",
    "print('Normalizing')\n",
    "bytes_bigram_vect = normalize(bytes_bigram_vect)\n",
    "print('Initializing sparse matrix 1000')\n",
    "bytes_bigram_vect_1000 = bytes_bigram_vect[:1000]\n",
    "\n",
    "print('\\nLoading part - 2/11')\n",
    "bytes_bigram_vect =  scipy.sparse.load_npz('D:/Assignments/16. Microsoft Malware Detection/bytes_bigram_vect_2000.npz')\n",
    "print('Initializing sparse matrix 2000')\n",
    "bytes_bigram_vect_2000 = bytes_bigram_vect[1000:2000]\n",
    "\n",
    "print('\\nLoading part - 3/11')\n",
    "bytes_bigram_vect =  scipy.sparse.load_npz('D:/Assignments/16. Microsoft Malware Detection/bytes_bigram_vect_3000.npz')\n",
    "print('Initializing sparse matrix 3000')\n",
    "bytes_bigram_vect_3000 = bytes_bigram_vect[2000:3000]\n",
    "\n",
    "print('\\nLoading part - 4/11')\n",
    "bytes_bigram_vect =  scipy.sparse.load_npz('D:/Assignments/16. Microsoft Malware Detection/bytes_bigram_vect_4000.npz')\n",
    "print('Initializing sparse matrix 4000')\n",
    "bytes_bigram_vect_4000 = bytes_bigram_vect[3000:4000]\n",
    "\n",
    "print('\\nLoading part - 5/11')\n",
    "bytes_bigram_vect =  scipy.sparse.load_npz('D:/Assignments/16. Microsoft Malware Detection/bytes_bigram_vect_5000.npz')\n",
    "print('Initializing sparse matrix 5000')\n",
    "bytes_bigram_vect_5000 = bytes_bigram_vect[4000:5000]\n",
    "\n",
    "print('\\nLoading part - 6/11')\n",
    "bytes_bigram_vect =  scipy.sparse.load_npz('D:/Assignments/16. Microsoft Malware Detection/bytes_bigram_vect_6000.npz')\n",
    "print('Initializing sparse matrix 6000')\n",
    "bytes_bigram_vect_6000 = bytes_bigram_vect[5000:6000]\n",
    "\n",
    "print('\\nLoading part - 7/11')\n",
    "bytes_bigram_vect =  scipy.sparse.load_npz('D:/Assignments/16. Microsoft Malware Detection/bytes_bigram_vect_7000.npz')\n",
    "print('Initializing sparse matrix 7000')\n",
    "bytes_bigram_vect_7000 = bytes_bigram_vect[6000:7000]\n",
    "\n",
    "print('\\nLoading part - 8/11')\n",
    "bytes_bigram_vect =  scipy.sparse.load_npz('D:/Assignments/16. Microsoft Malware Detection/bytes_bigram_vect_8000.npz')\n",
    "print('Initializing sparse matrix 8000')\n",
    "bytes_bigram_vect_8000 = bytes_bigram_vect[7000:8000]\n",
    "\n",
    "print('\\nLoading part - 9/11')\n",
    "bytes_bigram_vect =  scipy.sparse.load_npz('D:/Assignments/16. Microsoft Malware Detection/bytes_bigram_vect_9000.npz')\n",
    "print('Initializing sparse matrix 9000')\n",
    "bytes_bigram_vect_9000 = bytes_bigram_vect[8000:9000]\n",
    "\n",
    "print('\\nLoading part - 10/11')\n",
    "bytes_bigram_vect =  scipy.sparse.load_npz('D:/Assignments/16. Microsoft Malware Detection/bytes_bigram_vect_10000.npz')\n",
    "print('Initializing sparse matrix 10000')\n",
    "bytes_bigram_vect_10000 = bytes_bigram_vect[9000:10000]\n",
    "\n",
    "print('\\nLoading part - 11/11')\n",
    "bytes_bigram_vect =  scipy.sparse.load_npz('D:/Assignments/16. Microsoft Malware Detection/bytes_bigram_vect_10868.npz')\n",
    "print('Initializing sparse matrix 10868')\n",
    "bytes_bigram_vect_10868 = bytes_bigram_vect[10000:]\n",
    "\n",
    "print('\\nDone')\n",
    "\n",
    "print('\\nV stacking the matrices')\n",
    "from scipy.sparse import vstack\n",
    "bytes_bigram_vect = vstack((bytes_bigram_vect_1000, bytes_bigram_vect_2000, bytes_bigram_vect_3000, bytes_bigram_vect_4000, bytes_bigram_vect_5000,bytes_bigram_vect_6000,bytes_bigram_vect_7000,bytes_bigram_vect_8000,bytes_bigram_vect_9000,bytes_bigram_vect_10000,bytes_bigram_vect_10868))\n",
    "\n",
    "print('\\nVerifying matrix shapes:')\n",
    "print('\\tTotal number of rows:', bytes_bigram_vect.shape[0])\n",
    "print('\\tTotal number of columns:', bytes_bigram_vect.shape[1])"
   ]
  },
  {
   "cell_type": "code",
   "execution_count": 11,
   "metadata": {},
   "outputs": [],
   "source": [
    "scipy.sparse.save_npz(\"D:/Assignments/16. Microsoft Malware Detection/final_byte_csr.npz\", bytes_bigram_vect)\n",
    "\n",
    "# forgot to normalize. I have normalized this is part 2 notebook"
   ]
  },
  {
   "cell_type": "code",
   "execution_count": null,
   "metadata": {},
   "outputs": [],
   "source": []
  },
  {
   "cell_type": "markdown",
   "metadata": {},
   "source": [
    "# Preprocess asm pixel intensity"
   ]
  },
  {
   "cell_type": "code",
   "execution_count": 58,
   "metadata": {},
   "outputs": [
    {
     "name": "stderr",
     "output_type": "stream",
     "text": [
      "100%|████████████████████████████████████████████████████████████████████████████| 10868/10868 [36:16<00:00,  4.99it/s]\n"
     ]
    }
   ],
   "source": [
    "import array\n",
    "import numpy as np\n",
    "import imageio\n",
    "\n",
    "pixel_array = np.zeros((10868,800))\n",
    "index = 0\n",
    "\n",
    "for file in tqdm(files):\n",
    "    f = codecs.open(file, 'rb')\n",
    "    ln = os.path.getsize(file)\n",
    "    width = int(ln**0.5)\n",
    "    rem = ln%width\n",
    "    a = array.array('B')\n",
    "    a.fromfile(f,ln-rem)\n",
    "    f.close()\n",
    "    g = np.reshape(a, (int(len(a)/width),width))\n",
    "    g = np.uint8(g)\n",
    "    first_800 = g.flatten()[:800]\n",
    "    pixel_array[index] += first_800\n",
    "    index+=1\n",
    "    #imageio.imwrite('D:/Assignments/16. Microsoft Malware Detection/asm_image/' + file + '.png',g)\n",
    "    #scipy.misc.imsave('D:/Assignments/16. Microsoft Malware Detection/asm_image/' + file + '.png',g)\n",
    "    "
   ]
  },
  {
   "cell_type": "code",
   "execution_count": 60,
   "metadata": {},
   "outputs": [],
   "source": [
    "pickle.dump((pixel_array),open('D:/Assignments/16. Microsoft Malware Detection/pixel_array.pkl','wb')) "
   ]
  },
  {
   "cell_type": "code",
   "execution_count": 2,
   "metadata": {},
   "outputs": [],
   "source": [
    "pixel_array = pickle.load(open(\"D:/Assignments/16. Microsoft Malware Detection/pixel_array.pkl\", 'rb'))"
   ]
  },
  {
   "cell_type": "code",
   "execution_count": 64,
   "metadata": {},
   "outputs": [],
   "source": [
    "if pixel_array.all()!=pixel_array_.all():\n",
    "    print('Asssertion error')"
   ]
  },
  {
   "cell_type": "code",
   "execution_count": 3,
   "metadata": {},
   "outputs": [
    {
     "data": {
      "text/plain": [
       "(10868, 800)"
      ]
     },
     "execution_count": 3,
     "metadata": {},
     "output_type": "execute_result"
    }
   ],
   "source": [
    "pixel_array.shape"
   ]
  },
  {
   "cell_type": "code",
   "execution_count": 21,
   "metadata": {},
   "outputs": [],
   "source": [
    "import pandas as pd\n",
    "\n",
    "pixels = []\n",
    "\n",
    "for i in range(800):\n",
    "    pixels.append('pix' + str(1+i))\n",
    "    \n",
    "pixel_df = pd.DataFrame(pixel_array, columns = pixels)"
   ]
  },
  {
   "cell_type": "code",
   "execution_count": 22,
   "metadata": {},
   "outputs": [
    {
     "data": {
      "text/html": [
       "<div>\n",
       "<style scoped>\n",
       "    .dataframe tbody tr th:only-of-type {\n",
       "        vertical-align: middle;\n",
       "    }\n",
       "\n",
       "    .dataframe tbody tr th {\n",
       "        vertical-align: top;\n",
       "    }\n",
       "\n",
       "    .dataframe thead th {\n",
       "        text-align: right;\n",
       "    }\n",
       "</style>\n",
       "<table border=\"1\" class=\"dataframe\">\n",
       "  <thead>\n",
       "    <tr style=\"text-align: right;\">\n",
       "      <th></th>\n",
       "      <th>pix1</th>\n",
       "      <th>pix2</th>\n",
       "      <th>pix3</th>\n",
       "      <th>pix4</th>\n",
       "      <th>pix5</th>\n",
       "      <th>pix6</th>\n",
       "      <th>pix7</th>\n",
       "      <th>pix8</th>\n",
       "      <th>pix9</th>\n",
       "      <th>pix10</th>\n",
       "      <th>...</th>\n",
       "      <th>pix791</th>\n",
       "      <th>pix792</th>\n",
       "      <th>pix793</th>\n",
       "      <th>pix794</th>\n",
       "      <th>pix795</th>\n",
       "      <th>pix796</th>\n",
       "      <th>pix797</th>\n",
       "      <th>pix798</th>\n",
       "      <th>pix799</th>\n",
       "      <th>pix800</th>\n",
       "    </tr>\n",
       "  </thead>\n",
       "  <tbody>\n",
       "    <tr>\n",
       "      <th>0</th>\n",
       "      <td>72.0</td>\n",
       "      <td>69.0</td>\n",
       "      <td>65.0</td>\n",
       "      <td>68.0</td>\n",
       "      <td>69.0</td>\n",
       "      <td>82.0</td>\n",
       "      <td>58.0</td>\n",
       "      <td>48.0</td>\n",
       "      <td>48.0</td>\n",
       "      <td>52.0</td>\n",
       "      <td>...</td>\n",
       "      <td>61.0</td>\n",
       "      <td>61.0</td>\n",
       "      <td>61.0</td>\n",
       "      <td>61.0</td>\n",
       "      <td>61.0</td>\n",
       "      <td>61.0</td>\n",
       "      <td>61.0</td>\n",
       "      <td>61.0</td>\n",
       "      <td>61.0</td>\n",
       "      <td>61.0</td>\n",
       "    </tr>\n",
       "    <tr>\n",
       "      <th>1</th>\n",
       "      <td>46.0</td>\n",
       "      <td>116.0</td>\n",
       "      <td>101.0</td>\n",
       "      <td>120.0</td>\n",
       "      <td>116.0</td>\n",
       "      <td>58.0</td>\n",
       "      <td>48.0</td>\n",
       "      <td>48.0</td>\n",
       "      <td>52.0</td>\n",
       "      <td>48.0</td>\n",
       "      <td>...</td>\n",
       "      <td>56.0</td>\n",
       "      <td>54.0</td>\n",
       "      <td>32.0</td>\n",
       "      <td>40.0</td>\n",
       "      <td>80.0</td>\n",
       "      <td>69.0</td>\n",
       "      <td>41.0</td>\n",
       "      <td>13.0</td>\n",
       "      <td>10.0</td>\n",
       "      <td>46.0</td>\n",
       "    </tr>\n",
       "    <tr>\n",
       "      <th>2</th>\n",
       "      <td>72.0</td>\n",
       "      <td>69.0</td>\n",
       "      <td>65.0</td>\n",
       "      <td>68.0</td>\n",
       "      <td>69.0</td>\n",
       "      <td>82.0</td>\n",
       "      <td>58.0</td>\n",
       "      <td>48.0</td>\n",
       "      <td>48.0</td>\n",
       "      <td>52.0</td>\n",
       "      <td>...</td>\n",
       "      <td>61.0</td>\n",
       "      <td>61.0</td>\n",
       "      <td>61.0</td>\n",
       "      <td>61.0</td>\n",
       "      <td>61.0</td>\n",
       "      <td>61.0</td>\n",
       "      <td>61.0</td>\n",
       "      <td>61.0</td>\n",
       "      <td>61.0</td>\n",
       "      <td>61.0</td>\n",
       "    </tr>\n",
       "    <tr>\n",
       "      <th>3</th>\n",
       "      <td>72.0</td>\n",
       "      <td>69.0</td>\n",
       "      <td>65.0</td>\n",
       "      <td>68.0</td>\n",
       "      <td>69.0</td>\n",
       "      <td>82.0</td>\n",
       "      <td>58.0</td>\n",
       "      <td>49.0</td>\n",
       "      <td>48.0</td>\n",
       "      <td>48.0</td>\n",
       "      <td>...</td>\n",
       "      <td>109.0</td>\n",
       "      <td>111.0</td>\n",
       "      <td>100.0</td>\n",
       "      <td>101.0</td>\n",
       "      <td>108.0</td>\n",
       "      <td>32.0</td>\n",
       "      <td>102.0</td>\n",
       "      <td>108.0</td>\n",
       "      <td>97.0</td>\n",
       "      <td>116.0</td>\n",
       "    </tr>\n",
       "    <tr>\n",
       "      <th>4</th>\n",
       "      <td>72.0</td>\n",
       "      <td>69.0</td>\n",
       "      <td>65.0</td>\n",
       "      <td>68.0</td>\n",
       "      <td>69.0</td>\n",
       "      <td>82.0</td>\n",
       "      <td>58.0</td>\n",
       "      <td>48.0</td>\n",
       "      <td>48.0</td>\n",
       "      <td>52.0</td>\n",
       "      <td>...</td>\n",
       "      <td>61.0</td>\n",
       "      <td>61.0</td>\n",
       "      <td>61.0</td>\n",
       "      <td>61.0</td>\n",
       "      <td>61.0</td>\n",
       "      <td>61.0</td>\n",
       "      <td>61.0</td>\n",
       "      <td>61.0</td>\n",
       "      <td>61.0</td>\n",
       "      <td>61.0</td>\n",
       "    </tr>\n",
       "  </tbody>\n",
       "</table>\n",
       "<p>5 rows × 800 columns</p>\n",
       "</div>"
      ],
      "text/plain": [
       "   pix1   pix2   pix3   pix4   pix5  pix6  pix7  pix8  pix9  pix10  ...  \\\n",
       "0  72.0   69.0   65.0   68.0   69.0  82.0  58.0  48.0  48.0   52.0  ...   \n",
       "1  46.0  116.0  101.0  120.0  116.0  58.0  48.0  48.0  52.0   48.0  ...   \n",
       "2  72.0   69.0   65.0   68.0   69.0  82.0  58.0  48.0  48.0   52.0  ...   \n",
       "3  72.0   69.0   65.0   68.0   69.0  82.0  58.0  49.0  48.0   48.0  ...   \n",
       "4  72.0   69.0   65.0   68.0   69.0  82.0  58.0  48.0  48.0   52.0  ...   \n",
       "\n",
       "   pix791  pix792  pix793  pix794  pix795  pix796  pix797  pix798  pix799  \\\n",
       "0    61.0    61.0    61.0    61.0    61.0    61.0    61.0    61.0    61.0   \n",
       "1    56.0    54.0    32.0    40.0    80.0    69.0    41.0    13.0    10.0   \n",
       "2    61.0    61.0    61.0    61.0    61.0    61.0    61.0    61.0    61.0   \n",
       "3   109.0   111.0   100.0   101.0   108.0    32.0   102.0   108.0    97.0   \n",
       "4    61.0    61.0    61.0    61.0    61.0    61.0    61.0    61.0    61.0   \n",
       "\n",
       "   pix800  \n",
       "0    61.0  \n",
       "1    46.0  \n",
       "2    61.0  \n",
       "3   116.0  \n",
       "4    61.0  \n",
       "\n",
       "[5 rows x 800 columns]"
      ]
     },
     "execution_count": 22,
     "metadata": {},
     "output_type": "execute_result"
    }
   ],
   "source": [
    "pixel_df.head()"
   ]
  },
  {
   "cell_type": "code",
   "execution_count": 23,
   "metadata": {},
   "outputs": [],
   "source": [
    "from sklearn.preprocessing import normalize"
   ]
  },
  {
   "cell_type": "code",
   "execution_count": 24,
   "metadata": {},
   "outputs": [],
   "source": [
    "new_pixel_df = normalize(pixel_df, axis=0)"
   ]
  },
  {
   "cell_type": "code",
   "execution_count": 25,
   "metadata": {},
   "outputs": [
    {
     "data": {
      "text/html": [
       "<div>\n",
       "<style scoped>\n",
       "    .dataframe tbody tr th:only-of-type {\n",
       "        vertical-align: middle;\n",
       "    }\n",
       "\n",
       "    .dataframe tbody tr th {\n",
       "        vertical-align: top;\n",
       "    }\n",
       "\n",
       "    .dataframe thead th {\n",
       "        text-align: right;\n",
       "    }\n",
       "</style>\n",
       "<table border=\"1\" class=\"dataframe\">\n",
       "  <thead>\n",
       "    <tr style=\"text-align: right;\">\n",
       "      <th></th>\n",
       "      <th>pix1</th>\n",
       "      <th>pix2</th>\n",
       "      <th>pix3</th>\n",
       "      <th>pix4</th>\n",
       "      <th>pix5</th>\n",
       "      <th>pix6</th>\n",
       "      <th>pix7</th>\n",
       "      <th>pix8</th>\n",
       "      <th>pix9</th>\n",
       "      <th>pix10</th>\n",
       "      <th>...</th>\n",
       "      <th>pix791</th>\n",
       "      <th>pix792</th>\n",
       "      <th>pix793</th>\n",
       "      <th>pix794</th>\n",
       "      <th>pix795</th>\n",
       "      <th>pix796</th>\n",
       "      <th>pix797</th>\n",
       "      <th>pix798</th>\n",
       "      <th>pix799</th>\n",
       "      <th>pix800</th>\n",
       "    </tr>\n",
       "  </thead>\n",
       "  <tbody>\n",
       "    <tr>\n",
       "      <th>0</th>\n",
       "      <td>0.010268</td>\n",
       "      <td>0.008033</td>\n",
       "      <td>0.008320</td>\n",
       "      <td>0.007913</td>\n",
       "      <td>0.008107</td>\n",
       "      <td>0.010204</td>\n",
       "      <td>0.009955</td>\n",
       "      <td>0.009506</td>\n",
       "      <td>0.009249</td>\n",
       "      <td>0.009789</td>\n",
       "      <td>...</td>\n",
       "      <td>0.007845</td>\n",
       "      <td>0.007574</td>\n",
       "      <td>0.008736</td>\n",
       "      <td>0.008160</td>\n",
       "      <td>0.007434</td>\n",
       "      <td>0.009323</td>\n",
       "      <td>0.007726</td>\n",
       "      <td>0.007915</td>\n",
       "      <td>0.008179</td>\n",
       "      <td>0.007428</td>\n",
       "    </tr>\n",
       "    <tr>\n",
       "      <th>1</th>\n",
       "      <td>0.006560</td>\n",
       "      <td>0.013504</td>\n",
       "      <td>0.012927</td>\n",
       "      <td>0.013963</td>\n",
       "      <td>0.013629</td>\n",
       "      <td>0.007218</td>\n",
       "      <td>0.008239</td>\n",
       "      <td>0.009506</td>\n",
       "      <td>0.010020</td>\n",
       "      <td>0.009036</td>\n",
       "      <td>...</td>\n",
       "      <td>0.007202</td>\n",
       "      <td>0.006705</td>\n",
       "      <td>0.004583</td>\n",
       "      <td>0.005351</td>\n",
       "      <td>0.009749</td>\n",
       "      <td>0.010545</td>\n",
       "      <td>0.005193</td>\n",
       "      <td>0.001687</td>\n",
       "      <td>0.001341</td>\n",
       "      <td>0.005602</td>\n",
       "    </tr>\n",
       "    <tr>\n",
       "      <th>2</th>\n",
       "      <td>0.010268</td>\n",
       "      <td>0.008033</td>\n",
       "      <td>0.008320</td>\n",
       "      <td>0.007913</td>\n",
       "      <td>0.008107</td>\n",
       "      <td>0.010204</td>\n",
       "      <td>0.009955</td>\n",
       "      <td>0.009506</td>\n",
       "      <td>0.009249</td>\n",
       "      <td>0.009789</td>\n",
       "      <td>...</td>\n",
       "      <td>0.007845</td>\n",
       "      <td>0.007574</td>\n",
       "      <td>0.008736</td>\n",
       "      <td>0.008160</td>\n",
       "      <td>0.007434</td>\n",
       "      <td>0.009323</td>\n",
       "      <td>0.007726</td>\n",
       "      <td>0.007915</td>\n",
       "      <td>0.008179</td>\n",
       "      <td>0.007428</td>\n",
       "    </tr>\n",
       "    <tr>\n",
       "      <th>3</th>\n",
       "      <td>0.010268</td>\n",
       "      <td>0.008033</td>\n",
       "      <td>0.008320</td>\n",
       "      <td>0.007913</td>\n",
       "      <td>0.008107</td>\n",
       "      <td>0.010204</td>\n",
       "      <td>0.009955</td>\n",
       "      <td>0.009704</td>\n",
       "      <td>0.009249</td>\n",
       "      <td>0.009036</td>\n",
       "      <td>...</td>\n",
       "      <td>0.014018</td>\n",
       "      <td>0.013783</td>\n",
       "      <td>0.014322</td>\n",
       "      <td>0.013511</td>\n",
       "      <td>0.013161</td>\n",
       "      <td>0.004891</td>\n",
       "      <td>0.012918</td>\n",
       "      <td>0.014013</td>\n",
       "      <td>0.013007</td>\n",
       "      <td>0.014126</td>\n",
       "    </tr>\n",
       "    <tr>\n",
       "      <th>4</th>\n",
       "      <td>0.010268</td>\n",
       "      <td>0.008033</td>\n",
       "      <td>0.008320</td>\n",
       "      <td>0.007913</td>\n",
       "      <td>0.008107</td>\n",
       "      <td>0.010204</td>\n",
       "      <td>0.009955</td>\n",
       "      <td>0.009506</td>\n",
       "      <td>0.009249</td>\n",
       "      <td>0.009789</td>\n",
       "      <td>...</td>\n",
       "      <td>0.007845</td>\n",
       "      <td>0.007574</td>\n",
       "      <td>0.008736</td>\n",
       "      <td>0.008160</td>\n",
       "      <td>0.007434</td>\n",
       "      <td>0.009323</td>\n",
       "      <td>0.007726</td>\n",
       "      <td>0.007915</td>\n",
       "      <td>0.008179</td>\n",
       "      <td>0.007428</td>\n",
       "    </tr>\n",
       "  </tbody>\n",
       "</table>\n",
       "<p>5 rows × 800 columns</p>\n",
       "</div>"
      ],
      "text/plain": [
       "       pix1      pix2      pix3      pix4      pix5      pix6      pix7  \\\n",
       "0  0.010268  0.008033  0.008320  0.007913  0.008107  0.010204  0.009955   \n",
       "1  0.006560  0.013504  0.012927  0.013963  0.013629  0.007218  0.008239   \n",
       "2  0.010268  0.008033  0.008320  0.007913  0.008107  0.010204  0.009955   \n",
       "3  0.010268  0.008033  0.008320  0.007913  0.008107  0.010204  0.009955   \n",
       "4  0.010268  0.008033  0.008320  0.007913  0.008107  0.010204  0.009955   \n",
       "\n",
       "       pix8      pix9     pix10  ...    pix791    pix792    pix793    pix794  \\\n",
       "0  0.009506  0.009249  0.009789  ...  0.007845  0.007574  0.008736  0.008160   \n",
       "1  0.009506  0.010020  0.009036  ...  0.007202  0.006705  0.004583  0.005351   \n",
       "2  0.009506  0.009249  0.009789  ...  0.007845  0.007574  0.008736  0.008160   \n",
       "3  0.009704  0.009249  0.009036  ...  0.014018  0.013783  0.014322  0.013511   \n",
       "4  0.009506  0.009249  0.009789  ...  0.007845  0.007574  0.008736  0.008160   \n",
       "\n",
       "     pix795    pix796    pix797    pix798    pix799    pix800  \n",
       "0  0.007434  0.009323  0.007726  0.007915  0.008179  0.007428  \n",
       "1  0.009749  0.010545  0.005193  0.001687  0.001341  0.005602  \n",
       "2  0.007434  0.009323  0.007726  0.007915  0.008179  0.007428  \n",
       "3  0.013161  0.004891  0.012918  0.014013  0.013007  0.014126  \n",
       "4  0.007434  0.009323  0.007726  0.007915  0.008179  0.007428  \n",
       "\n",
       "[5 rows x 800 columns]"
      ]
     },
     "execution_count": 25,
     "metadata": {},
     "output_type": "execute_result"
    }
   ],
   "source": [
    "new_pixel_df = pd.DataFrame(new_pixel_df, columns=pixels)\n",
    "new_pixel_df.head()"
   ]
  },
  {
   "cell_type": "code",
   "execution_count": 28,
   "metadata": {},
   "outputs": [
    {
     "data": {
      "text/plain": [
       "False"
      ]
     },
     "execution_count": 28,
     "metadata": {},
     "output_type": "execute_result"
    }
   ],
   "source": [
    "new_pixel_df.isnull().values.any() # check for nan values"
   ]
  },
  {
   "cell_type": "code",
   "execution_count": 29,
   "metadata": {},
   "outputs": [
    {
     "name": "stdout",
     "output_type": "stream",
     "text": [
      "Total asm files: 10868\n"
     ]
    }
   ],
   "source": [
    "Ids = []\n",
    "\n",
    "for file in os.listdir(r'D:/Assignments/16. Microsoft Malware Detection/train'):\n",
    "    if file[-3:] == 'asm':\n",
    "        Ids.append(file[:-4])\n",
    "        \n",
    "        \n",
    "print('Total asm files:',len(Ids))"
   ]
  },
  {
   "cell_type": "code",
   "execution_count": 30,
   "metadata": {},
   "outputs": [
    {
     "data": {
      "text/plain": [
       "['01azqd4InC7m9JpocGv5',\n",
       " '01IsoiSMh5gxyDYTl4CB',\n",
       " '01jsnpXSAlgw6aPeDxrU',\n",
       " '01kcPWA9K2BOxQeS5Rju',\n",
       " '01SuzwMJEIXsK7A8dQbl']"
      ]
     },
     "execution_count": 30,
     "metadata": {},
     "output_type": "execute_result"
    }
   ],
   "source": [
    "Ids[:5]"
   ]
  },
  {
   "cell_type": "code",
   "execution_count": 31,
   "metadata": {},
   "outputs": [],
   "source": [
    "new_pixel_df.insert(0,'Id',Ids)"
   ]
  },
  {
   "cell_type": "code",
   "execution_count": 32,
   "metadata": {},
   "outputs": [
    {
     "data": {
      "text/html": [
       "<div>\n",
       "<style scoped>\n",
       "    .dataframe tbody tr th:only-of-type {\n",
       "        vertical-align: middle;\n",
       "    }\n",
       "\n",
       "    .dataframe tbody tr th {\n",
       "        vertical-align: top;\n",
       "    }\n",
       "\n",
       "    .dataframe thead th {\n",
       "        text-align: right;\n",
       "    }\n",
       "</style>\n",
       "<table border=\"1\" class=\"dataframe\">\n",
       "  <thead>\n",
       "    <tr style=\"text-align: right;\">\n",
       "      <th></th>\n",
       "      <th>Id</th>\n",
       "      <th>pix1</th>\n",
       "      <th>pix2</th>\n",
       "      <th>pix3</th>\n",
       "      <th>pix4</th>\n",
       "      <th>pix5</th>\n",
       "      <th>pix6</th>\n",
       "      <th>pix7</th>\n",
       "      <th>pix8</th>\n",
       "      <th>pix9</th>\n",
       "      <th>...</th>\n",
       "      <th>pix791</th>\n",
       "      <th>pix792</th>\n",
       "      <th>pix793</th>\n",
       "      <th>pix794</th>\n",
       "      <th>pix795</th>\n",
       "      <th>pix796</th>\n",
       "      <th>pix797</th>\n",
       "      <th>pix798</th>\n",
       "      <th>pix799</th>\n",
       "      <th>pix800</th>\n",
       "    </tr>\n",
       "  </thead>\n",
       "  <tbody>\n",
       "    <tr>\n",
       "      <th>0</th>\n",
       "      <td>01azqd4InC7m9JpocGv5</td>\n",
       "      <td>0.010268</td>\n",
       "      <td>0.008033</td>\n",
       "      <td>0.008320</td>\n",
       "      <td>0.007913</td>\n",
       "      <td>0.008107</td>\n",
       "      <td>0.010204</td>\n",
       "      <td>0.009955</td>\n",
       "      <td>0.009506</td>\n",
       "      <td>0.009249</td>\n",
       "      <td>...</td>\n",
       "      <td>0.007845</td>\n",
       "      <td>0.007574</td>\n",
       "      <td>0.008736</td>\n",
       "      <td>0.008160</td>\n",
       "      <td>0.007434</td>\n",
       "      <td>0.009323</td>\n",
       "      <td>0.007726</td>\n",
       "      <td>0.007915</td>\n",
       "      <td>0.008179</td>\n",
       "      <td>0.007428</td>\n",
       "    </tr>\n",
       "    <tr>\n",
       "      <th>1</th>\n",
       "      <td>01IsoiSMh5gxyDYTl4CB</td>\n",
       "      <td>0.006560</td>\n",
       "      <td>0.013504</td>\n",
       "      <td>0.012927</td>\n",
       "      <td>0.013963</td>\n",
       "      <td>0.013629</td>\n",
       "      <td>0.007218</td>\n",
       "      <td>0.008239</td>\n",
       "      <td>0.009506</td>\n",
       "      <td>0.010020</td>\n",
       "      <td>...</td>\n",
       "      <td>0.007202</td>\n",
       "      <td>0.006705</td>\n",
       "      <td>0.004583</td>\n",
       "      <td>0.005351</td>\n",
       "      <td>0.009749</td>\n",
       "      <td>0.010545</td>\n",
       "      <td>0.005193</td>\n",
       "      <td>0.001687</td>\n",
       "      <td>0.001341</td>\n",
       "      <td>0.005602</td>\n",
       "    </tr>\n",
       "    <tr>\n",
       "      <th>2</th>\n",
       "      <td>01jsnpXSAlgw6aPeDxrU</td>\n",
       "      <td>0.010268</td>\n",
       "      <td>0.008033</td>\n",
       "      <td>0.008320</td>\n",
       "      <td>0.007913</td>\n",
       "      <td>0.008107</td>\n",
       "      <td>0.010204</td>\n",
       "      <td>0.009955</td>\n",
       "      <td>0.009506</td>\n",
       "      <td>0.009249</td>\n",
       "      <td>...</td>\n",
       "      <td>0.007845</td>\n",
       "      <td>0.007574</td>\n",
       "      <td>0.008736</td>\n",
       "      <td>0.008160</td>\n",
       "      <td>0.007434</td>\n",
       "      <td>0.009323</td>\n",
       "      <td>0.007726</td>\n",
       "      <td>0.007915</td>\n",
       "      <td>0.008179</td>\n",
       "      <td>0.007428</td>\n",
       "    </tr>\n",
       "    <tr>\n",
       "      <th>3</th>\n",
       "      <td>01kcPWA9K2BOxQeS5Rju</td>\n",
       "      <td>0.010268</td>\n",
       "      <td>0.008033</td>\n",
       "      <td>0.008320</td>\n",
       "      <td>0.007913</td>\n",
       "      <td>0.008107</td>\n",
       "      <td>0.010204</td>\n",
       "      <td>0.009955</td>\n",
       "      <td>0.009704</td>\n",
       "      <td>0.009249</td>\n",
       "      <td>...</td>\n",
       "      <td>0.014018</td>\n",
       "      <td>0.013783</td>\n",
       "      <td>0.014322</td>\n",
       "      <td>0.013511</td>\n",
       "      <td>0.013161</td>\n",
       "      <td>0.004891</td>\n",
       "      <td>0.012918</td>\n",
       "      <td>0.014013</td>\n",
       "      <td>0.013007</td>\n",
       "      <td>0.014126</td>\n",
       "    </tr>\n",
       "    <tr>\n",
       "      <th>4</th>\n",
       "      <td>01SuzwMJEIXsK7A8dQbl</td>\n",
       "      <td>0.010268</td>\n",
       "      <td>0.008033</td>\n",
       "      <td>0.008320</td>\n",
       "      <td>0.007913</td>\n",
       "      <td>0.008107</td>\n",
       "      <td>0.010204</td>\n",
       "      <td>0.009955</td>\n",
       "      <td>0.009506</td>\n",
       "      <td>0.009249</td>\n",
       "      <td>...</td>\n",
       "      <td>0.007845</td>\n",
       "      <td>0.007574</td>\n",
       "      <td>0.008736</td>\n",
       "      <td>0.008160</td>\n",
       "      <td>0.007434</td>\n",
       "      <td>0.009323</td>\n",
       "      <td>0.007726</td>\n",
       "      <td>0.007915</td>\n",
       "      <td>0.008179</td>\n",
       "      <td>0.007428</td>\n",
       "    </tr>\n",
       "  </tbody>\n",
       "</table>\n",
       "<p>5 rows × 801 columns</p>\n",
       "</div>"
      ],
      "text/plain": [
       "                     Id      pix1      pix2      pix3      pix4      pix5  \\\n",
       "0  01azqd4InC7m9JpocGv5  0.010268  0.008033  0.008320  0.007913  0.008107   \n",
       "1  01IsoiSMh5gxyDYTl4CB  0.006560  0.013504  0.012927  0.013963  0.013629   \n",
       "2  01jsnpXSAlgw6aPeDxrU  0.010268  0.008033  0.008320  0.007913  0.008107   \n",
       "3  01kcPWA9K2BOxQeS5Rju  0.010268  0.008033  0.008320  0.007913  0.008107   \n",
       "4  01SuzwMJEIXsK7A8dQbl  0.010268  0.008033  0.008320  0.007913  0.008107   \n",
       "\n",
       "       pix6      pix7      pix8      pix9  ...    pix791    pix792    pix793  \\\n",
       "0  0.010204  0.009955  0.009506  0.009249  ...  0.007845  0.007574  0.008736   \n",
       "1  0.007218  0.008239  0.009506  0.010020  ...  0.007202  0.006705  0.004583   \n",
       "2  0.010204  0.009955  0.009506  0.009249  ...  0.007845  0.007574  0.008736   \n",
       "3  0.010204  0.009955  0.009704  0.009249  ...  0.014018  0.013783  0.014322   \n",
       "4  0.010204  0.009955  0.009506  0.009249  ...  0.007845  0.007574  0.008736   \n",
       "\n",
       "     pix794    pix795    pix796    pix797    pix798    pix799    pix800  \n",
       "0  0.008160  0.007434  0.009323  0.007726  0.007915  0.008179  0.007428  \n",
       "1  0.005351  0.009749  0.010545  0.005193  0.001687  0.001341  0.005602  \n",
       "2  0.008160  0.007434  0.009323  0.007726  0.007915  0.008179  0.007428  \n",
       "3  0.013511  0.013161  0.004891  0.012918  0.014013  0.013007  0.014126  \n",
       "4  0.008160  0.007434  0.009323  0.007726  0.007915  0.008179  0.007428  \n",
       "\n",
       "[5 rows x 801 columns]"
      ]
     },
     "execution_count": 32,
     "metadata": {},
     "output_type": "execute_result"
    }
   ],
   "source": [
    "new_pixel_df.head()"
   ]
  },
  {
   "cell_type": "code",
   "execution_count": 33,
   "metadata": {},
   "outputs": [],
   "source": [
    "import pandas as pd\n",
    "\n",
    "labels = pd.read_csv(r'D:/Assignments/16. Microsoft Malware Detection/trainLabels.csv')"
   ]
  },
  {
   "cell_type": "code",
   "execution_count": 34,
   "metadata": {},
   "outputs": [
    {
     "data": {
      "text/html": [
       "<div>\n",
       "<style scoped>\n",
       "    .dataframe tbody tr th:only-of-type {\n",
       "        vertical-align: middle;\n",
       "    }\n",
       "\n",
       "    .dataframe tbody tr th {\n",
       "        vertical-align: top;\n",
       "    }\n",
       "\n",
       "    .dataframe thead th {\n",
       "        text-align: right;\n",
       "    }\n",
       "</style>\n",
       "<table border=\"1\" class=\"dataframe\">\n",
       "  <thead>\n",
       "    <tr style=\"text-align: right;\">\n",
       "      <th></th>\n",
       "      <th>Id</th>\n",
       "      <th>Class</th>\n",
       "    </tr>\n",
       "  </thead>\n",
       "  <tbody>\n",
       "    <tr>\n",
       "      <th>0</th>\n",
       "      <td>01kcPWA9K2BOxQeS5Rju</td>\n",
       "      <td>1</td>\n",
       "    </tr>\n",
       "    <tr>\n",
       "      <th>1</th>\n",
       "      <td>04EjIdbPV5e1XroFOpiN</td>\n",
       "      <td>1</td>\n",
       "    </tr>\n",
       "    <tr>\n",
       "      <th>2</th>\n",
       "      <td>05EeG39MTRrI6VY21DPd</td>\n",
       "      <td>1</td>\n",
       "    </tr>\n",
       "    <tr>\n",
       "      <th>3</th>\n",
       "      <td>05rJTUWYAKNegBk2wE8X</td>\n",
       "      <td>1</td>\n",
       "    </tr>\n",
       "    <tr>\n",
       "      <th>4</th>\n",
       "      <td>0AnoOZDNbPXIr2MRBSCJ</td>\n",
       "      <td>1</td>\n",
       "    </tr>\n",
       "  </tbody>\n",
       "</table>\n",
       "</div>"
      ],
      "text/plain": [
       "                     Id  Class\n",
       "0  01kcPWA9K2BOxQeS5Rju      1\n",
       "1  04EjIdbPV5e1XroFOpiN      1\n",
       "2  05EeG39MTRrI6VY21DPd      1\n",
       "3  05rJTUWYAKNegBk2wE8X      1\n",
       "4  0AnoOZDNbPXIr2MRBSCJ      1"
      ]
     },
     "execution_count": 34,
     "metadata": {},
     "output_type": "execute_result"
    }
   ],
   "source": [
    "labels.head()"
   ]
  },
  {
   "cell_type": "code",
   "execution_count": 35,
   "metadata": {},
   "outputs": [
    {
     "data": {
      "text/plain": [
       "'01kcPWA9K2BOxQeS5Rju'"
      ]
     },
     "execution_count": 35,
     "metadata": {},
     "output_type": "execute_result"
    }
   ],
   "source": [
    "labels['Id'].iloc[0]"
   ]
  },
  {
   "cell_type": "code",
   "execution_count": 39,
   "metadata": {},
   "outputs": [],
   "source": [
    "result = pd.merge(new_pixel_df, labels, on='Id')"
   ]
  },
  {
   "cell_type": "code",
   "execution_count": 40,
   "metadata": {},
   "outputs": [
    {
     "data": {
      "text/html": [
       "<div>\n",
       "<style scoped>\n",
       "    .dataframe tbody tr th:only-of-type {\n",
       "        vertical-align: middle;\n",
       "    }\n",
       "\n",
       "    .dataframe tbody tr th {\n",
       "        vertical-align: top;\n",
       "    }\n",
       "\n",
       "    .dataframe thead th {\n",
       "        text-align: right;\n",
       "    }\n",
       "</style>\n",
       "<table border=\"1\" class=\"dataframe\">\n",
       "  <thead>\n",
       "    <tr style=\"text-align: right;\">\n",
       "      <th></th>\n",
       "      <th>Id</th>\n",
       "      <th>pix1</th>\n",
       "      <th>pix2</th>\n",
       "      <th>pix3</th>\n",
       "      <th>pix4</th>\n",
       "      <th>pix5</th>\n",
       "      <th>pix6</th>\n",
       "      <th>pix7</th>\n",
       "      <th>pix8</th>\n",
       "      <th>pix9</th>\n",
       "      <th>...</th>\n",
       "      <th>pix792</th>\n",
       "      <th>pix793</th>\n",
       "      <th>pix794</th>\n",
       "      <th>pix795</th>\n",
       "      <th>pix796</th>\n",
       "      <th>pix797</th>\n",
       "      <th>pix798</th>\n",
       "      <th>pix799</th>\n",
       "      <th>pix800</th>\n",
       "      <th>Class</th>\n",
       "    </tr>\n",
       "  </thead>\n",
       "  <tbody>\n",
       "    <tr>\n",
       "      <th>0</th>\n",
       "      <td>01azqd4InC7m9JpocGv5</td>\n",
       "      <td>0.010268</td>\n",
       "      <td>0.008033</td>\n",
       "      <td>0.008320</td>\n",
       "      <td>0.007913</td>\n",
       "      <td>0.008107</td>\n",
       "      <td>0.010204</td>\n",
       "      <td>0.009955</td>\n",
       "      <td>0.009506</td>\n",
       "      <td>0.009249</td>\n",
       "      <td>...</td>\n",
       "      <td>0.007574</td>\n",
       "      <td>0.008736</td>\n",
       "      <td>0.008160</td>\n",
       "      <td>0.007434</td>\n",
       "      <td>0.009323</td>\n",
       "      <td>0.007726</td>\n",
       "      <td>0.007915</td>\n",
       "      <td>0.008179</td>\n",
       "      <td>0.007428</td>\n",
       "      <td>9</td>\n",
       "    </tr>\n",
       "    <tr>\n",
       "      <th>1</th>\n",
       "      <td>01IsoiSMh5gxyDYTl4CB</td>\n",
       "      <td>0.006560</td>\n",
       "      <td>0.013504</td>\n",
       "      <td>0.012927</td>\n",
       "      <td>0.013963</td>\n",
       "      <td>0.013629</td>\n",
       "      <td>0.007218</td>\n",
       "      <td>0.008239</td>\n",
       "      <td>0.009506</td>\n",
       "      <td>0.010020</td>\n",
       "      <td>...</td>\n",
       "      <td>0.006705</td>\n",
       "      <td>0.004583</td>\n",
       "      <td>0.005351</td>\n",
       "      <td>0.009749</td>\n",
       "      <td>0.010545</td>\n",
       "      <td>0.005193</td>\n",
       "      <td>0.001687</td>\n",
       "      <td>0.001341</td>\n",
       "      <td>0.005602</td>\n",
       "      <td>2</td>\n",
       "    </tr>\n",
       "    <tr>\n",
       "      <th>2</th>\n",
       "      <td>01jsnpXSAlgw6aPeDxrU</td>\n",
       "      <td>0.010268</td>\n",
       "      <td>0.008033</td>\n",
       "      <td>0.008320</td>\n",
       "      <td>0.007913</td>\n",
       "      <td>0.008107</td>\n",
       "      <td>0.010204</td>\n",
       "      <td>0.009955</td>\n",
       "      <td>0.009506</td>\n",
       "      <td>0.009249</td>\n",
       "      <td>...</td>\n",
       "      <td>0.007574</td>\n",
       "      <td>0.008736</td>\n",
       "      <td>0.008160</td>\n",
       "      <td>0.007434</td>\n",
       "      <td>0.009323</td>\n",
       "      <td>0.007726</td>\n",
       "      <td>0.007915</td>\n",
       "      <td>0.008179</td>\n",
       "      <td>0.007428</td>\n",
       "      <td>9</td>\n",
       "    </tr>\n",
       "    <tr>\n",
       "      <th>3</th>\n",
       "      <td>01kcPWA9K2BOxQeS5Rju</td>\n",
       "      <td>0.010268</td>\n",
       "      <td>0.008033</td>\n",
       "      <td>0.008320</td>\n",
       "      <td>0.007913</td>\n",
       "      <td>0.008107</td>\n",
       "      <td>0.010204</td>\n",
       "      <td>0.009955</td>\n",
       "      <td>0.009704</td>\n",
       "      <td>0.009249</td>\n",
       "      <td>...</td>\n",
       "      <td>0.013783</td>\n",
       "      <td>0.014322</td>\n",
       "      <td>0.013511</td>\n",
       "      <td>0.013161</td>\n",
       "      <td>0.004891</td>\n",
       "      <td>0.012918</td>\n",
       "      <td>0.014013</td>\n",
       "      <td>0.013007</td>\n",
       "      <td>0.014126</td>\n",
       "      <td>1</td>\n",
       "    </tr>\n",
       "    <tr>\n",
       "      <th>4</th>\n",
       "      <td>01SuzwMJEIXsK7A8dQbl</td>\n",
       "      <td>0.010268</td>\n",
       "      <td>0.008033</td>\n",
       "      <td>0.008320</td>\n",
       "      <td>0.007913</td>\n",
       "      <td>0.008107</td>\n",
       "      <td>0.010204</td>\n",
       "      <td>0.009955</td>\n",
       "      <td>0.009506</td>\n",
       "      <td>0.009249</td>\n",
       "      <td>...</td>\n",
       "      <td>0.007574</td>\n",
       "      <td>0.008736</td>\n",
       "      <td>0.008160</td>\n",
       "      <td>0.007434</td>\n",
       "      <td>0.009323</td>\n",
       "      <td>0.007726</td>\n",
       "      <td>0.007915</td>\n",
       "      <td>0.008179</td>\n",
       "      <td>0.007428</td>\n",
       "      <td>8</td>\n",
       "    </tr>\n",
       "  </tbody>\n",
       "</table>\n",
       "<p>5 rows × 802 columns</p>\n",
       "</div>"
      ],
      "text/plain": [
       "                     Id      pix1      pix2      pix3      pix4      pix5  \\\n",
       "0  01azqd4InC7m9JpocGv5  0.010268  0.008033  0.008320  0.007913  0.008107   \n",
       "1  01IsoiSMh5gxyDYTl4CB  0.006560  0.013504  0.012927  0.013963  0.013629   \n",
       "2  01jsnpXSAlgw6aPeDxrU  0.010268  0.008033  0.008320  0.007913  0.008107   \n",
       "3  01kcPWA9K2BOxQeS5Rju  0.010268  0.008033  0.008320  0.007913  0.008107   \n",
       "4  01SuzwMJEIXsK7A8dQbl  0.010268  0.008033  0.008320  0.007913  0.008107   \n",
       "\n",
       "       pix6      pix7      pix8      pix9  ...    pix792    pix793    pix794  \\\n",
       "0  0.010204  0.009955  0.009506  0.009249  ...  0.007574  0.008736  0.008160   \n",
       "1  0.007218  0.008239  0.009506  0.010020  ...  0.006705  0.004583  0.005351   \n",
       "2  0.010204  0.009955  0.009506  0.009249  ...  0.007574  0.008736  0.008160   \n",
       "3  0.010204  0.009955  0.009704  0.009249  ...  0.013783  0.014322  0.013511   \n",
       "4  0.010204  0.009955  0.009506  0.009249  ...  0.007574  0.008736  0.008160   \n",
       "\n",
       "     pix795    pix796    pix797    pix798    pix799    pix800  Class  \n",
       "0  0.007434  0.009323  0.007726  0.007915  0.008179  0.007428      9  \n",
       "1  0.009749  0.010545  0.005193  0.001687  0.001341  0.005602      2  \n",
       "2  0.007434  0.009323  0.007726  0.007915  0.008179  0.007428      9  \n",
       "3  0.013161  0.004891  0.012918  0.014013  0.013007  0.014126      1  \n",
       "4  0.007434  0.009323  0.007726  0.007915  0.008179  0.007428      8  \n",
       "\n",
       "[5 rows x 802 columns]"
      ]
     },
     "execution_count": 40,
     "metadata": {},
     "output_type": "execute_result"
    }
   ],
   "source": [
    "y_label = result['Class']\n",
    "result.head()"
   ]
  },
  {
   "cell_type": "code",
   "execution_count": 41,
   "metadata": {},
   "outputs": [],
   "source": [
    "pickle.dump((result),open('D:/Assignments/16. Microsoft Malware Detection/pixel_array.pkl','wb')) "
   ]
  },
  {
   "cell_type": "code",
   "execution_count": null,
   "metadata": {},
   "outputs": [],
   "source": []
  }
 ],
 "metadata": {
  "kernelspec": {
   "display_name": "Python 3",
   "language": "python",
   "name": "python3"
  },
  "language_info": {
   "codemirror_mode": {
    "name": "ipython",
    "version": 3
   },
   "file_extension": ".py",
   "mimetype": "text/x-python",
   "name": "python",
   "nbconvert_exporter": "python",
   "pygments_lexer": "ipython3",
   "version": "3.8.3"
  }
 },
 "nbformat": 4,
 "nbformat_minor": 4
}
