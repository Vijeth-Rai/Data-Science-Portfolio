{
 "cells": [
  {
   "cell_type": "code",
   "execution_count": 1,
   "metadata": {},
   "outputs": [],
   "source": [
    "import os\n",
    "from sklearn.feature_extraction.text import TfidfVectorizer\n",
    "from sklearn.feature_extraction.text import CountVectorizer\n",
    "from tqdm import tqdm\n",
    "import re\n",
    "import codecs\n",
    "import scipy"
   ]
  },
  {
   "cell_type": "code",
   "execution_count": 2,
   "metadata": {},
   "outputs": [
    {
     "name": "stdout",
     "output_type": "stream",
     "text": [
      "Total asm files: 10868\n"
     ]
    }
   ],
   "source": [
    "files = []\n",
    "\n",
    "for file in os.listdir(r'D:/Assignments/16. Microsoft Malware Detection/train'):\n",
    "    if file[-3:] == 'asm':\n",
    "        files.append(r'D:/Assignments/16. Microsoft Malware Detection/train/'+file)\n",
    "        \n",
    "        \n",
    "print('Total asm files:',len(files))"
   ]
  },
  {
   "cell_type": "code",
   "execution_count": 3,
   "metadata": {},
   "outputs": [
    {
     "data": {
      "text/plain": [
       "['D:/Assignments/16. Microsoft Malware Detection/train/01azqd4InC7m9JpocGv5.asm',\n",
       " 'D:/Assignments/16. Microsoft Malware Detection/train/01IsoiSMh5gxyDYTl4CB.asm',\n",
       " 'D:/Assignments/16. Microsoft Malware Detection/train/01jsnpXSAlgw6aPeDxrU.asm',\n",
       " 'D:/Assignments/16. Microsoft Malware Detection/train/01kcPWA9K2BOxQeS5Rju.asm',\n",
       " 'D:/Assignments/16. Microsoft Malware Detection/train/01SuzwMJEIXsK7A8dQbl.asm']"
      ]
     },
     "execution_count": 3,
     "metadata": {},
     "output_type": "execute_result"
    }
   ],
   "source": [
    "files[:5]"
   ]
  },
  {
   "cell_type": "code",
   "execution_count": 4,
   "metadata": {},
   "outputs": [
    {
     "name": "stdout",
     "output_type": "stream",
     "text": [
      "asm file bigram head: [['jmp', 'jmp'], ['jmp', 'mov'], ['jmp', 'retf'], ['jmp', 'push'], ['jmp', 'pop']]\n"
     ]
    }
   ],
   "source": [
    "opcodes = ['jmp', 'mov', 'retf', 'push', 'pop', 'xor', 'retn', 'nop', 'sub', 'inc', 'dec', 'add','imul', 'xchg', 'or', 'shr', 'cmp', 'call', 'shl', 'ror', 'rol', 'jnb','jz','rtn','lea','movzx']\n",
    "\n",
    "opcode_vocab = []\n",
    "\n",
    "for i in opcodes:\n",
    "    for j in opcodes:\n",
    "        opcode_vocab.append([i,j])\n",
    "\n",
    "print('asm file bigram head:',opcode_vocab[:5])"
   ]
  },
  {
   "cell_type": "code",
   "execution_count": 5,
   "metadata": {},
   "outputs": [
    {
     "name": "stdout",
     "output_type": "stream",
     "text": [
      "\n",
      "Total elements in opcode bigrams: 676\n"
     ]
    }
   ],
   "source": [
    "print('\\nTotal elements in opcode bigrams:',len(opcode_vocab))"
   ]
  },
  {
   "cell_type": "code",
   "execution_count": 10,
   "metadata": {},
   "outputs": [
    {
     "name": "stderr",
     "output_type": "stream",
     "text": [
      "100%|██████████████████████████████████████████████████████████████████████████| 10868/10868 [8:29:16<00:00,  2.81s/it]\n"
     ]
    }
   ],
   "source": [
    "op_file = open(\"D:/Assignments/16. Microsoft Malware Detection/train/opcodes.txt\", \"w+\")\n",
    "\n",
    "for file in tqdm(files):\n",
    "    opcode = \"\"\n",
    "    with codecs.open(file, encoding='cp1252', errors ='replace') as fli:\n",
    "        for lines in fli:\n",
    "            line = lines.rstrip().split()            \n",
    "            for li in line:\n",
    "                if li in opcodes:\n",
    "                    opcode += li + ' '\n",
    "    op_file.write(opcode + \"\\n\")\n",
    "op_file.close()"
   ]
  },
  {
   "cell_type": "code",
   "execution_count": null,
   "metadata": {},
   "outputs": [],
   "source": [
    "vect = CountVectorizer(ngram_range=(2, 2), vocabulary = opcode_vocab)\n",
    "opcodebigram_vect = scipy.sparse.csr_matrix((10868, len(opcode_vocab)))\n",
    "raw_opcode = open('D:/Assignments/16. Microsoft Malware Detection/train/opcodes.txt').read().split('\\n')\n",
    "\n",
    "for indx in range(10868):\n",
    "    opcodebigram_vect[indx] += scipy.sparse.csr_matrix(vect.transform([raw_opcode[indx]]))"
   ]
  },
  {
   "cell_type": "code",
   "execution_count": null,
   "metadata": {},
   "outputs": [],
   "source": [
    "scipy.sparse.save_npz(\"D:/Assignments/16. Microsoft Malware Detection/opcode_bigram_vect.npz\", bytebigram_vect)"
   ]
  },
  {
   "cell_type": "code",
   "execution_count": 4,
   "metadata": {},
   "outputs": [
    {
     "name": "stdout",
     "output_type": "stream",
     "text": [
      "asm file bigram head: ['jmp', 'mov', 'retf', 'push', 'pop']\n"
     ]
    }
   ],
   "source": [
    "opcodes = ['jmp', 'mov', 'retf', 'push', 'pop', 'xor', 'retn', 'nop', 'sub', 'inc', 'dec', 'add','imul', 'xchg', 'or', 'shr', 'cmp', 'call', 'shl', 'ror', 'rol', 'jnb','jz','rtn','lea','movzx']\n",
    "\n",
    "opcode_vocab = []\n",
    "\n",
    "for i in opcodes:\n",
    "    opcode_vocab.append(i)\n",
    "\n",
    "print('asm file bigram head:',opcode_vocab[:5])"
   ]
  },
  {
   "cell_type": "code",
   "execution_count": 5,
   "metadata": {},
   "outputs": [
    {
     "name": "stderr",
     "output_type": "stream",
     "text": [
      "  0%|                                                                                        | 0/10868 [00:00<?, ?it/s]c:\\users\\jyothi rai\\appdata\\local\\programs\\python\\python38\\lib\\site-packages\\scipy\\sparse\\_index.py:116: SparseEfficiencyWarning: Changing the sparsity structure of a csr_matrix is expensive. lil_matrix is more efficient.\n",
      "  self._set_arrayXarray_sparse(i, j, x)\n",
      "100%|████████████████████████████████████████████████████████████████████████████| 10868/10868 [02:14<00:00, 80.60it/s]\n"
     ]
    }
   ],
   "source": [
    "vect = CountVectorizer(ngram_range=(1, 1), vocabulary = opcode_vocab)\n",
    "opcodebigram_vect = scipy.sparse.csr_matrix((10868, len(opcode_vocab)))\n",
    "raw_opcode = open('D:/Assignments/16. Microsoft Malware Detection/train/opcodes.txt').read().split('\\n')\n",
    "\n",
    "for indx in tqdm(range(10868)):\n",
    "    opcodebigram_vect[indx] += scipy.sparse.csr_matrix(vect.transform([raw_opcode[indx]]))"
   ]
  },
  {
   "cell_type": "code",
   "execution_count": 6,
   "metadata": {},
   "outputs": [
    {
     "data": {
      "text/plain": [
       "(10868, 26)"
      ]
     },
     "execution_count": 6,
     "metadata": {},
     "output_type": "execute_result"
    }
   ],
   "source": [
    "opcodebigram_vect.shape"
   ]
  },
  {
   "cell_type": "code",
   "execution_count": 20,
   "metadata": {},
   "outputs": [],
   "source": [
    "scipy.sparse.save_npz(\"D:/Assignments/16. Microsoft Malware Detection/opcode_unigram_vect.npz\", opcodebigram_vect)"
   ]
  },
  {
   "cell_type": "code",
   "execution_count": null,
   "metadata": {},
   "outputs": [],
   "source": []
  }
 ],
 "metadata": {
  "kernelspec": {
   "display_name": "Python 3",
   "language": "python",
   "name": "python3"
  },
  "language_info": {
   "codemirror_mode": {
    "name": "ipython",
    "version": 3
   },
   "file_extension": ".py",
   "mimetype": "text/x-python",
   "name": "python",
   "nbconvert_exporter": "python",
   "pygments_lexer": "ipython3",
   "version": "3.8.3"
  }
 },
 "nbformat": 4,
 "nbformat_minor": 4
}
