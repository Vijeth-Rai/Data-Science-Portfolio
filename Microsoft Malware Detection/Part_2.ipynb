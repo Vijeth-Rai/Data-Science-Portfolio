{
 "cells": [
  {
   "cell_type": "markdown",
   "metadata": {
    "colab_type": "text",
    "id": "YQHqU-0eoCDj"
   },
   "source": [
    "# Preprocessing (normalizing the byte bigram npz) in chunks because ram crash\n"
   ]
  },
  {
   "cell_type": "code",
   "execution_count": null,
   "metadata": {
    "colab": {
     "base_uri": "https://localhost:8080/",
     "height": 118
    },
    "colab_type": "code",
    "id": "eYrjis4W0b03",
    "outputId": "14b33290-266e-48c1-aba1-3585b42ed8ad"
   },
   "outputs": [
    {
     "name": "stdout",
     "output_type": "stream",
     "text": [
      "Go to this URL in a browser: https://accounts.google.com/o/oauth2/auth?client_id=947318989803-6bn6qk8qdgf4n4g3pfee6491hc0brc4i.apps.googleusercontent.com&redirect_uri=urn%3aietf%3awg%3aoauth%3a2.0%3aoob&response_type=code&scope=email%20https%3a%2f%2fwww.googleapis.com%2fauth%2fdocs.test%20https%3a%2f%2fwww.googleapis.com%2fauth%2fdrive%20https%3a%2f%2fwww.googleapis.com%2fauth%2fdrive.photos.readonly%20https%3a%2f%2fwww.googleapis.com%2fauth%2fpeopleapi.readonly\n",
      "\n",
      "Enter your authorization code:\n",
      "··········\n",
      "Mounted at /content/gdrive\n"
     ]
    }
   ],
   "source": [
    "from google.colab import drive\n",
    "drive.mount('/content/gdrive')"
   ]
  },
  {
   "cell_type": "code",
   "execution_count": null,
   "metadata": {
    "colab": {},
    "colab_type": "code",
    "id": "9b_Cz_Aw15P2"
   },
   "outputs": [],
   "source": [
    "from scipy import sparse\n",
    "\n",
    "byte_csr = sparse.load_npz('/content/gdrive/My Drive/Colab Notebooks/Malware uploads/final_byte_csr.npz')"
   ]
  },
  {
   "cell_type": "code",
   "execution_count": null,
   "metadata": {
    "colab": {
     "base_uri": "https://localhost:8080/",
     "height": 50
    },
    "colab_type": "code",
    "id": "-sfhlQBuCdoU",
    "outputId": "f2e14976-37ba-4c35-a81a-4d570f3e29aa"
   },
   "outputs": [
    {
     "data": {
      "text/plain": [
       "<10868x66049 sparse matrix of type '<class 'numpy.float64'>'\n",
       "\twith 489108387 stored elements in Compressed Sparse Row format>"
      ]
     },
     "execution_count": 2,
     "metadata": {
      "tags": []
     },
     "output_type": "execute_result"
    }
   ],
   "source": [
    "byte_csr"
   ]
  },
  {
   "cell_type": "code",
   "execution_count": null,
   "metadata": {
    "colab": {
     "base_uri": "https://localhost:8080/",
     "height": 147
    },
    "colab_type": "code",
    "id": "CpTqY-cpFl5Q",
    "outputId": "7fa85bd0-8d44-40da-da28-88fd41aed3ce"
   },
   "outputs": [
    {
     "name": "stdout",
     "output_type": "stream",
     "text": [
      "Normalizing part 1\n",
      "Normalizing part 2\n",
      "Normalizing part 3\n",
      "Normalizing part 4\n",
      "Normalizing part 5\n",
      "Normalizing part 6\n",
      "Normalizing part 7\n",
      "Done\n"
     ]
    }
   ],
   "source": [
    "from tqdm import tqdm\n",
    "from sklearn.preprocessing import normalize\n",
    "\n",
    "print(\"Normalizing part 1\")\n",
    "x = byte_csr[:,:10000]\n",
    "x = normalize(x, axis=0)\n",
    "sparse.save_npz(\"/content/gdrive/My Drive/Colab Notebooks/Malware uploads/part_1.npz\", x)\n",
    "\n",
    "print(\"Normalizing part 2\")\n",
    "x = byte_csr[:,10000:20000]\n",
    "x = normalize(x, axis=0)\n",
    "sparse.save_npz(\"/content/gdrive/My Drive/Colab Notebooks/Malware uploads/part_2.npz\", x)\n",
    "\n",
    "print(\"Normalizing part 3\")\n",
    "x = byte_csr[:,20000:30000]\n",
    "x = normalize(x, axis=0)jupyte\n",
    "sparse.save_npz(\"/content/gdrive/My Drive/Colab Notebooks/Malware uploads/part_3.npz\", x)\n",
    "\n",
    "print(\"Normalizing part 4\")\n",
    "x = byte_csr[:,30000:40000]\n",
    "x = normalize(x, axis=0)\n",
    "sparse.save_npz(\"/content/gdrive/My Drive/Colab Notebooks/Malware uploads/part_4.npz\", x)\n",
    "\n",
    "print(\"Normalizing part 5\")\n",
    "x = byte_csr[:,40000:50000]\n",
    "x = normalize(x, axis=0)\n",
    "sparse.save_npz(\"/content/gdrive/My Drive/Colab Notebooks/Malware uploads/part_5.npz\", x)\n",
    "\n",
    "print(\"Normalizing part 6\")\n",
    "x = byte_csr[:,50000:60000]\n",
    "x = normalize(x, axis=0)\n",
    "sparse.save_npz(\"/content/gdrive/My Drive/Colab Notebooks/Malware uploads/part_6.npz\", x)\n",
    "\n",
    "print(\"Normalizing part 7\")\n",
    "x = byte_csr[:,60000:]\n",
    "x = normalize(x, axis=0)\n",
    "sparse.save_npz(\"/content/gdrive/My Drive/Colab Notebooks/Malware uploads/part_7.npz\", x)\n",
    "\n",
    "print('Done')"
   ]
  },
  {
   "cell_type": "code",
   "execution_count": null,
   "metadata": {
    "colab": {
     "base_uri": "https://localhost:8080/",
     "height": 66
    },
    "colab_type": "code",
    "id": "ShFspxvxPOmN",
    "outputId": "e0cd593e-ac6b-4fc0-c268-be84638249e0"
   },
   "outputs": [
    {
     "name": "stdout",
     "output_type": "stream",
     "text": [
      "Loading files\n",
      "Stacking\n",
      "Saving\n"
     ]
    }
   ],
   "source": [
    "from scipy import sparse\n",
    "\n",
    "print('Loading files')\n",
    "part_1 = sparse.load_npz('/content/gdrive/My Drive/Colab Notebooks/Malware uploads/part_1.npz')\n",
    "part_2 = sparse.load_npz('/content/gdrive/My Drive/Colab Notebooks/Malware uploads/part_2.npz')\n",
    "part_3 = sparse.load_npz('/content/gdrive/My Drive/Colab Notebooks/Malware uploads/part_3.npz')\n",
    "\n",
    "print('Stacking')\n",
    "from scipy.sparse import hstack\n",
    "part_1half = hstack((part_1,part_2,part_3))\n",
    "\n",
    "print('Saving')\n",
    "sparse.save_npz(\"/content/gdrive/My Drive/Colab Notebooks/Malware uploads/part_1half.npz\", part_1half)"
   ]
  },
  {
   "cell_type": "code",
   "execution_count": null,
   "metadata": {
    "colab": {
     "base_uri": "https://localhost:8080/",
     "height": 33
    },
    "colab_type": "code",
    "id": "AXmHY94RRMY4",
    "outputId": "e6dcfa4a-319a-41af-ce40-1f5678281db9"
   },
   "outputs": [
    {
     "data": {
      "text/plain": [
       "(10868, 30000)"
      ]
     },
     "execution_count": 2,
     "metadata": {
      "tags": []
     },
     "output_type": "execute_result"
    }
   ],
   "source": [
    "part_1half.shape"
   ]
  },
  {
   "cell_type": "code",
   "execution_count": null,
   "metadata": {
    "colab": {
     "base_uri": "https://localhost:8080/",
     "height": 66
    },
    "colab_type": "code",
    "id": "9bPVgIIlQQFB",
    "outputId": "7038eeb3-f02a-4142-c6dd-a9eb8923fd5a"
   },
   "outputs": [
    {
     "name": "stdout",
     "output_type": "stream",
     "text": [
      "Loading files\n",
      "Stacking\n",
      "Saving\n"
     ]
    }
   ],
   "source": [
    "from scipy import sparse\n",
    "\n",
    "print('Loading files')\n",
    "part_4 = sparse.load_npz('/content/gdrive/My Drive/Colab Notebooks/Malware uploads/part_4.npz')\n",
    "part_5 = sparse.load_npz('/content/gdrive/My Drive/Colab Notebooks/Malware uploads/part_5.npz')\n",
    "part_6 = sparse.load_npz('/content/gdrive/My Drive/Colab Notebooks/Malware uploads/part_6.npz')\n",
    "part_7 = sparse.load_npz('/content/gdrive/My Drive/Colab Notebooks/Malware uploads/part_7.npz')\n",
    "\n",
    "print('Stacking')\n",
    "from scipy.sparse import hstack\n",
    "part_2half = hstack((part_4,part_5,part_6,part_7))\n",
    "\n",
    "print('Saving')\n",
    "sparse.save_npz(\"/content/gdrive/My Drive/Colab Notebooks/Malware uploads/part_2half.npz\", part_2half)"
   ]
  },
  {
   "cell_type": "code",
   "execution_count": null,
   "metadata": {
    "colab": {
     "base_uri": "https://localhost:8080/",
     "height": 33
    },
    "colab_type": "code",
    "id": "fd-_i5djS7Mq",
    "outputId": "1657d8a7-4ceb-4e6a-b9f6-44c85e56fff4"
   },
   "outputs": [
    {
     "data": {
      "text/plain": [
       "(10868, 36049)"
      ]
     },
     "execution_count": 3,
     "metadata": {
      "tags": []
     },
     "output_type": "execute_result"
    }
   ],
   "source": [
    "part_2half.shape"
   ]
  },
  {
   "cell_type": "code",
   "execution_count": null,
   "metadata": {
    "colab": {
     "base_uri": "https://localhost:8080/",
     "height": 66
    },
    "colab_type": "code",
    "id": "yXGP0u7XSMga",
    "outputId": "97d0fd28-b0e2-4033-bd96-cd829b0a4453"
   },
   "outputs": [
    {
     "name": "stdout",
     "output_type": "stream",
     "text": [
      "Loading files\n",
      "Stacking\n",
      "Saving\n"
     ]
    }
   ],
   "source": [
    "from scipy import sparse\n",
    "\n",
    "print('Loading files')\n",
    "part_1half = sparse.load_npz('/content/gdrive/My Drive/Colab Notebooks/Malware uploads/part_1half.npz')\n",
    "part_2half = sparse.load_npz('/content/gdrive/My Drive/Colab Notebooks/Malware uploads/part_2half.npz')\n",
    "\n",
    "print('Stacking')\n",
    "from scipy.sparse import hstack\n",
    "normalized_byte = hstack((part_1half,part_2half))\n",
    "\n",
    "print('Saving')\n",
    "sparse.save_npz(\"/content/gdrive/My Drive/Colab Notebooks/Malware uploads/normalized_byte.npz\", normalized_byte)"
   ]
  },
  {
   "cell_type": "code",
   "execution_count": null,
   "metadata": {
    "colab": {
     "base_uri": "https://localhost:8080/",
     "height": 50
    },
    "colab_type": "code",
    "id": "bQdHiWtzUN5T",
    "outputId": "3e03f685-e731-4999-8262-466b22c6a5bc"
   },
   "outputs": [
    {
     "data": {
      "text/plain": [
       "<10868x66049 sparse matrix of type '<class 'numpy.float64'>'\n",
       "\twith 489108387 stored elements in Compressed Sparse Column format>"
      ]
     },
     "execution_count": 3,
     "metadata": {
      "tags": []
     },
     "output_type": "execute_result"
    }
   ],
   "source": [
    "normalized_byte"
   ]
  }
 ],
 "metadata": {
  "colab": {
   "collapsed_sections": [],
   "name": "Untitled12.ipynb",
   "provenance": []
  },
  "kernelspec": {
   "display_name": "Python 3",
   "language": "python",
   "name": "python3"
  },
  "language_info": {
   "codemirror_mode": {
    "name": "ipython",
    "version": 3
   },
   "file_extension": ".py",
   "mimetype": "text/x-python",
   "name": "python",
   "nbconvert_exporter": "python",
   "pygments_lexer": "ipython3",
   "version": "3.8.3"
  }
 },
 "nbformat": 4,
 "nbformat_minor": 1
}
