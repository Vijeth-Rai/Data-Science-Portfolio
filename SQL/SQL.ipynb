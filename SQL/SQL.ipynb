{
  "nbformat": 4,
  "nbformat_minor": 0,
  "metadata": {
    "kernelspec": {
      "display_name": "Python 3",
      "language": "python",
      "name": "python3"
    },
    "language_info": {
      "codemirror_mode": {
        "name": "ipython",
        "version": 3
      },
      "file_extension": ".py",
      "mimetype": "text/x-python",
      "name": "python",
      "nbconvert_exporter": "python",
      "pygments_lexer": "ipython3",
      "version": "3.7.4"
    },
    "colab": {
      "name": "SQL.ipynb",
      "provenance": [],
      "collapsed_sections": []
    }
  },
  "cells": [
    {
      "cell_type": "markdown",
      "metadata": {
        "id": "qjriO6Xeg9UI",
        "colab_type": "text"
      },
      "source": [
        "# SQL Assignment"
      ]
    },
    {
      "cell_type": "code",
      "metadata": {
        "id": "CPizv3PkhE5w",
        "colab_type": "code",
        "outputId": "6038a92c-00df-4fba-c0ea-e5f9c44b29dd",
        "colab": {
          "base_uri": "https://localhost:8080/",
          "height": 232
        }
      },
      "source": [
        "!wget --header=\"Host: doc-10-94-docs.googleusercontent.com\" --header=\"User-Agent: Mozilla/5.0 (Windows NT 10.0; Win64; x64) AppleWebKit/537.36 (KHTML, like Gecko) Chrome/81.0.4044.138 Safari/537.36\" --header=\"Accept: text/html,application/xhtml+xml,application/xml;q=0.9,image/webp,image/apng,*/*;q=0.8,application/signed-exchange;v=b3;q=0.9\" --header=\"Accept-Language: en-US,en;q=0.9\" --header=\"Referer: https://drive.google.com/drive/u/0/my-drive\" --header=\"Cookie: AUTH_qt52u2gu6qban90vehnie4dc20mth5n4=03674084270746528232|1590556950000|10c652n1c9lnn927huknddir6g9s7a02; NID=204=CthYUmtcSUGEmptB0i-VhEmsai6Uu2WP8JzLd-D9gm9nqHbsQ0XHZggFdyO14XYyG0U8Ok4CNZ2FdYQRuT41AV4HFhCCMh1kAxsWMMQsYPUCz2_nUk3WcN4L6YkJRMb0Sj5pEczsVp4F6D4-HXdBT72BFSsVhqakaQW6ba-d-uo\" --header=\"Connection: keep-alive\" \"https://doc-10-94-docs.googleusercontent.com/docs/securesc/cpqrl8u0bfmm43paalnv6tsqiqd8at9v/l51cjbdk99ij17jli2256bi0ua19goqs/1590557025000/03674084270746528232/03674084270746528232/1cXoix8m_iNzNvd98o90iXf8geWIJMe38?e=download&authuser=0\" -c -O 'Db-IMDB-Assignment.db'"
      ],
      "execution_count": 5,
      "outputs": [
        {
          "output_type": "stream",
          "text": [
            "--2020-05-27 05:24:38--  https://doc-10-94-docs.googleusercontent.com/docs/securesc/cpqrl8u0bfmm43paalnv6tsqiqd8at9v/l51cjbdk99ij17jli2256bi0ua19goqs/1590557025000/03674084270746528232/03674084270746528232/1cXoix8m_iNzNvd98o90iXf8geWIJMe38?e=download&authuser=0\n",
            "Resolving doc-10-94-docs.googleusercontent.com (doc-10-94-docs.googleusercontent.com)... 172.217.204.132, 2607:f8b0:400c:c15::84\n",
            "Connecting to doc-10-94-docs.googleusercontent.com (doc-10-94-docs.googleusercontent.com)|172.217.204.132|:443... connected.\n",
            "HTTP request sent, awaiting response... 200 OK\n",
            "Length: unspecified [application/octet-stream]\n",
            "Saving to: ‘Db-IMDB-Assignment.db’\n",
            "\n",
            "\rDb-IMDB-Assignment.     [<=>                 ]       0  --.-KB/s               \rDb-IMDB-Assignment.     [ <=>                ]   4.01M  16.8MB/s               \rDb-IMDB-Assignment.     [  <=>               ]   7.16M  28.6MB/s    in 0.3s    \n",
            "\n",
            "2020-05-27 05:24:39 (28.6 MB/s) - ‘Db-IMDB-Assignment.db’ saved [7507968]\n",
            "\n"
          ],
          "name": "stdout"
        }
      ]
    },
    {
      "cell_type": "code",
      "metadata": {
        "id": "RLaLf9Odg9UN",
        "colab_type": "code",
        "colab": {}
      },
      "source": [
        "import pandas as pd\n",
        "import sqlite3"
      ],
      "execution_count": 0,
      "outputs": []
    },
    {
      "cell_type": "code",
      "metadata": {
        "id": "1asUBahag9UX",
        "colab_type": "code",
        "colab": {}
      },
      "source": [
        "conn = sqlite3.connect(\"Db-IMDB-Assignment.db\")"
      ],
      "execution_count": 0,
      "outputs": []
    },
    {
      "cell_type": "markdown",
      "metadata": {
        "id": "lZgtiQlvg9Uf",
        "colab_type": "text"
      },
      "source": [
        "## Sample Code"
      ]
    },
    {
      "cell_type": "code",
      "metadata": {
        "id": "aeYS6vlxg9Ug",
        "colab_type": "code",
        "outputId": "266a2e0d-83a7-4469-a3c5-9f484401eef9",
        "colab": {
          "base_uri": "https://localhost:8080/",
          "height": 176
        }
      },
      "source": [
        "%%time\n",
        "# Write your sql query below\n",
        "\n",
        "query = \"\"\"\n",
        "        SELECT TRIM(Movie.title) AS 'Movie_Name'\n",
        "        FROM Movie\n",
        "        WHERE Movie.rating < 3\n",
        "        \n",
        "        \"\"\"\n",
        "\n",
        "q = pd.read_sql_query(query, conn)    \n",
        "print(q.shape)\n",
        "print(q.head())"
      ],
      "execution_count": 8,
      "outputs": [
        {
          "output_type": "stream",
          "text": [
            "(85, 1)\n",
            "             Movie_Name\n",
            "0            Mastizaade\n",
            "1  Dragonball Evolution\n",
            "2             Loveyatri\n",
            "3                Race 3\n",
            "4                Gunday\n",
            "CPU times: user 12.3 ms, sys: 3.06 ms, total: 15.4 ms\n",
            "Wall time: 27.4 ms\n"
          ],
          "name": "stdout"
        }
      ]
    },
    {
      "cell_type": "markdown",
      "metadata": {
        "id": "Jn29UOghg9VE",
        "colab_type": "text"
      },
      "source": [
        "## Q1 --- List all the directors who directed a 'Comedy' movie in a leap year. (You need to check that the genre is 'Comedy’ and year is a leap year) Your query should return director name, the movie name, and the year."
      ]
    },
    {
      "cell_type": "code",
      "metadata": {
        "id": "Uyp_Rvang9VG",
        "colab_type": "code",
        "outputId": "ee8c7f0d-0413-411f-d9b2-04e0977fe75c",
        "colab": {
          "base_uri": "https://localhost:8080/",
          "height": 176
        }
      },
      "source": [
        "%%time\n",
        "# Write your sql query below\n",
        "\n",
        "query = \"\"\"\n",
        "        SELECT p.Name AS Director, m.title AS Movie, CAST(SUBSTR(m.year,-4,4) AS int) AS Year_\n",
        "        FROM Person p JOIN M_Director md ON md.PID=p.PID\n",
        "                      JOIN Movie m ON m.MID = md.MID\n",
        "                      JOIN M_Genre mg ON mg.MID=m.MID\n",
        "                      JOIN Genre g ON g.GID=mg.GID\n",
        "        WHERE Year_%4=0 AND g.Name LIKE '%Comedy%'\n",
        "        ORDER BY Year_ DESC\n",
        "        \"\"\"\n",
        "\n",
        "q1 = pd.read_sql_query(query, conn)    \n",
        "print(q1.shape)\n",
        "print(q1.head())"
      ],
      "execution_count": 0,
      "outputs": [
        {
          "output_type": "stream",
          "text": [
            "(232, 3)\n",
            "         Director            Movie  Year_\n",
            "0    Milap Zaveri       Mastizaade   2016\n",
            "1    Shakun Batra    Kapoor & Sons   2016\n",
            "2    Rohit Dhawan          Dishoom   2016\n",
            "3     Nitya Mehra  Baar Baar Dekho   2016\n",
            "4   Aditya Chopra          Befikre   2016\n",
            "CPU times: user 66.8 ms, sys: 0 ns, total: 66.8 ms\n",
            "Wall time: 67 ms\n"
          ],
          "name": "stdout"
        }
      ]
    },
    {
      "cell_type": "markdown",
      "metadata": {
        "id": "ykJqFqY2g9VP",
        "colab_type": "text"
      },
      "source": [
        "## Q2 --- List the names of all the actors who played in the movie 'Anand' (1971)"
      ]
    },
    {
      "cell_type": "code",
      "metadata": {
        "id": "QuKUNY22g9VQ",
        "colab_type": "code",
        "outputId": "a2287f0a-9c92-49f0-e863-4b7c4480a528",
        "colab": {
          "base_uri": "https://localhost:8080/",
          "height": 176
        }
      },
      "source": [
        "%%time\n",
        "# Write your sql query below\n",
        "\n",
        "query = \"\"\"\n",
        "        SELECT p.Name AS 'Actor'\n",
        "        FROM Person p JOIN M_Cast mc ON p.PID=TRIM(mc.PID)\n",
        "                      JOIN Movie m ON mc.MID=m.MID\n",
        "        WHERE m.title='Anand' AND m.year=1971\n",
        "        \"\"\"\n",
        "\n",
        "q2 = pd.read_sql_query(query, conn)    \n",
        "print(q2.shape)\n",
        "print(q2.head())"
      ],
      "execution_count": 0,
      "outputs": [
        {
          "output_type": "stream",
          "text": [
            "(17, 1)\n",
            "               Actor\n",
            "0   Amitabh Bachchan\n",
            "1      Rajesh Khanna\n",
            "2     Brahm Bhardwaj\n",
            "3         Ramesh Deo\n",
            "4          Seema Deo\n",
            "CPU times: user 151 ms, sys: 5.88 ms, total: 156 ms\n",
            "Wall time: 160 ms\n"
          ],
          "name": "stdout"
        }
      ]
    },
    {
      "cell_type": "markdown",
      "metadata": {
        "id": "pJ0R_9QCg9VV",
        "colab_type": "text"
      },
      "source": [
        "## Q3 --- List all the actors who acted in a film before 1970 and in a film after 1990. (That is: < 1970 and > 1990.)"
      ]
    },
    {
      "cell_type": "code",
      "metadata": {
        "id": "mQcfTTbBwVj-",
        "colab_type": "code",
        "outputId": "e2883f4a-1ada-4f86-f192-2d7630ebd20d",
        "colab": {
          "base_uri": "https://localhost:8080/",
          "height": 176
        }
      },
      "source": [
        "%%time\n",
        "# Write your sql query below\n",
        "\n",
        "query = \"\"\"\n",
        "        SELECT DISTINCT p.Name AS Actor\n",
        "        FROM Person p JOIN M_Cast mc ON p.PID=TRIM(mc.PID)\n",
        "                      JOIN Movie m ON m.MID=mc.MID\n",
        "        WHERE CAST(SUBSTR(m.year,-4,4) AS int) <1970 AND p.PID IN ( SELECT DISTINCT TRIM(mcc.PID)\n",
        "                                                                    FROM M_Cast mcc JOIN Movie mm ON mcc.MID=mm.MID\n",
        "                                                                    WHERE mm.year>1990) \n",
        "        GROUP BY Actor\n",
        "        \"\"\"\n",
        "\n",
        "q3 = pd.read_sql_query(query, conn)    \n",
        "print(q3.shape)\n",
        "print(q3.head())"
      ],
      "execution_count": 0,
      "outputs": [
        {
          "output_type": "stream",
          "text": [
            "(343, 1)\n",
            "                Actor\n",
            "0         A.K. Hangal\n",
            "1      Aachi Manorama\n",
            "2               Abbas\n",
            "3               Abdul\n",
            "4   Abhi Bhattacharya\n",
            "CPU times: user 305 ms, sys: 12 ms, total: 317 ms\n",
            "Wall time: 318 ms\n"
          ],
          "name": "stdout"
        }
      ]
    },
    {
      "cell_type": "markdown",
      "metadata": {
        "id": "eMePetn7g9Vc",
        "colab_type": "text"
      },
      "source": [
        "## Q4 --- List all directors who directed 10 movies or more, in descending order of the number of movies they directed. Return the directors' names and the number of movies each of them directed."
      ]
    },
    {
      "cell_type": "code",
      "metadata": {
        "id": "JYaf1tQgg9Ve",
        "colab_type": "code",
        "outputId": "302eec91-5d72-4ecb-fc6c-d1bc4b8fe05a",
        "colab": {
          "base_uri": "https://localhost:8080/",
          "height": 176
        }
      },
      "source": [
        "%%time\n",
        "# Write your sql query below\n",
        "\n",
        "query = \"\"\"\n",
        "        SELECT p.Name, COUNT(*)\n",
        "        FROM Person p JOIN M_Director md ON p.PID = md.PID\n",
        "        GROUP BY p.Name\n",
        "        HAVING COUNT(*) >= 10\n",
        "        ORDER BY COUNT(*) DESC\n",
        "        \"\"\"\n",
        "\n",
        "q4 = pd.read_sql_query(query, conn)    \n",
        "print(q4.shape)\n",
        "print(q4.head())"
      ],
      "execution_count": 0,
      "outputs": [
        {
          "output_type": "stream",
          "text": [
            "(58, 2)\n",
            "               Name  COUNT(*)\n",
            "0      David Dhawan        39\n",
            "1      Mahesh Bhatt        36\n",
            "2   Ram Gopal Varma        30\n",
            "3      Priyadarshan        30\n",
            "4      Vikram Bhatt        29\n",
            "CPU times: user 32.1 ms, sys: 767 µs, total: 32.9 ms\n",
            "Wall time: 33 ms\n"
          ],
          "name": "stdout"
        }
      ]
    },
    {
      "cell_type": "markdown",
      "metadata": {
        "id": "CcZNz9-Og9Vi",
        "colab_type": "text"
      },
      "source": [
        "## Q5.a --- For each year, count the number of movies in that year that had only female actors."
      ]
    },
    {
      "cell_type": "code",
      "metadata": {
        "id": "fhVKt-TwcoRD",
        "colab_type": "code",
        "outputId": "3601cd52-a3f1-4ea0-8a6e-98da70bdb10a",
        "colab": {
          "base_uri": "https://localhost:8080/",
          "height": 158
        }
      },
      "source": [
        "%%time\n",
        "# Write your sql query below\n",
        "\n",
        "#considering empty genders as female\n",
        "\n",
        "query = \"\"\"\n",
        "        SELECT CAST(SUBSTR(m.year,-4,4) AS int) AS Year_ , COUNT(DISTINCT m.MID) AS Count,  m.title\n",
        "        FROM Movie m JOIN M_Cast mcc ON m.MID=mcc.MID\n",
        "        JOIN Person p ON TRIM(mcc.PID) = p.PID\n",
        "        WHERE NOT EXISTS( SELECT * FROM Person p, M_Cast mc \n",
        "                          WHERE m.MID=mc.MID AND TRIM(mc.PID)=p.PID AND p.Gender LIKE 'male') AND mcc.PID IS NOT NULL AND p.Gender IS NOT NULL\n",
        "        GROUP BY Year_ ORDER BY Year_\n",
        "        \n",
        "        \"\"\"\n",
        "\n",
        "q5a = pd.read_sql_query(query, conn)  \n",
        "print(q5a.shape)\n",
        "print(q5a)"
      ],
      "execution_count": 65,
      "outputs": [
        {
          "output_type": "stream",
          "text": [
            "(4, 3)\n",
            "   Year_  Count       title\n",
            "0   1939      1  Kala Jigar\n",
            "1   1999      1   Bindhaast\n",
            "2   2000      1  Snegithiye\n",
            "3   2018      1        Pihu\n",
            "CPU times: user 11.4 s, sys: 868 ms, total: 12.2 s\n",
            "Wall time: 12.3 s\n"
          ],
          "name": "stdout"
        }
      ]
    },
    {
      "cell_type": "markdown",
      "metadata": {
        "id": "WKdp6UyQg9Vp",
        "colab_type": "text"
      },
      "source": [
        "## Q5.b --- Now include a small change: report for each year the percentage of movies in that year with only female actors, and the total number of movies made that year. For example, one answer will be: 1990 31.81 13522 meaning that in 1990 there were 13,522 movies, and 31.81% had only female actors. You do not need to round your answer."
      ]
    },
    {
      "cell_type": "code",
      "metadata": {
        "id": "_3sRvi2GzMXi",
        "colab_type": "code",
        "outputId": "56a8043a-41b9-461a-d05c-b103d347f623",
        "colab": {
          "base_uri": "https://localhost:8080/",
          "height": 158
        }
      },
      "source": [
        "%%time\n",
        "# Write your sql query below\n",
        "\n",
        "\n",
        "query = \"\"\"\n",
        "        SELECT a.Year_, a.count*100.00/b.count AS Percent, b.count AS 'Total Movies'\n",
        "        FROM (SELECT CAST(SUBSTR(m.year,-4,4) AS int) AS Year_, COUNT(DISTINCT m.MID) AS count, (SELECT COUNT(DISTINCT Movie.MID) FROM Movie GROUP BY CAST(SUBSTR(Movie.year,-4,4) AS int))\n",
        "              FROM Movie m  \n",
        "              JOIN M_Cast mmcc ON m.MID=mmcc.MID\n",
        "              JOIN Person ppp ON TRIM(mmcc.PID)=ppp.PID\n",
        "              WHERE NOT EXISTS( SELECT * FROM Person p, M_Cast mc \n",
        "                          WHERE m.MID=mc.MID AND TRIM(mc.PID)=p.PID AND p.Gender LIKE 'male' )\n",
        "                          AND mmcc.PID IS NOT NULL AND ppp.GENDER IS NOT NULL\n",
        "                          GROUP BY Year_ ) a,\n",
        "        (SELECT CAST(SUBSTR(kkk.year,-4,4) AS int) AS Year_, COUNT(DISTINCT kkk.MID) AS count FROM Movie kkk GROUP BY Year_) b\n",
        "        WHERE a.Year_=b.Year_\n",
        "      \n",
        "        \"\"\"\n",
        "\n",
        "q5b = pd.read_sql_query(query, conn)    \n",
        "print(q5b.shape)\n",
        "print(q5b)\n",
        "\n"
      ],
      "execution_count": 75,
      "outputs": [
        {
          "output_type": "stream",
          "text": [
            "(4, 3)\n",
            "   Year_    Percent  Total Movies\n",
            "0   1939  50.000000             2\n",
            "1   1999   1.515152            66\n",
            "2   2000   1.562500            64\n",
            "3   2018   0.961538           104\n",
            "CPU times: user 11.4 s, sys: 876 ms, total: 12.3 s\n",
            "Wall time: 12.3 s\n"
          ],
          "name": "stdout"
        }
      ]
    },
    {
      "cell_type": "markdown",
      "metadata": {
        "id": "PoOISd3eg9Vu",
        "colab_type": "text"
      },
      "source": [
        "## Q6 --- Find the film(s) with the largest cast. Return the movie title and the size of the cast. By \"cast size\" we mean the number of distinct actors that played in that movie: if an actor played multiple roles, or if it simply occurs multiple times in casts, we still count her/him only once."
      ]
    },
    {
      "cell_type": "code",
      "metadata": {
        "id": "6iLWnBrog9Vv",
        "colab_type": "code",
        "outputId": "fddafa6b-2ac6-4c51-ca45-467b171964a5",
        "colab": {
          "base_uri": "https://localhost:8080/",
          "height": 105
        }
      },
      "source": [
        "%%time\n",
        "# Write your sql query below\n",
        "\n",
        "#Not considering NULL values\n",
        "\n",
        "query = \"\"\"\n",
        "        SELECT m.title as Title, COUNT(DISTINCT mc.PID) as Count\n",
        "        FROM Movie m JOIN M_Cast mc ON m.MID=mc.MID WHERE mc.PID IS NOT NULL GROUP BY Title ORDER BY Count DESC LIMIT 1\n",
        "                      \n",
        "        \"\"\"\n",
        "\n",
        "q6 = pd.read_sql_query(query, conn)    \n",
        "print(q6.shape)\n",
        "print(q6.head())"
      ],
      "execution_count": 0,
      "outputs": [
        {
          "output_type": "stream",
          "text": [
            "(1, 2)\n",
            "           Title  Count\n",
            "0  Ocean's Eight    238\n",
            "CPU times: user 118 ms, sys: 6.05 ms, total: 124 ms\n",
            "Wall time: 124 ms\n"
          ],
          "name": "stdout"
        }
      ]
    },
    {
      "cell_type": "markdown",
      "metadata": {
        "id": "grQcRkUSg9V2",
        "colab_type": "text"
      },
      "source": [
        "## Q7 --- A decade is a sequence of 10 consecutive years. For example, say in your database you have movie information starting from 1965. Then the first decade is 1965, 1966, ..., 1974; the second one is 1967, 1968, ..., 1976 and so on. Find the decade D with the largest number of films and the total number of films in D."
      ]
    },
    {
      "cell_type": "code",
      "metadata": {
        "id": "6Fa0mV41g9V4",
        "colab_type": "code",
        "outputId": "611bc455-db62-4778-ba8a-2667b10a3d30",
        "colab": {
          "base_uri": "https://localhost:8080/",
          "height": 105
        }
      },
      "source": [
        "%%time\n",
        "# Write your sql query below\n",
        "\n",
        "query = \"\"\"\n",
        "        SELECT Decade.year AS Decade, COUNT(*) \n",
        "        FROM (SELECT DISTINCT mm.year FROM Movie mm) Decade, Movie m\n",
        "        WHERE Decade.year<=m.year AND m.year<=Decade.year+10\n",
        "        GROUP BY Decade.year\n",
        "        ORDER BY COUNT(*) DESC LIMIT 1\n",
        "        \n",
        "        \"\"\"\n",
        "\n",
        "q7 = pd.read_sql_query(query, conn)    \n",
        "print(q7.shape)\n",
        "print(q7.head())"
      ],
      "execution_count": 0,
      "outputs": [
        {
          "output_type": "stream",
          "text": [
            "(1, 2)\n",
            "  Decade  COUNT(*)\n",
            "0   2007      1232\n",
            "CPU times: user 85.2 ms, sys: 11 µs, total: 85.2 ms\n",
            "Wall time: 86.9 ms\n"
          ],
          "name": "stdout"
        }
      ]
    },
    {
      "cell_type": "markdown",
      "metadata": {
        "id": "EldEP01yg9WA",
        "colab_type": "text"
      },
      "source": [
        "## Q8 --- Find all the actors that made more movies with Yash Chopra than any other director."
      ]
    },
    {
      "cell_type": "code",
      "metadata": {
        "id": "6H8clKxtv1eM",
        "colab_type": "code",
        "outputId": "2afcaf9c-fe87-4687-b37c-aeefb4eda79b",
        "colab": {
          "base_uri": "https://localhost:8080/",
          "height": 176
        }
      },
      "source": [
        "%%time\n",
        "# Write your sql query below\n",
        "\n",
        "query = \"\"\"\n",
        "        SELECT entiretable.Actor FROM( \n",
        "          SELECT pd.name as Director, pa.Name as Actor, COUNT(*) , RANK() OVER (PARTITION BY pa.PID ORDER BY COUNT(*) DESC) AS Rank_\n",
        "          FROM M_director d JOIN Person pd ON pd.pid = d.pid \n",
        "          JOIN M_cast c ON c.MID = d.MID \n",
        "          JOIN Person pa ON pa.PID = TRIM(c.PID) \n",
        "          GROUP BY pd.name,pa.name) entiretable\n",
        "        WHERE entiretable.Director LIKE '%Yash Chopra%' AND entiretable.Rank_=1\n",
        "        \"\"\"\n",
        "\n",
        "q8 = pd.read_sql_query(query, conn)    \n",
        "print(q8.shape)\n",
        "print(q8.head())"
      ],
      "execution_count": 0,
      "outputs": [
        {
          "output_type": "stream",
          "text": [
            "(243, 1)\n",
            "             Actor\n",
            "0    Shashi Kapoor\n",
            "1      Yash Chopra\n",
            "2   Akhtar-Ul-Iman\n",
            "3        Murad Ali\n",
            "4     Badri Prasad\n",
            "CPU times: user 540 ms, sys: 18.8 ms, total: 559 ms\n",
            "Wall time: 564 ms\n"
          ],
          "name": "stdout"
        }
      ]
    },
    {
      "cell_type": "markdown",
      "metadata": {
        "id": "QFsa2kQFg9WI",
        "colab_type": "text"
      },
      "source": [
        "## Q9 --- The Shahrukh number of an actor is the length of the shortest path between the actor and Shahrukh Khan in the \"co-acting\" graph. That is, Shahrukh Khan has Shahrukh number 0; all actors who acted in the same film as Shahrukh have Shahrukh number 1; all actors who acted in the same film as some actor with Shahrukh number 1 have Shahrukh number 2, etc. Return all actors whose Shahrukh number is 2."
      ]
    },
    {
      "cell_type": "code",
      "metadata": {
        "id": "S7AiPIQyyeRn",
        "colab_type": "code",
        "outputId": "a3c61c6a-756d-4d65-f3ad-e1edcef503bc",
        "colab": {
          "base_uri": "https://localhost:8080/",
          "height": 176
        }
      },
      "source": [
        "%%time\n",
        "# Write your sql query below\n",
        "\n",
        "query = \"\"\"\n",
        "        SELECT DISTINCT Z.Name FROM \n",
        "                          (SELECT p3.Name AS NAME FROM M_Cast mc3\n",
        "                          JOIN Person p3 ON TRIM(mc3.PID)=p3.PID\n",
        "                          WHERE mc3.MID IN(\n",
        "                            SELECT m2.MID FROM Movie m2\n",
        "                            JOIN M_Cast mc2 ON m2.MID= mc2.MID\n",
        "                            WHERE TRIM(mc2.PID) IN\n",
        "                                      (SELECT TRIM(mc1.PID)\n",
        "                                      FROM Movie m1\n",
        "                                      JOIN M_Cast mc1 ON m1.MID =TRIM(mc1.MID)\n",
        "                                      WHERE mc1.MID IN (\n",
        "                                              SELECT m.MID \n",
        "                                              FROM Movie m                            \n",
        "                                              JOIN M_Cast mc ON m.MID=mc.MID\n",
        "                                              JOIN Person p ON TRIM(mc.PID)=p.PID\n",
        "                                              WHERE p.Name LIKE '%Shah Rukh Khan%' )\n",
        "                                      GROUP BY mc1.PID)\n",
        "                            GROUP BY m2.MID)\n",
        "                            GROUP BY p3.PID)\n",
        "                            Z\n",
        "            WHERE Z.Name NOT IN (SELECT p1.Name FROM Person p1\n",
        "                                      JOIN M_Cast mc1 ON p1.PID =TRIM(mc1.PID)\n",
        "                                      WHERE mc1.MID IN (\n",
        "                                              SELECT m.MID \n",
        "                                              FROM Movie m                            \n",
        "                                              JOIN M_Cast mc ON m.MID=mc.MID\n",
        "                                              JOIN Person p ON TRIM(mc.PID)=p.PID\n",
        "                                              WHERE p.Name LIKE '%Shah Rukh Khan%' )\n",
        "                                      GROUP BY mc1.PID)\n",
        "                            \n",
        "                            \n",
        "                            \n",
        "                      \n",
        "\n",
        "      \n",
        "        \n",
        "     \n",
        "     \n",
        "        \"\"\"\n",
        "\n",
        "q9 = pd.read_sql_query(query, conn)    \n",
        "print(q9.shape)\n",
        "print(q9.head())"
      ],
      "execution_count": 0,
      "outputs": [
        {
          "output_type": "stream",
          "text": [
            "(24151, 1)\n",
            "                NAME\n",
            "0      Alec Guinness\n",
            "1       Sophia Loren\n",
            "2          Brad Pitt\n",
            "3   Gillian Anderson\n",
            "4     Pierce Brosnan\n",
            "CPU times: user 877 ms, sys: 28.9 ms, total: 906 ms\n",
            "Wall time: 907 ms\n"
          ],
          "name": "stdout"
        }
      ]
    },
    {
      "cell_type": "code",
      "metadata": {
        "id": "rSyqyt2i3AG2",
        "colab_type": "code",
        "colab": {}
      },
      "source": [
        ""
      ],
      "execution_count": 0,
      "outputs": []
    }
  ]
}